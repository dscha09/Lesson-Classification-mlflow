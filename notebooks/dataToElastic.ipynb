{
 "cells": [
  {
   "cell_type": "code",
   "execution_count": 2,
   "metadata": {
    "ExecuteTime": {
     "end_time": "2020-03-23T07:24:26.949469Z",
     "start_time": "2020-03-23T07:24:26.602791Z"
    }
   },
   "outputs": [],
   "source": [
    "# -*- coding: utf-8 -*-\n",
    "\n",
    "import pandas as pd\n",
    "import numpy as np\n",
    "from ast import literal_eval\n",
    "import re\n",
    "import os\n",
    "import sys\n",
    "# reload(sys)\n",
    "# sys.setdefaultencoding('utf-8')\n"
   ]
  },
  {
   "cell_type": "markdown",
   "metadata": {},
   "source": [
    "# Forecasts Data"
   ]
  },
  {
   "cell_type": "code",
   "execution_count": 3,
   "metadata": {
    "ExecuteTime": {
     "end_time": "2020-03-23T07:24:41.812174Z",
     "start_time": "2020-03-23T07:24:28.018972Z"
    }
   },
   "outputs": [],
   "source": [
    "forecastsFilename = '../../data/sentences-20200407.xlsx'\n",
    "forecastsData = pd.read_excel(forecastsFilename)"
   ]
  },
  {
   "cell_type": "code",
   "execution_count": 15,
   "metadata": {
    "ExecuteTime": {
     "end_time": "2020-03-20T03:11:58.507671Z",
     "start_time": "2020-03-20T03:11:58.502538Z"
    }
   },
   "outputs": [
    {
     "data": {
      "text/plain": [
       "0           PCR\n",
       "1           PCR\n",
       "2           PCR\n",
       "3           PCR\n",
       "4           PCR\n",
       "          ...  \n",
       "55363    tagged\n",
       "55364    tagged\n",
       "55365    tagged\n",
       "55366    tagged\n",
       "55367    tagged\n",
       "Name: source, Length: 55368, dtype: object"
      ]
     },
     "execution_count": 15,
     "metadata": {},
     "output_type": "execute_result"
    }
   ],
   "source": [
    "forecastsData['source']"
   ]
  },
  {
   "cell_type": "code",
   "execution_count": 4,
   "metadata": {
    "ExecuteTime": {
     "end_time": "2020-03-23T08:02:09.859035Z",
     "start_time": "2020-03-23T08:02:09.814903Z"
    }
   },
   "outputs": [],
   "source": [
    "forecastsData['annotatedBy'] = forecastsData['annotatedBy'].fillna(\"\")\n",
    "forecastsData['annotationTitle'] = forecastsData['annotationTitle'].fillna(\"\")\n",
    "forecastsData['machine generated'] = forecastsData['machine generated'].fillna(\"\")\n",
    "forecastsData['annotationSummary'] = forecastsData['annotationSummary'].fillna(\"\")\n",
    "forecastsData['lastAnnotated'] = forecastsData['lastAnnotated'].fillna(\"\")\n",
    "forecastsData['Lesson Strength'] = forecastsData['Lesson Strength'].fillna(-1)\n",
    "forecastsData['topic'] = forecastsData['topic'].fillna(-1)\n",
    "forecastsData['topTopics'] = forecastsData['topTopics'].fillna(\"[]\")\n",
    "forecastsData['related_lessons'] = forecastsData['related_lessons'].fillna(\"[]\")"
   ]
  },
  {
   "cell_type": "code",
   "execution_count": 75,
   "metadata": {
    "ExecuteTime": {
     "end_time": "2020-03-13T04:54:02.652442Z",
     "start_time": "2020-03-13T04:54:02.649697Z"
    }
   },
   "outputs": [],
   "source": [
    "related_lessons = forecastsData['related_lessons']"
   ]
  },
  {
   "cell_type": "code",
   "execution_count": 184,
   "metadata": {},
   "outputs": [],
   "source": [
    "updated_related_lessons = []\n",
    "for lessons in related_lessons:\n",
    "    if lessons == lessons:\n",
    "        updated_related_lessons.append(lessons.replace('  ', ' ').replace('[ ', '[').replace(' ]', ']').replace(' ', ', '))\n",
    "#         print(lessons.replace(' ', ', '))\n",
    "    else:\n",
    "        updated_related_lessons.append('[]')\n",
    "forecastsData['related_lessons'] = updated_related_lessons"
   ]
  },
  {
   "cell_type": "code",
   "execution_count": 6,
   "metadata": {
    "ExecuteTime": {
     "end_time": "2020-03-17T03:21:54.472691Z",
     "start_time": "2020-03-17T03:21:54.465202Z"
    }
   },
   "outputs": [
    {
     "data": {
      "text/plain": [
       "array(['[7, 3187, 2882, 5, 21956]', '[39768, 6, 13695, 13691, 17120]',\n",
       "       '[41, 39760, 6352, 7839, 3392]', ...,\n",
       "       '[57958, 2771, 464, 2777, 47989]',\n",
       "       '[29235, 5125, 1622, 14006, 1158]',\n",
       "       '[4111, 2776, 2775, 34006, 34003]'], dtype=object)"
      ]
     },
     "execution_count": 6,
     "metadata": {},
     "output_type": "execute_result"
    }
   ],
   "source": [
    "forecastsData['related_lessons'].unique()"
   ]
  },
  {
   "cell_type": "code",
   "execution_count": 5,
   "metadata": {
    "ExecuteTime": {
     "end_time": "2020-03-23T08:02:50.432026Z",
     "start_time": "2020-03-23T08:02:27.686668Z"
    }
   },
   "outputs": [],
   "source": [
    "# Converting dataframe to elasticsearch format\n",
    "folderName = '../../data/'\n",
    "i = 1\n",
    "for index, row in forecastsData.iterrows():\n",
    "    row['paragraph'] = re.sub(r'\\d{1,3}\\.\\s', '', str(row['paragraph']).replace('\\n', ' ').replace('\"', \"'\"))\n",
    "    row['Sectors'] = str(row['Sectors']).replace(\"'\", '\"')\n",
    "    f = None\n",
    "    if(i > 0 and i <= 20000):\n",
    "        f = open(folderName + \"sentences.\" + str(1) + \".ndjson\", \"a+\")\n",
    "    elif(i > 20000 and i <= 40000):\n",
    "        f = open(folderName + \"sentences.\" + str(2) + \".ndjson\", \"a+\")\n",
    "    elif(i > 40000 and i <= 60000):\n",
    "        f = open(folderName + \"sentences.\" + str(3) + \".ndjson\", \"a+\")\n",
    "    elif(i > 60000 and i <= 80000):\n",
    "        f = open(folderName + \"sentences.\" + str(4) + \".ndjson\", \"a+\")\n",
    "    elif(i > 80000 and i <= 100000):\n",
    "        f = open(folderName + \"sentences.\" + str(5) + \".ndjson\", \"a+\")\n",
    "    allString = '{\"index\":{\"_id\": \"' + str(row['id']) +'\"}}\\n'\n",
    "    allString = allString + '{ \\\n",
    "        \"referenceId\": \"'+ str(row['reference_id']).zfill(20) + '\", \\\n",
    "        \"title\": \"'+ str(row['Title']).replace('\\n', ' ').replace('\"', \"'\") + '\", \\\n",
    "        \"paragraph\": \"'+ str(row['paragraph']) + '\", \\\n",
    "        \"themes\": '+ str(row['Themes']) + ', \\\n",
    "        \"sectors\": '+ str(row['Sectors']) + ', \\\n",
    "        \"countries\": '+ str(row['Countries']).replace('People\"', \"People'\") + ', \\\n",
    "        \"lessonStrength\": '+ str(row['Lesson Strength']) + ', \\\n",
    "        \"relatedLessons\": '+ str(row['related_lessons']) + ', \\\n",
    "        \"topic\": '+ str(row['topic']) + ', \\\n",
    "        \"topTopics\": '+ str(row['topTopics']) + ', \\\n",
    "        \"modalities\": '+ str(row['Modalities']).replace(\"'\", '\"') + ', \\\n",
    "        \"lessonType\": \"Self Evaluation\", \\\n",
    "        \"isLesson\": ' + str(row['isLesson']).lower() + ',  \\\n",
    "        \"month\": \"' + str(row['Month']) + '\",  \\\n",
    "        \"year\": ' + str(row['Year']) + ',  \\\n",
    "        \"annotationTitle\": \"' + str(row['annotationTitle']) + '\", \\\n",
    "        \"summary\": \"' + str(row['machine generated']).replace('\\n', ' ').replace('\"', \"'\").title() + '\", \\\n",
    "        \"context\": \"\",  \\\n",
    "        \"annotatedBy\": \"' + str(row['annotatedBy']) + '\", \\\n",
    "        \"annotationSummary\": \"' + str(row['annotationSummary']) + '\", \\\n",
    "        \"lastAnnotated\": \"' + str(row['lastAnnotated']) + '\", \\\n",
    "        \"annotationStatus\": \"' + str(row['annotationStatus']) + '\", \\\n",
    "        \"urlToFile\": \"' + str(row['Download Link']) + '\", \\\n",
    "        \"lastUpdated\": \"\",  \\\n",
    "        \"source\": \"' + str(forecastsData.at[index, 'source']) + '\" \\\n",
    "    }\\n'\n",
    "    i = i + 1\n",
    "    f.write(allString)\n",
    "    f.close()\n",
    "#     if(i==10000):\n",
    "#         break"
   ]
  },
  {
   "cell_type": "markdown",
   "metadata": {},
   "source": [
    "# Topics Data"
   ]
  },
  {
   "cell_type": "code",
   "execution_count": 3,
   "metadata": {
    "ExecuteTime": {
     "end_time": "2020-03-19T05:24:30.476098Z",
     "start_time": "2020-03-19T05:24:30.466588Z"
    }
   },
   "outputs": [],
   "source": [
    "topicsFileName = '../../data/topics_20200325.xlsx'\n",
    "topics = pd.read_excel(topicsFileName)"
   ]
  },
  {
   "cell_type": "code",
   "execution_count": 4,
   "metadata": {
    "ExecuteTime": {
     "end_time": "2020-03-19T05:24:32.028327Z",
     "start_time": "2020-03-19T05:24:32.013717Z"
    }
   },
   "outputs": [
    {
     "data": {
      "text/html": [
       "<div>\n",
       "<style scoped>\n",
       "    .dataframe tbody tr th:only-of-type {\n",
       "        vertical-align: middle;\n",
       "    }\n",
       "\n",
       "    .dataframe tbody tr th {\n",
       "        vertical-align: top;\n",
       "    }\n",
       "\n",
       "    .dataframe thead th {\n",
       "        text-align: right;\n",
       "    }\n",
       "</style>\n",
       "<table border=\"1\" class=\"dataframe\">\n",
       "  <thead>\n",
       "    <tr style=\"text-align: right;\">\n",
       "      <th></th>\n",
       "      <th>Unnamed: 0</th>\n",
       "      <th>Topic Number</th>\n",
       "      <th>Keywords</th>\n",
       "      <th>Keywords Frequencies</th>\n",
       "      <th>Number of Lessons</th>\n",
       "      <th>Number of PCRs</th>\n",
       "      <th>Keywords Weights</th>\n",
       "      <th>Top Word</th>\n",
       "      <th>x</th>\n",
       "      <th>y</th>\n",
       "      <th>adjacentTopics</th>\n",
       "    </tr>\n",
       "  </thead>\n",
       "  <tbody>\n",
       "    <tr>\n",
       "      <th>0</th>\n",
       "      <td>0</td>\n",
       "      <td>0</td>\n",
       "      <td>['statement', 'audit', 'financial', 'accountin...</td>\n",
       "      <td>[194, 426, 2052, 138, 47, 55, 47, 246, 26, 19,...</td>\n",
       "      <td>9857</td>\n",
       "      <td>957</td>\n",
       "      <td>[127, 115, 57, 32, 25, 20, 19, 12, 11, 10, 9, ...</td>\n",
       "      <td>statement</td>\n",
       "      <td>0.133656</td>\n",
       "      <td>-0.000225</td>\n",
       "      <td>[1, 2, 4, 8, 12]</td>\n",
       "    </tr>\n",
       "    <tr>\n",
       "      <th>1</th>\n",
       "      <td>1</td>\n",
       "      <td>1</td>\n",
       "      <td>['maintenance', 'road', 'covenant', 'budget', ...</td>\n",
       "      <td>[1254, 2037, 1045, 915, 633, 5580, 1517, 1239,...</td>\n",
       "      <td>10567</td>\n",
       "      <td>963</td>\n",
       "      <td>[327, 282, 231, 170, 130, 129, 128, 107, 107, ...</td>\n",
       "      <td>maintenance</td>\n",
       "      <td>0.038072</td>\n",
       "      <td>0.025617</td>\n",
       "      <td>[0, 4, 5, 8, 12]</td>\n",
       "    </tr>\n",
       "    <tr>\n",
       "      <th>2</th>\n",
       "      <td>2</td>\n",
       "      <td>2</td>\n",
       "      <td>['website', 'grievance', 'complaint', 'upload'...</td>\n",
       "      <td>[69, 30, 25, 9, 19, 10, 175, 4, 23, 29, 7, 3, ...</td>\n",
       "      <td>9798</td>\n",
       "      <td>957</td>\n",
       "      <td>[58, 17, 14, 12, 9, 6, 3, 3, 2, 2, 2, 2, 2, 2,...</td>\n",
       "      <td>website</td>\n",
       "      <td>0.136032</td>\n",
       "      <td>-0.003685</td>\n",
       "      <td>[0, 4, 8, 12]</td>\n",
       "    </tr>\n",
       "    <tr>\n",
       "      <th>3</th>\n",
       "      <td>3</td>\n",
       "      <td>3</td>\n",
       "      <td>['loan', 'delay', 'adb', 'implementation', 'co...</td>\n",
       "      <td>[2887, 1455, 4184, 4980, 1120, 1614, 675, 525,...</td>\n",
       "      <td>10700</td>\n",
       "      <td>961</td>\n",
       "      <td>[331, 197, 159, 150, 116, 115, 89, 86, 85, 79,...</td>\n",
       "      <td>loan</td>\n",
       "      <td>-0.043908</td>\n",
       "      <td>0.167825</td>\n",
       "      <td>[]</td>\n",
       "    </tr>\n",
       "    <tr>\n",
       "      <th>4</th>\n",
       "      <td>4</td>\n",
       "      <td>4</td>\n",
       "      <td>['road', 'construction', 'rehabilitation', 'sa...</td>\n",
       "      <td>[2037, 1011, 291, 338, 243, 169, 1231, 274, 17...</td>\n",
       "      <td>10326</td>\n",
       "      <td>960</td>\n",
       "      <td>[295, 135, 88, 80, 69, 66, 63, 63, 53, 52, 52,...</td>\n",
       "      <td>road</td>\n",
       "      <td>0.093660</td>\n",
       "      <td>-0.004680</td>\n",
       "      <td>[0, 1, 2, 8, 9, 12]</td>\n",
       "    </tr>\n",
       "    <tr>\n",
       "      <th>5</th>\n",
       "      <td>5</td>\n",
       "      <td>5</td>\n",
       "      <td>['financial', 'cost', 'credit', 'bank', 'marke...</td>\n",
       "      <td>[2536, 1688, 840, 876, 1295, 2856, 861, 612, 1...</td>\n",
       "      <td>10673</td>\n",
       "      <td>963</td>\n",
       "      <td>[218, 214, 164, 159, 151, 122, 100, 91, 81, 78...</td>\n",
       "      <td>financial</td>\n",
       "      <td>-0.009646</td>\n",
       "      <td>-0.018591</td>\n",
       "      <td>[1, 7, 9]</td>\n",
       "    </tr>\n",
       "    <tr>\n",
       "      <th>6</th>\n",
       "      <td>6</td>\n",
       "      <td>6</td>\n",
       "      <td>['implementation', 'agency', 'consultant', 'st...</td>\n",
       "      <td>[5028, 2527, 1479, 1735, 1878, 2955, 1529, 244...</td>\n",
       "      <td>10743</td>\n",
       "      <td>964</td>\n",
       "      <td>[307, 211, 158, 154, 154, 127, 125, 117, 117, ...</td>\n",
       "      <td>implementation</td>\n",
       "      <td>-0.148977</td>\n",
       "      <td>0.128479</td>\n",
       "      <td>[]</td>\n",
       "    </tr>\n",
       "    <tr>\n",
       "      <th>7</th>\n",
       "      <td>7</td>\n",
       "      <td>7</td>\n",
       "      <td>['government', 'law', 'regulation', 'establish...</td>\n",
       "      <td>[5794, 505, 481, 1256, 459, 667, 1544, 1592, 4...</td>\n",
       "      <td>10695</td>\n",
       "      <td>963</td>\n",
       "      <td>[215, 92, 74, 74, 71, 67, 66, 64, 62, 60, 59, ...</td>\n",
       "      <td>government</td>\n",
       "      <td>-0.093109</td>\n",
       "      <td>-0.009298</td>\n",
       "      <td>[5]</td>\n",
       "    </tr>\n",
       "    <tr>\n",
       "      <th>8</th>\n",
       "      <td>8</td>\n",
       "      <td>8</td>\n",
       "      <td>['performance', 'report', 'evaluation', 'impac...</td>\n",
       "      <td>[2408, 1684, 1336, 1279, 1301, 1963, 526, 900,...</td>\n",
       "      <td>10460</td>\n",
       "      <td>963</td>\n",
       "      <td>[702, 516, 381, 202, 156, 154, 148, 127, 116, ...</td>\n",
       "      <td>performance</td>\n",
       "      <td>0.114196</td>\n",
       "      <td>0.049000</td>\n",
       "      <td>[0, 1, 2, 4, 12]</td>\n",
       "    </tr>\n",
       "    <tr>\n",
       "      <th>9</th>\n",
       "      <td>9</td>\n",
       "      <td>9</td>\n",
       "      <td>['water', 'system', 'power', 'supply', 'tariff...</td>\n",
       "      <td>[1064, 2207, 660, 683, 467, 313, 997, 2324, 11...</td>\n",
       "      <td>10530</td>\n",
       "      <td>963</td>\n",
       "      <td>[216, 146, 140, 133, 95, 81, 78, 78, 69, 64, 6...</td>\n",
       "      <td>water</td>\n",
       "      <td>0.035703</td>\n",
       "      <td>-0.074938</td>\n",
       "      <td>[4, 5]</td>\n",
       "    </tr>\n",
       "    <tr>\n",
       "      <th>10</th>\n",
       "      <td>10</td>\n",
       "      <td>10</td>\n",
       "      <td>['training', 'school', 'education', 'teacher',...</td>\n",
       "      <td>[1993, 1418, 1267, 1033, 656, 549, 2397, 1101,...</td>\n",
       "      <td>10600</td>\n",
       "      <td>962</td>\n",
       "      <td>[318, 272, 219, 179, 122, 104, 86, 86, 81, 75,...</td>\n",
       "      <td>training</td>\n",
       "      <td>-0.053456</td>\n",
       "      <td>-0.130698</td>\n",
       "      <td>[13]</td>\n",
       "    </tr>\n",
       "    <tr>\n",
       "      <th>11</th>\n",
       "      <td>11</td>\n",
       "      <td>11</td>\n",
       "      <td>['program', 'reform', 'government', 'policy', ...</td>\n",
       "      <td>[5336, 3337, 5901, 3011, 3324, 3459, 2913, 426...</td>\n",
       "      <td>10772</td>\n",
       "      <td>964</td>\n",
       "      <td>[337, 249, 214, 205, 161, 140, 117, 100, 95, 9...</td>\n",
       "      <td>program</td>\n",
       "      <td>-0.226753</td>\n",
       "      <td>-0.008551</td>\n",
       "      <td>[]</td>\n",
       "    </tr>\n",
       "    <tr>\n",
       "      <th>12</th>\n",
       "      <td>12</td>\n",
       "      <td>12</td>\n",
       "      <td>['land', 'resettlement', 'affected', 'acquisit...</td>\n",
       "      <td>[799, 413, 364, 280, 282, 166, 142, 138, 216, ...</td>\n",
       "      <td>10061</td>\n",
       "      <td>958</td>\n",
       "      <td>[402, 187, 178, 125, 75, 68, 67, 54, 44, 44, 3...</td>\n",
       "      <td>land</td>\n",
       "      <td>0.127135</td>\n",
       "      <td>0.005546</td>\n",
       "      <td>[0, 1, 2, 4, 8]</td>\n",
       "    </tr>\n",
       "    <tr>\n",
       "      <th>13</th>\n",
       "      <td>13</td>\n",
       "      <td>13</td>\n",
       "      <td>['community', 'private', 'development', 'servi...</td>\n",
       "      <td>[1150, 1256, 3404, 1838, 2893, 895, 1190, 1574...</td>\n",
       "      <td>10734</td>\n",
       "      <td>964</td>\n",
       "      <td>[153, 145, 141, 120, 118, 112, 100, 85, 79, 77...</td>\n",
       "      <td>community</td>\n",
       "      <td>-0.102606</td>\n",
       "      <td>-0.125800</td>\n",
       "      <td>[10]</td>\n",
       "    </tr>\n",
       "  </tbody>\n",
       "</table>\n",
       "</div>"
      ],
      "text/plain": [
       "    Unnamed: 0  Topic Number  \\\n",
       "0            0             0   \n",
       "1            1             1   \n",
       "2            2             2   \n",
       "3            3             3   \n",
       "4            4             4   \n",
       "5            5             5   \n",
       "6            6             6   \n",
       "7            7             7   \n",
       "8            8             8   \n",
       "9            9             9   \n",
       "10          10            10   \n",
       "11          11            11   \n",
       "12          12            12   \n",
       "13          13            13   \n",
       "\n",
       "                                             Keywords  \\\n",
       "0   ['statement', 'audit', 'financial', 'accountin...   \n",
       "1   ['maintenance', 'road', 'covenant', 'budget', ...   \n",
       "2   ['website', 'grievance', 'complaint', 'upload'...   \n",
       "3   ['loan', 'delay', 'adb', 'implementation', 'co...   \n",
       "4   ['road', 'construction', 'rehabilitation', 'sa...   \n",
       "5   ['financial', 'cost', 'credit', 'bank', 'marke...   \n",
       "6   ['implementation', 'agency', 'consultant', 'st...   \n",
       "7   ['government', 'law', 'regulation', 'establish...   \n",
       "8   ['performance', 'report', 'evaluation', 'impac...   \n",
       "9   ['water', 'system', 'power', 'supply', 'tariff...   \n",
       "10  ['training', 'school', 'education', 'teacher',...   \n",
       "11  ['program', 'reform', 'government', 'policy', ...   \n",
       "12  ['land', 'resettlement', 'affected', 'acquisit...   \n",
       "13  ['community', 'private', 'development', 'servi...   \n",
       "\n",
       "                                 Keywords Frequencies  Number of Lessons  \\\n",
       "0   [194, 426, 2052, 138, 47, 55, 47, 246, 26, 19,...               9857   \n",
       "1   [1254, 2037, 1045, 915, 633, 5580, 1517, 1239,...              10567   \n",
       "2   [69, 30, 25, 9, 19, 10, 175, 4, 23, 29, 7, 3, ...               9798   \n",
       "3   [2887, 1455, 4184, 4980, 1120, 1614, 675, 525,...              10700   \n",
       "4   [2037, 1011, 291, 338, 243, 169, 1231, 274, 17...              10326   \n",
       "5   [2536, 1688, 840, 876, 1295, 2856, 861, 612, 1...              10673   \n",
       "6   [5028, 2527, 1479, 1735, 1878, 2955, 1529, 244...              10743   \n",
       "7   [5794, 505, 481, 1256, 459, 667, 1544, 1592, 4...              10695   \n",
       "8   [2408, 1684, 1336, 1279, 1301, 1963, 526, 900,...              10460   \n",
       "9   [1064, 2207, 660, 683, 467, 313, 997, 2324, 11...              10530   \n",
       "10  [1993, 1418, 1267, 1033, 656, 549, 2397, 1101,...              10600   \n",
       "11  [5336, 3337, 5901, 3011, 3324, 3459, 2913, 426...              10772   \n",
       "12  [799, 413, 364, 280, 282, 166, 142, 138, 216, ...              10061   \n",
       "13  [1150, 1256, 3404, 1838, 2893, 895, 1190, 1574...              10734   \n",
       "\n",
       "    Number of PCRs                                   Keywords Weights  \\\n",
       "0              957  [127, 115, 57, 32, 25, 20, 19, 12, 11, 10, 9, ...   \n",
       "1              963  [327, 282, 231, 170, 130, 129, 128, 107, 107, ...   \n",
       "2              957  [58, 17, 14, 12, 9, 6, 3, 3, 2, 2, 2, 2, 2, 2,...   \n",
       "3              961  [331, 197, 159, 150, 116, 115, 89, 86, 85, 79,...   \n",
       "4              960  [295, 135, 88, 80, 69, 66, 63, 63, 53, 52, 52,...   \n",
       "5              963  [218, 214, 164, 159, 151, 122, 100, 91, 81, 78...   \n",
       "6              964  [307, 211, 158, 154, 154, 127, 125, 117, 117, ...   \n",
       "7              963  [215, 92, 74, 74, 71, 67, 66, 64, 62, 60, 59, ...   \n",
       "8              963  [702, 516, 381, 202, 156, 154, 148, 127, 116, ...   \n",
       "9              963  [216, 146, 140, 133, 95, 81, 78, 78, 69, 64, 6...   \n",
       "10             962  [318, 272, 219, 179, 122, 104, 86, 86, 81, 75,...   \n",
       "11             964  [337, 249, 214, 205, 161, 140, 117, 100, 95, 9...   \n",
       "12             958  [402, 187, 178, 125, 75, 68, 67, 54, 44, 44, 3...   \n",
       "13             964  [153, 145, 141, 120, 118, 112, 100, 85, 79, 77...   \n",
       "\n",
       "          Top Word         x         y       adjacentTopics  \n",
       "0        statement  0.133656 -0.000225     [1, 2, 4, 8, 12]  \n",
       "1      maintenance  0.038072  0.025617     [0, 4, 5, 8, 12]  \n",
       "2          website  0.136032 -0.003685        [0, 4, 8, 12]  \n",
       "3             loan -0.043908  0.167825                   []  \n",
       "4             road  0.093660 -0.004680  [0, 1, 2, 8, 9, 12]  \n",
       "5        financial -0.009646 -0.018591            [1, 7, 9]  \n",
       "6   implementation -0.148977  0.128479                   []  \n",
       "7       government -0.093109 -0.009298                  [5]  \n",
       "8      performance  0.114196  0.049000     [0, 1, 2, 4, 12]  \n",
       "9            water  0.035703 -0.074938               [4, 5]  \n",
       "10        training -0.053456 -0.130698                 [13]  \n",
       "11         program -0.226753 -0.008551                   []  \n",
       "12            land  0.127135  0.005546      [0, 1, 2, 4, 8]  \n",
       "13       community -0.102606 -0.125800                 [10]  "
      ]
     },
     "execution_count": 4,
     "metadata": {},
     "output_type": "execute_result"
    }
   ],
   "source": [
    "topics"
   ]
  },
  {
   "cell_type": "code",
   "execution_count": 6,
   "metadata": {
    "ExecuteTime": {
     "end_time": "2020-03-19T05:31:03.534302Z",
     "start_time": "2020-03-19T05:31:03.524230Z"
    }
   },
   "outputs": [],
   "source": [
    "i = 0\n",
    "for index, row in topics.iterrows():\n",
    "    f = open(\"../../data/topics.ndjson\", \"a+\")\n",
    "#     allString = '{\"index\":{\"_id\": \"' + str(row['Topic Number']) +'\"}}\\n'\n",
    "    allString = '{ \"index\" : { \"_index\" : \"topics\", \"_type\" : \"type1\" } }\\n'\n",
    "    allString = allString + '{ \\\n",
    "        \"key\": '+ str(topics.at[index, 'Topic Number']) + ', \\\n",
    "        \"numberOfLessons\": '+  str(topics.at[index, 'Number of Lessons']) + ', \\\n",
    "        \"numberOfPCRs\": '+  str(topics.at[index, 'Number of PCRs']) + ', \\\n",
    "        \"x\": '+  str(topics.at[index, 'x']) + ', \\\n",
    "        \"y\": '+  str(topics.at[index, 'y']) + ', \\\n",
    "        \"topWord\": \"'+ str(topics.at[index, 'Top Word']) + '\", \\\n",
    "        \"adjacentTopics\": '+ str(topics.at[index, 'adjacentTopics']) + ', \\\n",
    "        \"keywords\": '+ str(topics.at[index, 'Keywords']).replace(\"'\", '\"') +', \\\n",
    "        \"frequencies\": '+ str(topics.at[index, 'Keywords Weights']) + ' \\\n",
    "    }\\n'\n",
    "    i = i + 1\n",
    "    f.write(allString)\n",
    "    f.close()"
   ]
  },
  {
   "cell_type": "markdown",
   "metadata": {},
   "source": [
    "# PCRs Data"
   ]
  },
  {
   "cell_type": "code",
   "execution_count": null,
   "metadata": {},
   "outputs": [],
   "source": [
    "PCRsFileName = '../data/pcrs_2020-02-25.xlsx'\n",
    "PCRs = pd.read_excel(topicsFileName)"
   ]
  },
  {
   "cell_type": "code",
   "execution_count": null,
   "metadata": {},
   "outputs": [],
   "source": [
    "# Converting dataframe to elasticsearch format\n",
    "i = 1\n",
    "for index, row in PCRs.iterrows():\n",
    "    row['paragraph'] = re.sub(r'\\d{1,3}\\.\\s', '', str(row['paragraph']).replace('\\n', ' ').replace('\"', \"'\"))\n",
    "    row['sectors'] = str(row['sectors']).replace('\"', \"'\")\n",
    "    f = None\n",
    "    if(i > 0 and i <= 20000):\n",
    "        f = open(folderName + \"pcrs.\" + str(1) + \".elastic\", \"a+\")\n",
    "    elif(i > 20000 and i <= 40000):\n",
    "        f = open(folderName + \"pcrs.\" + str(2) + \".elastic\", \"a+\")\n",
    "    allString = '{\"index\":{\"_id\": \"' + str(row['id']) +'\"}}\\n'\n",
    "    allString = allString + '{ \\\n",
    "        \"referenceId\": \"'+ str(row['reference_id']).zfill(20) + '\", \\\n",
    "        \"title\": \"'+ str(row['Title']).replace('\\n', ' ').replace('\"', \"'\") + '\", \\\n",
    "        \"paragraph\": \"'+ str(row['paragraph']) + '\", \\\n",
    "        \"themes\": '+ str(row['Themes']) + ', \\\n",
    "        \"sectors\": '+ str(row['Sectors']) + ', \\\n",
    "        \"countries\": '+ str(row['Countries']).replace('People\"', \"People'\") + ', \\\n",
    "        \"lessonStrength\": '+ str(row['Lesson Strength']) + ', \\\n",
    "        \"relatedLessons\": '+ str(row['related_lessons']) + ', \\\n",
    "        \"topic\": '+ str(row['topic']) + ', \\\n",
    "        \"topTopics\": '+ str(row['topTopics']) + ', \\\n",
    "        \"modalities\": '+ str(row['Modalities']).replace(\"'\", '\"') + ', \\\n",
    "        \"lessonType\": \"Self Evaluation\", \\\n",
    "        \"isLesson\": ' + str(row['isLesson']).lower() + ',  \\\n",
    "        \"month\": \"' + str(row['Month']) + '\",  \\\n",
    "        \"year\": ' + str(row['Year']) + ',  \\\n",
    "        \"annotationTitle\": \"' + str(row['annotationTitle']) + '\", \\\n",
    "        \"summary\": \"' + str(row['machine generated']).replace('\\n', ' ').replace('\"', \"'\").title() + '\", \\\n",
    "        \"context\": \"\",  \\\n",
    "        \"annotatedBy\": \"' + str(row['annotatedBy']) + '\", \\\n",
    "        \"annotationSummary\": \"' + str(row['annotationSummary']) + '\", \\\n",
    "        \"lastAnnotated\": \"' + str(row['lastAnnotated']) + '\", \\\n",
    "        \"annotationStatus\": \"' + str(row['annotationStatus']) + '\", \\\n",
    "        \"urlToFile\": \"' + str(row['Download Link']) + '\", \\\n",
    "        \"lastUpdated\": \"\",  \\\n",
    "        \"source\": \"PCR\" \\\n",
    "    }\\n'\n",
    "    i = i + 1\n",
    "    f.write(allString)\n",
    "    f.close()\n",
    "#     if(i==10000):\n",
    "#         break"
   ]
  }
 ],
 "metadata": {
  "hide_input": false,
  "kernelspec": {
   "display_name": "py37",
   "language": "python",
   "name": "py37"
  },
  "language_info": {
   "codemirror_mode": {
    "name": "ipython",
    "version": 3
   },
   "file_extension": ".py",
   "mimetype": "text/x-python",
   "name": "python",
   "nbconvert_exporter": "python",
   "pygments_lexer": "ipython3",
   "version": "3.7.7"
  }
 },
 "nbformat": 4,
 "nbformat_minor": 4
}
