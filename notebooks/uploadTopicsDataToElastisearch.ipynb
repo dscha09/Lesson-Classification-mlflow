{
 "cells": [
  {
   "cell_type": "code",
   "execution_count": 2,
   "metadata": {
    "ExecuteTime": {
     "end_time": "2020-03-23T07:24:26.949469Z",
     "start_time": "2020-03-23T07:24:26.602791Z"
    }
   },
   "outputs": [],
   "source": []
  },
  {
   "cell_type": "code",
   "execution_count": 1,
   "metadata": {
    "tags": [
     "parameters"
    ]
   },
   "outputs": [],
   "source": [
    "env = \"staging\"\n",
    "ipAndPort = \"52.230.8.63:9200\"\n",
    "userName = \"elastic\"\n",
    "password = \"Welcometoerni!\""
   ]
  },
  {
   "cell_type": "code",
   "execution_count": 2,
   "metadata": {},
   "outputs": [
    {
     "name": "stdout",
     "output_type": "stream",
     "text": [
      "{\"acknowledged\":true}"
     ]
    }
   ],
   "source": [
    "! curl \\\n",
    "    -u \"$userName\":\"$password\" \\\n",
    "    -XDELETE \"$ipAndPort\"/topics"
   ]
  },
  {
   "cell_type": "code",
   "execution_count": 4,
   "metadata": {},
   "outputs": [
    {
     "name": "stdout",
     "output_type": "stream",
     "text": [
      "{\"took\":186,\"errors\":false,\"items\":[{\"index\":{\"_index\":\"topics\",\"_type\":\"_doc\",\"_id\":\"_iBavnEBDKWISTTimjzb\",\"_version\":1,\"result\":\"created\",\"_shards\":{\"total\":2,\"successful\":2,\"failed\":0},\"_seq_no\":0,\"_primary_term\":1,\"status\":201}},{\"index\":{\"_index\":\"topics\",\"_type\":\"_doc\",\"_id\":\"_yBavnEBDKWISTTimjzb\",\"_version\":1,\"result\":\"created\",\"_shards\":{\"total\":2,\"successful\":2,\"failed\":0},\"_seq_no\":1,\"_primary_term\":1,\"status\":201}},{\"index\":{\"_index\":\"topics\",\"_type\":\"_doc\",\"_id\":\"ACBavnEBDKWISTTimj3b\",\"_version\":1,\"result\":\"created\",\"_shards\":{\"total\":2,\"successful\":2,\"failed\":0},\"_seq_no\":2,\"_primary_term\":1,\"status\":201}},{\"index\":{\"_index\":\"topics\",\"_type\":\"_doc\",\"_id\":\"ASBavnEBDKWISTTimj3b\",\"_version\":1,\"result\":\"created\",\"_shards\":{\"total\":2,\"successful\":2,\"failed\":0},\"_seq_no\":3,\"_primary_term\":1,\"status\":201}},{\"index\":{\"_index\":\"topics\",\"_type\":\"_doc\",\"_id\":\"AiBavnEBDKWISTTimj3b\",\"_version\":1,\"result\":\"created\",\"_shards\":{\"total\":2,\"successful\":2,\"failed\":0},\"_seq_no\":4,\"_primary_term\":1,\"status\":201}},{\"index\":{\"_index\":\"topics\",\"_type\":\"_doc\",\"_id\":\"AyBavnEBDKWISTTimj3b\",\"_version\":1,\"result\":\"created\",\"_shards\":{\"total\":2,\"successful\":2,\"failed\":0},\"_seq_no\":5,\"_primary_term\":1,\"status\":201}},{\"index\":{\"_index\":\"topics\",\"_type\":\"_doc\",\"_id\":\"BCBavnEBDKWISTTimj3b\",\"_version\":1,\"result\":\"created\",\"_shards\":{\"total\":2,\"successful\":2,\"failed\":0},\"_seq_no\":6,\"_primary_term\":1,\"status\":201}},{\"index\":{\"_index\":\"topics\",\"_type\":\"_doc\",\"_id\":\"BSBavnEBDKWISTTimj3b\",\"_version\":1,\"result\":\"created\",\"_shards\":{\"total\":2,\"successful\":2,\"failed\":0},\"_seq_no\":7,\"_primary_term\":1,\"status\":201}},{\"index\":{\"_index\":\"topics\",\"_type\":\"_doc\",\"_id\":\"BiBavnEBDKWISTTimj3b\",\"_version\":1,\"result\":\"created\",\"_shards\":{\"total\":2,\"successful\":2,\"failed\":0},\"_seq_no\":8,\"_primary_term\":1,\"status\":201}},{\"index\":{\"_index\":\"topics\",\"_type\":\"_doc\",\"_id\":\"ByBavnEBDKWISTTimj3b\",\"_version\":1,\"result\":\"created\",\"_shards\":{\"total\":2,\"successful\":2,\"failed\":0},\"_seq_no\":0,\"_primary_term\":1,\"status\":201}},{\"index\":{\"_index\":\"topics\",\"_type\":\"_doc\",\"_id\":\"CCBavnEBDKWISTTimj3b\",\"_version\":1,\"result\":\"created\",\"_shards\":{\"total\":2,\"successful\":2,\"failed\":0},\"_seq_no\":9,\"_primary_term\":1,\"status\":201}},{\"index\":{\"_index\":\"topics\",\"_type\":\"_doc\",\"_id\":\"CSBavnEBDKWISTTimj3b\",\"_version\":1,\"result\":\"created\",\"_shards\":{\"total\":2,\"successful\":2,\"failed\":0},\"_seq_no\":1,\"_primary_term\":1,\"status\":201}},{\"index\":{\"_index\":\"topics\",\"_type\":\"_doc\",\"_id\":\"CiBavnEBDKWISTTimj3b\",\"_version\":1,\"result\":\"created\",\"_shards\":{\"total\":2,\"successful\":2,\"failed\":0},\"_seq_no\":2,\"_primary_term\":1,\"status\":201}},{\"index\":{\"_index\":\"topics\",\"_type\":\"_doc\",\"_id\":\"CyBavnEBDKWISTTimj3b\",\"_version\":1,\"result\":\"created\",\"_shards\":{\"total\":2,\"successful\":2,\"failed\":0},\"_seq_no\":10,\"_primary_term\":1,\"status\":201}}]}\r\n"
     ]
    }
   ],
   "source": [
    "! curl \\\n",
    "    -u \"$userName\":\"$password\" \\\n",
    "    -s -H \"Content-Type: application/x-ndjson\" \\\n",
    "    -XPOST \"$ipAndPort\"/sentences/_bulk --data-binary \"@../data/topics.ndjson\"; echo\n"
   ]
  },
  {
   "cell_type": "code",
   "execution_count": null,
   "metadata": {},
   "outputs": [],
   "source": []
  }
 ],
 "metadata": {
  "celltoolbar": "Tags",
  "hide_input": false,
  "kernelspec": {
   "display_name": "py37",
   "language": "python",
   "name": "py37"
  },
  "language_info": {
   "codemirror_mode": {
    "name": "ipython",
    "version": 3
   },
   "file_extension": ".py",
   "mimetype": "text/x-python",
   "name": "python",
   "nbconvert_exporter": "python",
   "pygments_lexer": "ipython3",
   "version": "3.7.7"
  }
 },
 "nbformat": 4,
 "nbformat_minor": 4
}
