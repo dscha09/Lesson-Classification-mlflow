{
 "cells": [
  {
   "cell_type": "code",
   "execution_count": null,
   "metadata": {},
   "outputs": [],
   "source": [
    "import pandas as pd\n",
    "import requests\n",
    "import json\n",
    "import io\n",
    "import xml.etree.ElementTree as ET\n",
    "from bs4 import BeautifulSoup\n",
    "import datetime\n",
    "import ast\n",
    "import urllib"
   ]
  },
  {
   "cell_type": "code",
   "execution_count": null,
   "metadata": {},
   "outputs": [],
   "source": [
    "# ! pip install bs4"
   ]
  },
  {
   "cell_type": "code",
   "execution_count": 38,
   "metadata": {},
   "outputs": [
    {
     "name": "stdout",
     "output_type": "stream",
     "text": "Index(['Unnamed: 0', 'Countries', 'Download Link', 'MODALITY_FR_DUMP',\n       'Milestone Approval Date', 'Milestone Effectivity Date',\n       'Milestone Signing Date', 'Modalities', 'Month', 'Month Year',\n       'Project Number', 'Safeguard Categories', 'Sectors',\n       'Source Of Funding', 'Themes', 'Title', 'UNQ_MODALITY_FR_DUMP', 'Year',\n       'id'],\n      dtype='object')\n"
    }
   ],
   "source": [
    "PCRsFileName = '../../data/pcrs-20200406.xlsx'\n",
    "PCRs = pd.read_excel(PCRsFileName)\n",
    "print(PCRs.columns)"
   ]
  },
  {
   "cell_type": "code",
   "execution_count": 40,
   "metadata": {},
   "outputs": [],
   "source": [
    "currentProjectNumbers = PCRs[\"Project Number\"].tolist()\n",
    "currentDownloadLinks = PCRs[\"Download Link\"].tolist()\n",
    "currentIDs = PCRs[\"id\"].tolist()"
   ]
  },
  {
   "cell_type": "code",
   "execution_count": 77,
   "metadata": {},
   "outputs": [],
   "source": [
    "domain = 'https://www.adb.org/'\n",
    "headers = {'User-Agent': 'Mozilla/5.0 (Macintosh; Intel Mac OS X 10_10_1) AppleWebKit/537.36 (KHTML, like Gecko) Chrome/39.0.2171.95 Safari/537.36'}\n",
    "nPages = 65\n",
    "startPage = 0\n",
    "x = datetime.datetime.now()\n",
    "YYYYmmdd = x.strftime(\"%Y%m%d\")\n",
    "folderName = \"../../data/adb-pcr-\" + YYYYmmdd + \"/\"\n"
   ]
  },
  {
   "cell_type": "code",
   "execution_count": null,
   "metadata": {},
   "outputs": [],
   "source": [
    "! mkdir \"$folderName\""
   ]
  },
  {
   "cell_type": "code",
   "execution_count": 78,
   "metadata": {},
   "outputs": [
    {
     "name": "stdout",
     "output_type": "stream",
     "text": "ps://www.adb.org//projects/documents/emergency-infrastructure-rehabilitation-project-phase-2\nPage: 37\nhttps://www.adb.org//projects/documents/national-highways-project\n750\nhttps://www.adb.org//projects/documents/grains-sector-development-program\nhttps://www.adb.org//projects/documents/forestry-sector-project-0\nPage: 38\nPage: 39\n800\nPage: 40\nhttps://www.adb.org//projects/documents/primary-roads-restoration-project-0\nhttps://www.adb.org//projects/documents/xieng-khouang-road-improvement-project\nPage: 41\nhttps://www.adb.org//projects/documents/clark-area-municipal-development-project\nhttps://www.adb.org//projects/documents/regional-municipal-development-project\nhttps://www.adb.org//projects/documents/regional-municipal-development-project\nhttps://www.adb.org//projects/documents/north-central-province-rural-development-project\nhttps://www.adb.org//projects/documents/third-livestock-development-project\nPage: 42\nhttps://www.adb.org//projects/documents/southern-yunnan-road-development-project\nhttps://www.adb.org//projects/documents/emergency-flood-rehabilitation-project\nhttps://www.adb.org//projects/documents/east-indonesia-airports-project\nhttps://www.adb.org//projects/documents/east-indonesia-airports-project\nhttps://www.adb.org//projects/documents/development-madrasah-aliyahs-project\nhttps://www.adb.org//projects/documents/development-madrasah-aliyahs-project\n850\nhttps://www.adb.org//projects/documents/emergency-infrastructure-rehabilitation-project-phase-i\nhttps://www.adb.org//projects/documents/secondary-towns-urban-development-project\nPage: 43\nhttps://www.adb.org//projects/documents/microfinance-development-project\nhttps://www.adb.org//projects/documents/southwest-flood-damage-rehabilitation-project\nhttps://www.adb.org//projects/documents/suzhou-creek-rehabilitation-project\nhttps://www.adb.org//projects/documents/southern-provincial-roads-improvement-project\nPage: 44\nhttps://www.adb.org//projects/documents/coral-reef-rehabilitation-and-management-project\nhttps://www.adb.org//projects/documents/smallholder-tree-crop-processing-project\nhttps://www.adb.org//projects/documents/smallholder-tree-crop-processing-project\n900\nPage: 45\nhttps://www.adb.org//projects/documents/farmer-managed-irrigation-systems-project\nhttps://www.adb.org//projects/documents/farmer-managed-irrigation-systems-project\nhttps://www.adb.org//projects/documents/siem-reap-airport-project-december-2004\nhttps://www.adb.org//projects/documents/pat-feeder-canal-rehabilitation-and-improvement-project\nhttps://www.adb.org//projects/documents/pat-feeder-canal-rehabilitation-and-improvement-project\nhttps://www.adb.org//projects/documents/social-action-program-sector-project-ii\nhttps://www.adb.org//projects/documents/urban-water-supply-and-sanitation-project-1\nhttps://www.adb.org//projects/documents/population-and-family-health-project\nhttps://www.adb.org//projects/documents/upper-sagarmatha-agricultural-development-project\nPage: 46\nhttps://www.adb.org//projects/documents/khulna-jessore-drainage-rehabilitation-project\nhttps://www.adb.org//projects/documents/khulna-jessore-drainage-rehabilitation-project\nhttps://www.adb.org//projects/documents/health-sector-development-program-6\nhttps://www.adb.org//projects/documents/subic-bay-area-municipal-development-project\nhttps://www.adb.org//projects/documents/subic-bay-area-municipal-development-project\nPage: 47\nhttps://www.adb.org//projects/documents/kabulnan-irrigation-and-area-development-project\nhttps://www.adb.org//projects/documents/jamuna-bridge-access-roads-project\nhttps://www.adb.org//projects/documents/upland-farmer-development-project\nhttps://www.adb.org//projects/documents/private-junior-secondary-education-project\nhttps://www.adb.org//projects/documents/private-junior-secondary-education-project\n950\nhttps://www.adb.org//projects/documents/rural-infrastructure-development-project-0\nhttps://www.adb.org//projects/documents/rural-infrastructure-development-project-0\nhttps://www.adb.org//projects/documents/hera-port-fisheries-facilities-rehabilitation-project-timor-leste-pcr\nhttps://www.adb.org//projects/documents/irrigation-and-flood-protection-rehabilitation-project\nhttps://www.adb.org//projects/documents/ho-chi-minh-city-water-supply-and-sanitation-project\nhttps://www.adb.org//projects/documents/ho-chi-minh-city-water-supply-and-sanitation-project\nhttps://www.adb.org//projects/documents/second-water-supply-and-sanitation-project\nPage: 48\nhttps://www.adb.org//projects/documents/fourth-rural-water-supply-and-sanitation-sector-project\nhttps://www.adb.org//projects/documents/emergency-flood-rehabilitation\nhttps://www.adb.org//projects/documents/southern-province-rural-development-project\nhttps://www.adb.org//projects/documents/postsecondary-education-rationalization-project\nhttps://www.adb.org//projects/documents/postsecondary-education-rationalization-project\nhttps://www.adb.org//projects/documents/sustainable-agriculture-development-project-irian-jaya\nhttps://www.adb.org//projects/documents/education-sector-development-program-4\nPage: 49\nhttps://www.adb.org//projects/documents/second-urban-development-project\nhttps://www.adb.org//projects/documents/flood-emergency-rehabilitation-project\nhttps://www.adb.org//projects/documents/kotri-barrage-rehabilitation-project\nhttps://www.adb.org//projects/documents/hebei-expressway-project\nhttps://www.adb.org//projects/documents/hebei-expressway-project\nhttps://www.adb.org//projects/documents/northeast-flood-damage-rehabilitation-project\nhttps://www.adb.org//projects/documents/financial-sector-intermediation-facility\nhttps://www.adb.org//projects/documents/fisheries-sector-project\nhttps://www.adb.org//projects/documents/second-road-improvement-project\n1000\nPage: 50\nhttps://www.adb.org//projects/documents/fisheries-sector-project-0\nhttps://www.adb.org//projects/documents/second-road-improvement-project-0\nhttps://www.adb.org//projects/documents/third-cook-islands-development-bank-project-0\nhttps://www.adb.org//projects/documents/third-cook-islands-development-bank-project-0\nhttps://www.adb.org//projects/documents/microcredit-project-women-nepal\nPage: 51\nhttps://www.adb.org//projects/documents/microcredit-project-women-nepal-0\nhttps://www.adb.org//projects/documents/nonformal-education-project\nhttps://www.adb.org//projects/documents/rural-credit-project\nhttps://www.adb.org//projects/documents/rural-credit-project-0\nhttps://www.adb.org//projects/documents/capital-market-development-program-loan\nhttps://www.adb.org//projects/documents/basic-skills-project\nhttps://www.adb.org//projects/documents/basic-skills-project\nhttps://www.adb.org//projects/documents/low-income-upland-communities-project\nhttps://www.adb.org//projects/documents/flood-damage-rehabilitation-project\nPage: 52\nhttps://www.adb.org//projects/documents/sindh-forestry-development-project\nhttps://www.adb.org//projects/documents/sixth-road-improvement-project\nhttps://www.adb.org//projects/documents/provincial-towns-basic-urban-services-project\nhttps://www.adb.org//projects/documents/eighth-power-project\n1050\nhttps://www.adb.org//projects/documents/fisheries-development-project-0\nPage: 53\nhttps://www.adb.org//projects/documents/energy-conservation-project\nhttps://www.adb.org//projects/documents/provincial-highways-project\nhttps://www.adb.org//projects/documents/higher-education-project\nhttps://www.adb.org//projects/documents/governance-reform-program-1\nhttps://www.adb.org//projects/documents/social-sector-program\nhttps://www.adb.org//projects/documents/tribhuvan-international-airport-improvement-project\nhttps://www.adb.org//projects/documents/tribhuvan-international-airport-improvement-project\nhttps://www.adb.org//projects/documents/teacher-training-project-0\nhttps://www.adb.org//projects/documents/north-western-province-water-resources-development-project\nhttps://www.adb.org//projects/documents/capacity-building-securities-market\nhttps://www.adb.org//projects/documents/national-coastal-erosion-control-sector-project\nhttps://www.adb.org//projects/documents/national-coastal-erosion-control-sector-project\nPage: 54\nhttps://www.adb.org//projects/documents/secondary-education-development-project\nhttps://www.adb.org//projects/documents/dhaka-integrated-flood-protection-project\nhttps://www.adb.org//projects/documents/second-rural-infrastructure-development-project\nhttps://www.adb.org//projects/documents/population-and-family-planning-project\nhttps://www.adb.org//projects/documents/nam-leuk-hydropower-project\n1100\nPage: 55\nhttps://www.adb.org//projects/documents/technical-and-vocational-education-and-training\nhttps://www.adb.org//projects/documents/financial-sector-program-loan\nhttps://www.adb.org//projects/documents/rural-electrification-project\nhttps://www.adb.org//projects/documents/airports-improvement-project\nhttps://www.adb.org//projects/documents/second-financial-sector-program-0\nhttps://www.adb.org//projects/documents/basic-education-development-project\nhttps://www.adb.org//projects/documents/secondary-towns-integrated-flood-protection-project\nhttps://www.adb.org//projects/documents/health-care-development-project\nhttps://www.adb.org//projects/documents/qingdao-environment-improvement-project\nhttps://www.adb.org//projects/documents/qingdao-environment-improvement-project\nhttps://www.adb.org//projects/documents/cyclone-emergency-rehabilitation-project\nPage: 56\nhttps://www.adb.org//projects/documents/northeast-minor-irrigation-project\nhttps://www.adb.org//projects/documents/participatory-forestry-project\nhttps://www.adb.org//projects/documents/rural-poor-cooperative-project\nhttps://www.adb.org//projects/documents/urban-development-sector-project-4\nhttps://www.adb.org//projects/documents/power-rehabilitation-project-1\nhttps://www.adb.org//projects/documents/power-rehabilitation-project-1\nhttps://www.adb.org//projects/documents/north-west-frontier-barani-area-development-project\nhttps://www.adb.org//projects/documents/everbright-bank-china-project\nhttps://www.adb.org//projects/documents/everbright-bank-china-project\nhttps://www.adb.org//projects/documents/second-bhola-irrigation-project\nhttps://www.adb.org//projects/documents/primary-education-development-project\nhttps://www.adb.org//projects/documents/laiwu-iron-and-steel-company-modernization-and-expansion-project\nhttps://www.adb.org//projects/documents/laiwu-iron-and-steel-company-modernization-and-expansion-project\nPage: 57\nhttps://www.adb.org//projects/documents/higher-secondary-education-loan-project\nhttps://www.adb.org//projects/documents/secondary-education-development-project-0\nhttps://www.adb.org//projects/documents/second-health-and-family-planning-services-project\nhttps://www.adb.org//projects/documents/seventh-power-project\n1150\nhttps://www.adb.org//projects/documents/biodiversity-conservation-flores-and-siberut\nhttps://www.adb.org//projects/documents/second-palawan-integrated-area-development-project\nhttps://www.adb.org//projects/documents/second-palawan-integrated-area-development-project\nhttps://www.adb.org//projects/documents/fisheries-development-project-1\nhttps://www.adb.org//projects/documents/north-madras-thermal-power-project\nhttps://www.adb.org//projects/documents/north-madras-thermal-power-project\nhttps://www.adb.org//projects/documents/third-rural-health-services-project\nhttps://www.adb.org//projects/documents/national-air-navigation-dev-project\nhttps://www.adb.org//projects/documents/national-air-navigation-dev-project\nPage: 58\nhttps://www.adb.org//projects/documents/kathmandu-urban-development-project\nhttps://www.adb.org//projects/documents/small-farmer-credit-project\nhttps://www.adb.org//projects/documents/small-farmer-credit-project\nhttps://www.adb.org//projects/documents/left-bank-outfall-drain-project\nhttps://www.adb.org//projects/documents/left-bank-outfall-drain-project\nhttps://www.adb.org//projects/documents/second-oil-and-gas-development-project\nhttps://www.adb.org//projects/documents/second-oil-and-gas-development-project\nhttps://www.adb.org//projects/documents/corporate-governance-and-enterprise-reform-program\nhttps://www.adb.org//projects/documents/left-bank-outfall-drain-project-pak\nhttps://www.adb.org//projects/documents/left-bank-outfall-drain-project-pak\nhttps://www.adb.org//projects/documents/hunan-expressway-project-prc\nhttps://www.adb.org//projects/documents/hunan-expressway-project-prc\nhttps://www.adb.org//projects/documents/cyclone-emergency-rehabilitation\nhttps://www.adb.org//projects/documents/third-pirkoh-gas-development-project\nhttps://www.adb.org//projects/documents/third-pirkoh-gas-development-project\nhttps://www.adb.org//projects/documents/third-and-fourth-power-transmission\nhttps://www.adb.org//projects/documents/third-and-fourth-power-transmission\nhttps://www.adb.org//projects/documents/southwest-area-water-resources-development\nhttps://www.adb.org//projects/documents/southwest-area-water-resources-development\nPage: 59\nhttps://www.adb.org//projects/documents/second-barani-area-development\nhttps://www.adb.org//projects/documents/second-water-supply-and-sanitation-project-0\nhttps://www.adb.org//projects/documents/marala-ravi-link-canal-system-pak\nhttps://www.adb.org//projects/documents/marala-ravi-link-canal-system-pak\nhttps://www.adb.org//projects/documents/smallholder-tea-development\nhttps://www.adb.org//projects/documents/second-health-and-population\nhttps://www.adb.org//projects/documents/khushab-salinity-control-and-reclamation-project-pak\nhttps://www.adb.org//projects/documents/northern-provincial-towns-water-supply-and-sanitation-project\nhttps://www.adb.org//projects/documents/bangladesh-open-university-project\nhttps://www.adb.org//projects/documents/education-quality-improvement-project-0\nhttps://www.adb.org//projects/documents/employment-generation-project\nhttps://www.adb.org//projects/documents/employment-generation-project\nhttps://www.adb.org//projects/documents/liaoning-expressway-project\nhttps://www.adb.org//projects/documents/liaoning-expressway-project\nhttps://www.adb.org//projects/documents/guangdong-tropical-crops\nhttps://www.adb.org//projects/documents/guangdong-tropical-crops\nhttps://www.adb.org//projects/documents/hefei-jiujiang-railway-project\nhttps://www.adb.org//projects/documents/hefei-jiujiang-railway-project\n1200\nPage: 60\nhttps://www.adb.org//projects/documents/east-rapti-irrigation-project\nhttps://www.adb.org//projects/documents/second-ngo-microcredit-project\nhttps://www.adb.org//projects/documents/telecommunications-project-0\nhttps://www.adb.org//projects/documents/industrial-technology-finance\nhttps://www.adb.org//projects/documents/sixteenth-power-masinloc-thermal-power-project\nhttps://www.adb.org//projects/documents/ulaanbaatar-airport-project\nhttps://www.adb.org//projects/documents/water-pollution-control-project\nhttps://www.adb.org//projects/documents/metropolitan-cebu-water-supply-project-0\nhttps://www.adb.org//projects/documents/second-brackishwater-aquaculture-development-project\nhttps://www.adb.org//projects/documents/rehabilitation-and-upgrading-vientiane-water-supply-project\nhttps://www.adb.org//projects/documents/secondary-crops-development-projects\nhttps://www.adb.org//projects/documents/timber-plantation-project\nhttps://www.adb.org//projects/documents/gandahr-field-development-project\nhttps://www.adb.org//projects/documents/botabek-urban-development-project\nhttps://www.adb.org//projects/documents/power-xxi-project\nhttps://www.adb.org//projects/documents/hydrocarbon-sector-program-loan\nhttps://www.adb.org//projects/documents/flores-emergency-reconstruction-project\nhttps://www.adb.org//projects/documents/chitral-area-development-project\nPage: 61\nhttps://www.adb.org//projects/documents/rural-telecommunications-project\nhttps://www.adb.org//projects/documents/primary-education-girls-sector-project\nhttps://www.adb.org//projects/documents/guang-mei-shan-railway-project\nhttps://www.adb.org//projects/documents/irrigation-systems-improvement-project\nhttps://www.adb.org//projects/documents/forestry-sector-program-loan\nhttps://www.adb.org//projects/documents/earthquake-damage-reconstruction-project\nhttps://www.adb.org//projects/documents/telecommunications-project-1\nhttps://www.adb.org//projects/documents/special-rehabilitation-assistance\nhttps://www.adb.org//projects/documents/second-aquaculture-development-project\nhttps://www.adb.org//projects/documents/second-telecommunications-project\nhttps://www.adb.org//projects/documents/second-aquaculture-development-project-0\nhttps://www.adb.org//projects/documents/sarawak-power-project\nhttps://www.adb.org//projects/documents/second-industrial-credit-and-investment-corporation-india-limited\nPage: 62\nhttps://www.adb.org//projects/documents/third-irrigation-sector-project\nhttps://www.adb.org//projects/documents/industrial-finance-corporation-india\nhttps://www.adb.org//projects/documents/kirindi-oya-irrigation-and-settlement-project-0\nhttps://www.adb.org//projects/documents/kalaka-saribas-integrated-agricultural-development-project-0\nhttps://www.adb.org//projects/documents/second-aquaculture-development-project-1\nhttps://www.adb.org//projects/documents/irrigation-package-project\nhttps://www.adb.org//projects/documents/third-road-improvement-project-0\n1250\nhttps://www.adb.org//projects/documents/disaster-mitigation-and-management\nhttps://www.adb.org//projects/documents/highland-agriculture-development-project\nhttps://www.adb.org//projects/documents/small-and-medium-scale-industries-project\nhttps://www.adb.org//projects/documents/third-davao-del-norte-irrigation-project\nhttps://www.adb.org//projects/documents/aquaculture-development-project\nhttps://www.adb.org//projects/documents/industrial-credit-and-investment-corporation-india-limited-0\nhttps://www.adb.org//projects/documents/laguna-de-bay-fish-pen-development-project\nhttps://www.adb.org//projects/documents/brackishwater-aquaculture-development-project\nPage: 63\nhttps://www.adb.org//projects/documents/xeset-hydropower-project\nhttps://www.adb.org//projects/documents/palawan-integrated-area-development-project\nhttps://www.adb.org//projects/documents/ports-development-project\nhttps://www.adb.org//projects/documents/bicol-river-basin-irrigation-development-project\nhttps://www.adb.org//projects/documents/bali-irrigation-sector-project-0\nhttps://www.adb.org//projects/documents/second-agusan-irrigation-project\nhttps://www.adb.org//projects/documents/aquaculture-development-project-0\nhttps://www.adb.org//projects/documents/allah-river-irrigation\nhttps://www.adb.org//projects/documents/aquaculture-development-project-1\nhttps://www.adb.org//projects/documents/lae-port-project\nhttps://www.adb.org//projects/documents/meghna-dhonagoda-irrigation-project\nhttps://www.adb.org//projects/documents/second-davao-del-norte-irrigation-project\nhttps://www.adb.org//projects/documents/aquaculture-development-project-2\nhttps://www.adb.org//projects/documents/aquaculture-development-project-3\nhttps://www.adb.org//projects/documents/chashma-right-bank-irrigation-0\nhttps://www.adb.org//projects/documents/sedawgyi-hydropower-project\nhttps://www.adb.org//projects/documents/aquaculture-development-project-4\nhttps://www.adb.org//projects/documents/bukidnon-irrigation-project\nhttps://www.adb.org//projects/documents/northern-palawan-fisheries-development-project\nhttps://www.adb.org//projects/documents/agricultural-credit-project\nPage: 64\nhttps://www.adb.org//projects/documents/fourth-agricultural-credit-project\nhttps://www.adb.org//projects/documents/phi-national-railways-pcr\nhttps://www.adb.org//projects/documents/sagarnath-forestry-development-project-0\nhttps://www.adb.org//projects/documents/foodgrain-storage-project-bangladesh\nhttps://www.adb.org//projects/documents/khulna-mongla-road-project\nhttps://www.adb.org//projects/documents/coconut-oil-mill-project-0\nhttps://www.adb.org//projects/documents/third-agricultural-credit-project\nhttps://www.adb.org//projects/documents/highlands-road-improvement-project\nhttps://www.adb.org//projects/documents/bangladesh-railway-project\nhttps://www.adb.org//projects/documents/chittagong-port-project\n"
    }
   ],
   "source": [
    "maxID = max(currentIDs)\n",
    "count = 0\n",
    "titles = []\n",
    "ids = []\n",
    "downloadLinks = []\n",
    "projectNumbers = []\n",
    "allCountries = []\n",
    "allSectors = []\n",
    "allThemes = []\n",
    "fileNames = []\n",
    "allYears = []\n",
    "allMonths = []\n",
    "allMonthYear = []\n",
    "\n",
    "for page in range(startPage, nPages):\n",
    "    print(\"Page: \" + str(page))\n",
    "    url = domain + 'projects/documents/doctype/Project%252FProgram%20Completion%20Reports?page=' + str(page)\n",
    "    r = requests.get(url, headers=headers)\n",
    "    html = r.text\n",
    "    soup = BeautifulSoup(html, 'html.parser')\n",
    "    itemTitles = soup.findAll(\"div\", {\"class\": \"item-title\"})\n",
    "    for title in itemTitles:\n",
    "\n",
    "        # Title\n",
    "        titleText = title.find(\"a\").text\n",
    "        # print(\"Current Document: \" + titleText, \", Count: \" + str(count))\n",
    "        count = count + 1\n",
    "\n",
    "        # if(count == 161):\n",
    "        # Download Link and id\n",
    "        documentLink = domain + title.find(\"a\").get('href')\n",
    "        r2 = requests.get(documentLink, headers=headers)\n",
    "        html2 = r2.text\n",
    "        soup2 = BeautifulSoup(html2, 'html.parser')\n",
    "        asideRegion = soup2.find(\"aside\", {\"class\": \"region\"})\n",
    "        downloadLink = ''\n",
    "        if(asideRegion):\n",
    "            downloadLink = asideRegion.find(\"a\").get('href')\n",
    "        \n",
    "\n",
    "        # Project Number\n",
    "        articleTags = soup2.find(\"div\", {\"class\": \"article-tags\"})\n",
    "        fieldItems = articleTags.findAll(\"ul\", {\"class\": \"field-items\"})\n",
    "        projectNumberField = fieldItems[0].find(\"li\", {\"class\": \"field-item\"})\n",
    "        projectNumber = projectNumberField.find(\"a\").text\n",
    "        \n",
    "        # if projectNumber in currentProjectNumbers:\n",
    "        #     print(\"Already scraped\")\n",
    "        #     continue\n",
    "        \n",
    "        # print(\"New PCR\", str(maxID), projectNumber )\n",
    "        # maxID = maxID + 1\n",
    "        titles.append(titleText)\n",
    "        # ids.append(maxID)\n",
    "        projectNumbers.append(projectNumber)\n",
    "        # downloadLinks.append(downloadLink)\n",
    "\n",
    "        # Month Year\n",
    "        # dateDisplay = soup2.find(\"span\", {\"class\": \"date-display-single\"})\n",
    "        # allMonthYear.append(dateDisplay.text)\n",
    "        # allMonths.append(dateDisplay.text.split(\" \")[0])\n",
    "        # allYears.append(dateDisplay.text.split(\" \")[1])\n",
    "        \n",
    "        # Sector\n",
    "        sectorFound = True\n",
    "        representativeSector = ''\n",
    "        sectors = []\n",
    "        if(len(fieldItems)>2):\n",
    "            sectorFields = fieldItems[2].findAll(\"li\", {\"class\": \"field-item\"})\n",
    "            for sectorField in sectorFields:\n",
    "                sectors.append(sectorField.find(\"a\").text)\n",
    "            if(len(sectors)):\n",
    "                representativeSector = sectors[0]\n",
    "        else:\n",
    "            sectorFound = False\n",
    "\n",
    "        representativeTheme = ''\n",
    "        representativeSector = ''\n",
    "        projectNumberLink = projectNumberField.find(\"a\").get('href')\n",
    "        r3 = requests.get(domain + projectNumberLink + '#project-pds')\n",
    "        html3 = r3.text\n",
    "        soup3 = BeautifulSoup(html3, 'html.parser')\n",
    "        themes = []\n",
    "        if(soup3.find(\"table\", {\"class\": \"pds\"})):\n",
    "            pdsTableTrs = soup3.find(\"table\", {\"class\": \"pds\"}).findAll(\"tr\")\n",
    "            for tr in pdsTableTrs:\n",
    "                trtds = tr.findAll(\"td\")\n",
    "                if(trtds):\n",
    "        # Theme\n",
    "                    # if(trtds[0].text == 'Strategic Agendas'):\n",
    "                    #     if(len(trtds)>1):\n",
    "                    #         themesRaw = str(trtds[1]).split(' <br/>')\n",
    "                    #         themesRaw[0] = themesRaw[0][4:]\n",
    "                    #         themes = themesRaw[:-1]\n",
    "                    #         if(themes):\n",
    "                    #             representativeTheme = themes[0]\n",
    "        # Sector (2nd chance)\n",
    "                    if not sectorFound:\n",
    "                        if(trtds[0].text == 'Sector / Subsector'):\n",
    "                            if(len(trtds)>1):\n",
    "                                if(trtds[1].find(\"p\")):\n",
    "                                    sector = trtds[1].find(\"p\").text.split(\"/\")[0].rstrip()\n",
    "                                    sectors.append(sector)\n",
    "                                    if(sectors):\n",
    "                                        representativeSector = sectors[0]\n",
    "                                else:\n",
    "                                    print(documentLink)\n",
    "        if sectors == []:\n",
    "            print(documentLink)\n",
    "        allSectors.append(sectors)\n",
    "        # print(sectors)\n",
    "\n",
    "        # Country\n",
    "        # representativeCountry = ''\n",
    "        # countries = []\n",
    "        # if(len(fieldItems)>1):\n",
    "        #     countryFields = fieldItems[1].findAll(\"li\", {\"class\": \"field-item\"})\n",
    "        #     for countryField in countryFields:\n",
    "        #         countries.append(countryField.find(\"a\").text)\n",
    "        #     representativeCountry = countries[0]\n",
    "        # allCountries.append(countries)\n",
    "\n",
    "\n",
    "        # File\n",
    "        # startFileName = 0\n",
    "        # for i in range(len(downloadLink)-1, 0, -1):\n",
    "        #     if downloadLink[i] == '/':\n",
    "        #         startFileName = i + 1\n",
    "        #         break\n",
    "\n",
    "        # fileName = downloadLink[startFileName:]\n",
    "        # fileNames.append(fileName)\n",
    "        # if(downloadLink and downloadLink[0] != '/'):\n",
    "        #     r4 = requests.get(downloadLink)\n",
    "        #     with open(folderName + fileName, 'wb') as f:\n",
    "        #         f.write(r4.content)\n",
    "        # else:\n",
    "        #     with open(folderName + fileName + '-invalid.txt', 'w') as f:\n",
    "        #         f.write('Invalid file')\n",
    "\n",
    "        # Write to spreadsheet\n",
    "        if count % 50 == 0:\n",
    "            df = pd.DataFrame()\n",
    "            # df['id'] = ids\n",
    "            df['Title'] = titles\n",
    "            # df['Download Link'] = downloadLinks\n",
    "            df['Project Number'] = projectNumbers\n",
    "            # df['Month Year'] = allMonthYear\n",
    "            # df['Month'] = allMonths\n",
    "            # df['Year'] = allYears\n",
    "            # df['Countries'] = allCountries\n",
    "            df['Sectors'] = allSectors\n",
    "            # df['Themes'] = allThemes\n",
    "            # df['File Names'] = fileNames\n",
    "            df.to_excel(folderName + 'pcrs-new-data-partial-' + str(count) + '.xlsx')\n",
    "            print(count)\n",
    "    #     break\n",
    "    # break\n",
    "\n",
    "df = pd.DataFrame()\n",
    "# df['id'] = ids\n",
    "df['Title'] = titles\n",
    "# df['Download Link'] = downloadLinks\n",
    "df['Project Number'] = projectNumbers\n",
    "# df['Month Year'] = allMonthYear\n",
    "# df['Month'] = allMonths\n",
    "# df['Year'] = allYears\n",
    "# df['Countries'] = allCountries\n",
    "df['Sectors'] = allSectors\n",
    "# df['Themes'] = allThemes\n",
    "# df['File Names'] = fileNames\n",
    "df.to_excel(folderName + 'pcrs-new-data.xlsx')"
   ]
  },
  {
   "cell_type": "code",
   "execution_count": null,
   "metadata": {},
   "outputs": [],
   "source": [
    "df = pd.read_excel(folderName + \".xlsx\")"
   ]
  },
  {
   "cell_type": "code",
   "execution_count": null,
   "metadata": {},
   "outputs": [],
   "source": [
    "df = pd.DataFrame()\n",
    "df['Title'] = titles\n",
    "df['Project Number'] = projectNumbers\n",
    "df['Countries'] = allCountries\n",
    "df['Sectors'] = allSectors\n",
    "df['Themes'] = allThemes\n",
    "df['Download Link'] = downloadLinks\n",
    "df.to_excel(folderName + 'pcrs-new-data.xlsx')\n"
   ]
  },
  {
   "cell_type": "code",
   "execution_count": 26,
   "metadata": {},
   "outputs": [],
   "source": [
    "df = pd.read_excel(folderName + 'pcrs-new-data.xlsx')\n",
    "df['MODALITY_FR_DUMP'] = \"[]\"\n",
    "df['UNQ_MODALITY_FR_DUMP'] = \"set()\"\n",
    "df['Milestone Approval Date'] = \"\"\n",
    "df['Milestone Effectivity Date'] = \"\"\n",
    "df['Milestone Signing Date'] = \"\"\n",
    "df['Modalities'] = \"[]\"\n",
    "df['Safeguard Categories'] = \"\""
   ]
  },
  {
   "cell_type": "code",
   "execution_count": 36,
   "metadata": {},
   "outputs": [
    {
     "name": "stdout",
     "output_type": "stream",
     "text": "Index(['id', 'Title', 'Download Link', 'Project Number', 'Month Year', 'Month',\n       'Year', 'Countries', 'Sectors', 'Themes', 'MODALITY_FR_DUMP',\n       'UNQ_MODALITY_FR_DUMP', 'Milestone Approval Date',\n       'Milestone Effectivity Date', 'Milestone Signing Date', 'Modalities',\n       'Safeguard Categories'],\n      dtype='object')\nIndex(['id', 'Title', 'Project Number', 'Countries', 'Sectors', 'Themes',\n       'Month Year', 'Month', 'Year', 'Modalities', 'Source Of Funding',\n       'Safeguard Categories', 'Milestone Approval Date',\n       'Milestone Signing Date', 'Milestone Effectivity Date', 'Download Link',\n       'MODALITY_FR_DUMP', 'UNQ_MODALITY_FR_DUMP'],\n      dtype='object')\n"
    }
   ],
   "source": [
    "print(df.columns)\n",
    "print(PCRs.columns)"
   ]
  },
  {
   "cell_type": "code",
   "execution_count": 35,
   "metadata": {},
   "outputs": [],
   "source": [
    "df = df.drop(['File Names'], axis=1)\n",
    "PCRs = PCRs.drop(['Unnamed: 0'], axis=1)"
   ]
  },
  {
   "cell_type": "code",
   "execution_count": 37,
   "metadata": {},
   "outputs": [
    {
     "name": "stderr",
     "output_type": "stream",
     "text": "/Users/jraramirez/anaconda3/envs/py37/lib/python3.7/site-packages/pandas/core/frame.py:7138: FutureWarning: Sorting because non-concatenation axis is not aligned. A future version\nof pandas will change to not sort by default.\n\nTo accept the future behavior, pass 'sort=False'.\n\nTo retain the current behavior and silence the warning, pass 'sort=True'.\n\n  sort=sort,\n"
    }
   ],
   "source": [
    "PCRs = PCRs.append(df)\n",
    "PCRs.to_excel(folderName + 'pcrs-data.xlsx')"
   ]
  },
  {
   "cell_type": "code",
   "execution_count": null,
   "metadata": {},
   "outputs": [],
   "source": []
  }
 ],
 "metadata": {
  "kernelspec": {
   "display_name": "py37",
   "language": "python",
   "name": "py37"
  },
  "language_info": {
   "codemirror_mode": {
    "name": "ipython",
    "version": 3
   },
   "file_extension": ".py",
   "mimetype": "text/x-python",
   "name": "python",
   "nbconvert_exporter": "python",
   "pygments_lexer": "ipython3",
   "version": "3.7.6-final"
  }
 },
 "nbformat": 4,
 "nbformat_minor": 4
}