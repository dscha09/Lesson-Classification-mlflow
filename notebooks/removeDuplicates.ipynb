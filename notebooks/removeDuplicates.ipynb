{
 "cells": [
  {
   "cell_type": "code",
   "execution_count": 1,
   "metadata": {},
   "outputs": [],
   "source": [
    "# -*- coding: utf-8 -*-\n",
    "\n",
    "import pandas as pd\n",
    "import numpy as np\n",
    "from ast import literal_eval\n",
    "import re\n",
    "import os\n",
    "import sys\n",
    "# reload(sys)\n",
    "# sys.setdefaultencoding('utf-8')\n"
   ]
  },
  {
   "cell_type": "code",
   "execution_count": 8,
   "metadata": {},
   "outputs": [
    {
     "name": "stdout",
     "output_type": "stream",
     "text": [
      "Collecting fuzzywuzzy\n",
      "  Downloading https://files.pythonhosted.org/packages/43/ff/74f23998ad2f93b945c0309f825be92e04e0348e062026998b5eefef4c33/fuzzywuzzy-0.18.0-py2.py3-none-any.whl\n",
      "Installing collected packages: fuzzywuzzy\n",
      "Successfully installed fuzzywuzzy-0.18.0\n",
      "\u001b[33mWARNING: You are using pip version 19.3.1; however, version 20.0.2 is available.\n",
      "You should consider upgrading via the 'pip install --upgrade pip' command.\u001b[0m\n"
     ]
    }
   ],
   "source": [
    "! pip install fuzzywuzzy"
   ]
  },
  {
   "cell_type": "markdown",
   "metadata": {},
   "source": [
    "# Forecasts Data"
   ]
  },
  {
   "cell_type": "code",
   "execution_count": 2,
   "metadata": {},
   "outputs": [],
   "source": [
    "forecastsFilename = '../../data/merged_lessons_forecasted_data_reindex_20200227.xlsx'\n",
    "forecastsData = pd.read_excel(forecastsFilename)"
   ]
  },
  {
   "cell_type": "code",
   "execution_count": 3,
   "metadata": {},
   "outputs": [],
   "source": [
    "raw_paragraphs = forecastsData['paragraph']\n",
    "ids = forecastsData['id']"
   ]
  },
  {
   "cell_type": "code",
   "execution_count": 4,
   "metadata": {},
   "outputs": [],
   "source": [
    "sentences = []\n",
    "for paragraph in raw_paragraphs:\n",
    "    sentences.append(paragraph.replace('  ', ' '))\n",
    "forecastsData['cleaned_paragraph'] = sentences"
   ]
  },
  {
   "cell_type": "code",
   "execution_count": 6,
   "metadata": {},
   "outputs": [
    {
     "name": "stdout",
     "output_type": "stream",
     "text": [
      "Realistic sector and institutional assessments. Implementation of the soft components  of infrastructure projects—such as gender equality, safeguards, or capacity building—financed  by development organizations in Azerbaijan is often challenging because of the lack of capacity  and motivation of the executing agencies. It is important to ensure in-depth assessment of the  country and sector context as part of transaction technical assistance to guide the design of the  soft components of public utility projects in a well contextualized manner. Weak planning systems;  business processes; and technical, administration, and financial capacity of the executing  agencies can also put project outcomes at risk. Efficiently tailored technical assistance and closer  supervision could have helped mitigate this risk.\n",
      "Realistic sector and institutional assessments. Implementation of the soft components of infrastructure projects—such as gender equality, safeguards, or capacity building—financed by development organizations in Azerbaijan is often challenging because of the lack of capacity and motivation of the executing agencies. It is important to ensure in-depth assessment of the country and sector context as part of transaction technical assistance to guide the design of the soft components of public utility projects in a well contextualized manner. Weak planning systems; business processes; and technical, administration, and financial capacity of the executing agencies can also put project outcomes at risk. Efficiently tailored technical assistance and closer supervision could have helped mitigate this risk.\n"
     ]
    }
   ],
   "source": [
    "print(forecastsData['paragraph'][0])\n",
    "print(forecastsData['cleaned_paragraph'][0])"
   ]
  },
  {
   "cell_type": "code",
   "execution_count": 7,
   "metadata": {},
   "outputs": [],
   "source": [
    "forecastsData.to_excel('../../data/merged_lessons_forecasted_data_reindex_deduped_20200227.xlsx')"
   ]
  },
  {
   "cell_type": "code",
   "execution_count": null,
   "metadata": {},
   "outputs": [],
   "source": []
  }
 ],
 "metadata": {
  "kernelspec": {
   "display_name": "Python 3",
   "language": "python",
   "name": "python3"
  },
  "language_info": {
   "codemirror_mode": {
    "name": "ipython",
    "version": 3
   },
   "file_extension": ".py",
   "mimetype": "text/x-python",
   "name": "python",
   "nbconvert_exporter": "python",
   "pygments_lexer": "ipython3",
   "version": "3.7.2"
  }
 },
 "nbformat": 4,
 "nbformat_minor": 4
}
