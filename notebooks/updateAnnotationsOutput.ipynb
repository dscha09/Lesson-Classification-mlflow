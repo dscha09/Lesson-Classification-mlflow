{
 "cells": [
  {
   "cell_type": "code",
   "execution_count": 1,
   "metadata": {
    "ExecuteTime": {
     "end_time": "2020-03-23T06:31:22.024719Z",
     "start_time": "2020-03-23T06:31:00.181909Z"
    },
    "papermill": {
     "duration": 0.508846,
     "end_time": "2020-04-28T03:47:09.670375",
     "exception": false,
     "start_time": "2020-04-28T03:47:09.161529",
     "status": "completed"
    },
    "tags": []
   },
   "outputs": [],
   "source": [
    "import pandas as pd\n",
    "import re"
   ]
  },
  {
   "cell_type": "code",
   "execution_count": 2,
   "metadata": {
    "papermill": {
     "duration": 0.01936,
     "end_time": "2020-04-28T03:47:09.701268",
     "exception": false,
     "start_time": "2020-04-28T03:47:09.681908",
     "status": "completed"
    },
    "tags": [
     "parameters"
    ]
   },
   "outputs": [],
   "source": [
    "fileName = \"\"\n",
    "oldDataFileName = \"\""
   ]
  },
  {
   "cell_type": "code",
   "execution_count": 3,
   "metadata": {
    "papermill": {
     "duration": 0.01757,
     "end_time": "2020-04-28T03:47:09.730519",
     "exception": false,
     "start_time": "2020-04-28T03:47:09.712949",
     "status": "completed"
    },
    "tags": [
     "injected-parameters"
    ]
   },
   "outputs": [],
   "source": [
    "# Parameters\n",
    "fileName = \"../data/production-sentences-20200428\"\n",
    "oldDataFileName = \"../../data/sentences-20200428\"\n"
   ]
  },
  {
   "cell_type": "markdown",
   "metadata": {
    "papermill": {
     "duration": 0.012134,
     "end_time": "2020-04-28T03:47:09.766075",
     "exception": false,
     "start_time": "2020-04-28T03:47:09.753941",
     "status": "completed"
    },
    "tags": []
   },
   "source": [
    "# Old Data"
   ]
  },
  {
   "cell_type": "code",
   "execution_count": 4,
   "metadata": {
    "ExecuteTime": {
     "end_time": "2020-03-23T07:22:50.134672Z",
     "start_time": "2020-03-23T07:22:33.729891Z"
    },
    "papermill": {
     "duration": 24.979369,
     "end_time": "2020-04-28T03:47:34.757968",
     "exception": false,
     "start_time": "2020-04-28T03:47:09.778599",
     "status": "completed"
    },
    "tags": []
   },
   "outputs": [],
   "source": [
    "df = pd.read_excel(oldDataFileName + \".xlsx\")\n",
    "# df = pd.read_excel(\"../data/sentences-20200407.xlsx\")\n"
   ]
  },
  {
   "cell_type": "markdown",
   "metadata": {
    "papermill": {
     "duration": 0.011443,
     "end_time": "2020-04-28T03:47:34.783321",
     "exception": false,
     "start_time": "2020-04-28T03:47:34.771878",
     "status": "completed"
    },
    "tags": []
   },
   "source": [
    "# Updated data"
   ]
  },
  {
   "cell_type": "code",
   "execution_count": 5,
   "metadata": {
    "ExecuteTime": {
     "end_time": "2020-03-23T07:22:58.337997Z",
     "start_time": "2020-03-23T07:22:52.713879Z"
    },
    "papermill": {
     "duration": 8.329699,
     "end_time": "2020-04-28T03:47:43.124494",
     "exception": false,
     "start_time": "2020-04-28T03:47:34.794795",
     "status": "completed"
    },
    "tags": []
   },
   "outputs": [],
   "source": [
    "dfUpdated = pd.read_excel(fileName + \".xlsx\")\n",
    "# dfUpdated = pd.read_excel(\"../data/production-sentences-20200407.xlsx\")\n"
   ]
  },
  {
   "cell_type": "markdown",
   "metadata": {
    "papermill": {
     "duration": 0.011292,
     "end_time": "2020-04-28T03:47:43.147114",
     "exception": false,
     "start_time": "2020-04-28T03:47:43.135822",
     "status": "completed"
    },
    "tags": []
   },
   "source": [
    "# Get updated data with annotations"
   ]
  },
  {
   "cell_type": "code",
   "execution_count": 6,
   "metadata": {
    "ExecuteTime": {
     "end_time": "2020-03-23T07:23:16.688514Z",
     "start_time": "2020-03-23T07:23:16.409554Z"
    },
    "papermill": {
     "duration": 0.026892,
     "end_time": "2020-04-28T03:47:43.183864",
     "exception": false,
     "start_time": "2020-04-28T03:47:43.156972",
     "status": "completed"
    },
    "tags": []
   },
   "outputs": [],
   "source": [
    "dfUpdatedWithAnnotations = dfUpdated[dfUpdated['annotationStatus'] != 'draft']\n",
    "dfUpdatedWithAnnotations = dfUpdatedWithAnnotations[dfUpdatedWithAnnotations['lastAnnotated'] != '']"
   ]
  },
  {
   "cell_type": "code",
   "execution_count": 7,
   "metadata": {
    "ExecuteTime": {
     "end_time": "2020-03-23T07:23:34.373058Z",
     "start_time": "2020-03-23T07:23:24.243367Z"
    },
    "papermill": {
     "duration": 9.20965,
     "end_time": "2020-04-28T03:47:52.404207",
     "exception": false,
     "start_time": "2020-04-28T03:47:43.194557",
     "status": "completed"
    },
    "tags": []
   },
   "outputs": [],
   "source": [
    "for index, row in dfUpdatedWithAnnotations.iterrows():\n",
    "    index = int(row['id'])\n",
    "    df.loc[df['id'] == index, 'annotationStatus'] = row['annotationStatus']\n",
    "    df.loc[df['id'] == index, 'annotatedBy'] = row['annotatedBy']\n",
    "    df.loc[df['id'] == index, 'annotationTitle'] = row['annotationTitle']\n",
    "    df.loc[df['id'] == index, 'annotationSummary'] = row['annotationSummary']\n",
    "    df.loc[df['id'] == index, 'lastAnnotated'] = row['lastAnnotated']\n",
    "    df.loc[df['id'] == index, 'isLesson'] = row['isLesson']"
   ]
  },
  {
   "cell_type": "code",
   "execution_count": 8,
   "metadata": {
    "ExecuteTime": {
     "end_time": "2020-03-23T07:24:23.262306Z",
     "start_time": "2020-03-23T07:23:56.837722Z"
    },
    "papermill": {
     "duration": 60.903149,
     "end_time": "2020-04-28T03:48:53.317828",
     "exception": false,
     "start_time": "2020-04-28T03:47:52.414679",
     "status": "completed"
    },
    "tags": []
   },
   "outputs": [],
   "source": [
    "df.to_excel(oldDataFileName + \".xlsx\")"
   ]
  },
  {
   "cell_type": "code",
   "execution_count": null,
   "metadata": {
    "papermill": {
     "duration": 0.009819,
     "end_time": "2020-04-28T03:48:53.339927",
     "exception": false,
     "start_time": "2020-04-28T03:48:53.330108",
     "status": "completed"
    },
    "tags": []
   },
   "outputs": [],
   "source": []
  }
 ],
 "metadata": {
  "celltoolbar": "Tags",
  "hide_input": false,
  "kernelspec": {
   "display_name": "py35",
   "language": "python",
   "name": "py35"
  },
  "language_info": {
   "codemirror_mode": {
    "name": "ipython",
    "version": 3
   },
   "file_extension": ".py",
   "mimetype": "text/x-python",
   "name": "python",
   "nbconvert_exporter": "python",
   "pygments_lexer": "ipython3",
   "version": "3.7.7"
  },
  "papermill": {
   "duration": 104.968225,
   "end_time": "2020-04-28T03:48:53.354277",
   "environment_variables": {},
   "exception": null,
   "input_path": "updateAnnotations.ipynb",
   "output_path": "updateAnnotationsOutput.ipynb",
   "parameters": {
    "fileName": "../data/production-sentences-20200428",
    "oldDataFileName": "../../data/sentences-20200428"
   },
   "start_time": "2020-04-28T03:47:08.386052",
   "version": "2.0.0"
  }
 },
 "nbformat": 4,
 "nbformat_minor": 4
}