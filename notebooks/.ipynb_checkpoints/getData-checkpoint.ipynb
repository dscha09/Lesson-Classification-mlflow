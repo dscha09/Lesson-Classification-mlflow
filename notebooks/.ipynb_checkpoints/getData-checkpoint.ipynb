{
 "cells": [
  {
   "cell_type": "code",
   "execution_count": 3,
   "metadata": {
    "ExecuteTime": {
     "end_time": "2020-03-23T06:31:22.024719Z",
     "start_time": "2020-03-23T06:31:00.181909Z"
    }
   },
   "outputs": [],
   "source": [
    "import pandas as pd\n",
    "import re\n",
    "import datetime\n",
    "import os"
   ]
  },
  {
   "cell_type": "markdown",
   "metadata": {},
   "source": [
    "# Get data from elasticsearch"
   ]
  },
  {
   "cell_type": "code",
   "execution_count": 4,
   "metadata": {
    "tags": [
     "parameters"
    ]
   },
   "outputs": [],
   "source": [
    "index = \"sentences\"\n",
    "env = \"production\"\n",
    "ipAndPort = \"52.163.240.214:9200\"\n",
    "userName = \"elastic\"\n",
    "password = \"Welcometoerni!\"\n",
    "fileName = \"\""
   ]
  },
  {
   "cell_type": "code",
   "execution_count": 7,
   "metadata": {},
   "outputs": [
    {
     "name": "stdout",
     "output_type": "stream",
     "text": [
      ".json\n",
      "proceed\n"
     ]
    }
   ],
   "source": [
    "x = datetime.datetime.now()\n",
    "outputFile = fileName +\".json\"\n",
    "\n",
    "try:\n",
    "    f = open(outputFile)\n",
    "    f.close()\n",
    "    os.remove(outputFile)\n",
    "except IOError:\n",
    "    print(\"proceed\")"
   ]
  },
  {
   "cell_type": "code",
   "execution_count": 1,
   "metadata": {},
   "outputs": [],
   "source": [
    "! /usr/local/lib/node_modules/elasticdump/bin/elasticdump \\\n",
    "--input=\"http://$userName:$password@$ipAndPort/$index\" \\\n",
    "--output=\"$outputFile\""
   ]
  },
  {
   "cell_type": "markdown",
   "metadata": {},
   "source": [
    "# Convert NDJSON output to xlsx"
   ]
  },
  {
   "cell_type": "code",
   "execution_count": null,
   "metadata": {},
   "outputs": [],
   "source": [
    "data = pd.DataFrame()\n",
    "paragraphs = []\n",
    "titles = []\n",
    "ids = []\n",
    "isLessons = []\n",
    "sources = []\n",
    "annotationTitles = []\n",
    "annotationStatuses = []\n",
    "annotationSummaries = []\n",
    "lastAnnotateds = []\n",
    "annotatedBys = []\n",
    "f = open(outputFile, \"r\")\n",
    "\n",
    "startTextParagraph = '\"paragraph\":\"'\n",
    "endTextParagraph = '\",\"themes\"'\n",
    "\n",
    "startTextId = '\"_id\":\"'\n",
    "endTextId = '\",\"_score\"'\n",
    "\n",
    "# startTextThemes = '\"themes\":'\n",
    "# endTextThemes = ',\"sectors\":'\n",
    "\n",
    "# startTextSectors = ',\"sectors\":'\n",
    "# endTextSectors = ',\"countries\":'\n",
    "\n",
    "# startTextCountries = ',\"countries\":'\n",
    "# endTextCountries = ',\"lessonStrength\":'\n",
    "\n",
    "startTextIsLesson = '\"isLesson\":'\n",
    "endTextIsLesson = ',\"month\":\"'\n",
    "\n",
    "# c = 0\n",
    "for line in f.readlines():\n",
    "#     c = c + 1\n",
    "#     print(c)\n",
    "\n",
    "    startTextATitle = '\"annotationTitle\":\"'\n",
    "    endTextAtitle = '\",\"summary\":'\n",
    "\n",
    "    startTextASummary = '\"annotationSummary\":\"'\n",
    "    endTextASummary = '\",\"lastAnnotated\":'\n",
    "\n",
    "    startTextAStatus = '\"annotationStatus\":\"'\n",
    "    endTextAStatus = '\",\"urlToFile\":'\n",
    "\n",
    "    startTextALast = '\"lastAnnotated\":\"'\n",
    "    endTextALast = '\",\"annotationStatus\":'\n",
    "\n",
    "    startTextABy = 'annotatedBy\":\"'\n",
    "    endTextABy = '\",\"context\":'\n",
    "    \n",
    "    startTextSource = '\"source\":\"'\n",
    "    endTextSource = '\"}}'\n",
    "    \n",
    "    startTextTitle = '\"title\":\"'\n",
    "    endTextTitle = '\",\"paragraph\":'\n",
    "    \n",
    "    paragraph = line[line.index(startTextParagraph) + 13: line.index(endTextParagraph)]\n",
    "    title = line[line.index(startTextTitle) + len(startTextTitle): line.index(endTextTitle)]\n",
    "    paragraphId = line[line.index(startTextId) + 7: line.index(endTextId)]\n",
    "    isLesson = line[line.index(startTextIsLesson) + 11: line.index(endTextIsLesson)]\n",
    "    annotationStatus = line[line.index(startTextAStatus) + len(startTextAStatus): line.index(endTextAStatus)]\n",
    "    \n",
    "    if(not startTextATitle in line):\n",
    "        annotationTitle = \"\"\n",
    "    else:\n",
    "        annotationTitle = line[line.index(startTextATitle) + len(startTextATitle): line.index(endTextAtitle)]\n",
    "        \n",
    "    if(not startTextASummary in line):\n",
    "        annotationSummary = \"\"\n",
    "    else:\n",
    "        annotationSummary = line[line.index(startTextASummary) + len(startTextASummary): line.index(endTextASummary)]\n",
    "        \n",
    "    if(not startTextALast in line):\n",
    "        lastAnnotated = \"\"\n",
    "    else:\n",
    "        lastAnnotated = line[line.index(startTextALast) + len(startTextALast): line.index(endTextALast)]\n",
    "\n",
    "    if(not startTextABy in line):\n",
    "        annotatedBy = \"\"\n",
    "    else:\n",
    "        indexEndTextABy = line.index(endTextABy)\n",
    "        indexStartTextABy = line.index(startTextABy)\n",
    "        if(indexEndTextABy < indexStartTextABy):\n",
    "            endTextABy = '\",\"annotationSummary\":'\n",
    "            indexEndTextABy = line.index(endTextABy)           \n",
    "        annotatedBy = line[indexStartTextABy + len(startTextABy): indexEndTextABy]\n",
    "    \n",
    "    if(not endTextSource in line):\n",
    "        endTextSource = '\",\"validatedBy\"'\n",
    "    source = line[line.index(startTextSource) + 10: line.index(endTextSource)]\n",
    "    \n",
    "    paragraphs.append(paragraph)\n",
    "    titles.append(title)\n",
    "    annotationTitles.append(annotationTitle)\n",
    "    annotationSummaries.append(annotationSummary)\n",
    "    lastAnnotateds.append(lastAnnotated)\n",
    "    annotatedBys.append(annotatedBy)\n",
    "    annotationStatuses.append(annotationStatus)\n",
    "    ids.append(paragraphId)\n",
    "    isLessons.append(isLesson)\n",
    "    sources.append(source)\n",
    "f.close()\n",
    "\n",
    "data['paragraph'] = paragraphs\n",
    "data['title'] = titles\n",
    "data['id'] = ids\n",
    "data['isLesson'] = isLessons\n",
    "data['source'] = sources\n",
    "data['annotationTitle'] = annotationTitles\n",
    "data['annotationSummary'] = annotationSummaries\n",
    "data['annotationStatus'] = annotationStatuses\n",
    "data['lastAnnotated'] = lastAnnotateds\n",
    "data['annotatedBy'] = annotatedBys\n",
    "data.to_excel(fileName + '.xlsx')"
   ]
  }
 ],
 "metadata": {
  "celltoolbar": "Tags",
  "hide_input": false,
  "kernelspec": {
   "display_name": "py37",
   "language": "python",
   "name": "py37"
  },
  "language_info": {
   "codemirror_mode": {
    "name": "ipython",
    "version": 3
   },
   "file_extension": ".py",
   "mimetype": "text/x-python",
   "name": "python",
   "nbconvert_exporter": "python",
   "pygments_lexer": "ipython3",
   "version": "3.7.7"
  }
 },
 "nbformat": 4,
 "nbformat_minor": 4
}
