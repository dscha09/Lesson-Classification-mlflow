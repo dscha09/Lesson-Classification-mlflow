{
 "cells": [
  {
   "cell_type": "code",
   "execution_count": 1,
   "metadata": {
    "ExecuteTime": {
     "end_time": "2020-03-23T06:31:22.024719Z",
     "start_time": "2020-03-23T06:31:00.181909Z"
    }
   },
   "outputs": [],
   "source": [
    "import pandas as pd\n",
    "import re"
   ]
  },
  {
   "cell_type": "code",
   "execution_count": null,
   "metadata": {
    "tags": [
     "parameters"
    ]
   },
   "outputs": [],
   "source": [
    "fileName = \"\"\n",
    "oldDataFileName = \"\""
   ]
  },
  {
   "cell_type": "markdown",
   "metadata": {},
   "source": [
    "# Old Data"
   ]
  },
  {
   "cell_type": "code",
   "execution_count": 8,
   "metadata": {
    "ExecuteTime": {
     "end_time": "2020-03-23T07:22:50.134672Z",
     "start_time": "2020-03-23T07:22:33.729891Z"
    }
   },
   "outputs": [],
   "source": [
    "df = pd.read_excel(oldDataFileName + \".xlsx\")\n",
    "# df = pd.read_excel(\"../data/sentences-20200407.xlsx\")\n"
   ]
  },
  {
   "cell_type": "markdown",
   "metadata": {},
   "source": [
    "# Updated data"
   ]
  },
  {
   "cell_type": "code",
   "execution_count": 10,
   "metadata": {
    "ExecuteTime": {
     "end_time": "2020-03-23T07:22:58.337997Z",
     "start_time": "2020-03-23T07:22:52.713879Z"
    }
   },
   "outputs": [],
   "source": [
    "dfUpdated = pd.read_excel(fileName + \".xlsx\")\n",
    "# dfUpdated = pd.read_excel(\"../data/production-sentences-20200407.xlsx\")\n"
   ]
  },
  {
   "cell_type": "markdown",
   "metadata": {},
   "source": [
    "# Get updated data with annotations"
   ]
  },
  {
   "cell_type": "code",
   "execution_count": 12,
   "metadata": {
    "ExecuteTime": {
     "end_time": "2020-03-23T07:23:16.688514Z",
     "start_time": "2020-03-23T07:23:16.409554Z"
    }
   },
   "outputs": [],
   "source": [
    "dfUpdatedWithAnnotations = dfUpdated[dfUpdated['annotationStatus'] != 'draft']\n",
    "dfUpdatedWithAnnotations = dfUpdatedWithAnnotations[dfUpdatedWithAnnotations['lastAnnotated'] != '']"
   ]
  },
  {
   "cell_type": "code",
   "execution_count": 17,
   "metadata": {
    "ExecuteTime": {
     "end_time": "2020-03-23T07:23:34.373058Z",
     "start_time": "2020-03-23T07:23:24.243367Z"
    }
   },
   "outputs": [],
   "source": [
    "for index, row in dfUpdatedWithAnnotations.iterrows():\n",
    "    index = int(row['id'])\n",
    "    df.loc[df['id'] == index, 'annotationStatus'] = row['annotationStatus']\n",
    "    df.loc[df['id'] == index, 'annotatedBy'] = row['annotatedBy']\n",
    "    df.loc[df['id'] == index, 'annotationTitle'] = row['annotationTitle']\n",
    "    df.loc[df['id'] == index, 'annotationSummary'] = row['annotationSummary']\n",
    "    df.loc[df['id'] == index, 'lastAnnotated'] = row['lastAnnotated']\n",
    "    df.loc[df['id'] == index, 'isLesson'] = row['isLesson']"
   ]
  },
  {
   "cell_type": "code",
   "execution_count": 19,
   "metadata": {
    "ExecuteTime": {
     "end_time": "2020-03-23T07:24:23.262306Z",
     "start_time": "2020-03-23T07:23:56.837722Z"
    }
   },
   "outputs": [],
   "source": [
    "df.to_excel(oldDataFileName + \".xlsx\")"
   ]
  },
  {
   "cell_type": "code",
   "execution_count": null,
   "metadata": {},
   "outputs": [],
   "source": []
  }
 ],
 "metadata": {
  "celltoolbar": "Tags",
  "hide_input": false,
  "kernelspec": {
   "display_name": "py35",
   "language": "python",
   "name": "py35"
  },
  "language_info": {
   "codemirror_mode": {
    "name": "ipython",
    "version": 3
   },
   "file_extension": ".py",
   "mimetype": "text/x-python",
   "name": "python",
   "nbconvert_exporter": "python",
   "pygments_lexer": "ipython3",
   "version": "3.7.7"
  }
 },
 "nbformat": 4,
 "nbformat_minor": 4
}
