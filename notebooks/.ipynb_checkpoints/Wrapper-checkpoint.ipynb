{
 "cells": [
  {
   "cell_type": "markdown",
   "metadata": {},
   "source": [
    "# Wrapper"
   ]
  },
  {
   "cell_type": "code",
   "execution_count": 10,
   "metadata": {},
   "outputs": [],
   "source": [
    "import datetime\n"
   ]
  },
  {
   "cell_type": "code",
   "execution_count": 43,
   "metadata": {},
   "outputs": [
    {
     "data": {
      "text/plain": [
       "'../../data/topics-20200427'"
      ]
     },
     "execution_count": 43,
     "metadata": {},
     "output_type": "execute_result"
    }
   ],
   "source": [
    "oldDataFileName = \"../../data/sentences-\" + datetime.datetime.now().strftime(\"%Y%m%d\")\n",
    "oldDataFileName\n",
    "\n",
    "topicsDataFileName = \"../../data/topics-\" + datetime.datetime.now().strftime(\"%Y%m%d\")\n",
    "topicsDataFileName"
   ]
  },
  {
   "cell_type": "markdown",
   "metadata": {},
   "source": [
    "## Get data from elasticsearch"
   ]
  },
  {
   "cell_type": "code",
   "execution_count": 36,
   "metadata": {},
   "outputs": [
    {
     "name": "stdout",
     "output_type": "stream",
     "text": [
      "Input Notebook:  getData.ipynb\n",
      "Output Notebook: getDataOutput.ipynb\n",
      "Executing:   0%|                                        | 0/8 [00:00<?, ?cell/s]Executing notebook with kernel: py37\n",
      "Executing: 100%|████████████████████████████████| 8/8 [09:49<00:00, 73.73s/cell]\n"
     ]
    }
   ],
   "source": [
    "\"\"\"\n",
    "Default Parameters:\n",
    "    index = \"sentences\"\n",
    "    env = \"production\"\n",
    "    ipAndPort = \"52.163.240.214:9200\"\n",
    "    userName = \"elastic\"\n",
    "    password = \"Welcometoerni!\"\n",
    "    fileName = \"../data/\" + env + \"-\" + index + \"-\" + datetime.datetime.now().strftime(\"%Y%m%d\")\n",
    "\"\"\"\n",
    "index = \"sentences\"\n",
    "env = \"production\"\n",
    "ipAndPort = \"52.163.240.214:9200\"\n",
    "userName = \"elastic\"\n",
    "password = \"Welcometoerni!\"\n",
    "fileName = \"../data/\" + env + \"-\" + index + \"-\" + datetime.datetime.now().strftime(\"%Y%m%d\")\n",
    "\n",
    "! papermill getData.ipynb getDataOutput.ipynb \\\n",
    "-p index \"$index\" \\\n",
    "-p env \"$env\" \\\n",
    "-p ipAndPort \"$ipAndPort\" \\\n",
    "-p userName \"$userName\" \\\n",
    "-p password \"$password\" \\\n",
    "-p fileName \"$fileName\""
   ]
  },
  {
   "cell_type": "markdown",
   "metadata": {},
   "source": [
    "## Update annotations"
   ]
  },
  {
   "cell_type": "code",
   "execution_count": 37,
   "metadata": {},
   "outputs": [
    {
     "name": "stdout",
     "output_type": "stream",
     "text": [
      "Input Notebook:  updateAnnotations.ipynb\n",
      "Output Notebook: updateAnnotationsOutput.ipynb\n",
      "Executing:   0%|                                       | 0/12 [00:00<?, ?cell/s]Executing notebook with kernel: py35\n",
      "Executing: 100%|██████████████████████████████| 12/12 [01:37<00:00,  8.15s/cell]\n"
     ]
    }
   ],
   "source": [
    "\"\"\"\n",
    "Optional. Run if staging data needs to be updated by the current data in production\n",
    "Default Parameters:\n",
    "    fileName = fileName\n",
    "    oldDataFileName = \"../data/sentences-\" + datetime.datetime.now().strftime(\"%Y%m%d\")\n",
    "\"\"\"\n",
    "fileName = fileName\n",
    "oldDataFileName = \"../data/sentences-\" + datetime.datetime.now().strftime(\"%Y%m%d\")\n",
    "\n",
    "! papermill updateAnnotations.ipynb updateAnnotationsOutput.ipynb \\\n",
    "-p fileName \"$fileName\" \\\n",
    "-p oldDataFileName \"$oldDataFileName\""
   ]
  },
  {
   "cell_type": "markdown",
   "metadata": {},
   "source": [
    "## Lessons classification"
   ]
  },
  {
   "cell_type": "code",
   "execution_count": null,
   "metadata": {},
   "outputs": [],
   "source": [
    "\"\"\"\n",
    "Optional. Run if lessons need to be re-classified\n",
    "Default Parameters:\n",
    "    \n",
    "\"\"\"\n",
    "\n",
    "! papermill runLessonsClassification.ipynb runLessonsClassificationOutput.ipynb"
   ]
  },
  {
   "cell_type": "markdown",
   "metadata": {},
   "source": [
    "## Lessons clustering"
   ]
  },
  {
   "cell_type": "code",
   "execution_count": null,
   "metadata": {},
   "outputs": [],
   "source": [
    "\"\"\"\n",
    "Optional. Run if lessons need to be re-clustered\n",
    "Default Parameters:\n",
    "    oldDataFileName = \"../data/sentences-\" + datetime.datetime.now().strftime(\"%Y%m%d\")\n",
    "    runFineTuning = False\n",
    "    numberOfTopics = 14\n",
    "    alpha=\"asymmetric\"\n",
    "    eta=0.91\n",
    "\"\"\"\n",
    "\n",
    "! papermill runLessonsClustering.ipynb runLessonslusteringOutput.ipynb \\\n",
    "-p oldDataFileName \"$oldDataFileName\" \\\n",
    "-p runFineTuning \"False\" \\\n",
    "-p numberOfTopics = 14 \\\n",
    "-p alpha=\"asymmetric\" \\\n",
    "-p eta=0.91"
   ]
  },
  {
   "cell_type": "markdown",
   "metadata": {},
   "source": [
    "## Lessons summarization"
   ]
  },
  {
   "cell_type": "code",
   "execution_count": null,
   "metadata": {},
   "outputs": [],
   "source": [
    "\"\"\"\n",
    "Optional. Run if lessons need to be re-summarized\n",
    "Default Parameters:\n",
    "    \n",
    "\"\"\"\n",
    "\n",
    "! papermill runLessonsSummarization.ipynb runLessonsSummarizationOutput.ipynb"
   ]
  },
  {
   "cell_type": "markdown",
   "metadata": {},
   "source": [
    "## Convert sentences data to NDJSON"
   ]
  },
  {
   "cell_type": "code",
   "execution_count": 39,
   "metadata": {},
   "outputs": [
    {
     "name": "stdout",
     "output_type": "stream",
     "text": [
      "Input Notebook:  sentencesDataToNDJSON.ipynb\n",
      "Output Notebook: sentencesDataToNDJSONOutput.ipynb\n",
      "Executing:   0%|                                        | 0/9 [00:00<?, ?cell/s]Executing notebook with kernel: py37\n",
      "Executing: 100%|████████████████████████████████| 9/9 [00:58<00:00,  6.54s/cell]\n"
     ]
    }
   ],
   "source": [
    "\"\"\"\n",
    "Default Parameters:\n",
    "    oldDataFileName = \"../data/sentences-\" + datetime.datetime.now().strftime(\"%Y%m%d\")\n",
    "\"\"\"\n",
    "\n",
    "! papermill sentencesDataToNDJSON.ipynb sentencesDataToNDJSONOutput.ipynb \\\n",
    "-p oldDataFileName \"$oldDataFileName\""
   ]
  },
  {
   "cell_type": "markdown",
   "metadata": {},
   "source": [
    "## Upload sentences data to elasticsearch"
   ]
  },
  {
   "cell_type": "code",
   "execution_count": 41,
   "metadata": {},
   "outputs": [
    {
     "name": "stdout",
     "output_type": "stream",
     "text": [
      "Input Notebook:  uploadSentencesDataToElastisearch.ipynb\n",
      "Output Notebook: uploadSentencesDataToElastisearchOutput.ipynb\n",
      "Executing:   0%|                                        | 0/8 [00:00<?, ?cell/s]Executing notebook with kernel: py37\n",
      "Executing: 100%|████████████████████████████████| 8/8 [01:13<00:00,  9.16s/cell]\n"
     ]
    }
   ],
   "source": [
    "\"\"\"\n",
    "Default Parameters:\n",
    "    env = \"staging\"\n",
    "    ipAndPort = \"52.230.8.63:9200\"\n",
    "    userName = \"elastic\"\n",
    "    password = \"Welcometoerni!\"\n",
    "\"\"\"\n",
    "env = \"staging\"\n",
    "ipAndPort = \"52.230.8.63:9200\"\n",
    "userName = \"elastic\"\n",
    "password = \"Welcometoerni!\"\n",
    "\n",
    "! papermill uploadSentencesDataToElastisearch.ipynb uploadSentencesDataToElastisearchOutput.ipynb \\\n",
    "-p env \"$env\" \\\n",
    "-p ipAndPort \"$ipAndPort\" \\\n",
    "-p userName \"$userName\" \\\n",
    "-p password \"$password\""
   ]
  },
  {
   "cell_type": "markdown",
   "metadata": {},
   "source": [
    "## Convert topics data to NDJSON"
   ]
  },
  {
   "cell_type": "code",
   "execution_count": 46,
   "metadata": {},
   "outputs": [
    {
     "name": "stdout",
     "output_type": "stream",
     "text": [
      "Input Notebook:  topicsDataToNDJSON.ipynb\n",
      "Output Notebook: topicsDataToNDJSONOutput.ipynb\n",
      "Executing:   0%|                                        | 0/8 [00:00<?, ?cell/s]Executing notebook with kernel: py37\n",
      "Executing: 100%|████████████████████████████████| 8/8 [00:02<00:00,  3.60cell/s]\n"
     ]
    }
   ],
   "source": [
    "\"\"\"\n",
    "Default Parameters:\n",
    "    topicsDataFileName = \"../data/topics-\" + datetime.datetime.now().strftime(\"%Y%m%d\")\n",
    "\"\"\"\n",
    "topicsDataFileName = \"../../data/topics-\" + datetime.datetime.now().strftime(\"%Y%m%d\")\n",
    "\n",
    "! papermill topicsDataToNDJSON.ipynb topicsDataToNDJSONOutput.ipynb \\\n",
    "-p topicsDataFileName \"$topicsDataFileName\""
   ]
  },
  {
   "cell_type": "markdown",
   "metadata": {},
   "source": [
    "## Upload topics data to elasticsearch"
   ]
  },
  {
   "cell_type": "code",
   "execution_count": null,
   "metadata": {},
   "outputs": [],
   "source": [
    "\"\"\"\n",
    "Default Parameters:\n",
    "    env = \"staging\"\n",
    "    ipAndPort = \"52.230.8.63:9200\"\n",
    "    userName = \"elastic\"\n",
    "    password = \"Welcometoerni!\"\n",
    "\"\"\"\n",
    "env = \"staging\"\n",
    "ipAndPort = \"52.230.8.63:9200\"\n",
    "userName = \"elastic\"\n",
    "password = \"Welcometoerni!\"\n",
    "\n",
    "! papermill uploadTopicsDataToElastisearch.ipynb uploadTopicsDataToElastisearchOutput.ipynb \\\n",
    "-p env \"$env\" \\\n",
    "-p ipAndPort \"$ipAndPort\" \\\n",
    "-p userName \"$userName\" \\\n",
    "-p password \"$password\""
   ]
  }
 ],
 "metadata": {
  "kernelspec": {
   "display_name": "py35",
   "language": "python",
   "name": "py35"
  },
  "language_info": {
   "codemirror_mode": {
    "name": "ipython",
    "version": 3
   },
   "file_extension": ".py",
   "mimetype": "text/x-python",
   "name": "python",
   "nbconvert_exporter": "python",
   "pygments_lexer": "ipython3",
   "version": "3.7.7"
  }
 },
 "nbformat": 4,
 "nbformat_minor": 4
}
