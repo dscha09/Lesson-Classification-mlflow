{
 "cells": [
  {
   "cell_type": "code",
   "execution_count": 2,
   "metadata": {
    "ExecuteTime": {
     "end_time": "2020-03-23T07:24:26.949469Z",
     "start_time": "2020-03-23T07:24:26.602791Z"
    }
   },
   "outputs": [],
   "source": []
  },
  {
   "cell_type": "code",
   "execution_count": 1,
   "metadata": {
    "tags": [
     "parameters"
    ]
   },
   "outputs": [],
   "source": [
    "env = \"staging\"\n",
    "ipAndPort = \"52.230.8.63:9200\"\n",
    "userName = \"elastic\"\n",
    "password = \"Welcometoerni!\""
   ]
  },
  {
   "cell_type": "code",
   "execution_count": 22,
   "metadata": {},
   "outputs": [],
   "source": [
    "! curl \\\n",
    "    -u \"$userName\":\"$password\" \\\n",
    "    -XDELETE \"$ipAndPort\"/topics"
   ]
  },
  {
   "cell_type": "code",
   "execution_count": 21,
   "metadata": {},
   "outputs": [],
   "source": [
    "! curl \\\n",
    "    -u \"$userName\":\"$password\" \\\n",
    "    -s -H \"Content-Type: application/x-ndjson\" \\\n",
    "    -XPOST \"$ipAndPort\"/sentences/_bulk --data-binary \"@../data/topics.ndjson\"; echo\n"
   ]
  },
  {
   "cell_type": "code",
   "execution_count": null,
   "metadata": {},
   "outputs": [],
   "source": []
  }
 ],
 "metadata": {
  "celltoolbar": "Tags",
  "hide_input": false,
  "kernelspec": {
   "display_name": "py37",
   "language": "python",
   "name": "py37"
  },
  "language_info": {
   "codemirror_mode": {
    "name": "ipython",
    "version": 3
   },
   "file_extension": ".py",
   "mimetype": "text/x-python",
   "name": "python",
   "nbconvert_exporter": "python",
   "pygments_lexer": "ipython3",
   "version": "3.7.7"
  }
 },
 "nbformat": 4,
 "nbformat_minor": 4
}
