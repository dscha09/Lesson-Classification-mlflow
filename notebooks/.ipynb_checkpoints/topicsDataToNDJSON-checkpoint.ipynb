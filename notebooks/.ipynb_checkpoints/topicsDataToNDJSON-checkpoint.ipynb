{
 "cells": [
  {
   "cell_type": "code",
   "execution_count": 2,
   "metadata": {
    "ExecuteTime": {
     "end_time": "2020-03-23T07:24:26.949469Z",
     "start_time": "2020-03-23T07:24:26.602791Z"
    },
    "collapsed": true
   },
   "outputs": [],
   "source": [
    "# -*- coding: utf-8 -*-\n",
    "\n",
    "import pandas as pd\n",
    "import numpy as np\n",
    "from ast import literal_eval\n",
    "import re\n",
    "import os\n",
    "import sys\n",
    "# reload(sys)\n",
    "# sys.setdefaultencoding('utf-8')"
   ]
  },
  {
   "cell_type": "code",
   "execution_count": null,
   "metadata": {
    "tags": [
     "parameters"
    ]
   },
   "outputs": [],
   "source": [
    "topicsDataFileName = \"\""
   ]
  },
  {
   "cell_type": "markdown",
   "metadata": {},
   "source": [
    "# Topics data"
   ]
  },
  {
   "cell_type": "code",
   "execution_count": 1,
   "metadata": {
    "ExecuteTime": {
     "end_time": "2020-03-23T07:24:41.812174Z",
     "start_time": "2020-03-23T07:24:28.018972Z"
    }
   },
   "outputs": [
    {
     "ename": "NameError",
     "evalue": "name 'pd' is not defined",
     "output_type": "error",
     "traceback": [
      "\u001b[0;31m---------------------------------------------------------------------------\u001b[0m",
      "\u001b[0;31mNameError\u001b[0m                                 Traceback (most recent call last)",
      "\u001b[0;32m<ipython-input-1-f2956f6ab415>\u001b[0m in \u001b[0;36m<module>\u001b[0;34m\u001b[0m\n\u001b[0;32m----> 1\u001b[0;31m \u001b[0mtopics\u001b[0m \u001b[0;34m=\u001b[0m \u001b[0mpd\u001b[0m\u001b[0;34m.\u001b[0m\u001b[0mread_excel\u001b[0m\u001b[0;34m(\u001b[0m\u001b[0mtopicsDataFileName\u001b[0m \u001b[0;34m+\u001b[0m \u001b[0;34m\".xlsx\"\u001b[0m\u001b[0;34m)\u001b[0m\u001b[0;34m\u001b[0m\u001b[0;34m\u001b[0m\u001b[0m\n\u001b[0m",
      "\u001b[0;31mNameError\u001b[0m: name 'pd' is not defined"
     ]
    }
   ],
   "source": [
    "topics = pd.read_excel(topicsDataFileName + \".xlsx\")"
   ]
  },
  {
   "cell_type": "code",
   "execution_count": 6,
   "metadata": {},
   "outputs": [],
   "source": [
    "try:\n",
    "    outputFile = \"../data/topics.ndjson\"\n",
    "    f = open(outputFile)\n",
    "    f.close()\n",
    "    os.remove(outputFile)\n",
    "except IOError:\n",
    "    print(\"proceed\")"
   ]
  },
  {
   "cell_type": "code",
   "execution_count": 7,
   "metadata": {
    "ExecuteTime": {
     "end_time": "2020-03-23T08:02:50.432026Z",
     "start_time": "2020-03-23T08:02:27.686668Z"
    }
   },
   "outputs": [],
   "source": [
    "i = 0\n",
    "for index, row in topics.iterrows():\n",
    "    f = open(\"../data/topics.ndjson\", \"a+\")\n",
    "#     allString = '{\"index\":{\"_id\": \"' + str(row['Topic Number']) +'\"}}\\n'\n",
    "    allString = '{ \"index\" : { \"_index\" : \"topics\"} }\\n'\n",
    "    allString = allString + '{ \\\n",
    "        \"key\": '+ str(topics.at[index, 'key']) + ', \\\n",
    "        \"numberOfLessons\": '+  str(topics.at[index, 'numberOfLessons']) + ', \\\n",
    "        \"numberOfPCRs\": '+  str(topics.at[index, 'numberOfPCRs']) + ', \\\n",
    "        \"x\": '+  str(topics.at[index, 'x']) + ', \\\n",
    "        \"y\": '+  str(topics.at[index, 'y']) + ', \\\n",
    "        \"topWord\": \"'+ str(topics.at[index, 'topWord']) + '\", \\\n",
    "        \"adjacentTopics\": '+ str(topics.at[index, 'adjacentTopics']) + ', \\\n",
    "        \"keywords\": '+ str(topics.at[index, 'keywords']).replace(\"'\", '\"') +', \\\n",
    "        \"frequencies\": '+ str(topics.at[index, 'frequencies']) + ' \\\n",
    "    }\\n'\n",
    "    i = i + 1\n",
    "    f.write(allString)\n",
    "    f.close()"
   ]
  },
  {
   "cell_type": "code",
   "execution_count": null,
   "metadata": {},
   "outputs": [],
   "source": []
  }
 ],
 "metadata": {
  "celltoolbar": "Tags",
  "hide_input": false,
  "kernelspec": {
   "display_name": "py37",
   "language": "python",
   "name": "py37"
  },
  "language_info": {
   "codemirror_mode": {
    "name": "ipython",
    "version": 3
   },
   "file_extension": ".py",
   "mimetype": "text/x-python",
   "name": "python",
   "nbconvert_exporter": "python",
   "pygments_lexer": "ipython3",
   "version": "3.7.7"
  }
 },
 "nbformat": 4,
 "nbformat_minor": 4
}
