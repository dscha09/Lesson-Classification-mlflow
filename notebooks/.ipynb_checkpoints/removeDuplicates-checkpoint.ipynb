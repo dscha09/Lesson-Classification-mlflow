{
 "cells": [
  {
   "cell_type": "code",
   "execution_count": 84,
   "metadata": {},
   "outputs": [],
   "source": [
    "# -*- coding: utf-8 -*-\n",
    "\n",
    "import pandas as pd\n",
    "import numpy as np\n",
    "from ast import literal_eval\n",
    "import re\n",
    "import os\n",
    "import sys\n",
    "# reload(sys)\n",
    "# sys.setdefaultencoding('utf-8')\n"
   ]
  },
  {
   "cell_type": "markdown",
   "metadata": {},
   "source": [
    "# Forecasts Data"
   ]
  },
  {
   "cell_type": "code",
   "execution_count": 180,
   "metadata": {},
   "outputs": [],
   "source": [
    "forecastsFilename = '../data/merged_lessons_forecasted_data_reindex_20200226.xlsx'\n",
    "forecastsData = pd.read_excel(forecastsFilename)"
   ]
  },
  {
   "cell_type": "code",
   "execution_count": 181,
   "metadata": {},
   "outputs": [
    {
     "data": {
      "text/plain": [
       "array([nan, '[32710 32738 32724 32714  7941]',\n",
       "       '[16711 45808 35009 35418 35047]', ...,\n",
       "       '[58017 43424 14020 43446 18520]',\n",
       "       '[15479 42349 42343 57068 42369]',\n",
       "       '[42343 42346 57995 21817 54220]'], dtype=object)"
      ]
     },
     "execution_count": 181,
     "metadata": {},
     "output_type": "execute_result"
    }
   ],
   "source": [
    "forecastsData['related_lessons'].unique()"
   ]
  },
  {
   "cell_type": "code",
   "execution_count": 182,
   "metadata": {},
   "outputs": [],
   "source": [
    "forecastsData['annotatedBy'] = forecastsData['annotatedBy'].fillna(\"\")\n",
    "forecastsData['annotationTitle'] = forecastsData['annotationTitle'].fillna(\"\")\n",
    "forecastsData['machine generated'] = forecastsData['machine generated'].fillna(\"\")\n",
    "forecastsData['annotationSummary'] = forecastsData['annotationSummary'].fillna(\"\")\n",
    "forecastsData['lastAnnotated'] = forecastsData['lastAnnotated'].fillna(\"\")\n",
    "forecastsData['machine generated'] = forecastsData['machine generated'].fillna(\"\")\n",
    "forecastsData['Lesson Strength'] = forecastsData['Lesson Strength'].fillna(-1)\n",
    "forecastsData['topic'] = forecastsData['topic'].fillna(-1)\n",
    "forecastsData['topTopics'] = forecastsData['topTopics'].fillna(\"[]\")\n",
    "forecastsData['related_lessons'] = forecastsData['related_lessons'].fillna(\"[]\")"
   ]
  },
  {
   "cell_type": "code",
   "execution_count": 183,
   "metadata": {},
   "outputs": [],
   "source": [
    "related_lessons = forecastsData['related_lessons']"
   ]
  },
  {
   "cell_type": "code",
   "execution_count": 184,
   "metadata": {},
   "outputs": [],
   "source": [
    "updated_related_lessons = []\n",
    "for lessons in related_lessons:\n",
    "    if lessons == lessons:\n",
    "        updated_related_lessons.append(lessons.replace('  ', ' ').replace('[ ', '[').replace(' ]', ']').replace(' ', ', '))\n",
    "#         print(lessons.replace(' ', ', '))\n",
    "    else:\n",
    "        updated_related_lessons.append('[]')\n",
    "forecastsData['related_lessons'] = updated_related_lessons"
   ]
  },
  {
   "cell_type": "code",
   "execution_count": 185,
   "metadata": {},
   "outputs": [
    {
     "data": {
      "text/plain": [
       "array(['[]', '[32710, 32738, 32724, 32714, 7941]',\n",
       "       '[16711, 45808, 35009, 35418, 35047]', ...,\n",
       "       '[58017, 43424, 14020, 43446, 18520]',\n",
       "       '[15479, 42349, 42343, 57068, 42369]',\n",
       "       '[42343, 42346, 57995, 21817, 54220]'], dtype=object)"
      ]
     },
     "execution_count": 185,
     "metadata": {},
     "output_type": "execute_result"
    }
   ],
   "source": [
    "related_lessons.unique()"
   ]
  },
  {
   "cell_type": "code",
   "execution_count": 186,
   "metadata": {},
   "outputs": [],
   "source": [
    "# Converting dataframe to elasticsearch format\n",
    "i = 1\n",
    "for index, row in forecastsData.iterrows():\n",
    "    row['paragraph'] = re.sub(r'\\d{1,3}\\.\\s', '', str(row['paragraph']).replace('\\n', ' ').replace('\"', \"'\"))\n",
    "    f = None\n",
    "    if(i > 0 and i <= 20000):\n",
    "        f = open(folderName + \"sentences.\" + str(1) + \".elastic\", \"a+\")\n",
    "    elif(i > 20000 and i <= 40000):\n",
    "        f = open(folderName + \"sentences.\" + str(2) + \".elastic\", \"a+\")\n",
    "    elif(i > 40000 and i <= 60000):\n",
    "        f = open(folderName + \"sentences.\" + str(3) + \".elastic\", \"a+\")\n",
    "    elif(i > 60000 and i <= 80000):\n",
    "        f = open(folderName + \"sentences.\" + str(4) + \".elastic\", \"a+\")\n",
    "    elif(i > 80000 and i <= 100000):\n",
    "        f = open(folderName + \"sentences.\" + str(5) + \".elastic\", \"a+\")\n",
    "    allString = '{\"index\":{\"_id\": \"' + str(row['id']) +'\"}}\\n'\n",
    "    allString = allString + '{ \\\n",
    "        \"referenceId\": \"'+ str(row['reference_id']).zfill(20) + '\", \\\n",
    "        \"title\": \"'+ str(row['Title']).replace('\\n', ' ').replace('\"', \"'\") + '\", \\\n",
    "        \"paragraph\": \"'+ str(row['paragraph']) + '\", \\\n",
    "        \"themes\": '+ str(row['Themes']) + ', \\\n",
    "        \"sectors\": '+ str(row['Sectors']) + ', \\\n",
    "        \"countries\": '+ str(row['Countries']).replace('People\"', \"People'\") + ', \\\n",
    "        \"lessonStrength\": '+ str(row['Lesson Strength']) + ', \\\n",
    "        \"relatedLessons\": '+ str(row['related_lessons']) + ', \\\n",
    "        \"topic\": '+ str(row['topic']) + ', \\\n",
    "        \"topTopics\": '+ str(row['topTopics']) + ', \\\n",
    "        \"modalities\": '+ str(row['Modalities']).replace(\"'\", '\"') + ', \\\n",
    "        \"lessonType\": \"Self Evaluation\", \\\n",
    "        \"isLesson\": ' + str(row['isLesson']).lower() + ',  \\\n",
    "        \"month\": \"' + str(row['Month']) + '\",  \\\n",
    "        \"year\": ' + str(row['Year']) + ',  \\\n",
    "        \"annotationTitle\": \"' + str(row['annotationTitle']) + '\", \\\n",
    "        \"summary\": \"' + str(row['machine generated']).replace('\\n', ' ').replace('\"', \"'\").title() + '\", \\\n",
    "        \"context\": \"\",  \\\n",
    "        \"annotatedBy\": \"' + str(row['annotatedBy']) + '\", \\\n",
    "        \"annotationSummary\": \"' + str(row['annotationSummary']) + '\", \\\n",
    "        \"lastAnnotated\": \"' + str(row['lastAnnotated']) + '\", \\\n",
    "        \"annotationStatus\": \"' + str(row['annotationStatus']) + '\", \\\n",
    "        \"urlToFile\": \"' + str(row['Download Link']) + '\", \\\n",
    "        \"lastUpdated\": \"\",  \\\n",
    "        \"source\": \"PCR\" \\\n",
    "    }\\n'\n",
    "    i = i + 1\n",
    "    f.write(allString)\n",
    "    f.close()\n",
    "#     if(i==10000):\n",
    "#         break"
   ]
  },
  {
   "cell_type": "markdown",
   "metadata": {},
   "source": [
    "# Topics Data"
   ]
  },
  {
   "cell_type": "code",
   "execution_count": 177,
   "metadata": {},
   "outputs": [],
   "source": [
    "topicsFileName = '../data/topics_20200226.xlsx'\n",
    "topics = pd.read_excel(topicsFileName)"
   ]
  },
  {
   "cell_type": "code",
   "execution_count": 141,
   "metadata": {},
   "outputs": [
    {
     "data": {
      "text/plain": [
       "Index(['Unnamed: 0', 'Topic Number', 'Keywords', 'Keywords Frequencies',\n",
       "       'Number of Lessons', 'Number of PCRs', 'Top Word', 'x', 'y'],\n",
       "      dtype='object')"
      ]
     },
     "execution_count": 141,
     "metadata": {},
     "output_type": "execute_result"
    }
   ],
   "source": [
    "topics.columns"
   ]
  },
  {
   "cell_type": "code",
   "execution_count": 179,
   "metadata": {},
   "outputs": [],
   "source": [
    "for index, row in topics.iterrows():\n",
    "    f = open(\"../data/topics.elastic\", \"a+\")\n",
    "#     allString = '{\"index\":{\"_id\": \"' + str(row['Topic Number']) +'\"}}\\n'\n",
    "    allString = '{ \"index\" : { \"_index\" : \"topics\", \"_type\" : \"type1\" } }\\n'\n",
    "    allString = allString + '{ \\\n",
    "        \"key\": '+ str(topics.at[index, 'Topic Number']) + ', \\\n",
    "        \"numberOfLessons\": '+  str(topics.at[index, 'Number of Lessons']) + ', \\\n",
    "        \"numberOfPCRs\": '+  str(topics.at[index, 'Number of PCRs']) + ', \\\n",
    "        \"x\": '+  str(topics.at[index, 'x']) + ', \\\n",
    "        \"y\": '+  str(topics.at[index, 'y']) + ', \\\n",
    "        \"topWord\": \"'+ str(topics.at[index, 'Top Word']) + '\", \\\n",
    "        \"keywords\": '+ str(topics.at[index, 'Keywords']).replace(\"'\", '\"') +', \\\n",
    "        \"frequencies\": '+ str(topics.at[index, 'Keywords Frequencies']) + ' \\\n",
    "    }\\n'\n",
    "    i = i + 1\n",
    "    f.write(allString)\n",
    "    f.close()"
   ]
  },
  {
   "cell_type": "markdown",
   "metadata": {},
   "source": [
    "# PCRs Data"
   ]
  },
  {
   "cell_type": "code",
   "execution_count": null,
   "metadata": {},
   "outputs": [],
   "source": [
    "PCRsFileName = '../data/pcrs_2020-02-25.xlsx'\n",
    "PCRs = pd.read_excel(topicsFileName)"
   ]
  },
  {
   "cell_type": "code",
   "execution_count": null,
   "metadata": {},
   "outputs": [],
   "source": [
    "# Converting dataframe to elasticsearch format\n",
    "i = 1\n",
    "for index, row in PCRs.iterrows():\n",
    "    row['paragraph'] = re.sub(r'\\d{1,3}\\.\\s', '', str(row['paragraph']).replace('\\n', ' ').replace('\"', \"'\"))\n",
    "    f = None\n",
    "    if(i > 0 and i <= 20000):\n",
    "        f = open(folderName + \"pcrs.\" + str(1) + \".elastic\", \"a+\")\n",
    "    elif(i > 20000 and i <= 40000):\n",
    "        f = open(folderName + \"pcrs.\" + str(2) + \".elastic\", \"a+\")\n",
    "    allString = '{\"index\":{\"_id\": \"' + str(row['id']) +'\"}}\\n'\n",
    "    allString = allString + '{ \\\n",
    "        \"referenceId\": \"'+ str(row['reference_id']).zfill(20) + '\", \\\n",
    "        \"title\": \"'+ str(row['Title']).replace('\\n', ' ').replace('\"', \"'\") + '\", \\\n",
    "        \"paragraph\": \"'+ str(row['paragraph']) + '\", \\\n",
    "        \"themes\": '+ str(row['Themes']) + ', \\\n",
    "        \"sectors\": '+ str(row['Sectors']) + ', \\\n",
    "        \"countries\": '+ str(row['Countries']).replace('People\"', \"People'\") + ', \\\n",
    "        \"lessonStrength\": '+ str(row['Lesson Strength']) + ', \\\n",
    "        \"relatedLessons\": '+ str(row['related_lessons']) + ', \\\n",
    "        \"topic\": '+ str(row['topic']) + ', \\\n",
    "        \"topTopics\": '+ str(row['topTopics']) + ', \\\n",
    "        \"modalities\": '+ str(row['Modalities']).replace(\"'\", '\"') + ', \\\n",
    "        \"lessonType\": \"Self Evaluation\", \\\n",
    "        \"isLesson\": ' + str(row['isLesson']).lower() + ',  \\\n",
    "        \"month\": \"' + str(row['Month']) + '\",  \\\n",
    "        \"year\": ' + str(row['Year']) + ',  \\\n",
    "        \"annotationTitle\": \"' + str(row['annotationTitle']) + '\", \\\n",
    "        \"summary\": \"' + str(row['machine generated']).replace('\\n', ' ').replace('\"', \"'\").title() + '\", \\\n",
    "        \"context\": \"\",  \\\n",
    "        \"annotatedBy\": \"' + str(row['annotatedBy']) + '\", \\\n",
    "        \"annotationSummary\": \"' + str(row['annotationSummary']) + '\", \\\n",
    "        \"lastAnnotated\": \"' + str(row['lastAnnotated']) + '\", \\\n",
    "        \"annotationStatus\": \"' + str(row['annotationStatus']) + '\", \\\n",
    "        \"urlToFile\": \"' + str(row['Download Link']) + '\", \\\n",
    "        \"lastUpdated\": \"\",  \\\n",
    "        \"source\": \"PCR\" \\\n",
    "    }\\n'\n",
    "    i = i + 1\n",
    "    f.write(allString)\n",
    "    f.close()\n",
    "#     if(i==10000):\n",
    "#         break"
   ]
  }
 ],
 "metadata": {
  "kernelspec": {
   "display_name": "Python 3",
   "language": "python",
   "name": "python3"
  },
  "language_info": {
   "codemirror_mode": {
    "name": "ipython",
    "version": 3
   },
   "file_extension": ".py",
   "mimetype": "text/x-python",
   "name": "python",
   "nbconvert_exporter": "python",
   "pygments_lexer": "ipython3",
   "version": "3.7.2"
  }
 },
 "nbformat": 4,
 "nbformat_minor": 4
}
