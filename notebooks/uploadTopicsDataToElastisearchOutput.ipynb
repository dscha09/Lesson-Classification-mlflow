{
 "cells": [
  {
   "cell_type": "code",
   "execution_count": null,
   "metadata": {
    "ExecuteTime": {
     "end_time": "2020-03-23T07:24:26.949469Z",
     "start_time": "2020-03-23T07:24:26.602791Z"
    },
    "papermill": {
     "duration": 0.011473,
     "end_time": "2020-04-28T01:14:00.807774",
     "exception": false,
     "start_time": "2020-04-28T01:14:00.796301",
     "status": "completed"
    },
    "tags": []
   },
   "outputs": [],
   "source": []
  },
  {
   "cell_type": "code",
   "execution_count": 1,
   "metadata": {
    "papermill": {
     "duration": 0.015387,
     "end_time": "2020-04-28T01:14:00.832909",
     "exception": false,
     "start_time": "2020-04-28T01:14:00.817522",
     "status": "completed"
    },
    "tags": [
     "parameters"
    ]
   },
   "outputs": [],
   "source": [
    "env = \"staging\"\n",
    "ipAndPort = \"52.230.8.63:9200\"\n",
    "userName = \"elastic\"\n",
    "password = \"Welcometoerni!\""
   ]
  },
  {
   "cell_type": "code",
   "execution_count": 2,
   "metadata": {
    "papermill": {
     "duration": 0.015579,
     "end_time": "2020-04-28T01:14:00.855980",
     "exception": false,
     "start_time": "2020-04-28T01:14:00.840401",
     "status": "completed"
    },
    "tags": [
     "injected-parameters"
    ]
   },
   "outputs": [],
   "source": [
    "# Parameters\n",
    "ipAndPort = \"52.230.8.63:9200\"\n",
    "password = \"Welcometoerni!\"\n",
    "env = \"staging\"\n",
    "userName = \"elastic\"\n"
   ]
  },
  {
   "cell_type": "code",
   "execution_count": 3,
   "metadata": {
    "papermill": {
     "duration": 0.526714,
     "end_time": "2020-04-28T01:14:01.391280",
     "exception": false,
     "start_time": "2020-04-28T01:14:00.864566",
     "status": "completed"
    },
    "tags": []
   },
   "outputs": [
    {
     "name": "stdout",
     "output_type": "stream",
     "text": [
      "{\"acknowledged\":true}"
     ]
    }
   ],
   "source": [
    "! curl \\\n",
    "    -u \"$userName\":\"$password\" \\\n",
    "    -XDELETE \"$ipAndPort\"/topics"
   ]
  },
  {
   "cell_type": "code",
   "execution_count": 4,
   "metadata": {
    "papermill": {
     "duration": 1.232975,
     "end_time": "2020-04-28T01:14:02.632774",
     "exception": false,
     "start_time": "2020-04-28T01:14:01.399799",
     "status": "completed"
    },
    "tags": []
   },
   "outputs": [
    {
     "name": "stdout",
     "output_type": "stream",
     "text": [
      "{\"took\":886,\"errors\":true,\"items\":[{\"index\":{\"_index\":\"topics\",\"_type\":\"type1\",\"_id\":\"uuhZvnEBwu2iYiEiGE14\",\"status\":400,\"error\":{\"type\":\"illegal_argument_exception\",\"reason\":\"Rejecting mapping update to [topics] as the final mapping would have more than 1 type: [_doc, type1]\"}}},{\"index\":{\"_index\":\"topics\",\"_type\":\"type1\",\"_id\":\"u-hZvnEBwu2iYiEiGE14\",\"status\":400,\"error\":{\"type\":\"illegal_argument_exception\",\"reason\":\"Rejecting mapping update to [topics] as the final mapping would have more than 1 type: [_doc, type1]\"}}},{\"index\":{\"_index\":\"topics\",\"_type\":\"type1\",\"_id\":\"vOhZvnEBwu2iYiEiGE14\",\"status\":400,\"error\":{\"type\":\"illegal_argument_exception\",\"reason\":\"Rejecting mapping update to [topics] as the final mapping would have more than 1 type: [_doc, type1]\"}}},{\"index\":{\"_index\":\"topics\",\"_type\":\"type1\",\"_id\":\"vehZvnEBwu2iYiEiGE14\",\"status\":400,\"error\":{\"type\":\"illegal_argument_exception\",\"reason\":\"Rejecting mapping update to [topics] as the final mapping would have more than 1 type: [_doc, type1]\"}}},{\"index\":{\"_index\":\"topics\",\"_type\":\"type1\",\"_id\":\"vuhZvnEBwu2iYiEiGE14\",\"status\":400,\"error\":{\"type\":\"illegal_argument_exception\",\"reason\":\"Rejecting mapping update to [topics] as the final mapping would have more than 1 type: [_doc, type1]\"}}},{\"index\":{\"_index\":\"topics\",\"_type\":\"type1\",\"_id\":\"v-hZvnEBwu2iYiEiGE14\",\"status\":400,\"error\":{\"type\":\"illegal_argument_exception\",\"reason\":\"Rejecting mapping update to [topics] as the final mapping would have more than 1 type: [_doc, type1]\"}}},{\"index\":{\"_index\":\"topics\",\"_type\":\"type1\",\"_id\":\"wOhZvnEBwu2iYiEiGE14\",\"status\":400,\"error\":{\"type\":\"illegal_argument_exception\",\"reason\":\"Rejecting mapping update to [topics] as the final mapping would have more than 1 type: [_doc, type1]\"}}},{\"index\":{\"_index\":\"topics\",\"_type\":\"type1\",\"_id\":\"wehZvnEBwu2iYiEiGE14\",\"status\":400,\"error\":{\"type\":\"illegal_argument_exception\",\"reason\":\"Rejecting mapping update to [topics] as the final mapping would have more than 1 type: [_doc, type1]\"}}},{\"index\":{\"_index\":\"topics\",\"_type\":\"type1\",\"_id\":\"wuhZvnEBwu2iYiEiGE14\",\"status\":400,\"error\":{\"type\":\"illegal_argument_exception\",\"reason\":\"Rejecting mapping update to [topics] as the final mapping would have more than 1 type: [_doc, type1]\"}}},{\"index\":{\"_index\":\"topics\",\"_type\":\"type1\",\"_id\":\"w-hZvnEBwu2iYiEiGE14\",\"status\":400,\"error\":{\"type\":\"illegal_argument_exception\",\"reason\":\"Rejecting mapping update to [topics] as the final mapping would have more than 1 type: [_doc, type1]\"}}},{\"index\":{\"_index\":\"topics\",\"_type\":\"type1\",\"_id\":\"xOhZvnEBwu2iYiEiGE14\",\"status\":400,\"error\":{\"type\":\"illegal_argument_exception\",\"reason\":\"Rejecting mapping update to [topics] as the final mapping would have more than 1 type: [_doc, type1]\"}}},{\"index\":{\"_index\":\"topics\",\"_type\":\"type1\",\"_id\":\"xehZvnEBwu2iYiEiGE14\",\"status\":400,\"error\":{\"type\":\"illegal_argument_exception\",\"reason\":\"Rejecting mapping update to [topics] as the final mapping would have more than 1 type: [_doc, type1]\"}}},{\"index\":{\"_index\":\"topics\",\"_type\":\"type1\",\"_id\":\"xuhZvnEBwu2iYiEiGE14\",\"status\":400,\"error\":{\"type\":\"illegal_argument_exception\",\"reason\":\"Rejecting mapping update to [topics] as the final mapping would have more than 1 type: [_doc, type1]\"}}},{\"index\":{\"_index\":\"topics\",\"_type\":\"type1\",\"_id\":\"x-hZvnEBwu2iYiEiGE14\",\"status\":400,\"error\":{\"type\":\"illegal_argument_exception\",\"reason\":\"Rejecting mapping update to [topics] as the final mapping would have more than 1 type: [_doc, type1]\"}}}]}\r\n"
     ]
    }
   ],
   "source": [
    "! curl \\\n",
    "    -u \"$userName\":\"$password\" \\\n",
    "    -s -H \"Content-Type: application/x-ndjson\" \\\n",
    "    -XPOST \"$ipAndPort\"/sentences/_bulk --data-binary \"@../data/topics.ndjson\"; echo\n"
   ]
  },
  {
   "cell_type": "code",
   "execution_count": null,
   "metadata": {
    "papermill": {
     "duration": 0.007421,
     "end_time": "2020-04-28T01:14:02.649243",
     "exception": false,
     "start_time": "2020-04-28T01:14:02.641822",
     "status": "completed"
    },
    "tags": []
   },
   "outputs": [],
   "source": []
  }
 ],
 "metadata": {
  "celltoolbar": "Tags",
  "hide_input": false,
  "kernelspec": {
   "display_name": "py37",
   "language": "python",
   "name": "py37"
  },
  "language_info": {
   "codemirror_mode": {
    "name": "ipython",
    "version": 3
   },
   "file_extension": ".py",
   "mimetype": "text/x-python",
   "name": "python",
   "nbconvert_exporter": "python",
   "pygments_lexer": "ipython3",
   "version": "3.7.7"
  },
  "papermill": {
   "duration": 3.25904,
   "end_time": "2020-04-28T01:14:02.662482",
   "environment_variables": {},
   "exception": null,
   "input_path": "uploadTopicsDataToElastisearch.ipynb",
   "output_path": "uploadTopicsDataToElastisearchOutput.ipynb",
   "parameters": {
    "env": "staging",
    "ipAndPort": "52.230.8.63:9200",
    "password": "Welcometoerni!",
    "userName": "elastic"
   },
   "start_time": "2020-04-28T01:13:59.403442",
   "version": "2.0.0"
  }
 },
 "nbformat": 4,
 "nbformat_minor": 4
}