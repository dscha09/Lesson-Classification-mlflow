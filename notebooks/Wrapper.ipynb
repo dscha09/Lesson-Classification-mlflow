{
 "cells": [
  {
   "cell_type": "markdown",
   "metadata": {},
   "source": [
    "# Wrapper"
   ]
  },
  {
   "cell_type": "code",
   "execution_count": 10,
   "metadata": {},
   "outputs": [],
   "source": [
    "import datetime\n"
   ]
  },
  {
   "cell_type": "code",
   "execution_count": 51,
   "metadata": {},
   "outputs": [
    {
     "data": {
      "text/plain": [
       "'../../data/sentences-20200428'"
      ]
     },
     "execution_count": 51,
     "metadata": {},
     "output_type": "execute_result"
    }
   ],
   "source": [
    "oldDataFileName = \"../../data/sentences-\" + datetime.datetime.now().strftime(\"%Y%m%d\")\n",
    "oldDataFileName\n",
    "\n",
    "# topicsDataFileName = \"../../data/topics-\" + datetime.datetime.now().strftime(\"%Y%m%d\")\n",
    "# topicsDataFileName"
   ]
  },
  {
   "cell_type": "markdown",
   "metadata": {},
   "source": [
    "## Get data from elasticsearch"
   ]
  },
  {
   "cell_type": "code",
   "execution_count": 50,
   "metadata": {},
   "outputs": [
    {
     "name": "stdout",
     "output_type": "stream",
     "text": [
      "Input Notebook:  getData.ipynb\n",
      "Output Notebook: getDataOutput.ipynb\n",
      "Executing:   0%|                                        | 0/8 [00:00<?, ?cell/s]Executing notebook with kernel: py37\n",
      "Executing: 100%|████████████████████████████████| 8/8 [09:49<00:00, 73.65s/cell]\n"
     ]
    }
   ],
   "source": [
    "\"\"\"\n",
    "Default Parameters:\n",
    "    index = \"sentences\"\n",
    "    env = \"production\"\n",
    "    ipAndPort = \"52.163.240.214:9200\"\n",
    "    userName = \"elastic\"\n",
    "    password = \"Welcometoerni!\"\n",
    "    fileName = \"../data/\" + env + \"-\" + index + \"-\" + datetime.datetime.now().strftime(\"%Y%m%d\")\n",
    "\"\"\"\n",
    "index = \"sentences\"\n",
    "env = \"production\"\n",
    "ipAndPort = \"52.163.240.214:9200\"\n",
    "userName = \"elastic\"\n",
    "password = \"Welcometoerni!\"\n",
    "fileName = \"../data/\" + env + \"-\" + index + \"-\" + datetime.datetime.now().strftime(\"%Y%m%d\")\n",
    "\n",
    "! papermill getData.ipynb getDataOutput.ipynb \\\n",
    "-p index \"$index\" \\\n",
    "-p env \"$env\" \\\n",
    "-p ipAndPort \"$ipAndPort\" \\\n",
    "-p userName \"$userName\" \\\n",
    "-p password \"$password\" \\\n",
    "-p fileName \"$fileName\""
   ]
  },
  {
   "cell_type": "markdown",
   "metadata": {},
   "source": [
    "## Update annotations"
   ]
  },
  {
   "cell_type": "code",
   "execution_count": 53,
   "metadata": {},
   "outputs": [
    {
     "name": "stdout",
     "output_type": "stream",
     "text": [
      "Input Notebook:  updateAnnotations.ipynb\n",
      "Output Notebook: updateAnnotationsOutput.ipynb\n",
      "Executing:   0%|                                       | 0/12 [00:00<?, ?cell/s]Executing notebook with kernel: py35\n",
      "Executing: 100%|██████████████████████████████| 12/12 [01:44<00:00,  8.75s/cell]\n"
     ]
    }
   ],
   "source": [
    "\"\"\"\n",
    "Optional. Run if staging data needs to be updated by the current data in production\n",
    "Default Parameters:\n",
    "    fileName = fileName\n",
    "    oldDataFileName = \"../data/sentences-\" + datetime.datetime.now().strftime(\"%Y%m%d\")\n",
    "\"\"\"\n",
    "fileName = fileName\n",
    "oldDataFileName = \"../../data/sentences-\" + datetime.datetime.now().strftime(\"%Y%m%d\")\n",
    "\n",
    "! papermill updateAnnotations.ipynb updateAnnotationsOutput.ipynb \\\n",
    "-p fileName \"$fileName\" \\\n",
    "-p oldDataFileName \"$oldDataFileName\""
   ]
  },
  {
   "cell_type": "markdown",
   "metadata": {},
   "source": [
    "## Lessons classification"
   ]
  },
  {
   "cell_type": "code",
   "execution_count": null,
   "metadata": {},
   "outputs": [],
   "source": [
    "\"\"\"\n",
    "Optional. Run if lessons need to be re-classified\n",
    "Default Parameters:\n",
    "    \n",
    "\"\"\"\n",
    "\n",
    "! papermill runLessonsClassification.ipynb runLessonsClassificationOutput.ipynb"
   ]
  },
  {
   "cell_type": "markdown",
   "metadata": {},
   "source": [
    "## Lessons clustering"
   ]
  },
  {
   "cell_type": "code",
   "execution_count": null,
   "metadata": {},
   "outputs": [],
   "source": [
    "\"\"\"\n",
    "Optional. Run if lessons need to be re-clustered\n",
    "Default Parameters:\n",
    "    oldDataFileName = \"../data/sentences-\" + datetime.datetime.now().strftime(\"%Y%m%d\")\n",
    "    runFineTuning = False\n",
    "    numberOfTopics = 14\n",
    "    alpha=\"asymmetric\"\n",
    "    eta=0.91\n",
    "\"\"\"\n",
    "\n",
    "! papermill runLessonsClustering.ipynb runLessonslusteringOutput.ipynb \\\n",
    "-p oldDataFileName \"$oldDataFileName\" \\\n",
    "-p runFineTuning \"False\" \\\n",
    "-p numberOfTopics = 14 \\\n",
    "-p alpha=\"asymmetric\" \\\n",
    "-p eta=0.91"
   ]
  },
  {
   "cell_type": "markdown",
   "metadata": {},
   "source": [
    "## Lessons summarization"
   ]
  },
  {
   "cell_type": "code",
   "execution_count": null,
   "metadata": {},
   "outputs": [],
   "source": [
    "\"\"\"\n",
    "Optional. Run if lessons need to be re-summarized\n",
    "Default Parameters:\n",
    "    \n",
    "\"\"\"\n",
    "\n",
    "! papermill runLessonsSummarization.ipynb runLessonsSummarizationOutput.ipynb"
   ]
  },
  {
   "cell_type": "markdown",
   "metadata": {},
   "source": [
    "## Convert sentences data to NDJSON"
   ]
  },
  {
   "cell_type": "code",
   "execution_count": 54,
   "metadata": {},
   "outputs": [
    {
     "name": "stdout",
     "output_type": "stream",
     "text": [
      "Input Notebook:  sentencesDataToNDJSON.ipynb\n",
      "Output Notebook: sentencesDataToNDJSONOutput.ipynb\n",
      "Executing:   0%|                                        | 0/9 [00:00<?, ?cell/s]Executing notebook with kernel: py37\n",
      "Executing: 100%|████████████████████████████████| 9/9 [00:58<00:00,  6.50s/cell]\n"
     ]
    }
   ],
   "source": [
    "\"\"\"\n",
    "Default Parameters:\n",
    "    oldDataFileName = \"../data/sentences-\" + datetime.datetime.now().strftime(\"%Y%m%d\")\n",
    "\"\"\"\n",
    "\n",
    "! papermill sentencesDataToNDJSON.ipynb sentencesDataToNDJSONOutput.ipynb \\\n",
    "-p oldDataFileName \"$oldDataFileName\""
   ]
  },
  {
   "cell_type": "markdown",
   "metadata": {},
   "source": [
    "## Upload sentences data to elasticsearch"
   ]
  },
  {
   "cell_type": "code",
   "execution_count": null,
   "metadata": {},
   "outputs": [
    {
     "name": "stdout",
     "output_type": "stream",
     "text": [
      "Input Notebook:  uploadSentencesDataToElastisearch.ipynb\n",
      "Output Notebook: uploadSentencesDataToElastisearchOutput.ipynb\n",
      "Executing:   0%|                                        | 0/8 [00:00<?, ?cell/s]Executing notebook with kernel: py37\n",
      "Executing:  50%|████████████████                | 4/8 [00:01<00:04,  1.03s/cell]"
     ]
    }
   ],
   "source": [
    "\"\"\"\n",
    "Default Parameters:\n",
    "    env = \"staging\"\n",
    "    ipAndPort = \"52.230.8.63:9200\"\n",
    "    userName = \"elastic\"\n",
    "    password = \"Welcometoerni!\"\n",
    "\"\"\"\n",
    "env = \"staging\"\n",
    "# env = \"production\"\n",
    "ipAndPort = \"52.230.8.63:9200\"\n",
    "# ipAndPort = \"52.163.240.214:9 200\"\n",
    "userName = \"elastic\"\n",
    "password = \"Welcometoerni!\"\n",
    "\n",
    "! papermill uploadSentencesDataToElastisearch.ipynb uploadSentencesDataToElastisearchOutput.ipynb \\\n",
    "-p env \"$env\" \\\n",
    "-p ipAndPort \"$ipAndPort\" \\\n",
    "-p userName \"$userName\" \\\n",
    "-p password \"$password\""
   ]
  },
  {
   "cell_type": "markdown",
   "metadata": {},
   "source": [
    "## Convert topics data to NDJSON"
   ]
  },
  {
   "cell_type": "code",
   "execution_count": 49,
   "metadata": {},
   "outputs": [
    {
     "name": "stdout",
     "output_type": "stream",
     "text": [
      "Input Notebook:  topicsDataToNDJSON.ipynb\n",
      "Output Notebook: topicsDataToNDJSONOutput.ipynb\n",
      "Executing:   0%|                                        | 0/8 [00:00<?, ?cell/s]Executing notebook with kernel: py37\n",
      "Executing:  62%|████████████████████            | 5/8 [00:01<00:01,  2.62cell/s]\n",
      "Traceback (most recent call last):\n",
      "  File \"/Users/jraramirez/anaconda3/envs/py35/bin/papermill\", line 11, in <module>\n",
      "    sys.exit(papermill())\n",
      "  File \"/Users/jraramirez/anaconda3/envs/py35/lib/python3.5/site-packages/click/core.py\", line 829, in __call__\n",
      "    return self.main(*args, **kwargs)\n",
      "  File \"/Users/jraramirez/anaconda3/envs/py35/lib/python3.5/site-packages/click/core.py\", line 782, in main\n",
      "    rv = self.invoke(ctx)\n",
      "  File \"/Users/jraramirez/anaconda3/envs/py35/lib/python3.5/site-packages/click/core.py\", line 1066, in invoke\n",
      "    return ctx.invoke(self.callback, **ctx.params)\n",
      "  File \"/Users/jraramirez/anaconda3/envs/py35/lib/python3.5/site-packages/click/core.py\", line 610, in invoke\n",
      "    return callback(*args, **kwargs)\n",
      "  File \"/Users/jraramirez/anaconda3/envs/py35/lib/python3.5/site-packages/papermill/cli.py\", line 235, in papermill\n",
      "    execution_timeout=execution_timeout,\n",
      "  File \"/Users/jraramirez/anaconda3/envs/py35/lib/python3.5/site-packages/papermill/execute.py\", line 108, in execute_notebook\n",
      "    raise_for_execution_errors(nb, output_path)\n",
      "  File \"/Users/jraramirez/anaconda3/envs/py35/lib/python3.5/site-packages/papermill/execute.py\", line 194, in raise_for_execution_errors\n",
      "    raise error\n",
      "papermill.exceptions.PapermillExecutionError: \n",
      "---------------------------------------------------------------------------\n",
      "Exception encountered at \"In [4]\":\n",
      "---------------------------------------------------------------------------\n",
      "FileNotFoundError                         Traceback (most recent call last)\n",
      "<ipython-input-4-f2956f6ab415> in <module>\n",
      "----> 1 topics = pd.read_excel(topicsDataFileName + \".xlsx\")\n",
      "\n",
      "~/anaconda3/envs/py37/lib/python3.7/site-packages/pandas/util/_decorators.py in wrapper(*args, **kwargs)\n",
      "    206                 else:\n",
      "    207                     kwargs[new_arg_name] = new_arg_value\n",
      "--> 208             return func(*args, **kwargs)\n",
      "    209 \n",
      "    210         return wrapper\n",
      "\n",
      "~/anaconda3/envs/py37/lib/python3.7/site-packages/pandas/io/excel/_base.py in read_excel(io, sheet_name, header, names, index_col, usecols, squeeze, dtype, engine, converters, true_values, false_values, skiprows, nrows, na_values, keep_default_na, verbose, parse_dates, date_parser, thousands, comment, skip_footer, skipfooter, convert_float, mangle_dupe_cols, **kwds)\n",
      "    308 \n",
      "    309     if not isinstance(io, ExcelFile):\n",
      "--> 310         io = ExcelFile(io, engine=engine)\n",
      "    311     elif engine and engine != io.engine:\n",
      "    312         raise ValueError(\n",
      "\n",
      "~/anaconda3/envs/py37/lib/python3.7/site-packages/pandas/io/excel/_base.py in __init__(self, io, engine)\n",
      "    817         self._io = _stringify_path(io)\n",
      "    818 \n",
      "--> 819         self._reader = self._engines[engine](self._io)\n",
      "    820 \n",
      "    821     def __fspath__(self):\n",
      "\n",
      "~/anaconda3/envs/py37/lib/python3.7/site-packages/pandas/io/excel/_xlrd.py in __init__(self, filepath_or_buffer)\n",
      "     19         err_msg = \"Install xlrd >= 1.0.0 for Excel support\"\n",
      "     20         import_optional_dependency(\"xlrd\", extra=err_msg)\n",
      "---> 21         super().__init__(filepath_or_buffer)\n",
      "     22 \n",
      "     23     @property\n",
      "\n",
      "~/anaconda3/envs/py37/lib/python3.7/site-packages/pandas/io/excel/_base.py in __init__(self, filepath_or_buffer)\n",
      "    357             self.book = self.load_workbook(filepath_or_buffer)\n",
      "    358         elif isinstance(filepath_or_buffer, str):\n",
      "--> 359             self.book = self.load_workbook(filepath_or_buffer)\n",
      "    360         else:\n",
      "    361             raise ValueError(\n",
      "\n",
      "~/anaconda3/envs/py37/lib/python3.7/site-packages/pandas/io/excel/_xlrd.py in load_workbook(self, filepath_or_buffer)\n",
      "     34             return open_workbook(file_contents=data)\n",
      "     35         else:\n",
      "---> 36             return open_workbook(filepath_or_buffer)\n",
      "     37 \n",
      "     38     @property\n",
      "\n",
      "~/anaconda3/envs/py37/lib/python3.7/site-packages/xlrd/__init__.py in open_workbook(filename, logfile, verbosity, use_mmap, file_contents, encoding_override, formatting_info, on_demand, ragged_rows)\n",
      "    109     else:\n",
      "    110         filename = os.path.expanduser(filename)\n",
      "--> 111         with open(filename, \"rb\") as f:\n",
      "    112             peek = f.read(peeksz)\n",
      "    113     if peek == b\"PK\\x03\\x04\": # a ZIP file\n",
      "\n",
      "FileNotFoundError: [Errno 2] No such file or directory: '../../data/topics-20200428.xlsx'\n",
      "\n"
     ]
    }
   ],
   "source": [
    "\"\"\"\n",
    "Default Parameters:\n",
    "    topicsDataFileName = \"../data/topics-\" + datetime.datetime.now().strftime(\"%Y%m%d\")\n",
    "\"\"\"\n",
    "topicsDataFileName = \"../../data/topics-\" + datetime.datetime.now().strftime(\"%Y%m%d\")\n",
    "\n",
    "! papermill topicsDataToNDJSON.ipynb topicsDataToNDJSONOutput.ipynb \\\n",
    "-p topicsDataFileName \"$topicsDataFileName\""
   ]
  },
  {
   "cell_type": "markdown",
   "metadata": {},
   "source": [
    "## Upload topics data to elasticsearch"
   ]
  },
  {
   "cell_type": "code",
   "execution_count": 48,
   "metadata": {},
   "outputs": [
    {
     "name": "stdout",
     "output_type": "stream",
     "text": [
      "Input Notebook:  uploadTopicsDataToElastisearch.ipynb\n",
      "Output Notebook: uploadTopicsDataToElastisearchOutput.ipynb\n",
      "Executing:   0%|                                        | 0/6 [00:00<?, ?cell/s]Executing notebook with kernel: py37\n",
      "Executing: 100%|████████████████████████████████| 6/6 [00:03<00:00,  1.84cell/s]\n"
     ]
    }
   ],
   "source": [
    "\"\"\"\n",
    "Default Parameters:\n",
    "    env = \"staging\"\n",
    "    ipAndPort = \"52.230.8.63:9200\"\n",
    "    userName = \"elastic\"\n",
    "    password = \"Welcometoerni!\"\n",
    "\"\"\"\n",
    "env = \"staging\"\n",
    "ipAndPort = \"52.230.8.63:9200\"\n",
    "userName = \"elastic\"\n",
    "password = \"Welcometoerni!\"\n",
    "\n",
    "! papermill uploadTopicsDataToElastisearch.ipynb uploadTopicsDataToElastisearchOutput.ipynb \\\n",
    "-p env \"$env\" \\\n",
    "-p ipAndPort \"$ipAndPort\" \\\n",
    "-p userName \"$userName\" \\\n",
    "-p password \"$password\""
   ]
  },
  {
   "cell_type": "code",
   "execution_count": null,
   "metadata": {},
   "outputs": [],
   "source": []
  }
 ],
 "metadata": {
  "kernelspec": {
   "display_name": "py35",
   "language": "python",
   "name": "py35"
  },
  "language_info": {
   "codemirror_mode": {
    "name": "ipython",
    "version": 3
   },
   "file_extension": ".py",
   "mimetype": "text/x-python",
   "name": "python",
   "nbconvert_exporter": "python",
   "pygments_lexer": "ipython3",
   "version": "3.7.7"
  }
 },
 "nbformat": 4,
 "nbformat_minor": 4
}
