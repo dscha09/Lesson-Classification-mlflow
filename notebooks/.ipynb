{
 "cells": [
  {
   "cell_type": "code",
   "execution_count": 1,
   "metadata": {
    "ExecuteTime": {
     "end_time": "2020-03-23T06:31:22.024719Z",
     "start_time": "2020-03-23T06:31:00.181909Z"
    }
   },
   "outputs": [],
   "source": [
    "# \n",
    "import pandas as pd\n",
    "import re"
   ]
  },
  {
   "cell_type": "markdown",
   "metadata": {},
   "source": [
    "# Convert NDJSON"
   ]
  },
  {
   "cell_type": "code",
   "execution_count": 12,
   "metadata": {
    "ExecuteTime": {
     "end_time": "2020-03-23T07:19:56.422288Z",
     "start_time": "2020-03-23T07:19:42.678742Z"
    }
   },
   "outputs": [],
   "source": [
    "productionData = pd.DataFrame()\n",
    "paragraphs = []\n",
    "titles = []\n",
    "ids = []\n",
    "isLessons = []\n",
    "sources = []\n",
    "annotationTitles = []\n",
    "annotationStatuses = []\n",
    "annotationSummaries = []\n",
    "lastAnnotateds = []\n",
    "annotatedBys = []\n",
    "f = open(\"../data/sentences production 20200320.json\", \"r\")\n",
    "\n",
    "startTextParagraph = '\"paragraph\":\"'\n",
    "endTextParagraph = '\",\"themes\"'\n",
    "\n",
    "startTextId = '\"_id\":\"'\n",
    "endTextId = '\",\"_score\"'\n",
    "\n",
    "# startTextThemes = '\"themes\":'\n",
    "# endTextThemes = ',\"sectors\":'\n",
    "\n",
    "# startTextSectors = ',\"sectors\":'\n",
    "# endTextSectors = ',\"countries\":'\n",
    "\n",
    "# startTextCountries = ',\"countries\":'\n",
    "# endTextCountries = ',\"lessonStrength\":'\n",
    "\n",
    "\n",
    "startTextIsLesson = '\"isLesson\":'\n",
    "endTextIsLesson = ',\"month\":\"'\n",
    "\n",
    "\n",
    "# c = 0\n",
    "for line in f.readlines():\n",
    "#     c = c + 1\n",
    "#     print(c)\n",
    "\n",
    "    startTextATitle = '\"annotationTitle\":\"'\n",
    "    endTextAtitle = '\",\"summary\":'\n",
    "\n",
    "    startTextASummary = '\"annotationSummary\":\"'\n",
    "    endTextASummary = '\",\"lastAnnotated\":'\n",
    "\n",
    "    startTextAStatus = '\"annotationStatus\":\"'\n",
    "    endTextAStatus = '\",\"urlToFile\":'\n",
    "\n",
    "    startTextALast = '\"lastAnnotated\":\"'\n",
    "    endTextALast = '\",\"annotationStatus\":'\n",
    "\n",
    "    startTextABy = 'annotatedBy\":\"'\n",
    "    endTextABy = '\",\"context\":'\n",
    "    \n",
    "    startTextSource = '\"source\":\"'\n",
    "    endTextSource = '\"}}'\n",
    "    \n",
    "    startTextTitle = '\"title\":\"'\n",
    "    endTextTitle = '\",\"paragraph\":'\n",
    "    \n",
    "    paragraph = line[line.index(startTextParagraph) + 13: line.index(endTextParagraph)]\n",
    "    title = line[line.index(startTextTitle) + len(startTextTitle): line.index(endTextTitle)]\n",
    "    paragraphId = line[line.index(startTextId) + 7: line.index(endTextId)]\n",
    "    isLesson = line[line.index(startTextIsLesson) + 11: line.index(endTextIsLesson)]\n",
    "    annotationStatus = line[line.index(startTextAStatus) + len(startTextAStatus): line.index(endTextAStatus)]\n",
    "    \n",
    "    if(not startTextATitle in line):\n",
    "        annotationTitle = \"\"\n",
    "    else:\n",
    "        annotationTitle = line[line.index(startTextATitle) + len(startTextATitle): line.index(endTextAtitle)]\n",
    "        \n",
    "    if(not startTextASummary in line):\n",
    "        annotationSummary = \"\"\n",
    "    else:\n",
    "        annotationSummary = line[line.index(startTextASummary) + len(startTextASummary): line.index(endTextASummary)]\n",
    "        \n",
    "    if(not startTextALast in line):\n",
    "        lastAnnotated = \"\"\n",
    "    else:\n",
    "        lastAnnotated = line[line.index(startTextALast) + len(startTextALast): line.index(endTextALast)]\n",
    "\n",
    "    if(not startTextABy in line):\n",
    "        annotatedBy = \"\"\n",
    "    else:\n",
    "        indexEndTextABy = line.index(endTextABy)\n",
    "        indexStartTextABy = line.index(startTextABy)\n",
    "        if(indexEndTextABy < indexStartTextABy):\n",
    "            endTextABy = '\",\"annotationSummary\":'\n",
    "            indexEndTextABy = line.index(endTextABy)           \n",
    "        annotatedBy = line[indexStartTextABy + len(startTextABy): indexEndTextABy]\n",
    "    \n",
    "    if(not endTextSource in line):\n",
    "        endTextSource = '\",\"validatedBy\"'\n",
    "    source = line[line.index(startTextSource) + 10: line.index(endTextSource)]\n",
    "    \n",
    "    paragraphs.append(paragraph)\n",
    "    titles.append(title)\n",
    "    annotationTitles.append(annotationTitle)\n",
    "    annotationSummaries.append(annotationSummary)\n",
    "    lastAnnotateds.append(lastAnnotated)\n",
    "    annotatedBys.append(annotatedBy)\n",
    "    annotationStatuses.append(annotationStatus)\n",
    "    ids.append(paragraphId)\n",
    "    isLessons.append(isLesson)\n",
    "    sources.append(source)\n",
    "f.close()\n",
    "\n",
    "productionData['paragraph'] = paragraphs\n",
    "productionData['title'] = titles\n",
    "productionData['id'] = ids\n",
    "productionData['isLesson'] = isLessons\n",
    "productionData['source'] = sources\n",
    "productionData['annotationTitle'] = annotationTitles\n",
    "productionData['annotationSummary'] = annotationSummaries\n",
    "productionData['annotationStatus'] = annotationStatuses\n",
    "productionData['lastAnnotated'] = lastAnnotateds\n",
    "productionData['annotatedBy'] = annotatedBys\n",
    "productionData.to_excel('../data/production_data_20200320.xlsx')"
   ]
  },
  {
   "cell_type": "markdown",
   "metadata": {},
   "source": [
    "# Old Data"
   ]
  },
  {
   "cell_type": "code",
   "execution_count": 13,
   "metadata": {
    "ExecuteTime": {
     "end_time": "2020-03-23T07:22:50.134672Z",
     "start_time": "2020-03-23T07:22:33.729891Z"
    }
   },
   "outputs": [
    {
     "name": "stdout",
     "output_type": "stream",
     "text": [
      "55368\n",
      "Index(['Unnamed: 0', 'Unnamed: 0.1', 'Countries', 'Download Link',\n",
      "       'File Names', 'Lesson Type', 'Month', 'Project Number', 'Sectors',\n",
      "       'Themes', 'Title', 'Year', 'annotatedBy', 'annotationStatus',\n",
      "       'annotationSummary', 'annotationTitle', 'dataSource', 'id', 'isLesson',\n",
      "       'lastAnnotated', 'paragraph', 'source', 'reference_id', 'Modalities',\n",
      "       'machine generated', 'source_lesson', 'related_lessons',\n",
      "       'Lesson Strength', 'topic', 'topTopics'],\n",
      "      dtype='object')\n"
     ]
    }
   ],
   "source": [
    "df = pd.read_excel(\"../data/merged_lessons_forecasted_data_reindex_deduped_20200320.xlsx\")\n",
    "# df = df.rename(columns={\"Sentence\": \"paragraph\"})\n",
    "print(len(df))\n",
    "print(df.columns)"
   ]
  },
  {
   "cell_type": "markdown",
   "metadata": {},
   "source": [
    "# Production data"
   ]
  },
  {
   "cell_type": "code",
   "execution_count": 14,
   "metadata": {
    "ExecuteTime": {
     "end_time": "2020-03-23T07:22:58.337997Z",
     "start_time": "2020-03-23T07:22:52.713879Z"
    }
   },
   "outputs": [],
   "source": [
    "productionData = pd.read_excel(\"../data/production_data_20200320.xlsx\")"
   ]
  },
  {
   "cell_type": "code",
   "execution_count": 15,
   "metadata": {
    "ExecuteTime": {
     "end_time": "2020-03-23T07:23:11.161694Z",
     "start_time": "2020-03-23T07:23:10.915125Z"
    }
   },
   "outputs": [
    {
     "data": {
      "text/plain": [
       "array([nan, 'Ueda, Tomoo', 'Jovellanos, Jerome', 'Sandhu, Sonia Chand ',\n",
       "       'Shimako Takahashi', 'Sonia Chand Sandhu ', 'Subramaniam Nathan',\n",
       "       'Bloom. Erik', 'Bano, Alfredo', 'Perdana, Ari',\n",
       "       'Sandhu, Sonia Chand', 'Hauck, Lauren', 'Mike Diza', 'Kim, Eungji',\n",
       "       'Diza, Mike', 'Sonia Chand Sandhu', 'Morales Alvin', 'Bloom, Erik',\n",
       "       'Bano, Leal', 'Ueda, Tonmoo', ' Sandhu, Sonia Chand',\n",
       "       'Sandhu. Sonia Chand ', 'Erik Bloom', 'kolkma, walter',\n",
       "       'Somma, Simona', 'Mike', 'Simona Somma', 'Takahashi, Shimako',\n",
       "       'Brubaker, Andrew', 'Villena, Serge', 'Toshiyuki Yokota', 'sash',\n",
       "       'Toshiyuki Yokota '], dtype=object)"
      ]
     },
     "execution_count": 15,
     "metadata": {},
     "output_type": "execute_result"
    }
   ],
   "source": [
    "productionData['annotatedBy'].unique()"
   ]
  },
  {
   "cell_type": "markdown",
   "metadata": {},
   "source": [
    "# Get data with annotations"
   ]
  },
  {
   "cell_type": "code",
   "execution_count": 16,
   "metadata": {
    "ExecuteTime": {
     "end_time": "2020-03-23T07:23:16.688514Z",
     "start_time": "2020-03-23T07:23:16.409554Z"
    }
   },
   "outputs": [
    {
     "name": "stdout",
     "output_type": "stream",
     "text": [
      "359\n",
      "359\n",
      "['2/4/2020 9:15:38 AM' '2/25/2020 7:59:18 AM' '2/7/2020 7:54:08 AM'\n",
      " '2/25/2020 7:47:16 AM' '2/19/2020 12:25:32 AM' '2/19/2020 3:48:20 AM'\n",
      " '2/17/2020 12:54:03 PM' '2/11/2020 7:48:33 AM' '2/8/2020 11:53:41 AM'\n",
      " '2/8/2020 8:17:24 AM' '2/7/2020 8:44:33 AM' '2/7/2020 7:28:06 AM'\n",
      " '2/4/2020 9:15:19 AM' '2/3/2020 6:06:59 AM' '1/31/2020 6:12:56 AM'\n",
      " '1/31/2020 5:33:26 AM' '1/27/2020 9:34:48 AM' '1/31/2020 3:43:58 AM'\n",
      " '1/31/2020 3:24:55 AM' '1/30/2020 10:13:27 AM' '1/30/2020 1:16:42 AM'\n",
      " '1/27/2020 6:57:39 AM' '3/11/2020 5:53:23 AM' '3/18/2020 10:22:06 AM'\n",
      " '3/18/2020 10:25:32 AM' '3/18/2020 10:26:17 AM' '2/19/2020 12:44:25 AM'\n",
      " '2/26/2020 8:25:59 AM' '2/25/2020 6:34:46 AM' '2/26/2020 6:21:17 AM'\n",
      " '2/26/2020 6:11:09 AM' '2/26/2020 6:02:19 AM' '2/25/2020 3:20:51 AM'\n",
      " '2/26/2020 5:56:18 AM' '2/25/2020 3:18:39 AM' '2/26/2020 5:39:15 AM'\n",
      " '2/19/2020 3:51:20 AM' '2/19/2020 3:49:09 AM' '2/19/2020 3:48:45 AM'\n",
      " '2/23/2020 11:54:04 PM' '2/23/2020 11:52:51 PM' '2/19/2020 3:43:50 AM'\n",
      " '2/23/2020 11:27:37 PM' '2/19/2020 2:06:15 AM' '2/19/2020 2:05:08 AM'\n",
      " '2/18/2020 3:00:28 AM' '2/18/2020 2:59:18 AM' '2/18/2020 2:57:55 AM'\n",
      " '2/18/2020 2:57:20 AM' '2/18/2020 2:56:51 AM' '2/18/2020 2:56:15 AM'\n",
      " '2/18/2020 2:52:13 AM' '2/18/2020 2:50:10 AM' '2/18/2020 2:49:45 AM'\n",
      " '2/18/2020 2:48:29 AM' '2/18/2020 2:46:44 AM' '2/17/2020 1:21:41 PM'\n",
      " '2/17/2020 1:04:20 PM' '2/17/2020 12:55:11 PM' '2/17/2020 12:54:39 PM'\n",
      " '2/17/2020 12:29:57 PM' '2/17/2020 12:29:34 PM' '2/17/2020 12:28:57 PM'\n",
      " '2/17/2020 12:28:16 PM' '2/17/2020 12:27:07 PM' '2/14/2020 3:37:17 AM'\n",
      " '2/13/2020 9:16:54 AM' '2/11/2020 6:36:00 AM' '2/8/2020 12:10:38 PM'\n",
      " '2/8/2020 12:10:04 PM' '2/8/2020 12:09:30 PM' '2/8/2020 12:08:50 PM'\n",
      " '2/8/2020 12:08:03 PM' '2/8/2020 12:04:49 PM' '2/8/2020 11:56:10 AM'\n",
      " '2/8/2020 11:55:40 AM' '2/8/2020 11:55:07 AM' '2/8/2020 11:54:32 AM'\n",
      " '2/8/2020 8:31:49 AM' '2/8/2020 8:30:54 AM' '2/8/2020 8:29:45 AM'\n",
      " '2/8/2020 8:29:22 AM' '2/8/2020 8:28:11 AM' '2/8/2020 8:27:46 AM'\n",
      " '2/8/2020 8:26:40 AM' '2/8/2020 8:25:20 AM' '2/8/2020 8:24:29 AM'\n",
      " '2/8/2020 8:20:57 AM' '2/8/2020 8:16:45 AM' '2/8/2020 8:13:37 AM'\n",
      " '2/8/2020 8:13:03 AM' '2/8/2020 8:12:17 AM' '2/8/2020 8:07:44 AM'\n",
      " '2/8/2020 8:04:30 AM' '2/8/2020 11:43:55 AM' '2/7/2020 10:31:49 AM'\n",
      " '2/7/2020 10:25:09 AM' '2/7/2020 8:44:59 AM' '2/7/2020 8:44:22 AM'\n",
      " '2/7/2020 8:43:47 AM' '2/7/2020 8:43:05 AM' '2/7/2020 8:40:04 AM'\n",
      " '2/7/2020 8:39:50 AM' '2/7/2020 8:37:58 AM' '2/7/2020 8:37:48 AM'\n",
      " '2/7/2020 8:35:30 AM' '2/7/2020 8:33:29 AM' '2/7/2020 7:43:37 AM'\n",
      " '2/6/2020 7:11:28 AM' '2/6/2020 7:10:47 AM' '2/6/2020 2:35:42 AM'\n",
      " '2/6/2020 2:29:05 AM' '2/6/2020 1:32:22 AM' '2/5/2020 12:55:53 PM'\n",
      " '2/4/2020 9:18:02 AM' '2/4/2020 9:17:39 AM' '2/4/2020 9:17:08 AM'\n",
      " '2/4/2020 9:16:45 AM' '2/4/2020 9:14:56 AM' '2/4/2020 9:14:35 AM'\n",
      " '2/4/2020 9:12:13 AM' '2/4/2020 9:10:51 AM' '2/5/2020 12:10:47 PM'\n",
      " '2/4/2020 6:49:22 AM' '2/4/2020 2:16:14 AM' '2/3/2020 7:28:34 AM'\n",
      " '2/3/2020 7:27:23 AM' '2/3/2020 6:22:19 AM' '2/4/2020 9:09:34 AM'\n",
      " '2/4/2020 9:09:04 AM' '2/3/2020 5:45:49 AM' '2/4/2020 6:11:13 AM'\n",
      " '2/4/2020 9:07:49 AM' '1/31/2020 9:06:56 AM' '1/31/2020 12:52:20 PM'\n",
      " '1/31/2020 6:15:47 AM' '1/31/2020 6:14:54 AM' '1/31/2020 6:14:13 AM'\n",
      " '1/31/2020 6:11:24 AM' '1/31/2020 6:10:44 AM' '1/31/2020 6:09:53 AM'\n",
      " '1/31/2020 6:05:29 AM' '1/31/2020 5:50:05 AM' '1/31/2020 5:47:12 AM'\n",
      " '1/31/2020 5:45:25 AM' '1/31/2020 5:42:26 AM' '1/31/2020 5:36:22 AM'\n",
      " '1/31/2020 5:35:35 AM' '1/31/2020 5:32:26 AM' '1/31/2020 5:31:41 AM'\n",
      " '1/31/2020 5:31:01 AM' '1/31/2020 5:30:19 AM' '1/31/2020 5:29:33 AM'\n",
      " '1/31/2020 5:28:42 AM' '1/31/2020 5:27:09 AM' '1/31/2020 5:25:44 AM'\n",
      " '1/31/2020 5:22:06 AM' '1/31/2020 5:19:01 AM' '1/31/2020 5:16:54 AM'\n",
      " '1/27/2020 8:54:19 AM' '1/31/2020 5:11:36 AM' '1/31/2020 5:10:58 AM'\n",
      " '1/31/2020 5:10:14 AM' '1/31/2020 3:56:05 AM' '1/31/2020 3:55:18 AM'\n",
      " '1/27/2020 8:53:27 AM' '1/31/2020 3:53:11 AM' '1/31/2020 3:48:40 AM'\n",
      " '1/31/2020 3:42:32 AM' '1/31/2020 3:38:20 AM' '1/31/2020 3:31:27 AM'\n",
      " '1/27/2020 7:21:28 AM' '1/31/2020 3:30:09 AM' '1/31/2020 3:29:19 AM'\n",
      " '1/31/2020 3:28:30 AM' '1/31/2020 3:27:38 AM' '1/31/2020 3:26:50 AM'\n",
      " '1/27/2020 7:20:34 AM' '1/31/2020 3:17:45 AM' '1/31/2020 3:16:43 AM'\n",
      " '1/31/2020 3:16:00 AM' '1/31/2020 3:14:37 AM' '1/27/2020 7:18:18 AM'\n",
      " '1/31/2020 3:12:06 AM' '1/31/2020 3:06:15 AM' '1/27/2020 7:16:24 AM'\n",
      " '1/31/2020 3:04:13 AM' '1/30/2020 10:17:14 AM' '1/27/2020 7:15:33 AM'\n",
      " '1/30/2020 10:19:51 AM' '1/30/2020 9:50:47 AM' '1/30/2020 7:56:09 AM'\n",
      " '1/27/2020 7:14:13 AM' '1/30/2020 8:17:09 AM' '1/27/2020 7:12:58 AM'\n",
      " '1/30/2020 6:25:05 AM' '1/30/2020 6:24:08 AM' '1/27/2020 7:03:45 AM'\n",
      " '1/30/2020 5:25:53 AM' '1/27/2020 7:00:58 AM' '1/30/2020 5:24:01 AM'\n",
      " '1/27/2020 7:00:08 AM' '1/30/2020 4:49:06 AM' '1/27/2020 6:59:05 AM'\n",
      " '1/27/2020 6:58:44 AM' '1/30/2020 3:53:35 AM' '1/30/2020 3:52:27 AM'\n",
      " '1/30/2020 2:49:58 AM' '1/30/2020 4:46:39 AM' '1/30/2020 1:52:05 AM'\n",
      " '1/27/2020 6:56:51 AM' '1/27/2020 6:50:50 AM' '1/30/2020 1:49:51 AM'\n",
      " '1/27/2020 6:49:52 AM' '3/10/2020 3:01:47 PM' '3/10/2020 3:00:45 PM'\n",
      " '3/6/2020 5:43:05 AM' '1/27/2020 6:47:59 AM' '2/28/2020 8:39:59 AM'\n",
      " '2/28/2020 8:44:27 AM' '2/28/2020 8:32:03 AM' '2/28/2020 8:47:26 AM'\n",
      " '2/28/2020 8:47:08 AM' '2/28/2020 8:45:49 AM' '2/28/2020 8:45:26 AM'\n",
      " '2/28/2020 8:45:07 AM' '3/9/2020 3:05:26 AM' '3/9/2020 6:19:06 AM'\n",
      " '2/26/2020 8:46:53 AM' '2/26/2020 8:46:25 AM' '2/26/2020 8:41:23 AM'\n",
      " '2/14/2020 1:04:13 AM' '2/11/2020 6:56:05 AM' '2/12/2020 3:00:44 AM'\n",
      " '2/12/2020 3:00:06 AM' '2/11/2020 7:06:53 AM' '2/11/2020 7:02:33 AM'\n",
      " '2/11/2020 6:59:23 AM' '2/11/2020 6:56:49 AM' '2/6/2020 7:29:05 AM'\n",
      " '2/11/2020 7:01:09 AM' '2/11/2020 7:00:11 AM' '2/11/2020 6:59:14 AM'\n",
      " '2/25/2020 7:52:40 AM' '2/25/2020 7:11:24 AM' '2/13/2020 2:08:40 AM'\n",
      " '2/13/2020 2:07:53 AM' '2/13/2020 2:05:48 AM' '2/13/2020 2:05:30 AM'\n",
      " '2/13/2020 2:04:47 AM' '2/13/2020 2:03:48 AM' '2/26/2020 8:29:29 AM'\n",
      " '2/25/2020 6:51:18 AM' '2/25/2020 6:48:33 AM' '2/26/2020 8:00:05 AM'\n",
      " '2/26/2020 7:59:33 AM' '2/25/2020 6:30:34 AM' '2/25/2020 6:30:10 AM'\n",
      " '2/26/2020 6:20:01 AM' '2/26/2020 6:14:09 AM' '2/13/2020 2:02:19 AM'\n",
      " '2/13/2020 2:01:22 AM' '2/11/2020 7:31:04 AM' '2/11/2020 7:26:17 AM'\n",
      " '2/11/2020 7:25:49 AM' '2/11/2020 7:25:07 AM' '2/25/2020 3:24:38 AM'\n",
      " '2/11/2020 7:24:01 AM' '2/25/2020 3:24:10 AM' '3/6/2020 7:51:48 AM'\n",
      " '3/9/2020 6:24:16 AM' '3/11/2020 12:32:34 AM' '3/9/2020 6:23:42 AM'\n",
      " '3/9/2020 6:23:18 AM' '3/9/2020 6:23:10 AM' '3/9/2020 6:23:02 AM'\n",
      " '3/9/2020 6:22:54 AM' '3/9/2020 6:22:10 AM' '3/9/2020 6:22:03 AM'\n",
      " '3/9/2020 6:21:56 AM' '3/9/2020 6:21:49 AM' '3/9/2020 6:21:44 AM'\n",
      " '3/9/2020 6:21:38 AM' '3/9/2020 6:21:23 AM' '3/9/2020 6:20:16 AM'\n",
      " '3/9/2020 6:20:31 AM' '3/9/2020 6:18:19 AM' '3/9/2020 6:18:05 AM'\n",
      " '3/9/2020 6:17:25 AM' '3/10/2020 11:21:09 PM' '2/25/2020 2:50:21 AM'\n",
      " '3/9/2020 6:16:49 AM' '3/9/2020 6:16:25 AM' '3/6/2020 7:15:01 AM'\n",
      " '3/6/2020 7:14:46 AM' '3/6/2020 7:14:34 AM' '3/6/2020 7:14:17 AM'\n",
      " '3/6/2020 7:07:07 AM' '3/6/2020 7:06:45 AM' '3/6/2020 7:06:29 AM'\n",
      " '3/6/2020 7:06:06 AM' '3/6/2020 7:02:22 AM' '3/6/2020 7:01:48 AM'\n",
      " '3/6/2020 7:01:33 AM' '3/6/2020 7:01:16 AM' '3/6/2020 6:59:40 AM'\n",
      " '3/6/2020 6:59:09 AM' '3/6/2020 6:58:53 AM' '3/6/2020 6:55:35 AM'\n",
      " '3/6/2020 6:54:59 AM' '3/6/2020 6:53:48 AM' '3/10/2020 4:20:21 AM'\n",
      " '3/6/2020 6:51:53 AM' '1/27/2020 9:39:41 AM' '1/27/2020 9:40:20 AM'\n",
      " '1/27/2020 9:39:58 AM' '1/27/2020 9:41:00 AM' '1/27/2020 9:40:37 AM'\n",
      " '1/28/2020 6:13:19 AM' '1/28/2020 6:13:40 AM' '1/28/2020 6:13:54 AM'\n",
      " '1/28/2020 6:14:13 AM' '1/28/2020 6:13:02 AM' '1/28/2020 6:18:59 AM'\n",
      " '1/30/2020 8:53:47 AM' '3/6/2020 7:52:31 AM' '3/6/2020 7:57:03 AM'\n",
      " '3/6/2020 7:56:37 AM' '3/6/2020 7:53:29 AM' '3/9/2020 3:10:38 AM'\n",
      " '3/9/2020 3:10:22 AM' '3/9/2020 3:06:11 AM' '3/9/2020 3:05:46 AM'\n",
      " '3/9/2020 3:04:39 AM' '3/9/2020 3:03:35 AM' '3/9/2020 3:03:12 AM'\n",
      " '3/9/2020 3:02:47 AM' '3/9/2020 7:07:59 AM' '3/9/2020 7:07:43 AM'\n",
      " '3/11/2020 7:59:53 AM' '3/11/2020 7:59:17 AM' '3/11/2020 7:39:56 AM'\n",
      " '3/11/2020 7:36:40 AM' '3/11/2020 7:35:01 AM' '3/11/2020 7:34:22 AM'\n",
      " '3/11/2020 7:11:04 AM' '3/11/2020 6:02:29 AM' '3/11/2020 6:01:03 AM'\n",
      " '3/11/2020 5:59:44 AM' '3/11/2020 5:58:26 AM' '3/11/2020 5:57:00 AM'\n",
      " '3/11/2020 5:56:23 AM' '3/11/2020 5:55:45 AM' '3/11/2020 7:10:31 AM'\n",
      " '3/11/2020 5:54:52 AM' '3/11/2020 5:54:01 AM' '3/18/2020 11:05:24 AM'\n",
      " '3/18/2020 11:06:51 AM']\n"
     ]
    }
   ],
   "source": [
    "productionDataWithAnnotations = productionData[productionData['annotationStatus'] != 'draft']\n",
    "print(len(productionDataWithAnnotations))\n",
    "productionDataWithAnnotations = productionDataWithAnnotations[productionDataWithAnnotations['lastAnnotated'] != '']\n",
    "print(len(productionDataWithAnnotations))\n",
    "print(productionDataWithAnnotations['lastAnnotated'].unique())"
   ]
  },
  {
   "cell_type": "code",
   "execution_count": 8,
   "metadata": {
    "ExecuteTime": {
     "end_time": "2020-03-20T03:08:29.434712Z",
     "start_time": "2020-03-20T03:08:28.750228Z"
    }
   },
   "outputs": [
    {
     "data": {
      "text/plain": [
       "0"
      ]
     },
     "execution_count": 8,
     "metadata": {},
     "output_type": "execute_result"
    }
   ],
   "source": [
    "count = 0\n",
    "for idOfUpdated in productionDataWithAnnotations['id'].tolist():\n",
    "    if idOfUpdated in df['id'].tolist():\n",
    "        count = count + 1\n",
    "count"
   ]
  },
  {
   "cell_type": "code",
   "execution_count": 9,
   "metadata": {
    "ExecuteTime": {
     "end_time": "2020-03-20T03:08:42.691811Z",
     "start_time": "2020-03-20T03:08:42.683032Z"
    }
   },
   "outputs": [
    {
     "data": {
      "text/plain": [
       "354"
      ]
     },
     "execution_count": 9,
     "metadata": {},
     "output_type": "execute_result"
    }
   ],
   "source": [
    "dfWithAnnotations = df[df['annotationStatus'] != 'draft']\n",
    "len(dfWithAnnotations)"
   ]
  },
  {
   "cell_type": "code",
   "execution_count": 17,
   "metadata": {
    "ExecuteTime": {
     "end_time": "2020-03-23T07:23:34.373058Z",
     "start_time": "2020-03-23T07:23:24.243367Z"
    }
   },
   "outputs": [],
   "source": [
    "for index, row in productionDataWithAnnotations.iterrows():\n",
    "    index = int(row['id'])\n",
    "    df.loc[df['id'] == index, 'annotationStatus'] = row['annotationStatus']\n",
    "    df.loc[df['id'] == index, 'annotatedBy'] = row['annotatedBy']\n",
    "    df.loc[df['id'] == index, 'annotationTitle'] = row['annotationTitle']\n",
    "    df.loc[df['id'] == index, 'annotationSummary'] = row['annotationSummary']\n",
    "    df.loc[df['id'] == index, 'lastAnnotated'] = row['lastAnnotated']\n",
    "    df.loc[df['id'] == index, 'isLesson'] = row['isLesson']"
   ]
  },
  {
   "cell_type": "code",
   "execution_count": 18,
   "metadata": {
    "ExecuteTime": {
     "end_time": "2020-03-23T07:23:39.582520Z",
     "start_time": "2020-03-23T07:23:39.576793Z"
    }
   },
   "outputs": [
    {
     "name": "stdout",
     "output_type": "stream",
     "text": [
      "[nan 'Ueda, Tomoo' 'Jovellanos, Jerome' 'Sandhu, Sonia Chand '\n",
      " 'Shimako Takahashi' 'Sonia Chand Sandhu ' 'Subramaniam Nathan'\n",
      " 'Bloom. Erik' 'Bano, Alfredo' 'Perdana, Ari' 'Sandhu, Sonia Chand'\n",
      " 'Hauck, Lauren' 'Mike Diza' 'Kim, Eungji' 'Diza, Mike'\n",
      " 'Sonia Chand Sandhu' 'Morales Alvin' 'Bloom, Erik' 'Bano, Leal'\n",
      " 'Ueda, Tonmoo' ' Sandhu, Sonia Chand' 'Sandhu. Sonia Chand ' 'Erik Bloom'\n",
      " 'kolkma, walter' 'Somma, Simona' 'Mike' 'Simona Somma'\n",
      " 'Takahashi, Shimako' 'Brubaker, Andrew' 'Villena, Serge'\n",
      " 'Toshiyuki Yokota' 'sash' 'Toshiyuki Yokota ']\n"
     ]
    }
   ],
   "source": [
    "print(df['annotatedBy'].unique())"
   ]
  },
  {
   "cell_type": "markdown",
   "metadata": {},
   "source": [
    "# Copy values of source"
   ]
  },
  {
   "cell_type": "code",
   "execution_count": 146,
   "metadata": {
    "ExecuteTime": {
     "end_time": "2020-03-12T04:11:19.466695Z",
     "start_time": "2020-03-12T04:06:13.735573Z"
    }
   },
   "outputs": [],
   "source": [
    "for index, row in productionData.iterrows():\n",
    "    index = int(row['id'])\n",
    "    df.loc[df['id'] == index, 'source'] = row['source']"
   ]
  },
  {
   "cell_type": "code",
   "execution_count": 152,
   "metadata": {
    "ExecuteTime": {
     "end_time": "2020-03-12T04:13:45.430215Z",
     "start_time": "2020-03-12T04:13:45.229947Z"
    }
   },
   "outputs": [],
   "source": [
    "df = df.replace('tagged\",\"validatedBy\":\"Asquith, Joanne', 'tagged')"
   ]
  },
  {
   "cell_type": "code",
   "execution_count": 12,
   "metadata": {
    "ExecuteTime": {
     "end_time": "2020-03-20T03:09:43.305526Z",
     "start_time": "2020-03-20T03:09:43.301624Z"
    }
   },
   "outputs": [
    {
     "data": {
      "text/plain": [
       "Index(['Unnamed: 0', 'Countries', 'Download Link', 'File Names', 'Lesson Type',\n",
       "       'Month', 'Project Number', 'Sectors', 'Themes', 'Title', 'Year',\n",
       "       'annotatedBy', 'annotationStatus', 'annotationSummary',\n",
       "       'annotationTitle', 'dataSource', 'id', 'isLesson', 'lastAnnotated',\n",
       "       'paragraph', 'source', 'reference_id', 'Modalities',\n",
       "       'machine generated', 'source_lesson', 'related_lessons',\n",
       "       'Lesson Strength', 'topic', 'topTopics'],\n",
       "      dtype='object')"
      ]
     },
     "execution_count": 12,
     "metadata": {},
     "output_type": "execute_result"
    }
   ],
   "source": [
    "df.columns"
   ]
  },
  {
   "cell_type": "markdown",
   "metadata": {},
   "source": [
    "# Update source if identified by model as lesson"
   ]
  },
  {
   "cell_type": "code",
   "execution_count": 163,
   "metadata": {
    "ExecuteTime": {
     "end_time": "2020-03-12T04:39:46.472932Z",
     "start_time": "2020-03-12T04:34:14.215997Z"
    }
   },
   "outputs": [],
   "source": [
    "# for index, row in df.iterrows():\n",
    "#     if row['isLesson'] == True and row['machine generated'] == row['machine generated']:\n",
    "#         df.loc[df['id'] == index, 'source'] = 'tagged'\n",
    "#     else:\n",
    "#         df.loc[df['id'] == index, 'source'] = 'PCR'"
   ]
  },
  {
   "cell_type": "code",
   "execution_count": 186,
   "metadata": {
    "ExecuteTime": {
     "end_time": "2020-03-12T08:42:47.953099Z",
     "start_time": "2020-03-12T08:42:47.935215Z"
    }
   },
   "outputs": [],
   "source": [
    "sources = []\n",
    "summaries = df['machine generated'].tolist()\n",
    "isLessons = df['isLesson'].tolist()\n",
    "for summary, isLesson in zip(summaries, isLessons):\n",
    "    if summary != summary:\n",
    "        sources.append('tagged')\n",
    "    else:\n",
    "        sources.append('PCR')\n",
    "df['source'] = sources"
   ]
  },
  {
   "cell_type": "code",
   "execution_count": 13,
   "metadata": {
    "ExecuteTime": {
     "end_time": "2020-03-20T03:10:05.701977Z",
     "start_time": "2020-03-20T03:10:05.692454Z"
    }
   },
   "outputs": [
    {
     "data": {
      "text/plain": [
       "tagged    44549\n",
       "PCR       10819\n",
       "Name: source, dtype: int64"
      ]
     },
     "execution_count": 13,
     "metadata": {},
     "output_type": "execute_result"
    }
   ],
   "source": [
    "df['source'].value_counts()"
   ]
  },
  {
   "cell_type": "code",
   "execution_count": 19,
   "metadata": {
    "ExecuteTime": {
     "end_time": "2020-03-23T07:24:23.262306Z",
     "start_time": "2020-03-23T07:23:56.837722Z"
    }
   },
   "outputs": [],
   "source": [
    "df.to_excel('../data/merged_lessons_forecasted_data_reindex_deduped_20200323.xlsx')"
   ]
  },
  {
   "cell_type": "code",
   "execution_count": null,
   "metadata": {},
   "outputs": [],
   "source": []
  }
 ],
 "metadata": {
  "hide_input": false,
  "kernelspec": {
   "display_name": "py37",
   "language": "python",
   "name": "py37"
  },
  "language_info": {
   "codemirror_mode": {
    "name": "ipython",
    "version": 3
   },
   "file_extension": ".py",
   "mimetype": "text/x-python",
   "name": "python",
   "nbconvert_exporter": "python",
   "pygments_lexer": "ipython3",
   "version": "3.7.7"
  }
 },
 "nbformat": 4,
 "nbformat_minor": 4
}
