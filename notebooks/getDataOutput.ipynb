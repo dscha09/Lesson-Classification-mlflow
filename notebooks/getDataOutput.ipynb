{
 "cells": [
  {
   "cell_type": "code",
   "execution_count": 1,
   "metadata": {
    "ExecuteTime": {
     "end_time": "2020-03-23T06:31:22.024719Z",
     "start_time": "2020-03-23T06:31:00.181909Z"
    },
    "papermill": {
     "duration": 0.721617,
     "end_time": "2020-04-28T03:36:27.475010",
     "exception": false,
     "start_time": "2020-04-28T03:36:26.753393",
     "status": "completed"
    },
    "tags": []
   },
   "outputs": [],
   "source": [
    "import pandas as pd\n",
    "import re\n",
    "import datetime\n",
    "import os"
   ]
  },
  {
   "cell_type": "markdown",
   "metadata": {
    "papermill": {
     "duration": 0.009635,
     "end_time": "2020-04-28T03:36:27.495818",
     "exception": false,
     "start_time": "2020-04-28T03:36:27.486183",
     "status": "completed"
    },
    "tags": []
   },
   "source": [
    "# Get data from elasticsearch"
   ]
  },
  {
   "cell_type": "code",
   "execution_count": 2,
   "metadata": {
    "papermill": {
     "duration": 0.020089,
     "end_time": "2020-04-28T03:36:27.525304",
     "exception": false,
     "start_time": "2020-04-28T03:36:27.505215",
     "status": "completed"
    },
    "tags": [
     "parameters"
    ]
   },
   "outputs": [],
   "source": [
    "index = \"sentences\"\n",
    "env = \"production\"\n",
    "ipAndPort = \"52.163.240.214:9200\"\n",
    "userName = \"elastic\"\n",
    "password = \"Welcometoerni!\"\n",
    "fileName = \"\""
   ]
  },
  {
   "cell_type": "code",
   "execution_count": 3,
   "metadata": {
    "papermill": {
     "duration": 0.018002,
     "end_time": "2020-04-28T03:36:27.554040",
     "exception": false,
     "start_time": "2020-04-28T03:36:27.536038",
     "status": "completed"
    },
    "tags": [
     "injected-parameters"
    ]
   },
   "outputs": [],
   "source": [
    "# Parameters\n",
    "userName = \"elastic\"\n",
    "ipAndPort = \"52.163.240.214:9200\"\n",
    "env = \"production\"\n",
    "fileName = \"../data/production-sentences-20200428\"\n",
    "password = \"Welcometoerni!\"\n",
    "index = \"sentences\"\n"
   ]
  },
  {
   "cell_type": "code",
   "execution_count": 4,
   "metadata": {
    "papermill": {
     "duration": 0.017737,
     "end_time": "2020-04-28T03:36:27.580629",
     "exception": false,
     "start_time": "2020-04-28T03:36:27.562892",
     "status": "completed"
    },
    "tags": []
   },
   "outputs": [
    {
     "name": "stdout",
     "output_type": "stream",
     "text": [
      "proceed\n"
     ]
    }
   ],
   "source": [
    "x = datetime.datetime.now()\n",
    "outputFile = fileName +\".ndjson\"\n",
    "\n",
    "try:\n",
    "    f = open(outputFile)\n",
    "    f.close()\n",
    "    os.remove(outputFile)\n",
    "except IOError:\n",
    "    print(\"proceed\")"
   ]
  },
  {
   "cell_type": "code",
   "execution_count": 5,
   "metadata": {
    "papermill": {
     "duration": 561.800198,
     "end_time": "2020-04-28T03:45:49.389575",
     "exception": false,
     "start_time": "2020-04-28T03:36:27.589377",
     "status": "completed"
    },
    "tags": []
   },
   "outputs": [
    {
     "name": "stdout",
     "output_type": "stream",
     "text": [
      "Tue, 28 Apr 2020 03:36:28 GMT | starting dump\r\n"
     ]
    },
    {
     "name": "stdout",
     "output_type": "stream",
     "text": [
      "Tue, 28 Apr 2020 03:36:28 GMT | got 100 objects from source elasticsearch (offset: 0)\r\n",
      "Tue, 28 Apr 2020 03:36:28 GMT | sent 100 objects to destination file, wrote 100\r\n"
     ]
    },
    {
     "name": "stdout",
     "output_type": "stream",
     "text": [
      "Tue, 28 Apr 2020 03:36:29 GMT | got 100 objects from source elasticsearch (offset: 100)\r\n",
      "Tue, 28 Apr 2020 03:36:29 GMT | sent 100 objects to destination file, wrote 100\r\n"
     ]
    },
    {
     "name": "stdout",
     "output_type": "stream",
     "text": [
      "Tue, 28 Apr 2020 03:36:29 GMT | got 100 objects from source elasticsearch (offset: 200)\r\n",
      "Tue, 28 Apr 2020 03:36:29 GMT | sent 100 objects to destination file, wrote 100\r\n"
     ]
    },
    {
     "name": "stdout",
     "output_type": "stream",
     "text": [
      "Tue, 28 Apr 2020 03:36:29 GMT | got 100 objects from source elasticsearch (offset: 300)\r\n",
      "Tue, 28 Apr 2020 03:36:29 GMT | sent 100 objects to destination file, wrote 100\r\n"
     ]
    },
    {
     "name": "stdout",
     "output_type": "stream",
     "text": [
      "Tue, 28 Apr 2020 03:36:30 GMT | got 100 objects from source elasticsearch (offset: 400)\r\n",
      "Tue, 28 Apr 2020 03:36:30 GMT | sent 100 objects to destination file, wrote 100\r\n"
     ]
    },
    {
     "name": "stdout",
     "output_type": "stream",
     "text": [
      "Tue, 28 Apr 2020 03:36:30 GMT | got 100 objects from source elasticsearch (offset: 500)\r\n",
      "Tue, 28 Apr 2020 03:36:30 GMT | sent 100 objects to destination file, wrote 100\r\n"
     ]
    },
    {
     "name": "stdout",
     "output_type": "stream",
     "text": [
      "Tue, 28 Apr 2020 03:36:34 GMT | got 100 objects from source elasticsearch (offset: 600)\r\n",
      "Tue, 28 Apr 2020 03:36:34 GMT | sent 100 objects to destination file, wrote 100\r\n"
     ]
    },
    {
     "name": "stdout",
     "output_type": "stream",
     "text": [
      "Tue, 28 Apr 2020 03:36:34 GMT | got 100 objects from source elasticsearch (offset: 700)\r\n",
      "Tue, 28 Apr 2020 03:36:34 GMT | sent 100 objects to destination file, wrote 100\r\n"
     ]
    },
    {
     "name": "stdout",
     "output_type": "stream",
     "text": [
      "Tue, 28 Apr 2020 03:36:34 GMT | got 100 objects from source elasticsearch (offset: 800)\r\n",
      "Tue, 28 Apr 2020 03:36:34 GMT | sent 100 objects to destination file, wrote 100\r\n"
     ]
    },
    {
     "name": "stdout",
     "output_type": "stream",
     "text": [
      "Tue, 28 Apr 2020 03:36:35 GMT | got 100 objects from source elasticsearch (offset: 900)\r\n",
      "Tue, 28 Apr 2020 03:36:35 GMT | sent 100 objects to destination file, wrote 100\r\n"
     ]
    },
    {
     "name": "stdout",
     "output_type": "stream",
     "text": [
      "Tue, 28 Apr 2020 03:36:35 GMT | got 100 objects from source elasticsearch (offset: 1000)\r\n",
      "Tue, 28 Apr 2020 03:36:35 GMT | sent 100 objects to destination file, wrote 100\r\n"
     ]
    },
    {
     "name": "stdout",
     "output_type": "stream",
     "text": [
      "Tue, 28 Apr 2020 03:36:39 GMT | got 100 objects from source elasticsearch (offset: 1100)\r\n",
      "Tue, 28 Apr 2020 03:36:39 GMT | sent 100 objects to destination file, wrote 100\r\n"
     ]
    },
    {
     "name": "stdout",
     "output_type": "stream",
     "text": [
      "Tue, 28 Apr 2020 03:36:39 GMT | got 100 objects from source elasticsearch (offset: 1200)\r\n",
      "Tue, 28 Apr 2020 03:36:39 GMT | sent 100 objects to destination file, wrote 100\r\n"
     ]
    },
    {
     "name": "stdout",
     "output_type": "stream",
     "text": [
      "Tue, 28 Apr 2020 03:36:39 GMT | got 100 objects from source elasticsearch (offset: 1300)\r\n",
      "Tue, 28 Apr 2020 03:36:39 GMT | sent 100 objects to destination file, wrote 100\r\n"
     ]
    },
    {
     "name": "stdout",
     "output_type": "stream",
     "text": [
      "Tue, 28 Apr 2020 03:36:40 GMT | got 100 objects from source elasticsearch (offset: 1400)\r\n",
      "Tue, 28 Apr 2020 03:36:40 GMT | sent 100 objects to destination file, wrote 100\r\n"
     ]
    },
    {
     "name": "stdout",
     "output_type": "stream",
     "text": [
      "Tue, 28 Apr 2020 03:36:40 GMT | got 100 objects from source elasticsearch (offset: 1500)\r\n",
      "Tue, 28 Apr 2020 03:36:40 GMT | sent 100 objects to destination file, wrote 100\r\n"
     ]
    },
    {
     "name": "stdout",
     "output_type": "stream",
     "text": [
      "Tue, 28 Apr 2020 03:36:44 GMT | got 100 objects from source elasticsearch (offset: 1600)\r\n",
      "Tue, 28 Apr 2020 03:36:44 GMT | sent 100 objects to destination file, wrote 100\r\n"
     ]
    },
    {
     "name": "stdout",
     "output_type": "stream",
     "text": [
      "Tue, 28 Apr 2020 03:36:44 GMT | got 100 objects from source elasticsearch (offset: 1700)\r\n",
      "Tue, 28 Apr 2020 03:36:44 GMT | sent 100 objects to destination file, wrote 100\r\n"
     ]
    },
    {
     "name": "stdout",
     "output_type": "stream",
     "text": [
      "Tue, 28 Apr 2020 03:36:44 GMT | got 100 objects from source elasticsearch (offset: 1800)\r\n",
      "Tue, 28 Apr 2020 03:36:44 GMT | sent 100 objects to destination file, wrote 100\r\n"
     ]
    },
    {
     "name": "stdout",
     "output_type": "stream",
     "text": [
      "Tue, 28 Apr 2020 03:36:45 GMT | got 100 objects from source elasticsearch (offset: 1900)\r\n",
      "Tue, 28 Apr 2020 03:36:45 GMT | sent 100 objects to destination file, wrote 100\r\n"
     ]
    },
    {
     "name": "stdout",
     "output_type": "stream",
     "text": [
      "Tue, 28 Apr 2020 03:36:45 GMT | got 100 objects from source elasticsearch (offset: 2000)\r\n"
     ]
    },
    {
     "name": "stdout",
     "output_type": "stream",
     "text": [
      "Tue, 28 Apr 2020 03:36:45 GMT | sent 100 objects to destination file, wrote 100\r\n"
     ]
    },
    {
     "name": "stdout",
     "output_type": "stream",
     "text": [
      "Tue, 28 Apr 2020 03:36:49 GMT | got 100 objects from source elasticsearch (offset: 2100)\r\n",
      "Tue, 28 Apr 2020 03:36:49 GMT | sent 100 objects to destination file, wrote 100\r\n"
     ]
    },
    {
     "name": "stdout",
     "output_type": "stream",
     "text": [
      "Tue, 28 Apr 2020 03:36:49 GMT | got 100 objects from source elasticsearch (offset: 2200)\r\n",
      "Tue, 28 Apr 2020 03:36:49 GMT | sent 100 objects to destination file, wrote 100\r\n"
     ]
    },
    {
     "name": "stdout",
     "output_type": "stream",
     "text": [
      "Tue, 28 Apr 2020 03:36:49 GMT | got 100 objects from source elasticsearch (offset: 2300)\r\n",
      "Tue, 28 Apr 2020 03:36:49 GMT | sent 100 objects to destination file, wrote 100\r\n"
     ]
    },
    {
     "name": "stdout",
     "output_type": "stream",
     "text": [
      "Tue, 28 Apr 2020 03:36:50 GMT | got 100 objects from source elasticsearch (offset: 2400)\r\n",
      "Tue, 28 Apr 2020 03:36:50 GMT | sent 100 objects to destination file, wrote 100\r\n"
     ]
    },
    {
     "name": "stdout",
     "output_type": "stream",
     "text": [
      "Tue, 28 Apr 2020 03:36:50 GMT | got 100 objects from source elasticsearch (offset: 2500)\r\n",
      "Tue, 28 Apr 2020 03:36:50 GMT | sent 100 objects to destination file, wrote 100\r\n"
     ]
    },
    {
     "name": "stdout",
     "output_type": "stream",
     "text": [
      "Tue, 28 Apr 2020 03:36:54 GMT | got 100 objects from source elasticsearch (offset: 2600)\r\n",
      "Tue, 28 Apr 2020 03:36:54 GMT | sent 100 objects to destination file, wrote 100\r\n"
     ]
    },
    {
     "name": "stdout",
     "output_type": "stream",
     "text": [
      "Tue, 28 Apr 2020 03:36:54 GMT | got 100 objects from source elasticsearch (offset: 2700)\r\n",
      "Tue, 28 Apr 2020 03:36:54 GMT | sent 100 objects to destination file, wrote 100\r\n"
     ]
    },
    {
     "name": "stdout",
     "output_type": "stream",
     "text": [
      "Tue, 28 Apr 2020 03:36:54 GMT | got 100 objects from source elasticsearch (offset: 2800)\r\n",
      "Tue, 28 Apr 2020 03:36:54 GMT | sent 100 objects to destination file, wrote 100\r\n"
     ]
    },
    {
     "name": "stdout",
     "output_type": "stream",
     "text": [
      "Tue, 28 Apr 2020 03:36:55 GMT | got 100 objects from source elasticsearch (offset: 2900)\r\n",
      "Tue, 28 Apr 2020 03:36:55 GMT | sent 100 objects to destination file, wrote 100\r\n"
     ]
    },
    {
     "name": "stdout",
     "output_type": "stream",
     "text": [
      "Tue, 28 Apr 2020 03:36:55 GMT | got 100 objects from source elasticsearch (offset: 3000)\r\n",
      "Tue, 28 Apr 2020 03:36:55 GMT | sent 100 objects to destination file, wrote 100\r\n"
     ]
    },
    {
     "name": "stdout",
     "output_type": "stream",
     "text": [
      "Tue, 28 Apr 2020 03:36:59 GMT | got 100 objects from source elasticsearch (offset: 3100)\r\n",
      "Tue, 28 Apr 2020 03:36:59 GMT | sent 100 objects to destination file, wrote 100\r\n"
     ]
    },
    {
     "name": "stdout",
     "output_type": "stream",
     "text": [
      "Tue, 28 Apr 2020 03:36:59 GMT | got 100 objects from source elasticsearch (offset: 3200)\r\n",
      "Tue, 28 Apr 2020 03:36:59 GMT | sent 100 objects to destination file, wrote 100\r\n"
     ]
    },
    {
     "name": "stdout",
     "output_type": "stream",
     "text": [
      "Tue, 28 Apr 2020 03:36:59 GMT | got 100 objects from source elasticsearch (offset: 3300)\r\n"
     ]
    },
    {
     "name": "stdout",
     "output_type": "stream",
     "text": [
      "Tue, 28 Apr 2020 03:36:59 GMT | sent 100 objects to destination file, wrote 100\r\n"
     ]
    },
    {
     "name": "stdout",
     "output_type": "stream",
     "text": [
      "Tue, 28 Apr 2020 03:37:00 GMT | got 100 objects from source elasticsearch (offset: 3400)\r\n",
      "Tue, 28 Apr 2020 03:37:00 GMT | sent 100 objects to destination file, wrote 100\r\n"
     ]
    },
    {
     "name": "stdout",
     "output_type": "stream",
     "text": [
      "Tue, 28 Apr 2020 03:37:00 GMT | got 100 objects from source elasticsearch (offset: 3500)\r\n",
      "Tue, 28 Apr 2020 03:37:00 GMT | sent 100 objects to destination file, wrote 100\r\n"
     ]
    },
    {
     "name": "stdout",
     "output_type": "stream",
     "text": [
      "Tue, 28 Apr 2020 03:37:04 GMT | got 100 objects from source elasticsearch (offset: 3600)\r\n",
      "Tue, 28 Apr 2020 03:37:04 GMT | sent 100 objects to destination file, wrote 100\r\n"
     ]
    },
    {
     "name": "stdout",
     "output_type": "stream",
     "text": [
      "Tue, 28 Apr 2020 03:37:04 GMT | got 100 objects from source elasticsearch (offset: 3700)\r\n",
      "Tue, 28 Apr 2020 03:37:04 GMT | sent 100 objects to destination file, wrote 100\r\n"
     ]
    },
    {
     "name": "stdout",
     "output_type": "stream",
     "text": [
      "Tue, 28 Apr 2020 03:37:04 GMT | got 100 objects from source elasticsearch (offset: 3800)\r\n",
      "Tue, 28 Apr 2020 03:37:04 GMT | sent 100 objects to destination file, wrote 100\r\n"
     ]
    },
    {
     "name": "stdout",
     "output_type": "stream",
     "text": [
      "Tue, 28 Apr 2020 03:37:05 GMT | got 100 objects from source elasticsearch (offset: 3900)\r\n",
      "Tue, 28 Apr 2020 03:37:05 GMT | sent 100 objects to destination file, wrote 100\r\n"
     ]
    },
    {
     "name": "stdout",
     "output_type": "stream",
     "text": [
      "Tue, 28 Apr 2020 03:37:05 GMT | got 100 objects from source elasticsearch (offset: 4000)\r\n"
     ]
    },
    {
     "name": "stdout",
     "output_type": "stream",
     "text": [
      "Tue, 28 Apr 2020 03:37:05 GMT | sent 100 objects to destination file, wrote 100\r\n"
     ]
    },
    {
     "name": "stdout",
     "output_type": "stream",
     "text": [
      "Tue, 28 Apr 2020 03:37:09 GMT | got 100 objects from source elasticsearch (offset: 4100)\r\n",
      "Tue, 28 Apr 2020 03:37:09 GMT | sent 100 objects to destination file, wrote 100\r\n"
     ]
    },
    {
     "name": "stdout",
     "output_type": "stream",
     "text": [
      "Tue, 28 Apr 2020 03:37:09 GMT | got 100 objects from source elasticsearch (offset: 4200)\r\n",
      "Tue, 28 Apr 2020 03:37:09 GMT | sent 100 objects to destination file, wrote 100\r\n"
     ]
    },
    {
     "name": "stdout",
     "output_type": "stream",
     "text": [
      "Tue, 28 Apr 2020 03:37:09 GMT | got 100 objects from source elasticsearch (offset: 4300)\r\n",
      "Tue, 28 Apr 2020 03:37:09 GMT | sent 100 objects to destination file, wrote 100\r\n"
     ]
    },
    {
     "name": "stdout",
     "output_type": "stream",
     "text": [
      "Tue, 28 Apr 2020 03:37:10 GMT | got 100 objects from source elasticsearch (offset: 4400)\r\n",
      "Tue, 28 Apr 2020 03:37:10 GMT | sent 100 objects to destination file, wrote 100\r\n"
     ]
    },
    {
     "name": "stdout",
     "output_type": "stream",
     "text": [
      "Tue, 28 Apr 2020 03:37:10 GMT | got 100 objects from source elasticsearch (offset: 4500)\r\n",
      "Tue, 28 Apr 2020 03:37:10 GMT | sent 100 objects to destination file, wrote 100\r\n"
     ]
    },
    {
     "name": "stdout",
     "output_type": "stream",
     "text": [
      "Tue, 28 Apr 2020 03:37:14 GMT | got 100 objects from source elasticsearch (offset: 4600)\r\n",
      "Tue, 28 Apr 2020 03:37:14 GMT | sent 100 objects to destination file, wrote 100\r\n"
     ]
    },
    {
     "name": "stdout",
     "output_type": "stream",
     "text": [
      "Tue, 28 Apr 2020 03:37:14 GMT | got 100 objects from source elasticsearch (offset: 4700)\r\n",
      "Tue, 28 Apr 2020 03:37:14 GMT | sent 100 objects to destination file, wrote 100\r\n"
     ]
    },
    {
     "name": "stdout",
     "output_type": "stream",
     "text": [
      "Tue, 28 Apr 2020 03:37:15 GMT | got 100 objects from source elasticsearch (offset: 4800)\r\n",
      "Tue, 28 Apr 2020 03:37:15 GMT | sent 100 objects to destination file, wrote 100\r\n"
     ]
    },
    {
     "name": "stdout",
     "output_type": "stream",
     "text": [
      "Tue, 28 Apr 2020 03:37:15 GMT | got 100 objects from source elasticsearch (offset: 4900)\r\n",
      "Tue, 28 Apr 2020 03:37:15 GMT | sent 100 objects to destination file, wrote 100\r\n"
     ]
    },
    {
     "name": "stdout",
     "output_type": "stream",
     "text": [
      "Tue, 28 Apr 2020 03:37:15 GMT | got 100 objects from source elasticsearch (offset: 5000)\r\n",
      "Tue, 28 Apr 2020 03:37:15 GMT | sent 100 objects to destination file, wrote 100\r\n"
     ]
    },
    {
     "name": "stdout",
     "output_type": "stream",
     "text": [
      "Tue, 28 Apr 2020 03:37:19 GMT | got 100 objects from source elasticsearch (offset: 5100)\r\n",
      "Tue, 28 Apr 2020 03:37:19 GMT | sent 100 objects to destination file, wrote 100\r\n"
     ]
    },
    {
     "name": "stdout",
     "output_type": "stream",
     "text": [
      "Tue, 28 Apr 2020 03:37:19 GMT | got 100 objects from source elasticsearch (offset: 5200)\r\n",
      "Tue, 28 Apr 2020 03:37:19 GMT | sent 100 objects to destination file, wrote 100\r\n"
     ]
    },
    {
     "name": "stdout",
     "output_type": "stream",
     "text": [
      "Tue, 28 Apr 2020 03:37:19 GMT | got 100 objects from source elasticsearch (offset: 5300)\r\n",
      "Tue, 28 Apr 2020 03:37:19 GMT | sent 100 objects to destination file, wrote 100\r\n"
     ]
    },
    {
     "name": "stdout",
     "output_type": "stream",
     "text": [
      "Tue, 28 Apr 2020 03:37:20 GMT | got 100 objects from source elasticsearch (offset: 5400)\r\n",
      "Tue, 28 Apr 2020 03:37:20 GMT | sent 100 objects to destination file, wrote 100\r\n"
     ]
    },
    {
     "name": "stdout",
     "output_type": "stream",
     "text": [
      "Tue, 28 Apr 2020 03:37:20 GMT | got 100 objects from source elasticsearch (offset: 5500)\r\n",
      "Tue, 28 Apr 2020 03:37:20 GMT | sent 100 objects to destination file, wrote 100\r\n"
     ]
    },
    {
     "name": "stdout",
     "output_type": "stream",
     "text": [
      "Tue, 28 Apr 2020 03:37:24 GMT | got 100 objects from source elasticsearch (offset: 5600)\r\n",
      "Tue, 28 Apr 2020 03:37:24 GMT | sent 100 objects to destination file, wrote 100\r\n"
     ]
    },
    {
     "name": "stdout",
     "output_type": "stream",
     "text": [
      "Tue, 28 Apr 2020 03:37:24 GMT | got 100 objects from source elasticsearch (offset: 5700)\r\n",
      "Tue, 28 Apr 2020 03:37:24 GMT | sent 100 objects to destination file, wrote 100\r\n"
     ]
    },
    {
     "name": "stdout",
     "output_type": "stream",
     "text": [
      "Tue, 28 Apr 2020 03:37:24 GMT | got 100 objects from source elasticsearch (offset: 5800)\r\n",
      "Tue, 28 Apr 2020 03:37:24 GMT | sent 100 objects to destination file, wrote 100\r\n"
     ]
    },
    {
     "name": "stdout",
     "output_type": "stream",
     "text": [
      "Tue, 28 Apr 2020 03:37:25 GMT | got 100 objects from source elasticsearch (offset: 5900)\r\n",
      "Tue, 28 Apr 2020 03:37:25 GMT | sent 100 objects to destination file, wrote 100\r\n"
     ]
    },
    {
     "name": "stdout",
     "output_type": "stream",
     "text": [
      "Tue, 28 Apr 2020 03:37:25 GMT | got 100 objects from source elasticsearch (offset: 6000)\r\n",
      "Tue, 28 Apr 2020 03:37:25 GMT | sent 100 objects to destination file, wrote 100\r\n"
     ]
    },
    {
     "name": "stdout",
     "output_type": "stream",
     "text": [
      "Tue, 28 Apr 2020 03:37:29 GMT | got 100 objects from source elasticsearch (offset: 6100)\r\n",
      "Tue, 28 Apr 2020 03:37:29 GMT | sent 100 objects to destination file, wrote 100\r\n"
     ]
    },
    {
     "name": "stdout",
     "output_type": "stream",
     "text": [
      "Tue, 28 Apr 2020 03:37:29 GMT | got 100 objects from source elasticsearch (offset: 6200)\r\n",
      "Tue, 28 Apr 2020 03:37:29 GMT | sent 100 objects to destination file, wrote 100\r\n"
     ]
    },
    {
     "name": "stdout",
     "output_type": "stream",
     "text": [
      "Tue, 28 Apr 2020 03:37:29 GMT | got 100 objects from source elasticsearch (offset: 6300)\r\n",
      "Tue, 28 Apr 2020 03:37:29 GMT | sent 100 objects to destination file, wrote 100\r\n"
     ]
    },
    {
     "name": "stdout",
     "output_type": "stream",
     "text": [
      "Tue, 28 Apr 2020 03:37:30 GMT | got 100 objects from source elasticsearch (offset: 6400)\r\n",
      "Tue, 28 Apr 2020 03:37:30 GMT | sent 100 objects to destination file, wrote 100\r\n"
     ]
    },
    {
     "name": "stdout",
     "output_type": "stream",
     "text": [
      "Tue, 28 Apr 2020 03:37:30 GMT | got 100 objects from source elasticsearch (offset: 6500)\r\n",
      "Tue, 28 Apr 2020 03:37:30 GMT | sent 100 objects to destination file, wrote 100\r\n"
     ]
    },
    {
     "name": "stdout",
     "output_type": "stream",
     "text": [
      "Tue, 28 Apr 2020 03:37:34 GMT | got 100 objects from source elasticsearch (offset: 6600)\r\n",
      "Tue, 28 Apr 2020 03:37:34 GMT | sent 100 objects to destination file, wrote 100\r\n"
     ]
    },
    {
     "name": "stdout",
     "output_type": "stream",
     "text": [
      "Tue, 28 Apr 2020 03:37:34 GMT | got 100 objects from source elasticsearch (offset: 6700)\r\n"
     ]
    },
    {
     "name": "stdout",
     "output_type": "stream",
     "text": [
      "Tue, 28 Apr 2020 03:37:34 GMT | sent 100 objects to destination file, wrote 100\r\n"
     ]
    },
    {
     "name": "stdout",
     "output_type": "stream",
     "text": [
      "Tue, 28 Apr 2020 03:37:34 GMT | got 100 objects from source elasticsearch (offset: 6800)\r\n",
      "Tue, 28 Apr 2020 03:37:34 GMT | sent 100 objects to destination file, wrote 100\r\n"
     ]
    },
    {
     "name": "stdout",
     "output_type": "stream",
     "text": [
      "Tue, 28 Apr 2020 03:37:35 GMT | got 100 objects from source elasticsearch (offset: 6900)\r\n",
      "Tue, 28 Apr 2020 03:37:35 GMT | sent 100 objects to destination file, wrote 100\r\n"
     ]
    },
    {
     "name": "stdout",
     "output_type": "stream",
     "text": [
      "Tue, 28 Apr 2020 03:37:36 GMT | got 100 objects from source elasticsearch (offset: 7000)\r\n",
      "Tue, 28 Apr 2020 03:37:36 GMT | sent 100 objects to destination file, wrote 100\r\n"
     ]
    },
    {
     "name": "stdout",
     "output_type": "stream",
     "text": [
      "Tue, 28 Apr 2020 03:37:39 GMT | got 100 objects from source elasticsearch (offset: 7100)\r\n",
      "Tue, 28 Apr 2020 03:37:39 GMT | sent 100 objects to destination file, wrote 100\r\n"
     ]
    },
    {
     "name": "stdout",
     "output_type": "stream",
     "text": [
      "Tue, 28 Apr 2020 03:37:39 GMT | got 100 objects from source elasticsearch (offset: 7200)\r\n",
      "Tue, 28 Apr 2020 03:37:39 GMT | sent 100 objects to destination file, wrote 100\r\n"
     ]
    },
    {
     "name": "stdout",
     "output_type": "stream",
     "text": [
      "Tue, 28 Apr 2020 03:37:40 GMT | got 100 objects from source elasticsearch (offset: 7300)\r\n",
      "Tue, 28 Apr 2020 03:37:40 GMT | sent 100 objects to destination file, wrote 100\r\n"
     ]
    },
    {
     "name": "stdout",
     "output_type": "stream",
     "text": [
      "Tue, 28 Apr 2020 03:37:40 GMT | got 100 objects from source elasticsearch (offset: 7400)\r\n",
      "Tue, 28 Apr 2020 03:37:40 GMT | sent 100 objects to destination file, wrote 100\r\n"
     ]
    },
    {
     "name": "stdout",
     "output_type": "stream",
     "text": [
      "Tue, 28 Apr 2020 03:37:40 GMT | got 100 objects from source elasticsearch (offset: 7500)\r\n",
      "Tue, 28 Apr 2020 03:37:40 GMT | sent 100 objects to destination file, wrote 100\r\n"
     ]
    },
    {
     "name": "stdout",
     "output_type": "stream",
     "text": [
      "Tue, 28 Apr 2020 03:37:44 GMT | got 100 objects from source elasticsearch (offset: 7600)\r\n",
      "Tue, 28 Apr 2020 03:37:44 GMT | sent 100 objects to destination file, wrote 100\r\n"
     ]
    },
    {
     "name": "stdout",
     "output_type": "stream",
     "text": [
      "Tue, 28 Apr 2020 03:37:45 GMT | got 100 objects from source elasticsearch (offset: 7700)\r\n",
      "Tue, 28 Apr 2020 03:37:45 GMT | sent 100 objects to destination file, wrote 100\r\n"
     ]
    },
    {
     "name": "stdout",
     "output_type": "stream",
     "text": [
      "Tue, 28 Apr 2020 03:37:45 GMT | got 100 objects from source elasticsearch (offset: 7800)\r\n"
     ]
    },
    {
     "name": "stdout",
     "output_type": "stream",
     "text": [
      "Tue, 28 Apr 2020 03:37:45 GMT | sent 100 objects to destination file, wrote 100\r\n"
     ]
    },
    {
     "name": "stdout",
     "output_type": "stream",
     "text": [
      "Tue, 28 Apr 2020 03:37:46 GMT | got 100 objects from source elasticsearch (offset: 7900)\r\n",
      "Tue, 28 Apr 2020 03:37:46 GMT | sent 100 objects to destination file, wrote 100\r\n"
     ]
    },
    {
     "name": "stdout",
     "output_type": "stream",
     "text": [
      "Tue, 28 Apr 2020 03:37:46 GMT | got 100 objects from source elasticsearch (offset: 8000)\r\n",
      "Tue, 28 Apr 2020 03:37:46 GMT | sent 100 objects to destination file, wrote 100\r\n"
     ]
    },
    {
     "name": "stdout",
     "output_type": "stream",
     "text": [
      "Tue, 28 Apr 2020 03:37:49 GMT | got 100 objects from source elasticsearch (offset: 8100)\r\n",
      "Tue, 28 Apr 2020 03:37:49 GMT | sent 100 objects to destination file, wrote 100\r\n"
     ]
    },
    {
     "name": "stdout",
     "output_type": "stream",
     "text": [
      "Tue, 28 Apr 2020 03:37:49 GMT | got 100 objects from source elasticsearch (offset: 8200)\r\n",
      "Tue, 28 Apr 2020 03:37:49 GMT | sent 100 objects to destination file, wrote 100\r\n"
     ]
    },
    {
     "name": "stdout",
     "output_type": "stream",
     "text": [
      "Tue, 28 Apr 2020 03:37:50 GMT | got 100 objects from source elasticsearch (offset: 8300)\r\n",
      "Tue, 28 Apr 2020 03:37:50 GMT | sent 100 objects to destination file, wrote 100\r\n"
     ]
    },
    {
     "name": "stdout",
     "output_type": "stream",
     "text": [
      "Tue, 28 Apr 2020 03:37:50 GMT | got 100 objects from source elasticsearch (offset: 8400)\r\n",
      "Tue, 28 Apr 2020 03:37:50 GMT | sent 100 objects to destination file, wrote 100\r\n"
     ]
    },
    {
     "name": "stdout",
     "output_type": "stream",
     "text": [
      "Tue, 28 Apr 2020 03:37:51 GMT | got 100 objects from source elasticsearch (offset: 8500)\r\n",
      "Tue, 28 Apr 2020 03:37:51 GMT | sent 100 objects to destination file, wrote 100\r\n"
     ]
    },
    {
     "name": "stdout",
     "output_type": "stream",
     "text": [
      "Tue, 28 Apr 2020 03:37:54 GMT | got 100 objects from source elasticsearch (offset: 8600)\r\n",
      "Tue, 28 Apr 2020 03:37:54 GMT | sent 100 objects to destination file, wrote 100\r\n"
     ]
    },
    {
     "name": "stdout",
     "output_type": "stream",
     "text": [
      "Tue, 28 Apr 2020 03:37:54 GMT | got 100 objects from source elasticsearch (offset: 8700)\r\n",
      "Tue, 28 Apr 2020 03:37:54 GMT | sent 100 objects to destination file, wrote 100\r\n"
     ]
    },
    {
     "name": "stdout",
     "output_type": "stream",
     "text": [
      "Tue, 28 Apr 2020 03:37:55 GMT | got 100 objects from source elasticsearch (offset: 8800)\r\n"
     ]
    },
    {
     "name": "stdout",
     "output_type": "stream",
     "text": [
      "Tue, 28 Apr 2020 03:37:55 GMT | sent 100 objects to destination file, wrote 100\r\n"
     ]
    },
    {
     "name": "stdout",
     "output_type": "stream",
     "text": [
      "Tue, 28 Apr 2020 03:37:55 GMT | got 100 objects from source elasticsearch (offset: 8900)\r\n",
      "Tue, 28 Apr 2020 03:37:55 GMT | sent 100 objects to destination file, wrote 100\r\n"
     ]
    },
    {
     "name": "stdout",
     "output_type": "stream",
     "text": [
      "Tue, 28 Apr 2020 03:37:55 GMT | got 100 objects from source elasticsearch (offset: 9000)\r\n",
      "Tue, 28 Apr 2020 03:37:55 GMT | sent 100 objects to destination file, wrote 100\r\n"
     ]
    },
    {
     "name": "stdout",
     "output_type": "stream",
     "text": [
      "Tue, 28 Apr 2020 03:37:59 GMT | got 100 objects from source elasticsearch (offset: 9100)\r\n",
      "Tue, 28 Apr 2020 03:37:59 GMT | sent 100 objects to destination file, wrote 100\r\n"
     ]
    },
    {
     "name": "stdout",
     "output_type": "stream",
     "text": [
      "Tue, 28 Apr 2020 03:37:59 GMT | got 100 objects from source elasticsearch (offset: 9200)\r\n",
      "Tue, 28 Apr 2020 03:37:59 GMT | sent 100 objects to destination file, wrote 100\r\n"
     ]
    },
    {
     "name": "stdout",
     "output_type": "stream",
     "text": [
      "Tue, 28 Apr 2020 03:38:00 GMT | got 100 objects from source elasticsearch (offset: 9300)\r\n",
      "Tue, 28 Apr 2020 03:38:00 GMT | sent 100 objects to destination file, wrote 100\r\n"
     ]
    },
    {
     "name": "stdout",
     "output_type": "stream",
     "text": [
      "Tue, 28 Apr 2020 03:38:00 GMT | got 100 objects from source elasticsearch (offset: 9400)\r\n",
      "Tue, 28 Apr 2020 03:38:00 GMT | sent 100 objects to destination file, wrote 100\r\n"
     ]
    },
    {
     "name": "stdout",
     "output_type": "stream",
     "text": [
      "Tue, 28 Apr 2020 03:38:00 GMT | got 100 objects from source elasticsearch (offset: 9500)\r\n",
      "Tue, 28 Apr 2020 03:38:00 GMT | sent 100 objects to destination file, wrote 100\r\n"
     ]
    },
    {
     "name": "stdout",
     "output_type": "stream",
     "text": [
      "Tue, 28 Apr 2020 03:38:04 GMT | got 100 objects from source elasticsearch (offset: 9600)\r\n",
      "Tue, 28 Apr 2020 03:38:04 GMT | sent 100 objects to destination file, wrote 100\r\n"
     ]
    },
    {
     "name": "stdout",
     "output_type": "stream",
     "text": [
      "Tue, 28 Apr 2020 03:38:04 GMT | got 100 objects from source elasticsearch (offset: 9700)\r\n"
     ]
    },
    {
     "name": "stdout",
     "output_type": "stream",
     "text": [
      "Tue, 28 Apr 2020 03:38:04 GMT | sent 100 objects to destination file, wrote 100\r\n"
     ]
    },
    {
     "name": "stdout",
     "output_type": "stream",
     "text": [
      "Tue, 28 Apr 2020 03:38:05 GMT | got 100 objects from source elasticsearch (offset: 9800)\r\n",
      "Tue, 28 Apr 2020 03:38:05 GMT | sent 100 objects to destination file, wrote 100\r\n"
     ]
    },
    {
     "name": "stdout",
     "output_type": "stream",
     "text": [
      "Tue, 28 Apr 2020 03:38:05 GMT | got 100 objects from source elasticsearch (offset: 9900)\r\n",
      "Tue, 28 Apr 2020 03:38:05 GMT | sent 100 objects to destination file, wrote 100\r\n"
     ]
    },
    {
     "name": "stdout",
     "output_type": "stream",
     "text": [
      "Tue, 28 Apr 2020 03:38:05 GMT | got 100 objects from source elasticsearch (offset: 10000)\r\n",
      "Tue, 28 Apr 2020 03:38:05 GMT | sent 100 objects to destination file, wrote 100\r\n"
     ]
    },
    {
     "name": "stdout",
     "output_type": "stream",
     "text": [
      "Tue, 28 Apr 2020 03:38:09 GMT | got 100 objects from source elasticsearch (offset: 10100)\r\n",
      "Tue, 28 Apr 2020 03:38:09 GMT | sent 100 objects to destination file, wrote 100\r\n"
     ]
    },
    {
     "name": "stdout",
     "output_type": "stream",
     "text": [
      "Tue, 28 Apr 2020 03:38:09 GMT | got 100 objects from source elasticsearch (offset: 10200)\r\n",
      "Tue, 28 Apr 2020 03:38:09 GMT | sent 100 objects to destination file, wrote 100\r\n"
     ]
    },
    {
     "name": "stdout",
     "output_type": "stream",
     "text": [
      "Tue, 28 Apr 2020 03:38:10 GMT | got 100 objects from source elasticsearch (offset: 10300)\r\n",
      "Tue, 28 Apr 2020 03:38:10 GMT | sent 100 objects to destination file, wrote 100\r\n"
     ]
    },
    {
     "name": "stdout",
     "output_type": "stream",
     "text": [
      "Tue, 28 Apr 2020 03:38:10 GMT | got 100 objects from source elasticsearch (offset: 10400)\r\n",
      "Tue, 28 Apr 2020 03:38:10 GMT | sent 100 objects to destination file, wrote 100\r\n"
     ]
    },
    {
     "name": "stdout",
     "output_type": "stream",
     "text": [
      "Tue, 28 Apr 2020 03:38:11 GMT | got 100 objects from source elasticsearch (offset: 10500)\r\n",
      "Tue, 28 Apr 2020 03:38:11 GMT | sent 100 objects to destination file, wrote 100\r\n"
     ]
    },
    {
     "name": "stdout",
     "output_type": "stream",
     "text": [
      "Tue, 28 Apr 2020 03:38:14 GMT | got 100 objects from source elasticsearch (offset: 10600)\r\n",
      "Tue, 28 Apr 2020 03:38:14 GMT | sent 100 objects to destination file, wrote 100\r\n"
     ]
    },
    {
     "name": "stdout",
     "output_type": "stream",
     "text": [
      "Tue, 28 Apr 2020 03:38:14 GMT | got 100 objects from source elasticsearch (offset: 10700)\r\n",
      "Tue, 28 Apr 2020 03:38:14 GMT | sent 100 objects to destination file, wrote 100\r\n"
     ]
    },
    {
     "name": "stdout",
     "output_type": "stream",
     "text": [
      "Tue, 28 Apr 2020 03:38:15 GMT | got 100 objects from source elasticsearch (offset: 10800)\r\n",
      "Tue, 28 Apr 2020 03:38:15 GMT | sent 100 objects to destination file, wrote 100\r\n"
     ]
    },
    {
     "name": "stdout",
     "output_type": "stream",
     "text": [
      "Tue, 28 Apr 2020 03:38:15 GMT | got 100 objects from source elasticsearch (offset: 10900)\r\n",
      "Tue, 28 Apr 2020 03:38:15 GMT | sent 100 objects to destination file, wrote 100\r\n"
     ]
    },
    {
     "name": "stdout",
     "output_type": "stream",
     "text": [
      "Tue, 28 Apr 2020 03:38:16 GMT | got 100 objects from source elasticsearch (offset: 11000)\r\n",
      "Tue, 28 Apr 2020 03:38:16 GMT | sent 100 objects to destination file, wrote 100\r\n"
     ]
    },
    {
     "name": "stdout",
     "output_type": "stream",
     "text": [
      "Tue, 28 Apr 2020 03:38:19 GMT | got 100 objects from source elasticsearch (offset: 11100)\r\n",
      "Tue, 28 Apr 2020 03:38:19 GMT | sent 100 objects to destination file, wrote 100\r\n"
     ]
    },
    {
     "name": "stdout",
     "output_type": "stream",
     "text": [
      "Tue, 28 Apr 2020 03:38:19 GMT | got 100 objects from source elasticsearch (offset: 11200)\r\n"
     ]
    },
    {
     "name": "stdout",
     "output_type": "stream",
     "text": [
      "Tue, 28 Apr 2020 03:38:19 GMT | sent 100 objects to destination file, wrote 100\r\n"
     ]
    },
    {
     "name": "stdout",
     "output_type": "stream",
     "text": [
      "Tue, 28 Apr 2020 03:38:20 GMT | got 100 objects from source elasticsearch (offset: 11300)\r\n",
      "Tue, 28 Apr 2020 03:38:20 GMT | sent 100 objects to destination file, wrote 100\r\n"
     ]
    },
    {
     "name": "stdout",
     "output_type": "stream",
     "text": [
      "Tue, 28 Apr 2020 03:38:20 GMT | got 100 objects from source elasticsearch (offset: 11400)\r\n",
      "Tue, 28 Apr 2020 03:38:20 GMT | sent 100 objects to destination file, wrote 100\r\n"
     ]
    },
    {
     "name": "stdout",
     "output_type": "stream",
     "text": [
      "Tue, 28 Apr 2020 03:38:21 GMT | got 100 objects from source elasticsearch (offset: 11500)\r\n",
      "Tue, 28 Apr 2020 03:38:21 GMT | sent 100 objects to destination file, wrote 100\r\n"
     ]
    },
    {
     "name": "stdout",
     "output_type": "stream",
     "text": [
      "Tue, 28 Apr 2020 03:38:24 GMT | got 100 objects from source elasticsearch (offset: 11600)\r\n",
      "Tue, 28 Apr 2020 03:38:24 GMT | sent 100 objects to destination file, wrote 100\r\n"
     ]
    },
    {
     "name": "stdout",
     "output_type": "stream",
     "text": [
      "Tue, 28 Apr 2020 03:38:24 GMT | got 100 objects from source elasticsearch (offset: 11700)\r\n",
      "Tue, 28 Apr 2020 03:38:24 GMT | sent 100 objects to destination file, wrote 100\r\n"
     ]
    },
    {
     "name": "stdout",
     "output_type": "stream",
     "text": [
      "Tue, 28 Apr 2020 03:38:25 GMT | got 100 objects from source elasticsearch (offset: 11800)\r\n",
      "Tue, 28 Apr 2020 03:38:25 GMT | sent 100 objects to destination file, wrote 100\r\n"
     ]
    },
    {
     "name": "stdout",
     "output_type": "stream",
     "text": [
      "Tue, 28 Apr 2020 03:38:26 GMT | got 100 objects from source elasticsearch (offset: 11900)\r\n",
      "Tue, 28 Apr 2020 03:38:26 GMT | sent 100 objects to destination file, wrote 100\r\n"
     ]
    },
    {
     "name": "stdout",
     "output_type": "stream",
     "text": [
      "Tue, 28 Apr 2020 03:38:26 GMT | got 100 objects from source elasticsearch (offset: 12000)\r\n",
      "Tue, 28 Apr 2020 03:38:26 GMT | sent 100 objects to destination file, wrote 100\r\n"
     ]
    },
    {
     "name": "stdout",
     "output_type": "stream",
     "text": [
      "Tue, 28 Apr 2020 03:38:29 GMT | got 100 objects from source elasticsearch (offset: 12100)\r\n",
      "Tue, 28 Apr 2020 03:38:29 GMT | sent 100 objects to destination file, wrote 100\r\n"
     ]
    },
    {
     "name": "stdout",
     "output_type": "stream",
     "text": [
      "Tue, 28 Apr 2020 03:38:29 GMT | got 100 objects from source elasticsearch (offset: 12200)\r\n",
      "Tue, 28 Apr 2020 03:38:29 GMT | sent 100 objects to destination file, wrote 100\r\n"
     ]
    },
    {
     "name": "stdout",
     "output_type": "stream",
     "text": [
      "Tue, 28 Apr 2020 03:38:30 GMT | got 100 objects from source elasticsearch (offset: 12300)\r\n",
      "Tue, 28 Apr 2020 03:38:30 GMT | sent 100 objects to destination file, wrote 100\r\n"
     ]
    },
    {
     "name": "stdout",
     "output_type": "stream",
     "text": [
      "Tue, 28 Apr 2020 03:38:30 GMT | got 100 objects from source elasticsearch (offset: 12400)\r\n",
      "Tue, 28 Apr 2020 03:38:30 GMT | sent 100 objects to destination file, wrote 100\r\n"
     ]
    },
    {
     "name": "stdout",
     "output_type": "stream",
     "text": [
      "Tue, 28 Apr 2020 03:38:31 GMT | got 100 objects from source elasticsearch (offset: 12500)\r\n"
     ]
    },
    {
     "name": "stdout",
     "output_type": "stream",
     "text": [
      "Tue, 28 Apr 2020 03:38:31 GMT | sent 100 objects to destination file, wrote 100\r\n"
     ]
    },
    {
     "name": "stdout",
     "output_type": "stream",
     "text": [
      "Tue, 28 Apr 2020 03:38:34 GMT | got 100 objects from source elasticsearch (offset: 12600)\r\n",
      "Tue, 28 Apr 2020 03:38:34 GMT | sent 100 objects to destination file, wrote 100\r\n"
     ]
    },
    {
     "name": "stdout",
     "output_type": "stream",
     "text": [
      "Tue, 28 Apr 2020 03:38:34 GMT | got 100 objects from source elasticsearch (offset: 12700)\r\n",
      "Tue, 28 Apr 2020 03:38:34 GMT | sent 100 objects to destination file, wrote 100\r\n"
     ]
    },
    {
     "name": "stdout",
     "output_type": "stream",
     "text": [
      "Tue, 28 Apr 2020 03:38:35 GMT | got 100 objects from source elasticsearch (offset: 12800)\r\n",
      "Tue, 28 Apr 2020 03:38:35 GMT | sent 100 objects to destination file, wrote 100\r\n"
     ]
    },
    {
     "name": "stdout",
     "output_type": "stream",
     "text": [
      "Tue, 28 Apr 2020 03:38:35 GMT | got 100 objects from source elasticsearch (offset: 12900)\r\n",
      "Tue, 28 Apr 2020 03:38:35 GMT | sent 100 objects to destination file, wrote 100\r\n"
     ]
    },
    {
     "name": "stdout",
     "output_type": "stream",
     "text": [
      "Tue, 28 Apr 2020 03:38:36 GMT | got 100 objects from source elasticsearch (offset: 13000)\r\n",
      "Tue, 28 Apr 2020 03:38:36 GMT | sent 100 objects to destination file, wrote 100\r\n"
     ]
    },
    {
     "name": "stdout",
     "output_type": "stream",
     "text": [
      "Tue, 28 Apr 2020 03:38:39 GMT | got 100 objects from source elasticsearch (offset: 13100)\r\n",
      "Tue, 28 Apr 2020 03:38:39 GMT | sent 100 objects to destination file, wrote 100\r\n"
     ]
    },
    {
     "name": "stdout",
     "output_type": "stream",
     "text": [
      "Tue, 28 Apr 2020 03:38:39 GMT | got 100 objects from source elasticsearch (offset: 13200)\r\n",
      "Tue, 28 Apr 2020 03:38:39 GMT | sent 100 objects to destination file, wrote 100\r\n"
     ]
    },
    {
     "name": "stdout",
     "output_type": "stream",
     "text": [
      "Tue, 28 Apr 2020 03:38:40 GMT | got 100 objects from source elasticsearch (offset: 13300)\r\n",
      "Tue, 28 Apr 2020 03:38:40 GMT | sent 100 objects to destination file, wrote 100\r\n"
     ]
    },
    {
     "name": "stdout",
     "output_type": "stream",
     "text": [
      "Tue, 28 Apr 2020 03:38:40 GMT | got 100 objects from source elasticsearch (offset: 13400)\r\n",
      "Tue, 28 Apr 2020 03:38:40 GMT | sent 100 objects to destination file, wrote 100\r\n"
     ]
    },
    {
     "name": "stdout",
     "output_type": "stream",
     "text": [
      "Tue, 28 Apr 2020 03:38:41 GMT | got 100 objects from source elasticsearch (offset: 13500)\r\n",
      "Tue, 28 Apr 2020 03:38:41 GMT | sent 100 objects to destination file, wrote 100\r\n"
     ]
    },
    {
     "name": "stdout",
     "output_type": "stream",
     "text": [
      "Tue, 28 Apr 2020 03:38:44 GMT | got 100 objects from source elasticsearch (offset: 13600)\r\n",
      "Tue, 28 Apr 2020 03:38:44 GMT | sent 100 objects to destination file, wrote 100\r\n"
     ]
    },
    {
     "name": "stdout",
     "output_type": "stream",
     "text": [
      "Tue, 28 Apr 2020 03:38:44 GMT | got 100 objects from source elasticsearch (offset: 13700)\r\n",
      "Tue, 28 Apr 2020 03:38:44 GMT | sent 100 objects to destination file, wrote 100\r\n"
     ]
    },
    {
     "name": "stdout",
     "output_type": "stream",
     "text": [
      "Tue, 28 Apr 2020 03:38:45 GMT | got 100 objects from source elasticsearch (offset: 13800)\r\n",
      "Tue, 28 Apr 2020 03:38:45 GMT | sent 100 objects to destination file, wrote 100\r\n"
     ]
    },
    {
     "name": "stdout",
     "output_type": "stream",
     "text": [
      "Tue, 28 Apr 2020 03:38:45 GMT | got 100 objects from source elasticsearch (offset: 13900)\r\n",
      "Tue, 28 Apr 2020 03:38:45 GMT | sent 100 objects to destination file, wrote 100\r\n"
     ]
    },
    {
     "name": "stdout",
     "output_type": "stream",
     "text": [
      "Tue, 28 Apr 2020 03:38:46 GMT | got 100 objects from source elasticsearch (offset: 14000)\r\n",
      "Tue, 28 Apr 2020 03:38:46 GMT | sent 100 objects to destination file, wrote 100\r\n"
     ]
    },
    {
     "name": "stdout",
     "output_type": "stream",
     "text": [
      "Tue, 28 Apr 2020 03:38:49 GMT | got 100 objects from source elasticsearch (offset: 14100)\r\n",
      "Tue, 28 Apr 2020 03:38:49 GMT | sent 100 objects to destination file, wrote 100\r\n"
     ]
    },
    {
     "name": "stdout",
     "output_type": "stream",
     "text": [
      "Tue, 28 Apr 2020 03:38:49 GMT | got 100 objects from source elasticsearch (offset: 14200)\r\n",
      "Tue, 28 Apr 2020 03:38:49 GMT | sent 100 objects to destination file, wrote 100\r\n"
     ]
    },
    {
     "name": "stdout",
     "output_type": "stream",
     "text": [
      "Tue, 28 Apr 2020 03:38:50 GMT | got 100 objects from source elasticsearch (offset: 14300)\r\n",
      "Tue, 28 Apr 2020 03:38:50 GMT | sent 100 objects to destination file, wrote 100\r\n"
     ]
    },
    {
     "name": "stdout",
     "output_type": "stream",
     "text": [
      "Tue, 28 Apr 2020 03:38:50 GMT | got 100 objects from source elasticsearch (offset: 14400)\r\n",
      "Tue, 28 Apr 2020 03:38:50 GMT | sent 100 objects to destination file, wrote 100\r\n"
     ]
    },
    {
     "name": "stdout",
     "output_type": "stream",
     "text": [
      "Tue, 28 Apr 2020 03:38:51 GMT | got 100 objects from source elasticsearch (offset: 14500)\r\n",
      "Tue, 28 Apr 2020 03:38:51 GMT | sent 100 objects to destination file, wrote 100\r\n"
     ]
    },
    {
     "name": "stdout",
     "output_type": "stream",
     "text": [
      "Tue, 28 Apr 2020 03:38:54 GMT | got 100 objects from source elasticsearch (offset: 14600)\r\n",
      "Tue, 28 Apr 2020 03:38:54 GMT | sent 100 objects to destination file, wrote 100\r\n"
     ]
    },
    {
     "name": "stdout",
     "output_type": "stream",
     "text": [
      "Tue, 28 Apr 2020 03:38:54 GMT | got 100 objects from source elasticsearch (offset: 14700)\r\n",
      "Tue, 28 Apr 2020 03:38:54 GMT | sent 100 objects to destination file, wrote 100\r\n"
     ]
    },
    {
     "name": "stdout",
     "output_type": "stream",
     "text": [
      "Tue, 28 Apr 2020 03:38:55 GMT | got 100 objects from source elasticsearch (offset: 14800)\r\n",
      "Tue, 28 Apr 2020 03:38:55 GMT | sent 100 objects to destination file, wrote 100\r\n"
     ]
    },
    {
     "name": "stdout",
     "output_type": "stream",
     "text": [
      "Tue, 28 Apr 2020 03:38:56 GMT | got 100 objects from source elasticsearch (offset: 14900)\r\n",
      "Tue, 28 Apr 2020 03:38:56 GMT | sent 100 objects to destination file, wrote 100\r\n"
     ]
    },
    {
     "name": "stdout",
     "output_type": "stream",
     "text": [
      "Tue, 28 Apr 2020 03:38:56 GMT | got 100 objects from source elasticsearch (offset: 15000)\r\n",
      "Tue, 28 Apr 2020 03:38:56 GMT | sent 100 objects to destination file, wrote 100\r\n"
     ]
    },
    {
     "name": "stdout",
     "output_type": "stream",
     "text": [
      "Tue, 28 Apr 2020 03:38:59 GMT | got 100 objects from source elasticsearch (offset: 15100)\r\n",
      "Tue, 28 Apr 2020 03:38:59 GMT | sent 100 objects to destination file, wrote 100\r\n"
     ]
    },
    {
     "name": "stdout",
     "output_type": "stream",
     "text": [
      "Tue, 28 Apr 2020 03:39:00 GMT | got 100 objects from source elasticsearch (offset: 15200)\r\n",
      "Tue, 28 Apr 2020 03:39:00 GMT | sent 100 objects to destination file, wrote 100\r\n"
     ]
    },
    {
     "name": "stdout",
     "output_type": "stream",
     "text": [
      "Tue, 28 Apr 2020 03:39:00 GMT | got 100 objects from source elasticsearch (offset: 15300)\r\n",
      "Tue, 28 Apr 2020 03:39:00 GMT | sent 100 objects to destination file, wrote 100\r\n"
     ]
    },
    {
     "name": "stdout",
     "output_type": "stream",
     "text": [
      "Tue, 28 Apr 2020 03:39:01 GMT | got 100 objects from source elasticsearch (offset: 15400)\r\n",
      "Tue, 28 Apr 2020 03:39:01 GMT | sent 100 objects to destination file, wrote 100\r\n"
     ]
    },
    {
     "name": "stdout",
     "output_type": "stream",
     "text": [
      "Tue, 28 Apr 2020 03:39:01 GMT | got 100 objects from source elasticsearch (offset: 15500)\r\n",
      "Tue, 28 Apr 2020 03:39:01 GMT | sent 100 objects to destination file, wrote 100\r\n"
     ]
    },
    {
     "name": "stdout",
     "output_type": "stream",
     "text": [
      "Tue, 28 Apr 2020 03:39:04 GMT | got 100 objects from source elasticsearch (offset: 15600)\r\n",
      "Tue, 28 Apr 2020 03:39:04 GMT | sent 100 objects to destination file, wrote 100\r\n"
     ]
    },
    {
     "name": "stdout",
     "output_type": "stream",
     "text": [
      "Tue, 28 Apr 2020 03:39:05 GMT | got 100 objects from source elasticsearch (offset: 15700)\r\n",
      "Tue, 28 Apr 2020 03:39:05 GMT | sent 100 objects to destination file, wrote 100\r\n"
     ]
    },
    {
     "name": "stdout",
     "output_type": "stream",
     "text": [
      "Tue, 28 Apr 2020 03:39:05 GMT | got 100 objects from source elasticsearch (offset: 15800)\r\n",
      "Tue, 28 Apr 2020 03:39:05 GMT | sent 100 objects to destination file, wrote 100\r\n"
     ]
    },
    {
     "name": "stdout",
     "output_type": "stream",
     "text": [
      "Tue, 28 Apr 2020 03:39:06 GMT | got 100 objects from source elasticsearch (offset: 15900)\r\n",
      "Tue, 28 Apr 2020 03:39:06 GMT | sent 100 objects to destination file, wrote 100\r\n"
     ]
    },
    {
     "name": "stdout",
     "output_type": "stream",
     "text": [
      "Tue, 28 Apr 2020 03:39:06 GMT | got 100 objects from source elasticsearch (offset: 16000)\r\n",
      "Tue, 28 Apr 2020 03:39:06 GMT | sent 100 objects to destination file, wrote 100\r\n"
     ]
    },
    {
     "name": "stdout",
     "output_type": "stream",
     "text": [
      "Tue, 28 Apr 2020 03:39:09 GMT | got 100 objects from source elasticsearch (offset: 16100)\r\n",
      "Tue, 28 Apr 2020 03:39:09 GMT | sent 100 objects to destination file, wrote 100\r\n"
     ]
    },
    {
     "name": "stdout",
     "output_type": "stream",
     "text": [
      "Tue, 28 Apr 2020 03:39:10 GMT | got 100 objects from source elasticsearch (offset: 16200)\r\n",
      "Tue, 28 Apr 2020 03:39:10 GMT | sent 100 objects to destination file, wrote 100\r\n"
     ]
    },
    {
     "name": "stdout",
     "output_type": "stream",
     "text": [
      "Tue, 28 Apr 2020 03:39:10 GMT | got 100 objects from source elasticsearch (offset: 16300)\r\n",
      "Tue, 28 Apr 2020 03:39:10 GMT | sent 100 objects to destination file, wrote 100\r\n"
     ]
    },
    {
     "name": "stdout",
     "output_type": "stream",
     "text": [
      "Tue, 28 Apr 2020 03:39:11 GMT | got 100 objects from source elasticsearch (offset: 16400)\r\n",
      "Tue, 28 Apr 2020 03:39:11 GMT | sent 100 objects to destination file, wrote 100\r\n"
     ]
    },
    {
     "name": "stdout",
     "output_type": "stream",
     "text": [
      "Tue, 28 Apr 2020 03:39:11 GMT | got 100 objects from source elasticsearch (offset: 16500)\r\n",
      "Tue, 28 Apr 2020 03:39:11 GMT | sent 100 objects to destination file, wrote 100\r\n"
     ]
    },
    {
     "name": "stdout",
     "output_type": "stream",
     "text": [
      "Tue, 28 Apr 2020 03:39:14 GMT | got 100 objects from source elasticsearch (offset: 16600)\r\n",
      "Tue, 28 Apr 2020 03:39:14 GMT | sent 100 objects to destination file, wrote 100\r\n"
     ]
    },
    {
     "name": "stdout",
     "output_type": "stream",
     "text": [
      "Tue, 28 Apr 2020 03:39:15 GMT | got 100 objects from source elasticsearch (offset: 16700)\r\n",
      "Tue, 28 Apr 2020 03:39:15 GMT | sent 100 objects to destination file, wrote 100\r\n"
     ]
    },
    {
     "name": "stdout",
     "output_type": "stream",
     "text": [
      "Tue, 28 Apr 2020 03:39:15 GMT | got 100 objects from source elasticsearch (offset: 16800)\r\n",
      "Tue, 28 Apr 2020 03:39:15 GMT | sent 100 objects to destination file, wrote 100\r\n"
     ]
    },
    {
     "name": "stdout",
     "output_type": "stream",
     "text": [
      "Tue, 28 Apr 2020 03:39:16 GMT | got 100 objects from source elasticsearch (offset: 16900)\r\n"
     ]
    },
    {
     "name": "stdout",
     "output_type": "stream",
     "text": [
      "Tue, 28 Apr 2020 03:39:16 GMT | sent 100 objects to destination file, wrote 100\r\n"
     ]
    },
    {
     "name": "stdout",
     "output_type": "stream",
     "text": [
      "Tue, 28 Apr 2020 03:39:16 GMT | got 100 objects from source elasticsearch (offset: 17000)\r\n",
      "Tue, 28 Apr 2020 03:39:16 GMT | sent 100 objects to destination file, wrote 100\r\n"
     ]
    },
    {
     "name": "stdout",
     "output_type": "stream",
     "text": [
      "Tue, 28 Apr 2020 03:39:19 GMT | got 100 objects from source elasticsearch (offset: 17100)\r\n",
      "Tue, 28 Apr 2020 03:39:19 GMT | sent 100 objects to destination file, wrote 100\r\n"
     ]
    },
    {
     "name": "stdout",
     "output_type": "stream",
     "text": [
      "Tue, 28 Apr 2020 03:39:20 GMT | got 100 objects from source elasticsearch (offset: 17200)\r\n",
      "Tue, 28 Apr 2020 03:39:20 GMT | sent 100 objects to destination file, wrote 100\r\n"
     ]
    },
    {
     "name": "stdout",
     "output_type": "stream",
     "text": [
      "Tue, 28 Apr 2020 03:39:20 GMT | got 100 objects from source elasticsearch (offset: 17300)\r\n",
      "Tue, 28 Apr 2020 03:39:20 GMT | sent 100 objects to destination file, wrote 100\r\n"
     ]
    },
    {
     "name": "stdout",
     "output_type": "stream",
     "text": [
      "Tue, 28 Apr 2020 03:39:20 GMT | got 100 objects from source elasticsearch (offset: 17400)\r\n",
      "Tue, 28 Apr 2020 03:39:20 GMT | sent 100 objects to destination file, wrote 100\r\n"
     ]
    },
    {
     "name": "stdout",
     "output_type": "stream",
     "text": [
      "Tue, 28 Apr 2020 03:39:21 GMT | got 100 objects from source elasticsearch (offset: 17500)\r\n",
      "Tue, 28 Apr 2020 03:39:21 GMT | sent 100 objects to destination file, wrote 100\r\n"
     ]
    },
    {
     "name": "stdout",
     "output_type": "stream",
     "text": [
      "Tue, 28 Apr 2020 03:39:24 GMT | got 100 objects from source elasticsearch (offset: 17600)\r\n",
      "Tue, 28 Apr 2020 03:39:24 GMT | sent 100 objects to destination file, wrote 100\r\n"
     ]
    },
    {
     "name": "stdout",
     "output_type": "stream",
     "text": [
      "Tue, 28 Apr 2020 03:39:25 GMT | got 100 objects from source elasticsearch (offset: 17700)\r\n",
      "Tue, 28 Apr 2020 03:39:25 GMT | sent 100 objects to destination file, wrote 100\r\n"
     ]
    },
    {
     "name": "stdout",
     "output_type": "stream",
     "text": [
      "Tue, 28 Apr 2020 03:39:25 GMT | got 100 objects from source elasticsearch (offset: 17800)\r\n",
      "Tue, 28 Apr 2020 03:39:25 GMT | sent 100 objects to destination file, wrote 100\r\n"
     ]
    },
    {
     "name": "stdout",
     "output_type": "stream",
     "text": [
      "Tue, 28 Apr 2020 03:39:25 GMT | got 100 objects from source elasticsearch (offset: 17900)\r\n",
      "Tue, 28 Apr 2020 03:39:25 GMT | sent 100 objects to destination file, wrote 100\r\n"
     ]
    },
    {
     "name": "stdout",
     "output_type": "stream",
     "text": [
      "Tue, 28 Apr 2020 03:39:26 GMT | got 100 objects from source elasticsearch (offset: 18000)\r\n",
      "Tue, 28 Apr 2020 03:39:26 GMT | sent 100 objects to destination file, wrote 100\r\n"
     ]
    },
    {
     "name": "stdout",
     "output_type": "stream",
     "text": [
      "Tue, 28 Apr 2020 03:39:29 GMT | got 100 objects from source elasticsearch (offset: 18100)\r\n",
      "Tue, 28 Apr 2020 03:39:29 GMT | sent 100 objects to destination file, wrote 100\r\n"
     ]
    },
    {
     "name": "stdout",
     "output_type": "stream",
     "text": [
      "Tue, 28 Apr 2020 03:39:30 GMT | got 100 objects from source elasticsearch (offset: 18200)\r\n",
      "Tue, 28 Apr 2020 03:39:30 GMT | sent 100 objects to destination file, wrote 100\r\n"
     ]
    },
    {
     "name": "stdout",
     "output_type": "stream",
     "text": [
      "Tue, 28 Apr 2020 03:39:30 GMT | got 100 objects from source elasticsearch (offset: 18300)\r\n",
      "Tue, 28 Apr 2020 03:39:30 GMT | sent 100 objects to destination file, wrote 100\r\n"
     ]
    },
    {
     "name": "stdout",
     "output_type": "stream",
     "text": [
      "Tue, 28 Apr 2020 03:39:30 GMT | got 100 objects from source elasticsearch (offset: 18400)\r\n",
      "Tue, 28 Apr 2020 03:39:30 GMT | sent 100 objects to destination file, wrote 100\r\n"
     ]
    },
    {
     "name": "stdout",
     "output_type": "stream",
     "text": [
      "Tue, 28 Apr 2020 03:39:31 GMT | got 100 objects from source elasticsearch (offset: 18500)\r\n",
      "Tue, 28 Apr 2020 03:39:31 GMT | sent 100 objects to destination file, wrote 100\r\n"
     ]
    },
    {
     "name": "stdout",
     "output_type": "stream",
     "text": [
      "Tue, 28 Apr 2020 03:39:34 GMT | got 100 objects from source elasticsearch (offset: 18600)\r\n",
      "Tue, 28 Apr 2020 03:39:34 GMT | sent 100 objects to destination file, wrote 100\r\n"
     ]
    },
    {
     "name": "stdout",
     "output_type": "stream",
     "text": [
      "Tue, 28 Apr 2020 03:39:35 GMT | got 100 objects from source elasticsearch (offset: 18700)\r\n",
      "Tue, 28 Apr 2020 03:39:35 GMT | sent 100 objects to destination file, wrote 100\r\n"
     ]
    },
    {
     "name": "stdout",
     "output_type": "stream",
     "text": [
      "Tue, 28 Apr 2020 03:39:35 GMT | got 100 objects from source elasticsearch (offset: 18800)\r\n",
      "Tue, 28 Apr 2020 03:39:35 GMT | sent 100 objects to destination file, wrote 100\r\n"
     ]
    },
    {
     "name": "stdout",
     "output_type": "stream",
     "text": [
      "Tue, 28 Apr 2020 03:39:36 GMT | got 100 objects from source elasticsearch (offset: 18900)\r\n",
      "Tue, 28 Apr 2020 03:39:36 GMT | sent 100 objects to destination file, wrote 100\r\n"
     ]
    },
    {
     "name": "stdout",
     "output_type": "stream",
     "text": [
      "Tue, 28 Apr 2020 03:39:36 GMT | got 100 objects from source elasticsearch (offset: 19000)\r\n",
      "Tue, 28 Apr 2020 03:39:36 GMT | sent 100 objects to destination file, wrote 100\r\n"
     ]
    },
    {
     "name": "stdout",
     "output_type": "stream",
     "text": [
      "Tue, 28 Apr 2020 03:39:39 GMT | got 100 objects from source elasticsearch (offset: 19100)\r\n",
      "Tue, 28 Apr 2020 03:39:39 GMT | sent 100 objects to destination file, wrote 100\r\n"
     ]
    },
    {
     "name": "stdout",
     "output_type": "stream",
     "text": [
      "Tue, 28 Apr 2020 03:39:39 GMT | got 100 objects from source elasticsearch (offset: 19200)\r\n",
      "Tue, 28 Apr 2020 03:39:39 GMT | sent 100 objects to destination file, wrote 100\r\n"
     ]
    },
    {
     "name": "stdout",
     "output_type": "stream",
     "text": [
      "Tue, 28 Apr 2020 03:39:40 GMT | got 100 objects from source elasticsearch (offset: 19300)\r\n",
      "Tue, 28 Apr 2020 03:39:40 GMT | sent 100 objects to destination file, wrote 100\r\n"
     ]
    },
    {
     "name": "stdout",
     "output_type": "stream",
     "text": [
      "Tue, 28 Apr 2020 03:39:40 GMT | got 100 objects from source elasticsearch (offset: 19400)\r\n"
     ]
    },
    {
     "name": "stdout",
     "output_type": "stream",
     "text": [
      "Tue, 28 Apr 2020 03:39:40 GMT | sent 100 objects to destination file, wrote 100\r\n"
     ]
    },
    {
     "name": "stdout",
     "output_type": "stream",
     "text": [
      "Tue, 28 Apr 2020 03:39:41 GMT | got 100 objects from source elasticsearch (offset: 19500)\r\n",
      "Tue, 28 Apr 2020 03:39:41 GMT | sent 100 objects to destination file, wrote 100\r\n"
     ]
    },
    {
     "name": "stdout",
     "output_type": "stream",
     "text": [
      "Tue, 28 Apr 2020 03:39:44 GMT | got 100 objects from source elasticsearch (offset: 19600)\r\n",
      "Tue, 28 Apr 2020 03:39:44 GMT | sent 100 objects to destination file, wrote 100\r\n"
     ]
    },
    {
     "name": "stdout",
     "output_type": "stream",
     "text": [
      "Tue, 28 Apr 2020 03:39:45 GMT | got 100 objects from source elasticsearch (offset: 19700)\r\n",
      "Tue, 28 Apr 2020 03:39:45 GMT | sent 100 objects to destination file, wrote 100\r\n"
     ]
    },
    {
     "name": "stdout",
     "output_type": "stream",
     "text": [
      "Tue, 28 Apr 2020 03:39:45 GMT | got 100 objects from source elasticsearch (offset: 19800)\r\n",
      "Tue, 28 Apr 2020 03:39:45 GMT | sent 100 objects to destination file, wrote 100\r\n"
     ]
    },
    {
     "name": "stdout",
     "output_type": "stream",
     "text": [
      "Tue, 28 Apr 2020 03:39:45 GMT | got 100 objects from source elasticsearch (offset: 19900)\r\n"
     ]
    },
    {
     "name": "stdout",
     "output_type": "stream",
     "text": [
      "Tue, 28 Apr 2020 03:39:45 GMT | sent 100 objects to destination file, wrote 100\r\n"
     ]
    },
    {
     "name": "stdout",
     "output_type": "stream",
     "text": [
      "Tue, 28 Apr 2020 03:39:46 GMT | got 100 objects from source elasticsearch (offset: 20000)\r\n",
      "Tue, 28 Apr 2020 03:39:46 GMT | sent 100 objects to destination file, wrote 100\r\n"
     ]
    },
    {
     "name": "stdout",
     "output_type": "stream",
     "text": [
      "Tue, 28 Apr 2020 03:39:49 GMT | got 100 objects from source elasticsearch (offset: 20100)\r\n",
      "Tue, 28 Apr 2020 03:39:49 GMT | sent 100 objects to destination file, wrote 100\r\n"
     ]
    },
    {
     "name": "stdout",
     "output_type": "stream",
     "text": [
      "Tue, 28 Apr 2020 03:39:49 GMT | got 100 objects from source elasticsearch (offset: 20200)\r\n",
      "Tue, 28 Apr 2020 03:39:49 GMT | sent 100 objects to destination file, wrote 100\r\n"
     ]
    },
    {
     "name": "stdout",
     "output_type": "stream",
     "text": [
      "Tue, 28 Apr 2020 03:39:50 GMT | got 100 objects from source elasticsearch (offset: 20300)\r\n",
      "Tue, 28 Apr 2020 03:39:50 GMT | sent 100 objects to destination file, wrote 100\r\n"
     ]
    },
    {
     "name": "stdout",
     "output_type": "stream",
     "text": [
      "Tue, 28 Apr 2020 03:39:50 GMT | got 100 objects from source elasticsearch (offset: 20400)\r\n",
      "Tue, 28 Apr 2020 03:39:50 GMT | sent 100 objects to destination file, wrote 100\r\n"
     ]
    },
    {
     "name": "stdout",
     "output_type": "stream",
     "text": [
      "Tue, 28 Apr 2020 03:39:51 GMT | got 100 objects from source elasticsearch (offset: 20500)\r\n",
      "Tue, 28 Apr 2020 03:39:51 GMT | sent 100 objects to destination file, wrote 100\r\n"
     ]
    },
    {
     "name": "stdout",
     "output_type": "stream",
     "text": [
      "Tue, 28 Apr 2020 03:39:54 GMT | got 100 objects from source elasticsearch (offset: 20600)\r\n",
      "Tue, 28 Apr 2020 03:39:54 GMT | sent 100 objects to destination file, wrote 100\r\n"
     ]
    },
    {
     "name": "stdout",
     "output_type": "stream",
     "text": [
      "Tue, 28 Apr 2020 03:39:55 GMT | got 100 objects from source elasticsearch (offset: 20700)\r\n",
      "Tue, 28 Apr 2020 03:39:55 GMT | sent 100 objects to destination file, wrote 100\r\n"
     ]
    },
    {
     "name": "stdout",
     "output_type": "stream",
     "text": [
      "Tue, 28 Apr 2020 03:39:55 GMT | got 100 objects from source elasticsearch (offset: 20800)\r\n",
      "Tue, 28 Apr 2020 03:39:55 GMT | sent 100 objects to destination file, wrote 100\r\n"
     ]
    },
    {
     "name": "stdout",
     "output_type": "stream",
     "text": [
      "Tue, 28 Apr 2020 03:39:55 GMT | got 100 objects from source elasticsearch (offset: 20900)\r\n",
      "Tue, 28 Apr 2020 03:39:55 GMT | sent 100 objects to destination file, wrote 100\r\n"
     ]
    },
    {
     "name": "stdout",
     "output_type": "stream",
     "text": [
      "Tue, 28 Apr 2020 03:39:56 GMT | got 100 objects from source elasticsearch (offset: 21000)\r\n"
     ]
    },
    {
     "name": "stdout",
     "output_type": "stream",
     "text": [
      "Tue, 28 Apr 2020 03:39:56 GMT | sent 100 objects to destination file, wrote 100\r\n"
     ]
    },
    {
     "name": "stdout",
     "output_type": "stream",
     "text": [
      "Tue, 28 Apr 2020 03:39:59 GMT | got 100 objects from source elasticsearch (offset: 21100)\r\n",
      "Tue, 28 Apr 2020 03:39:59 GMT | sent 100 objects to destination file, wrote 100\r\n"
     ]
    },
    {
     "name": "stdout",
     "output_type": "stream",
     "text": [
      "Tue, 28 Apr 2020 03:40:00 GMT | got 100 objects from source elasticsearch (offset: 21200)\r\n",
      "Tue, 28 Apr 2020 03:40:00 GMT | sent 100 objects to destination file, wrote 100\r\n"
     ]
    },
    {
     "name": "stdout",
     "output_type": "stream",
     "text": [
      "Tue, 28 Apr 2020 03:40:00 GMT | got 100 objects from source elasticsearch (offset: 21300)\r\n",
      "Tue, 28 Apr 2020 03:40:00 GMT | sent 100 objects to destination file, wrote 100\r\n"
     ]
    },
    {
     "name": "stdout",
     "output_type": "stream",
     "text": [
      "Tue, 28 Apr 2020 03:40:01 GMT | got 100 objects from source elasticsearch (offset: 21400)\r\n",
      "Tue, 28 Apr 2020 03:40:01 GMT | sent 100 objects to destination file, wrote 100\r\n"
     ]
    },
    {
     "name": "stdout",
     "output_type": "stream",
     "text": [
      "Tue, 28 Apr 2020 03:40:01 GMT | got 100 objects from source elasticsearch (offset: 21500)\r\n",
      "Tue, 28 Apr 2020 03:40:01 GMT | sent 100 objects to destination file, wrote 100\r\n"
     ]
    },
    {
     "name": "stdout",
     "output_type": "stream",
     "text": [
      "Tue, 28 Apr 2020 03:40:04 GMT | got 100 objects from source elasticsearch (offset: 21600)\r\n",
      "Tue, 28 Apr 2020 03:40:04 GMT | sent 100 objects to destination file, wrote 100\r\n"
     ]
    },
    {
     "name": "stdout",
     "output_type": "stream",
     "text": [
      "Tue, 28 Apr 2020 03:40:05 GMT | got 100 objects from source elasticsearch (offset: 21700)\r\n",
      "Tue, 28 Apr 2020 03:40:05 GMT | sent 100 objects to destination file, wrote 100\r\n"
     ]
    },
    {
     "name": "stdout",
     "output_type": "stream",
     "text": [
      "Tue, 28 Apr 2020 03:40:05 GMT | got 100 objects from source elasticsearch (offset: 21800)\r\n",
      "Tue, 28 Apr 2020 03:40:05 GMT | sent 100 objects to destination file, wrote 100\r\n"
     ]
    },
    {
     "name": "stdout",
     "output_type": "stream",
     "text": [
      "Tue, 28 Apr 2020 03:40:06 GMT | got 100 objects from source elasticsearch (offset: 21900)\r\n",
      "Tue, 28 Apr 2020 03:40:06 GMT | sent 100 objects to destination file, wrote 100\r\n"
     ]
    },
    {
     "name": "stdout",
     "output_type": "stream",
     "text": [
      "Tue, 28 Apr 2020 03:40:06 GMT | got 100 objects from source elasticsearch (offset: 22000)\r\n",
      "Tue, 28 Apr 2020 03:40:06 GMT | sent 100 objects to destination file, wrote 100\r\n"
     ]
    },
    {
     "name": "stdout",
     "output_type": "stream",
     "text": [
      "Tue, 28 Apr 2020 03:40:09 GMT | got 100 objects from source elasticsearch (offset: 22100)\r\n",
      "Tue, 28 Apr 2020 03:40:09 GMT | sent 100 objects to destination file, wrote 100\r\n"
     ]
    },
    {
     "name": "stdout",
     "output_type": "stream",
     "text": [
      "Tue, 28 Apr 2020 03:40:10 GMT | got 100 objects from source elasticsearch (offset: 22200)\r\n",
      "Tue, 28 Apr 2020 03:40:10 GMT | sent 100 objects to destination file, wrote 100\r\n"
     ]
    },
    {
     "name": "stdout",
     "output_type": "stream",
     "text": [
      "Tue, 28 Apr 2020 03:40:10 GMT | got 100 objects from source elasticsearch (offset: 22300)\r\n",
      "Tue, 28 Apr 2020 03:40:10 GMT | sent 100 objects to destination file, wrote 100\r\n"
     ]
    },
    {
     "name": "stdout",
     "output_type": "stream",
     "text": [
      "Tue, 28 Apr 2020 03:40:11 GMT | got 100 objects from source elasticsearch (offset: 22400)\r\n",
      "Tue, 28 Apr 2020 03:40:11 GMT | sent 100 objects to destination file, wrote 100\r\n"
     ]
    },
    {
     "name": "stdout",
     "output_type": "stream",
     "text": [
      "Tue, 28 Apr 2020 03:40:11 GMT | got 100 objects from source elasticsearch (offset: 22500)\r\n",
      "Tue, 28 Apr 2020 03:40:11 GMT | sent 100 objects to destination file, wrote 100\r\n"
     ]
    },
    {
     "name": "stdout",
     "output_type": "stream",
     "text": [
      "Tue, 28 Apr 2020 03:40:14 GMT | got 100 objects from source elasticsearch (offset: 22600)\r\n",
      "Tue, 28 Apr 2020 03:40:14 GMT | sent 100 objects to destination file, wrote 100\r\n"
     ]
    },
    {
     "name": "stdout",
     "output_type": "stream",
     "text": [
      "Tue, 28 Apr 2020 03:40:14 GMT | got 100 objects from source elasticsearch (offset: 22700)\r\n",
      "Tue, 28 Apr 2020 03:40:14 GMT | sent 100 objects to destination file, wrote 100\r\n"
     ]
    },
    {
     "name": "stdout",
     "output_type": "stream",
     "text": [
      "Tue, 28 Apr 2020 03:40:15 GMT | got 100 objects from source elasticsearch (offset: 22800)\r\n",
      "Tue, 28 Apr 2020 03:40:15 GMT | sent 100 objects to destination file, wrote 100\r\n"
     ]
    },
    {
     "name": "stdout",
     "output_type": "stream",
     "text": [
      "Tue, 28 Apr 2020 03:40:15 GMT | got 100 objects from source elasticsearch (offset: 22900)\r\n",
      "Tue, 28 Apr 2020 03:40:15 GMT | sent 100 objects to destination file, wrote 100\r\n"
     ]
    },
    {
     "name": "stdout",
     "output_type": "stream",
     "text": [
      "Tue, 28 Apr 2020 03:40:16 GMT | got 100 objects from source elasticsearch (offset: 23000)\r\n",
      "Tue, 28 Apr 2020 03:40:16 GMT | sent 100 objects to destination file, wrote 100\r\n"
     ]
    },
    {
     "name": "stdout",
     "output_type": "stream",
     "text": [
      "Tue, 28 Apr 2020 03:40:19 GMT | got 100 objects from source elasticsearch (offset: 23100)\r\n",
      "Tue, 28 Apr 2020 03:40:19 GMT | sent 100 objects to destination file, wrote 100\r\n"
     ]
    },
    {
     "name": "stdout",
     "output_type": "stream",
     "text": [
      "Tue, 28 Apr 2020 03:40:20 GMT | got 100 objects from source elasticsearch (offset: 23200)\r\n",
      "Tue, 28 Apr 2020 03:40:20 GMT | sent 100 objects to destination file, wrote 100\r\n"
     ]
    },
    {
     "name": "stdout",
     "output_type": "stream",
     "text": [
      "Tue, 28 Apr 2020 03:40:20 GMT | got 100 objects from source elasticsearch (offset: 23300)\r\n",
      "Tue, 28 Apr 2020 03:40:20 GMT | sent 100 objects to destination file, wrote 100\r\n"
     ]
    },
    {
     "name": "stdout",
     "output_type": "stream",
     "text": [
      "Tue, 28 Apr 2020 03:40:20 GMT | got 100 objects from source elasticsearch (offset: 23400)\r\n",
      "Tue, 28 Apr 2020 03:40:20 GMT | sent 100 objects to destination file, wrote 100\r\n"
     ]
    },
    {
     "name": "stdout",
     "output_type": "stream",
     "text": [
      "Tue, 28 Apr 2020 03:40:21 GMT | got 100 objects from source elasticsearch (offset: 23500)\r\n",
      "Tue, 28 Apr 2020 03:40:21 GMT | sent 100 objects to destination file, wrote 100\r\n"
     ]
    },
    {
     "name": "stdout",
     "output_type": "stream",
     "text": [
      "Tue, 28 Apr 2020 03:40:24 GMT | got 100 objects from source elasticsearch (offset: 23600)\r\n",
      "Tue, 28 Apr 2020 03:40:24 GMT | sent 100 objects to destination file, wrote 100\r\n"
     ]
    },
    {
     "name": "stdout",
     "output_type": "stream",
     "text": [
      "Tue, 28 Apr 2020 03:40:24 GMT | got 100 objects from source elasticsearch (offset: 23700)\r\n",
      "Tue, 28 Apr 2020 03:40:24 GMT | sent 100 objects to destination file, wrote 100\r\n"
     ]
    },
    {
     "name": "stdout",
     "output_type": "stream",
     "text": [
      "Tue, 28 Apr 2020 03:40:25 GMT | got 100 objects from source elasticsearch (offset: 23800)\r\n",
      "Tue, 28 Apr 2020 03:40:25 GMT | sent 100 objects to destination file, wrote 100\r\n"
     ]
    },
    {
     "name": "stdout",
     "output_type": "stream",
     "text": [
      "Tue, 28 Apr 2020 03:40:25 GMT | got 100 objects from source elasticsearch (offset: 23900)\r\n",
      "Tue, 28 Apr 2020 03:40:25 GMT | sent 100 objects to destination file, wrote 100\r\n"
     ]
    },
    {
     "name": "stdout",
     "output_type": "stream",
     "text": [
      "Tue, 28 Apr 2020 03:40:26 GMT | got 100 objects from source elasticsearch (offset: 24000)\r\n",
      "Tue, 28 Apr 2020 03:40:26 GMT | sent 100 objects to destination file, wrote 100\r\n"
     ]
    },
    {
     "name": "stdout",
     "output_type": "stream",
     "text": [
      "Tue, 28 Apr 2020 03:40:29 GMT | got 100 objects from source elasticsearch (offset: 24100)\r\n",
      "Tue, 28 Apr 2020 03:40:29 GMT | sent 100 objects to destination file, wrote 100\r\n"
     ]
    },
    {
     "name": "stdout",
     "output_type": "stream",
     "text": [
      "Tue, 28 Apr 2020 03:40:30 GMT | got 100 objects from source elasticsearch (offset: 24200)\r\n",
      "Tue, 28 Apr 2020 03:40:30 GMT | sent 100 objects to destination file, wrote 100\r\n"
     ]
    },
    {
     "name": "stdout",
     "output_type": "stream",
     "text": [
      "Tue, 28 Apr 2020 03:40:30 GMT | got 100 objects from source elasticsearch (offset: 24300)\r\n",
      "Tue, 28 Apr 2020 03:40:30 GMT | sent 100 objects to destination file, wrote 100\r\n"
     ]
    },
    {
     "name": "stdout",
     "output_type": "stream",
     "text": [
      "Tue, 28 Apr 2020 03:40:31 GMT | got 100 objects from source elasticsearch (offset: 24400)\r\n",
      "Tue, 28 Apr 2020 03:40:31 GMT | sent 100 objects to destination file, wrote 100\r\n"
     ]
    },
    {
     "name": "stdout",
     "output_type": "stream",
     "text": [
      "Tue, 28 Apr 2020 03:40:31 GMT | got 100 objects from source elasticsearch (offset: 24500)\r\n",
      "Tue, 28 Apr 2020 03:40:31 GMT | sent 100 objects to destination file, wrote 100\r\n"
     ]
    },
    {
     "name": "stdout",
     "output_type": "stream",
     "text": [
      "Tue, 28 Apr 2020 03:40:34 GMT | got 100 objects from source elasticsearch (offset: 24600)\r\n",
      "Tue, 28 Apr 2020 03:40:34 GMT | sent 100 objects to destination file, wrote 100\r\n"
     ]
    },
    {
     "name": "stdout",
     "output_type": "stream",
     "text": [
      "Tue, 28 Apr 2020 03:40:35 GMT | got 100 objects from source elasticsearch (offset: 24700)\r\n"
     ]
    },
    {
     "name": "stdout",
     "output_type": "stream",
     "text": [
      "Tue, 28 Apr 2020 03:40:35 GMT | sent 100 objects to destination file, wrote 100\r\n"
     ]
    },
    {
     "name": "stdout",
     "output_type": "stream",
     "text": [
      "Tue, 28 Apr 2020 03:40:35 GMT | got 100 objects from source elasticsearch (offset: 24800)\r\n",
      "Tue, 28 Apr 2020 03:40:35 GMT | sent 100 objects to destination file, wrote 100\r\n"
     ]
    },
    {
     "name": "stdout",
     "output_type": "stream",
     "text": [
      "Tue, 28 Apr 2020 03:40:36 GMT | got 100 objects from source elasticsearch (offset: 24900)\r\n",
      "Tue, 28 Apr 2020 03:40:36 GMT | sent 100 objects to destination file, wrote 100\r\n"
     ]
    },
    {
     "name": "stdout",
     "output_type": "stream",
     "text": [
      "Tue, 28 Apr 2020 03:40:36 GMT | got 100 objects from source elasticsearch (offset: 25000)\r\n",
      "Tue, 28 Apr 2020 03:40:36 GMT | sent 100 objects to destination file, wrote 100\r\n"
     ]
    },
    {
     "name": "stdout",
     "output_type": "stream",
     "text": [
      "Tue, 28 Apr 2020 03:40:39 GMT | got 100 objects from source elasticsearch (offset: 25100)\r\n",
      "Tue, 28 Apr 2020 03:40:39 GMT | sent 100 objects to destination file, wrote 100\r\n"
     ]
    },
    {
     "name": "stdout",
     "output_type": "stream",
     "text": [
      "Tue, 28 Apr 2020 03:40:40 GMT | got 100 objects from source elasticsearch (offset: 25200)\r\n",
      "Tue, 28 Apr 2020 03:40:40 GMT | sent 100 objects to destination file, wrote 100\r\n"
     ]
    },
    {
     "name": "stdout",
     "output_type": "stream",
     "text": [
      "Tue, 28 Apr 2020 03:40:40 GMT | got 100 objects from source elasticsearch (offset: 25300)\r\n",
      "Tue, 28 Apr 2020 03:40:40 GMT | sent 100 objects to destination file, wrote 100\r\n"
     ]
    },
    {
     "name": "stdout",
     "output_type": "stream",
     "text": [
      "Tue, 28 Apr 2020 03:40:41 GMT | got 100 objects from source elasticsearch (offset: 25400)\r\n",
      "Tue, 28 Apr 2020 03:40:41 GMT | sent 100 objects to destination file, wrote 100\r\n"
     ]
    },
    {
     "name": "stdout",
     "output_type": "stream",
     "text": [
      "Tue, 28 Apr 2020 03:40:41 GMT | got 100 objects from source elasticsearch (offset: 25500)\r\n",
      "Tue, 28 Apr 2020 03:40:41 GMT | sent 100 objects to destination file, wrote 100\r\n"
     ]
    },
    {
     "name": "stdout",
     "output_type": "stream",
     "text": [
      "Tue, 28 Apr 2020 03:40:46 GMT | got 100 objects from source elasticsearch (offset: 25600)\r\n",
      "Tue, 28 Apr 2020 03:40:46 GMT | sent 100 objects to destination file, wrote 100\r\n"
     ]
    },
    {
     "name": "stdout",
     "output_type": "stream",
     "text": [
      "Tue, 28 Apr 2020 03:40:47 GMT | got 100 objects from source elasticsearch (offset: 25700)\r\n",
      "Tue, 28 Apr 2020 03:40:47 GMT | sent 100 objects to destination file, wrote 100\r\n"
     ]
    },
    {
     "name": "stdout",
     "output_type": "stream",
     "text": [
      "Tue, 28 Apr 2020 03:40:47 GMT | got 100 objects from source elasticsearch (offset: 25800)\r\n",
      "Tue, 28 Apr 2020 03:40:47 GMT | sent 100 objects to destination file, wrote 100\r\n"
     ]
    },
    {
     "name": "stdout",
     "output_type": "stream",
     "text": [
      "Tue, 28 Apr 2020 03:40:48 GMT | got 100 objects from source elasticsearch (offset: 25900)\r\n",
      "Tue, 28 Apr 2020 03:40:48 GMT | sent 100 objects to destination file, wrote 100\r\n"
     ]
    },
    {
     "name": "stdout",
     "output_type": "stream",
     "text": [
      "Tue, 28 Apr 2020 03:40:48 GMT | got 100 objects from source elasticsearch (offset: 26000)\r\n"
     ]
    },
    {
     "name": "stdout",
     "output_type": "stream",
     "text": [
      "Tue, 28 Apr 2020 03:40:48 GMT | sent 100 objects to destination file, wrote 100\r\n"
     ]
    },
    {
     "name": "stdout",
     "output_type": "stream",
     "text": [
      "Tue, 28 Apr 2020 03:40:49 GMT | got 100 objects from source elasticsearch (offset: 26100)\r\n",
      "Tue, 28 Apr 2020 03:40:49 GMT | sent 100 objects to destination file, wrote 100\r\n"
     ]
    },
    {
     "name": "stdout",
     "output_type": "stream",
     "text": [
      "Tue, 28 Apr 2020 03:40:50 GMT | got 100 objects from source elasticsearch (offset: 26200)\r\n",
      "Tue, 28 Apr 2020 03:40:50 GMT | sent 100 objects to destination file, wrote 100\r\n"
     ]
    },
    {
     "name": "stdout",
     "output_type": "stream",
     "text": [
      "Tue, 28 Apr 2020 03:40:50 GMT | got 100 objects from source elasticsearch (offset: 26300)\r\n",
      "Tue, 28 Apr 2020 03:40:50 GMT | sent 100 objects to destination file, wrote 100\r\n"
     ]
    },
    {
     "name": "stdout",
     "output_type": "stream",
     "text": [
      "Tue, 28 Apr 2020 03:40:51 GMT | got 100 objects from source elasticsearch (offset: 26400)\r\n",
      "Tue, 28 Apr 2020 03:40:51 GMT | sent 100 objects to destination file, wrote 100\r\n"
     ]
    },
    {
     "name": "stdout",
     "output_type": "stream",
     "text": [
      "Tue, 28 Apr 2020 03:40:52 GMT | got 100 objects from source elasticsearch (offset: 26500)\r\n",
      "Tue, 28 Apr 2020 03:40:52 GMT | sent 100 objects to destination file, wrote 100\r\n"
     ]
    },
    {
     "name": "stdout",
     "output_type": "stream",
     "text": [
      "Tue, 28 Apr 2020 03:40:54 GMT | got 100 objects from source elasticsearch (offset: 26600)\r\n",
      "Tue, 28 Apr 2020 03:40:54 GMT | sent 100 objects to destination file, wrote 100\r\n"
     ]
    },
    {
     "name": "stdout",
     "output_type": "stream",
     "text": [
      "Tue, 28 Apr 2020 03:40:55 GMT | got 100 objects from source elasticsearch (offset: 26700)\r\n",
      "Tue, 28 Apr 2020 03:40:55 GMT | sent 100 objects to destination file, wrote 100\r\n"
     ]
    },
    {
     "name": "stdout",
     "output_type": "stream",
     "text": [
      "Tue, 28 Apr 2020 03:40:55 GMT | got 100 objects from source elasticsearch (offset: 26800)\r\n",
      "Tue, 28 Apr 2020 03:40:55 GMT | sent 100 objects to destination file, wrote 100\r\n"
     ]
    },
    {
     "name": "stdout",
     "output_type": "stream",
     "text": [
      "Tue, 28 Apr 2020 03:40:56 GMT | got 100 objects from source elasticsearch (offset: 26900)\r\n",
      "Tue, 28 Apr 2020 03:40:56 GMT | sent 100 objects to destination file, wrote 100\r\n"
     ]
    },
    {
     "name": "stdout",
     "output_type": "stream",
     "text": [
      "Tue, 28 Apr 2020 03:40:56 GMT | got 100 objects from source elasticsearch (offset: 27000)\r\n",
      "Tue, 28 Apr 2020 03:40:56 GMT | sent 100 objects to destination file, wrote 100\r\n"
     ]
    },
    {
     "name": "stdout",
     "output_type": "stream",
     "text": [
      "Tue, 28 Apr 2020 03:40:59 GMT | got 100 objects from source elasticsearch (offset: 27100)\r\n"
     ]
    },
    {
     "name": "stdout",
     "output_type": "stream",
     "text": [
      "Tue, 28 Apr 2020 03:40:59 GMT | sent 100 objects to destination file, wrote 100\r\n"
     ]
    },
    {
     "name": "stdout",
     "output_type": "stream",
     "text": [
      "Tue, 28 Apr 2020 03:41:00 GMT | got 100 objects from source elasticsearch (offset: 27200)\r\n",
      "Tue, 28 Apr 2020 03:41:00 GMT | sent 100 objects to destination file, wrote 100\r\n"
     ]
    },
    {
     "name": "stdout",
     "output_type": "stream",
     "text": [
      "Tue, 28 Apr 2020 03:41:00 GMT | got 100 objects from source elasticsearch (offset: 27300)\r\n",
      "Tue, 28 Apr 2020 03:41:00 GMT | sent 100 objects to destination file, wrote 100\r\n"
     ]
    },
    {
     "name": "stdout",
     "output_type": "stream",
     "text": [
      "Tue, 28 Apr 2020 03:41:01 GMT | got 100 objects from source elasticsearch (offset: 27400)\r\n",
      "Tue, 28 Apr 2020 03:41:01 GMT | sent 100 objects to destination file, wrote 100\r\n"
     ]
    },
    {
     "name": "stdout",
     "output_type": "stream",
     "text": [
      "Tue, 28 Apr 2020 03:41:01 GMT | got 100 objects from source elasticsearch (offset: 27500)\r\n",
      "Tue, 28 Apr 2020 03:41:01 GMT | sent 100 objects to destination file, wrote 100\r\n"
     ]
    },
    {
     "name": "stdout",
     "output_type": "stream",
     "text": [
      "Tue, 28 Apr 2020 03:41:04 GMT | got 100 objects from source elasticsearch (offset: 27600)\r\n",
      "Tue, 28 Apr 2020 03:41:04 GMT | sent 100 objects to destination file, wrote 100\r\n"
     ]
    },
    {
     "name": "stdout",
     "output_type": "stream",
     "text": [
      "Tue, 28 Apr 2020 03:41:05 GMT | got 100 objects from source elasticsearch (offset: 27700)\r\n"
     ]
    },
    {
     "name": "stdout",
     "output_type": "stream",
     "text": [
      "Tue, 28 Apr 2020 03:41:05 GMT | sent 100 objects to destination file, wrote 100\r\n"
     ]
    },
    {
     "name": "stdout",
     "output_type": "stream",
     "text": [
      "Tue, 28 Apr 2020 03:41:05 GMT | got 100 objects from source elasticsearch (offset: 27800)\r\n",
      "Tue, 28 Apr 2020 03:41:05 GMT | sent 100 objects to destination file, wrote 100\r\n"
     ]
    },
    {
     "name": "stdout",
     "output_type": "stream",
     "text": [
      "Tue, 28 Apr 2020 03:41:06 GMT | got 100 objects from source elasticsearch (offset: 27900)\r\n",
      "Tue, 28 Apr 2020 03:41:06 GMT | sent 100 objects to destination file, wrote 100\r\n"
     ]
    },
    {
     "name": "stdout",
     "output_type": "stream",
     "text": [
      "Tue, 28 Apr 2020 03:41:06 GMT | got 100 objects from source elasticsearch (offset: 28000)\r\n",
      "Tue, 28 Apr 2020 03:41:06 GMT | sent 100 objects to destination file, wrote 100\r\n"
     ]
    },
    {
     "name": "stdout",
     "output_type": "stream",
     "text": [
      "Tue, 28 Apr 2020 03:41:09 GMT | got 100 objects from source elasticsearch (offset: 28100)\r\n",
      "Tue, 28 Apr 2020 03:41:09 GMT | sent 100 objects to destination file, wrote 100\r\n"
     ]
    },
    {
     "name": "stdout",
     "output_type": "stream",
     "text": [
      "Tue, 28 Apr 2020 03:41:10 GMT | got 100 objects from source elasticsearch (offset: 28200)\r\n",
      "Tue, 28 Apr 2020 03:41:10 GMT | sent 100 objects to destination file, wrote 100\r\n"
     ]
    },
    {
     "name": "stdout",
     "output_type": "stream",
     "text": [
      "Tue, 28 Apr 2020 03:41:10 GMT | got 100 objects from source elasticsearch (offset: 28300)\r\n",
      "Tue, 28 Apr 2020 03:41:10 GMT | sent 100 objects to destination file, wrote 100\r\n"
     ]
    },
    {
     "name": "stdout",
     "output_type": "stream",
     "text": [
      "Tue, 28 Apr 2020 03:41:10 GMT | got 100 objects from source elasticsearch (offset: 28400)\r\n",
      "Tue, 28 Apr 2020 03:41:10 GMT | sent 100 objects to destination file, wrote 100\r\n"
     ]
    },
    {
     "name": "stdout",
     "output_type": "stream",
     "text": [
      "Tue, 28 Apr 2020 03:41:11 GMT | got 100 objects from source elasticsearch (offset: 28500)\r\n",
      "Tue, 28 Apr 2020 03:41:11 GMT | sent 100 objects to destination file, wrote 100\r\n"
     ]
    },
    {
     "name": "stdout",
     "output_type": "stream",
     "text": [
      "Tue, 28 Apr 2020 03:41:14 GMT | got 100 objects from source elasticsearch (offset: 28600)\r\n",
      "Tue, 28 Apr 2020 03:41:14 GMT | sent 100 objects to destination file, wrote 100\r\n"
     ]
    },
    {
     "name": "stdout",
     "output_type": "stream",
     "text": [
      "Tue, 28 Apr 2020 03:41:15 GMT | got 100 objects from source elasticsearch (offset: 28700)\r\n",
      "Tue, 28 Apr 2020 03:41:15 GMT | sent 100 objects to destination file, wrote 100\r\n"
     ]
    },
    {
     "name": "stdout",
     "output_type": "stream",
     "text": [
      "Tue, 28 Apr 2020 03:41:15 GMT | got 100 objects from source elasticsearch (offset: 28800)\r\n",
      "Tue, 28 Apr 2020 03:41:15 GMT | sent 100 objects to destination file, wrote 100\r\n"
     ]
    },
    {
     "name": "stdout",
     "output_type": "stream",
     "text": [
      "Tue, 28 Apr 2020 03:41:16 GMT | got 100 objects from source elasticsearch (offset: 28900)\r\n",
      "Tue, 28 Apr 2020 03:41:16 GMT | sent 100 objects to destination file, wrote 100\r\n"
     ]
    },
    {
     "name": "stdout",
     "output_type": "stream",
     "text": [
      "Tue, 28 Apr 2020 03:41:16 GMT | got 100 objects from source elasticsearch (offset: 29000)\r\n",
      "Tue, 28 Apr 2020 03:41:16 GMT | sent 100 objects to destination file, wrote 100\r\n"
     ]
    },
    {
     "name": "stdout",
     "output_type": "stream",
     "text": [
      "Tue, 28 Apr 2020 03:41:19 GMT | got 100 objects from source elasticsearch (offset: 29100)\r\n",
      "Tue, 28 Apr 2020 03:41:19 GMT | sent 100 objects to destination file, wrote 100\r\n"
     ]
    },
    {
     "name": "stdout",
     "output_type": "stream",
     "text": [
      "Tue, 28 Apr 2020 03:41:20 GMT | got 100 objects from source elasticsearch (offset: 29200)\r\n",
      "Tue, 28 Apr 2020 03:41:20 GMT | sent 100 objects to destination file, wrote 100\r\n"
     ]
    },
    {
     "name": "stdout",
     "output_type": "stream",
     "text": [
      "Tue, 28 Apr 2020 03:41:20 GMT | got 100 objects from source elasticsearch (offset: 29300)\r\n",
      "Tue, 28 Apr 2020 03:41:20 GMT | sent 100 objects to destination file, wrote 100\r\n"
     ]
    },
    {
     "name": "stdout",
     "output_type": "stream",
     "text": [
      "Tue, 28 Apr 2020 03:41:21 GMT | got 100 objects from source elasticsearch (offset: 29400)\r\n",
      "Tue, 28 Apr 2020 03:41:21 GMT | sent 100 objects to destination file, wrote 100\r\n"
     ]
    },
    {
     "name": "stdout",
     "output_type": "stream",
     "text": [
      "Tue, 28 Apr 2020 03:41:21 GMT | got 100 objects from source elasticsearch (offset: 29500)\r\n",
      "Tue, 28 Apr 2020 03:41:21 GMT | sent 100 objects to destination file, wrote 100\r\n"
     ]
    },
    {
     "name": "stdout",
     "output_type": "stream",
     "text": [
      "Tue, 28 Apr 2020 03:41:24 GMT | got 100 objects from source elasticsearch (offset: 29600)\r\n",
      "Tue, 28 Apr 2020 03:41:24 GMT | sent 100 objects to destination file, wrote 100\r\n"
     ]
    },
    {
     "name": "stdout",
     "output_type": "stream",
     "text": [
      "Tue, 28 Apr 2020 03:41:25 GMT | got 100 objects from source elasticsearch (offset: 29700)\r\n",
      "Tue, 28 Apr 2020 03:41:25 GMT | sent 100 objects to destination file, wrote 100\r\n"
     ]
    },
    {
     "name": "stdout",
     "output_type": "stream",
     "text": [
      "Tue, 28 Apr 2020 03:41:25 GMT | got 100 objects from source elasticsearch (offset: 29800)\r\n",
      "Tue, 28 Apr 2020 03:41:25 GMT | sent 100 objects to destination file, wrote 100\r\n"
     ]
    },
    {
     "name": "stdout",
     "output_type": "stream",
     "text": [
      "Tue, 28 Apr 2020 03:41:26 GMT | got 100 objects from source elasticsearch (offset: 29900)\r\n",
      "Tue, 28 Apr 2020 03:41:26 GMT | sent 100 objects to destination file, wrote 100\r\n"
     ]
    },
    {
     "name": "stdout",
     "output_type": "stream",
     "text": [
      "Tue, 28 Apr 2020 03:41:26 GMT | got 100 objects from source elasticsearch (offset: 30000)\r\n",
      "Tue, 28 Apr 2020 03:41:26 GMT | sent 100 objects to destination file, wrote 100\r\n"
     ]
    },
    {
     "name": "stdout",
     "output_type": "stream",
     "text": [
      "Tue, 28 Apr 2020 03:41:29 GMT | got 100 objects from source elasticsearch (offset: 30100)\r\n",
      "Tue, 28 Apr 2020 03:41:29 GMT | sent 100 objects to destination file, wrote 100\r\n"
     ]
    },
    {
     "name": "stdout",
     "output_type": "stream",
     "text": [
      "Tue, 28 Apr 2020 03:41:30 GMT | got 100 objects from source elasticsearch (offset: 30200)\r\n",
      "Tue, 28 Apr 2020 03:41:30 GMT | sent 100 objects to destination file, wrote 100\r\n"
     ]
    },
    {
     "name": "stdout",
     "output_type": "stream",
     "text": [
      "Tue, 28 Apr 2020 03:41:30 GMT | got 100 objects from source elasticsearch (offset: 30300)\r\n"
     ]
    },
    {
     "name": "stdout",
     "output_type": "stream",
     "text": [
      "Tue, 28 Apr 2020 03:41:30 GMT | sent 100 objects to destination file, wrote 100\r\n"
     ]
    },
    {
     "name": "stdout",
     "output_type": "stream",
     "text": [
      "Tue, 28 Apr 2020 03:41:31 GMT | got 100 objects from source elasticsearch (offset: 30400)\r\n",
      "Tue, 28 Apr 2020 03:41:31 GMT | sent 100 objects to destination file, wrote 100\r\n"
     ]
    },
    {
     "name": "stdout",
     "output_type": "stream",
     "text": [
      "Tue, 28 Apr 2020 03:41:31 GMT | got 100 objects from source elasticsearch (offset: 30500)\r\n",
      "Tue, 28 Apr 2020 03:41:31 GMT | sent 100 objects to destination file, wrote 100\r\n"
     ]
    },
    {
     "name": "stdout",
     "output_type": "stream",
     "text": [
      "Tue, 28 Apr 2020 03:41:34 GMT | got 100 objects from source elasticsearch (offset: 30600)\r\n"
     ]
    },
    {
     "name": "stdout",
     "output_type": "stream",
     "text": [
      "Tue, 28 Apr 2020 03:41:34 GMT | sent 100 objects to destination file, wrote 100\r\n"
     ]
    },
    {
     "name": "stdout",
     "output_type": "stream",
     "text": [
      "Tue, 28 Apr 2020 03:41:35 GMT | got 100 objects from source elasticsearch (offset: 30700)\r\n",
      "Tue, 28 Apr 2020 03:41:35 GMT | sent 100 objects to destination file, wrote 100\r\n"
     ]
    },
    {
     "name": "stdout",
     "output_type": "stream",
     "text": [
      "Tue, 28 Apr 2020 03:41:35 GMT | got 100 objects from source elasticsearch (offset: 30800)\r\n",
      "Tue, 28 Apr 2020 03:41:35 GMT | sent 100 objects to destination file, wrote 100\r\n"
     ]
    },
    {
     "name": "stdout",
     "output_type": "stream",
     "text": [
      "Tue, 28 Apr 2020 03:41:36 GMT | got 100 objects from source elasticsearch (offset: 30900)\r\n",
      "Tue, 28 Apr 2020 03:41:36 GMT | sent 100 objects to destination file, wrote 100\r\n"
     ]
    },
    {
     "name": "stdout",
     "output_type": "stream",
     "text": [
      "Tue, 28 Apr 2020 03:41:36 GMT | got 100 objects from source elasticsearch (offset: 31000)\r\n"
     ]
    },
    {
     "name": "stdout",
     "output_type": "stream",
     "text": [
      "Tue, 28 Apr 2020 03:41:36 GMT | sent 100 objects to destination file, wrote 100\r\n"
     ]
    },
    {
     "name": "stdout",
     "output_type": "stream",
     "text": [
      "Tue, 28 Apr 2020 03:41:39 GMT | got 100 objects from source elasticsearch (offset: 31100)\r\n",
      "Tue, 28 Apr 2020 03:41:39 GMT | sent 100 objects to destination file, wrote 100\r\n"
     ]
    },
    {
     "name": "stdout",
     "output_type": "stream",
     "text": [
      "Tue, 28 Apr 2020 03:41:40 GMT | got 100 objects from source elasticsearch (offset: 31200)\r\n",
      "Tue, 28 Apr 2020 03:41:40 GMT | sent 100 objects to destination file, wrote 100\r\n"
     ]
    },
    {
     "name": "stdout",
     "output_type": "stream",
     "text": [
      "Tue, 28 Apr 2020 03:41:40 GMT | got 100 objects from source elasticsearch (offset: 31300)\r\n",
      "Tue, 28 Apr 2020 03:41:40 GMT | sent 100 objects to destination file, wrote 100\r\n"
     ]
    },
    {
     "name": "stdout",
     "output_type": "stream",
     "text": [
      "Tue, 28 Apr 2020 03:41:41 GMT | got 100 objects from source elasticsearch (offset: 31400)\r\n",
      "Tue, 28 Apr 2020 03:41:41 GMT | sent 100 objects to destination file, wrote 100\r\n"
     ]
    },
    {
     "name": "stdout",
     "output_type": "stream",
     "text": [
      "Tue, 28 Apr 2020 03:41:41 GMT | got 100 objects from source elasticsearch (offset: 31500)\r\n",
      "Tue, 28 Apr 2020 03:41:41 GMT | sent 100 objects to destination file, wrote 100\r\n"
     ]
    },
    {
     "name": "stdout",
     "output_type": "stream",
     "text": [
      "Tue, 28 Apr 2020 03:41:44 GMT | got 100 objects from source elasticsearch (offset: 31600)\r\n"
     ]
    },
    {
     "name": "stdout",
     "output_type": "stream",
     "text": [
      "Tue, 28 Apr 2020 03:41:44 GMT | sent 100 objects to destination file, wrote 100\r\n"
     ]
    },
    {
     "name": "stdout",
     "output_type": "stream",
     "text": [
      "Tue, 28 Apr 2020 03:41:45 GMT | got 100 objects from source elasticsearch (offset: 31700)\r\n",
      "Tue, 28 Apr 2020 03:41:45 GMT | sent 100 objects to destination file, wrote 100\r\n"
     ]
    },
    {
     "name": "stdout",
     "output_type": "stream",
     "text": [
      "Tue, 28 Apr 2020 03:41:45 GMT | got 100 objects from source elasticsearch (offset: 31800)\r\n",
      "Tue, 28 Apr 2020 03:41:45 GMT | sent 100 objects to destination file, wrote 100\r\n"
     ]
    },
    {
     "name": "stdout",
     "output_type": "stream",
     "text": [
      "Tue, 28 Apr 2020 03:41:46 GMT | got 100 objects from source elasticsearch (offset: 31900)\r\n",
      "Tue, 28 Apr 2020 03:41:46 GMT | sent 100 objects to destination file, wrote 100\r\n"
     ]
    },
    {
     "name": "stdout",
     "output_type": "stream",
     "text": [
      "Tue, 28 Apr 2020 03:41:46 GMT | got 100 objects from source elasticsearch (offset: 32000)\r\n"
     ]
    },
    {
     "name": "stdout",
     "output_type": "stream",
     "text": [
      "Tue, 28 Apr 2020 03:41:46 GMT | sent 100 objects to destination file, wrote 100\r\n"
     ]
    },
    {
     "name": "stdout",
     "output_type": "stream",
     "text": [
      "Tue, 28 Apr 2020 03:41:49 GMT | got 100 objects from source elasticsearch (offset: 32100)\r\n",
      "Tue, 28 Apr 2020 03:41:49 GMT | sent 100 objects to destination file, wrote 100\r\n"
     ]
    },
    {
     "name": "stdout",
     "output_type": "stream",
     "text": [
      "Tue, 28 Apr 2020 03:41:50 GMT | got 100 objects from source elasticsearch (offset: 32200)\r\n",
      "Tue, 28 Apr 2020 03:41:50 GMT | sent 100 objects to destination file, wrote 100\r\n"
     ]
    },
    {
     "name": "stdout",
     "output_type": "stream",
     "text": [
      "Tue, 28 Apr 2020 03:41:50 GMT | got 100 objects from source elasticsearch (offset: 32300)\r\n",
      "Tue, 28 Apr 2020 03:41:50 GMT | sent 100 objects to destination file, wrote 100\r\n"
     ]
    },
    {
     "name": "stdout",
     "output_type": "stream",
     "text": [
      "Tue, 28 Apr 2020 03:41:51 GMT | got 100 objects from source elasticsearch (offset: 32400)\r\n",
      "Tue, 28 Apr 2020 03:41:51 GMT | sent 100 objects to destination file, wrote 100\r\n"
     ]
    },
    {
     "name": "stdout",
     "output_type": "stream",
     "text": [
      "Tue, 28 Apr 2020 03:41:51 GMT | got 100 objects from source elasticsearch (offset: 32500)\r\n",
      "Tue, 28 Apr 2020 03:41:51 GMT | sent 100 objects to destination file, wrote 100\r\n"
     ]
    },
    {
     "name": "stdout",
     "output_type": "stream",
     "text": [
      "Tue, 28 Apr 2020 03:41:54 GMT | got 100 objects from source elasticsearch (offset: 32600)\r\n",
      "Tue, 28 Apr 2020 03:41:54 GMT | sent 100 objects to destination file, wrote 100\r\n"
     ]
    },
    {
     "name": "stdout",
     "output_type": "stream",
     "text": [
      "Tue, 28 Apr 2020 03:41:55 GMT | got 100 objects from source elasticsearch (offset: 32700)\r\n",
      "Tue, 28 Apr 2020 03:41:55 GMT | sent 100 objects to destination file, wrote 100\r\n"
     ]
    },
    {
     "name": "stdout",
     "output_type": "stream",
     "text": [
      "Tue, 28 Apr 2020 03:41:55 GMT | got 100 objects from source elasticsearch (offset: 32800)\r\n",
      "Tue, 28 Apr 2020 03:41:55 GMT | sent 100 objects to destination file, wrote 100\r\n"
     ]
    },
    {
     "name": "stdout",
     "output_type": "stream",
     "text": [
      "Tue, 28 Apr 2020 03:41:56 GMT | got 100 objects from source elasticsearch (offset: 32900)\r\n",
      "Tue, 28 Apr 2020 03:41:56 GMT | sent 100 objects to destination file, wrote 100\r\n"
     ]
    },
    {
     "name": "stdout",
     "output_type": "stream",
     "text": [
      "Tue, 28 Apr 2020 03:41:56 GMT | got 100 objects from source elasticsearch (offset: 33000)\r\n",
      "Tue, 28 Apr 2020 03:41:56 GMT | sent 100 objects to destination file, wrote 100\r\n"
     ]
    },
    {
     "name": "stdout",
     "output_type": "stream",
     "text": [
      "Tue, 28 Apr 2020 03:41:59 GMT | got 100 objects from source elasticsearch (offset: 33100)\r\n",
      "Tue, 28 Apr 2020 03:41:59 GMT | sent 100 objects to destination file, wrote 100\r\n"
     ]
    },
    {
     "name": "stdout",
     "output_type": "stream",
     "text": [
      "Tue, 28 Apr 2020 03:42:00 GMT | got 100 objects from source elasticsearch (offset: 33200)\r\n",
      "Tue, 28 Apr 2020 03:42:00 GMT | sent 100 objects to destination file, wrote 100\r\n"
     ]
    },
    {
     "name": "stdout",
     "output_type": "stream",
     "text": [
      "Tue, 28 Apr 2020 03:42:00 GMT | got 100 objects from source elasticsearch (offset: 33300)\r\n",
      "Tue, 28 Apr 2020 03:42:00 GMT | sent 100 objects to destination file, wrote 100\r\n"
     ]
    },
    {
     "name": "stdout",
     "output_type": "stream",
     "text": [
      "Tue, 28 Apr 2020 03:42:01 GMT | got 100 objects from source elasticsearch (offset: 33400)\r\n",
      "Tue, 28 Apr 2020 03:42:01 GMT | sent 100 objects to destination file, wrote 100\r\n"
     ]
    },
    {
     "name": "stdout",
     "output_type": "stream",
     "text": [
      "Tue, 28 Apr 2020 03:42:01 GMT | got 100 objects from source elasticsearch (offset: 33500)\r\n",
      "Tue, 28 Apr 2020 03:42:01 GMT | sent 100 objects to destination file, wrote 100\r\n"
     ]
    },
    {
     "name": "stdout",
     "output_type": "stream",
     "text": [
      "Tue, 28 Apr 2020 03:42:04 GMT | got 100 objects from source elasticsearch (offset: 33600)\r\n",
      "Tue, 28 Apr 2020 03:42:04 GMT | sent 100 objects to destination file, wrote 100\r\n"
     ]
    },
    {
     "name": "stdout",
     "output_type": "stream",
     "text": [
      "Tue, 28 Apr 2020 03:42:05 GMT | got 100 objects from source elasticsearch (offset: 33700)\r\n",
      "Tue, 28 Apr 2020 03:42:05 GMT | sent 100 objects to destination file, wrote 100\r\n"
     ]
    },
    {
     "name": "stdout",
     "output_type": "stream",
     "text": [
      "Tue, 28 Apr 2020 03:42:05 GMT | got 100 objects from source elasticsearch (offset: 33800)\r\n",
      "Tue, 28 Apr 2020 03:42:05 GMT | sent 100 objects to destination file, wrote 100\r\n"
     ]
    },
    {
     "name": "stdout",
     "output_type": "stream",
     "text": [
      "Tue, 28 Apr 2020 03:42:06 GMT | got 100 objects from source elasticsearch (offset: 33900)\r\n",
      "Tue, 28 Apr 2020 03:42:06 GMT | sent 100 objects to destination file, wrote 100\r\n"
     ]
    },
    {
     "name": "stdout",
     "output_type": "stream",
     "text": [
      "Tue, 28 Apr 2020 03:42:06 GMT | got 100 objects from source elasticsearch (offset: 34000)\r\n",
      "Tue, 28 Apr 2020 03:42:06 GMT | sent 100 objects to destination file, wrote 100\r\n"
     ]
    },
    {
     "name": "stdout",
     "output_type": "stream",
     "text": [
      "Tue, 28 Apr 2020 03:42:09 GMT | got 100 objects from source elasticsearch (offset: 34100)\r\n",
      "Tue, 28 Apr 2020 03:42:09 GMT | sent 100 objects to destination file, wrote 100\r\n"
     ]
    },
    {
     "name": "stdout",
     "output_type": "stream",
     "text": [
      "Tue, 28 Apr 2020 03:42:10 GMT | got 100 objects from source elasticsearch (offset: 34200)\r\n",
      "Tue, 28 Apr 2020 03:42:10 GMT | sent 100 objects to destination file, wrote 100\r\n"
     ]
    },
    {
     "name": "stdout",
     "output_type": "stream",
     "text": [
      "Tue, 28 Apr 2020 03:42:10 GMT | got 100 objects from source elasticsearch (offset: 34300)\r\n",
      "Tue, 28 Apr 2020 03:42:10 GMT | sent 100 objects to destination file, wrote 100\r\n"
     ]
    },
    {
     "name": "stdout",
     "output_type": "stream",
     "text": [
      "Tue, 28 Apr 2020 03:42:11 GMT | got 100 objects from source elasticsearch (offset: 34400)\r\n",
      "Tue, 28 Apr 2020 03:42:11 GMT | sent 100 objects to destination file, wrote 100\r\n"
     ]
    },
    {
     "name": "stdout",
     "output_type": "stream",
     "text": [
      "Tue, 28 Apr 2020 03:42:11 GMT | got 100 objects from source elasticsearch (offset: 34500)\r\n"
     ]
    },
    {
     "name": "stdout",
     "output_type": "stream",
     "text": [
      "Tue, 28 Apr 2020 03:42:11 GMT | sent 100 objects to destination file, wrote 100\r\n"
     ]
    },
    {
     "name": "stdout",
     "output_type": "stream",
     "text": [
      "Tue, 28 Apr 2020 03:42:14 GMT | got 100 objects from source elasticsearch (offset: 34600)\r\n",
      "Tue, 28 Apr 2020 03:42:14 GMT | sent 100 objects to destination file, wrote 100\r\n"
     ]
    },
    {
     "name": "stdout",
     "output_type": "stream",
     "text": [
      "Tue, 28 Apr 2020 03:42:15 GMT | got 100 objects from source elasticsearch (offset: 34700)\r\n",
      "Tue, 28 Apr 2020 03:42:15 GMT | sent 100 objects to destination file, wrote 100\r\n"
     ]
    },
    {
     "name": "stdout",
     "output_type": "stream",
     "text": [
      "Tue, 28 Apr 2020 03:42:15 GMT | got 100 objects from source elasticsearch (offset: 34800)\r\n",
      "Tue, 28 Apr 2020 03:42:15 GMT | sent 100 objects to destination file, wrote 100\r\n"
     ]
    },
    {
     "name": "stdout",
     "output_type": "stream",
     "text": [
      "Tue, 28 Apr 2020 03:42:16 GMT | got 100 objects from source elasticsearch (offset: 34900)\r\n"
     ]
    },
    {
     "name": "stdout",
     "output_type": "stream",
     "text": [
      "Tue, 28 Apr 2020 03:42:16 GMT | sent 100 objects to destination file, wrote 100\r\n"
     ]
    },
    {
     "name": "stdout",
     "output_type": "stream",
     "text": [
      "Tue, 28 Apr 2020 03:42:16 GMT | got 100 objects from source elasticsearch (offset: 35000)\r\n",
      "Tue, 28 Apr 2020 03:42:16 GMT | sent 100 objects to destination file, wrote 100\r\n"
     ]
    },
    {
     "name": "stdout",
     "output_type": "stream",
     "text": [
      "Tue, 28 Apr 2020 03:42:19 GMT | got 100 objects from source elasticsearch (offset: 35100)\r\n",
      "Tue, 28 Apr 2020 03:42:19 GMT | sent 100 objects to destination file, wrote 100\r\n"
     ]
    },
    {
     "name": "stdout",
     "output_type": "stream",
     "text": [
      "Tue, 28 Apr 2020 03:42:20 GMT | got 100 objects from source elasticsearch (offset: 35200)\r\n",
      "Tue, 28 Apr 2020 03:42:20 GMT | sent 100 objects to destination file, wrote 100\r\n"
     ]
    },
    {
     "name": "stdout",
     "output_type": "stream",
     "text": [
      "Tue, 28 Apr 2020 03:42:20 GMT | got 100 objects from source elasticsearch (offset: 35300)\r\n",
      "Tue, 28 Apr 2020 03:42:20 GMT | sent 100 objects to destination file, wrote 100\r\n"
     ]
    },
    {
     "name": "stdout",
     "output_type": "stream",
     "text": [
      "Tue, 28 Apr 2020 03:42:21 GMT | got 100 objects from source elasticsearch (offset: 35400)\r\n",
      "Tue, 28 Apr 2020 03:42:21 GMT | sent 100 objects to destination file, wrote 100\r\n"
     ]
    },
    {
     "name": "stdout",
     "output_type": "stream",
     "text": [
      "Tue, 28 Apr 2020 03:42:21 GMT | got 100 objects from source elasticsearch (offset: 35500)\r\n",
      "Tue, 28 Apr 2020 03:42:21 GMT | sent 100 objects to destination file, wrote 100\r\n"
     ]
    },
    {
     "name": "stdout",
     "output_type": "stream",
     "text": [
      "Tue, 28 Apr 2020 03:42:24 GMT | got 100 objects from source elasticsearch (offset: 35600)\r\n"
     ]
    },
    {
     "name": "stdout",
     "output_type": "stream",
     "text": [
      "Tue, 28 Apr 2020 03:42:24 GMT | sent 100 objects to destination file, wrote 100\r\n"
     ]
    },
    {
     "name": "stdout",
     "output_type": "stream",
     "text": [
      "Tue, 28 Apr 2020 03:42:25 GMT | got 100 objects from source elasticsearch (offset: 35700)\r\n",
      "Tue, 28 Apr 2020 03:42:25 GMT | sent 100 objects to destination file, wrote 100\r\n"
     ]
    },
    {
     "name": "stdout",
     "output_type": "stream",
     "text": [
      "Tue, 28 Apr 2020 03:42:25 GMT | got 100 objects from source elasticsearch (offset: 35800)\r\n",
      "Tue, 28 Apr 2020 03:42:25 GMT | sent 100 objects to destination file, wrote 100\r\n"
     ]
    },
    {
     "name": "stdout",
     "output_type": "stream",
     "text": [
      "Tue, 28 Apr 2020 03:42:25 GMT | got 100 objects from source elasticsearch (offset: 35900)\r\n"
     ]
    },
    {
     "name": "stdout",
     "output_type": "stream",
     "text": [
      "Tue, 28 Apr 2020 03:42:25 GMT | sent 100 objects to destination file, wrote 100\r\n"
     ]
    },
    {
     "name": "stdout",
     "output_type": "stream",
     "text": [
      "Tue, 28 Apr 2020 03:42:26 GMT | got 100 objects from source elasticsearch (offset: 36000)\r\n",
      "Tue, 28 Apr 2020 03:42:26 GMT | sent 100 objects to destination file, wrote 100\r\n"
     ]
    },
    {
     "name": "stdout",
     "output_type": "stream",
     "text": [
      "Tue, 28 Apr 2020 03:42:29 GMT | got 100 objects from source elasticsearch (offset: 36100)\r\n",
      "Tue, 28 Apr 2020 03:42:29 GMT | sent 100 objects to destination file, wrote 100\r\n"
     ]
    },
    {
     "name": "stdout",
     "output_type": "stream",
     "text": [
      "Tue, 28 Apr 2020 03:42:30 GMT | got 100 objects from source elasticsearch (offset: 36200)\r\n",
      "Tue, 28 Apr 2020 03:42:30 GMT | sent 100 objects to destination file, wrote 100\r\n"
     ]
    },
    {
     "name": "stdout",
     "output_type": "stream",
     "text": [
      "Tue, 28 Apr 2020 03:42:30 GMT | got 100 objects from source elasticsearch (offset: 36300)\r\n",
      "Tue, 28 Apr 2020 03:42:30 GMT | sent 100 objects to destination file, wrote 100\r\n"
     ]
    },
    {
     "name": "stdout",
     "output_type": "stream",
     "text": [
      "Tue, 28 Apr 2020 03:42:31 GMT | got 100 objects from source elasticsearch (offset: 36400)\r\n",
      "Tue, 28 Apr 2020 03:42:31 GMT | sent 100 objects to destination file, wrote 100\r\n"
     ]
    },
    {
     "name": "stdout",
     "output_type": "stream",
     "text": [
      "Tue, 28 Apr 2020 03:42:32 GMT | got 100 objects from source elasticsearch (offset: 36500)\r\n",
      "Tue, 28 Apr 2020 03:42:32 GMT | sent 100 objects to destination file, wrote 100\r\n"
     ]
    },
    {
     "name": "stdout",
     "output_type": "stream",
     "text": [
      "Tue, 28 Apr 2020 03:42:34 GMT | got 100 objects from source elasticsearch (offset: 36600)\r\n",
      "Tue, 28 Apr 2020 03:42:34 GMT | sent 100 objects to destination file, wrote 100\r\n"
     ]
    },
    {
     "name": "stdout",
     "output_type": "stream",
     "text": [
      "Tue, 28 Apr 2020 03:42:35 GMT | got 100 objects from source elasticsearch (offset: 36700)\r\n",
      "Tue, 28 Apr 2020 03:42:35 GMT | sent 100 objects to destination file, wrote 100\r\n"
     ]
    },
    {
     "name": "stdout",
     "output_type": "stream",
     "text": [
      "Tue, 28 Apr 2020 03:42:35 GMT | got 100 objects from source elasticsearch (offset: 36800)\r\n",
      "Tue, 28 Apr 2020 03:42:35 GMT | sent 100 objects to destination file, wrote 100\r\n"
     ]
    },
    {
     "name": "stdout",
     "output_type": "stream",
     "text": [
      "Tue, 28 Apr 2020 03:42:36 GMT | got 100 objects from source elasticsearch (offset: 36900)\r\n",
      "Tue, 28 Apr 2020 03:42:36 GMT | sent 100 objects to destination file, wrote 100\r\n"
     ]
    },
    {
     "name": "stdout",
     "output_type": "stream",
     "text": [
      "Tue, 28 Apr 2020 03:42:36 GMT | got 100 objects from source elasticsearch (offset: 37000)\r\n",
      "Tue, 28 Apr 2020 03:42:36 GMT | sent 100 objects to destination file, wrote 100\r\n"
     ]
    },
    {
     "name": "stdout",
     "output_type": "stream",
     "text": [
      "Tue, 28 Apr 2020 03:42:39 GMT | got 100 objects from source elasticsearch (offset: 37100)\r\n",
      "Tue, 28 Apr 2020 03:42:39 GMT | sent 100 objects to destination file, wrote 100\r\n"
     ]
    },
    {
     "name": "stdout",
     "output_type": "stream",
     "text": [
      "Tue, 28 Apr 2020 03:42:40 GMT | got 100 objects from source elasticsearch (offset: 37200)\r\n",
      "Tue, 28 Apr 2020 03:42:40 GMT | sent 100 objects to destination file, wrote 100\r\n"
     ]
    },
    {
     "name": "stdout",
     "output_type": "stream",
     "text": [
      "Tue, 28 Apr 2020 03:42:40 GMT | got 100 objects from source elasticsearch (offset: 37300)\r\n",
      "Tue, 28 Apr 2020 03:42:40 GMT | sent 100 objects to destination file, wrote 100\r\n"
     ]
    },
    {
     "name": "stdout",
     "output_type": "stream",
     "text": [
      "Tue, 28 Apr 2020 03:42:41 GMT | got 100 objects from source elasticsearch (offset: 37400)\r\n",
      "Tue, 28 Apr 2020 03:42:41 GMT | sent 100 objects to destination file, wrote 100\r\n"
     ]
    },
    {
     "name": "stdout",
     "output_type": "stream",
     "text": [
      "Tue, 28 Apr 2020 03:42:41 GMT | got 100 objects from source elasticsearch (offset: 37500)\r\n",
      "Tue, 28 Apr 2020 03:42:41 GMT | sent 100 objects to destination file, wrote 100\r\n"
     ]
    },
    {
     "name": "stdout",
     "output_type": "stream",
     "text": [
      "Tue, 28 Apr 2020 03:42:44 GMT | got 100 objects from source elasticsearch (offset: 37600)\r\n",
      "Tue, 28 Apr 2020 03:42:44 GMT | sent 100 objects to destination file, wrote 100\r\n"
     ]
    },
    {
     "name": "stdout",
     "output_type": "stream",
     "text": [
      "Tue, 28 Apr 2020 03:42:45 GMT | got 100 objects from source elasticsearch (offset: 37700)\r\n",
      "Tue, 28 Apr 2020 03:42:45 GMT | sent 100 objects to destination file, wrote 100\r\n"
     ]
    },
    {
     "name": "stdout",
     "output_type": "stream",
     "text": [
      "Tue, 28 Apr 2020 03:42:45 GMT | got 100 objects from source elasticsearch (offset: 37800)\r\n",
      "Tue, 28 Apr 2020 03:42:45 GMT | sent 100 objects to destination file, wrote 100\r\n"
     ]
    },
    {
     "name": "stdout",
     "output_type": "stream",
     "text": [
      "Tue, 28 Apr 2020 03:42:46 GMT | got 100 objects from source elasticsearch (offset: 37900)\r\n",
      "Tue, 28 Apr 2020 03:42:46 GMT | sent 100 objects to destination file, wrote 100\r\n"
     ]
    },
    {
     "name": "stdout",
     "output_type": "stream",
     "text": [
      "Tue, 28 Apr 2020 03:42:46 GMT | got 100 objects from source elasticsearch (offset: 38000)\r\n",
      "Tue, 28 Apr 2020 03:42:46 GMT | sent 100 objects to destination file, wrote 100\r\n"
     ]
    },
    {
     "name": "stdout",
     "output_type": "stream",
     "text": [
      "Tue, 28 Apr 2020 03:42:49 GMT | got 100 objects from source elasticsearch (offset: 38100)\r\n",
      "Tue, 28 Apr 2020 03:42:49 GMT | sent 100 objects to destination file, wrote 100\r\n"
     ]
    },
    {
     "name": "stdout",
     "output_type": "stream",
     "text": [
      "Tue, 28 Apr 2020 03:42:50 GMT | got 100 objects from source elasticsearch (offset: 38200)\r\n",
      "Tue, 28 Apr 2020 03:42:50 GMT | sent 100 objects to destination file, wrote 100\r\n"
     ]
    },
    {
     "name": "stdout",
     "output_type": "stream",
     "text": [
      "Tue, 28 Apr 2020 03:42:50 GMT | got 100 objects from source elasticsearch (offset: 38300)\r\n",
      "Tue, 28 Apr 2020 03:42:50 GMT | sent 100 objects to destination file, wrote 100\r\n"
     ]
    },
    {
     "name": "stdout",
     "output_type": "stream",
     "text": [
      "Tue, 28 Apr 2020 03:42:51 GMT | got 100 objects from source elasticsearch (offset: 38400)\r\n",
      "Tue, 28 Apr 2020 03:42:51 GMT | sent 100 objects to destination file, wrote 100\r\n"
     ]
    },
    {
     "name": "stdout",
     "output_type": "stream",
     "text": [
      "Tue, 28 Apr 2020 03:42:51 GMT | got 100 objects from source elasticsearch (offset: 38500)\r\n",
      "Tue, 28 Apr 2020 03:42:51 GMT | sent 100 objects to destination file, wrote 100\r\n"
     ]
    },
    {
     "name": "stdout",
     "output_type": "stream",
     "text": [
      "Tue, 28 Apr 2020 03:42:54 GMT | got 100 objects from source elasticsearch (offset: 38600)\r\n",
      "Tue, 28 Apr 2020 03:42:54 GMT | sent 100 objects to destination file, wrote 100\r\n"
     ]
    },
    {
     "name": "stdout",
     "output_type": "stream",
     "text": [
      "Tue, 28 Apr 2020 03:42:55 GMT | got 100 objects from source elasticsearch (offset: 38700)\r\n",
      "Tue, 28 Apr 2020 03:42:55 GMT | sent 100 objects to destination file, wrote 100\r\n"
     ]
    },
    {
     "name": "stdout",
     "output_type": "stream",
     "text": [
      "Tue, 28 Apr 2020 03:42:55 GMT | got 100 objects from source elasticsearch (offset: 38800)\r\n",
      "Tue, 28 Apr 2020 03:42:55 GMT | sent 100 objects to destination file, wrote 100\r\n"
     ]
    },
    {
     "name": "stdout",
     "output_type": "stream",
     "text": [
      "Tue, 28 Apr 2020 03:42:55 GMT | got 100 objects from source elasticsearch (offset: 38900)\r\n",
      "Tue, 28 Apr 2020 03:42:55 GMT | sent 100 objects to destination file, wrote 100\r\n"
     ]
    },
    {
     "name": "stdout",
     "output_type": "stream",
     "text": [
      "Tue, 28 Apr 2020 03:42:56 GMT | got 100 objects from source elasticsearch (offset: 39000)\r\n",
      "Tue, 28 Apr 2020 03:42:56 GMT | sent 100 objects to destination file, wrote 100\r\n"
     ]
    },
    {
     "name": "stdout",
     "output_type": "stream",
     "text": [
      "Tue, 28 Apr 2020 03:42:59 GMT | got 100 objects from source elasticsearch (offset: 39100)\r\n",
      "Tue, 28 Apr 2020 03:42:59 GMT | sent 100 objects to destination file, wrote 100\r\n"
     ]
    },
    {
     "name": "stdout",
     "output_type": "stream",
     "text": [
      "Tue, 28 Apr 2020 03:43:00 GMT | got 100 objects from source elasticsearch (offset: 39200)\r\n",
      "Tue, 28 Apr 2020 03:43:00 GMT | sent 100 objects to destination file, wrote 100\r\n"
     ]
    },
    {
     "name": "stdout",
     "output_type": "stream",
     "text": [
      "Tue, 28 Apr 2020 03:43:00 GMT | got 100 objects from source elasticsearch (offset: 39300)\r\n",
      "Tue, 28 Apr 2020 03:43:00 GMT | sent 100 objects to destination file, wrote 100\r\n"
     ]
    },
    {
     "name": "stdout",
     "output_type": "stream",
     "text": [
      "Tue, 28 Apr 2020 03:43:01 GMT | got 100 objects from source elasticsearch (offset: 39400)\r\n",
      "Tue, 28 Apr 2020 03:43:01 GMT | sent 100 objects to destination file, wrote 100\r\n"
     ]
    },
    {
     "name": "stdout",
     "output_type": "stream",
     "text": [
      "Tue, 28 Apr 2020 03:43:01 GMT | got 100 objects from source elasticsearch (offset: 39500)\r\n"
     ]
    },
    {
     "name": "stdout",
     "output_type": "stream",
     "text": [
      "Tue, 28 Apr 2020 03:43:01 GMT | sent 100 objects to destination file, wrote 100\r\n"
     ]
    },
    {
     "name": "stdout",
     "output_type": "stream",
     "text": [
      "Tue, 28 Apr 2020 03:43:04 GMT | got 100 objects from source elasticsearch (offset: 39600)\r\n",
      "Tue, 28 Apr 2020 03:43:04 GMT | sent 100 objects to destination file, wrote 100\r\n"
     ]
    },
    {
     "name": "stdout",
     "output_type": "stream",
     "text": [
      "Tue, 28 Apr 2020 03:43:05 GMT | got 100 objects from source elasticsearch (offset: 39700)\r\n",
      "Tue, 28 Apr 2020 03:43:05 GMT | sent 100 objects to destination file, wrote 100\r\n"
     ]
    },
    {
     "name": "stdout",
     "output_type": "stream",
     "text": [
      "Tue, 28 Apr 2020 03:43:05 GMT | got 100 objects from source elasticsearch (offset: 39800)\r\n",
      "Tue, 28 Apr 2020 03:43:05 GMT | sent 100 objects to destination file, wrote 100\r\n"
     ]
    },
    {
     "name": "stdout",
     "output_type": "stream",
     "text": [
      "Tue, 28 Apr 2020 03:43:06 GMT | got 100 objects from source elasticsearch (offset: 39900)\r\n",
      "Tue, 28 Apr 2020 03:43:06 GMT | sent 100 objects to destination file, wrote 100\r\n"
     ]
    },
    {
     "name": "stdout",
     "output_type": "stream",
     "text": [
      "Tue, 28 Apr 2020 03:43:06 GMT | got 100 objects from source elasticsearch (offset: 40000)\r\n",
      "Tue, 28 Apr 2020 03:43:06 GMT | sent 100 objects to destination file, wrote 100\r\n"
     ]
    },
    {
     "name": "stdout",
     "output_type": "stream",
     "text": [
      "Tue, 28 Apr 2020 03:43:09 GMT | got 100 objects from source elasticsearch (offset: 40100)\r\n",
      "Tue, 28 Apr 2020 03:43:09 GMT | sent 100 objects to destination file, wrote 100\r\n"
     ]
    },
    {
     "name": "stdout",
     "output_type": "stream",
     "text": [
      "Tue, 28 Apr 2020 03:43:10 GMT | got 100 objects from source elasticsearch (offset: 40200)\r\n",
      "Tue, 28 Apr 2020 03:43:10 GMT | sent 100 objects to destination file, wrote 100\r\n"
     ]
    },
    {
     "name": "stdout",
     "output_type": "stream",
     "text": [
      "Tue, 28 Apr 2020 03:43:10 GMT | got 100 objects from source elasticsearch (offset: 40300)\r\n",
      "Tue, 28 Apr 2020 03:43:10 GMT | sent 100 objects to destination file, wrote 100\r\n"
     ]
    },
    {
     "name": "stdout",
     "output_type": "stream",
     "text": [
      "Tue, 28 Apr 2020 03:43:11 GMT | got 100 objects from source elasticsearch (offset: 40400)\r\n"
     ]
    },
    {
     "name": "stdout",
     "output_type": "stream",
     "text": [
      "Tue, 28 Apr 2020 03:43:11 GMT | sent 100 objects to destination file, wrote 100\r\n"
     ]
    },
    {
     "name": "stdout",
     "output_type": "stream",
     "text": [
      "Tue, 28 Apr 2020 03:43:11 GMT | got 100 objects from source elasticsearch (offset: 40500)\r\n"
     ]
    },
    {
     "name": "stdout",
     "output_type": "stream",
     "text": [
      "Tue, 28 Apr 2020 03:43:11 GMT | sent 100 objects to destination file, wrote 100\r\n"
     ]
    },
    {
     "name": "stdout",
     "output_type": "stream",
     "text": [
      "Tue, 28 Apr 2020 03:43:14 GMT | got 100 objects from source elasticsearch (offset: 40600)\r\n",
      "Tue, 28 Apr 2020 03:43:14 GMT | sent 100 objects to destination file, wrote 100\r\n"
     ]
    },
    {
     "name": "stdout",
     "output_type": "stream",
     "text": [
      "Tue, 28 Apr 2020 03:43:15 GMT | got 100 objects from source elasticsearch (offset: 40700)\r\n",
      "Tue, 28 Apr 2020 03:43:15 GMT | sent 100 objects to destination file, wrote 100\r\n"
     ]
    },
    {
     "name": "stdout",
     "output_type": "stream",
     "text": [
      "Tue, 28 Apr 2020 03:43:15 GMT | got 100 objects from source elasticsearch (offset: 40800)\r\n",
      "Tue, 28 Apr 2020 03:43:15 GMT | sent 100 objects to destination file, wrote 100\r\n"
     ]
    },
    {
     "name": "stdout",
     "output_type": "stream",
     "text": [
      "Tue, 28 Apr 2020 03:43:16 GMT | got 100 objects from source elasticsearch (offset: 40900)\r\n"
     ]
    },
    {
     "name": "stdout",
     "output_type": "stream",
     "text": [
      "Tue, 28 Apr 2020 03:43:16 GMT | sent 100 objects to destination file, wrote 100\r\n"
     ]
    },
    {
     "name": "stdout",
     "output_type": "stream",
     "text": [
      "Tue, 28 Apr 2020 03:43:16 GMT | got 100 objects from source elasticsearch (offset: 41000)\r\n"
     ]
    },
    {
     "name": "stdout",
     "output_type": "stream",
     "text": [
      "Tue, 28 Apr 2020 03:43:16 GMT | sent 100 objects to destination file, wrote 100\r\n"
     ]
    },
    {
     "name": "stdout",
     "output_type": "stream",
     "text": [
      "Tue, 28 Apr 2020 03:43:19 GMT | got 100 objects from source elasticsearch (offset: 41100)\r\n",
      "Tue, 28 Apr 2020 03:43:19 GMT | sent 100 objects to destination file, wrote 100\r\n"
     ]
    },
    {
     "name": "stdout",
     "output_type": "stream",
     "text": [
      "Tue, 28 Apr 2020 03:43:20 GMT | got 100 objects from source elasticsearch (offset: 41200)\r\n",
      "Tue, 28 Apr 2020 03:43:20 GMT | sent 100 objects to destination file, wrote 100\r\n"
     ]
    },
    {
     "name": "stdout",
     "output_type": "stream",
     "text": [
      "Tue, 28 Apr 2020 03:43:20 GMT | got 100 objects from source elasticsearch (offset: 41300)\r\n",
      "Tue, 28 Apr 2020 03:43:20 GMT | sent 100 objects to destination file, wrote 100\r\n"
     ]
    },
    {
     "name": "stdout",
     "output_type": "stream",
     "text": [
      "Tue, 28 Apr 2020 03:43:20 GMT | got 100 objects from source elasticsearch (offset: 41400)\r\n",
      "Tue, 28 Apr 2020 03:43:20 GMT | sent 100 objects to destination file, wrote 100\r\n"
     ]
    },
    {
     "name": "stdout",
     "output_type": "stream",
     "text": [
      "Tue, 28 Apr 2020 03:43:21 GMT | got 100 objects from source elasticsearch (offset: 41500)\r\n",
      "Tue, 28 Apr 2020 03:43:21 GMT | sent 100 objects to destination file, wrote 100\r\n"
     ]
    },
    {
     "name": "stdout",
     "output_type": "stream",
     "text": [
      "Tue, 28 Apr 2020 03:43:24 GMT | got 100 objects from source elasticsearch (offset: 41600)\r\n",
      "Tue, 28 Apr 2020 03:43:24 GMT | sent 100 objects to destination file, wrote 100\r\n"
     ]
    },
    {
     "name": "stdout",
     "output_type": "stream",
     "text": [
      "Tue, 28 Apr 2020 03:43:25 GMT | got 100 objects from source elasticsearch (offset: 41700)\r\n",
      "Tue, 28 Apr 2020 03:43:25 GMT | sent 100 objects to destination file, wrote 100\r\n"
     ]
    },
    {
     "name": "stdout",
     "output_type": "stream",
     "text": [
      "Tue, 28 Apr 2020 03:43:25 GMT | got 100 objects from source elasticsearch (offset: 41800)\r\n",
      "Tue, 28 Apr 2020 03:43:25 GMT | sent 100 objects to destination file, wrote 100\r\n"
     ]
    },
    {
     "name": "stdout",
     "output_type": "stream",
     "text": [
      "Tue, 28 Apr 2020 03:43:25 GMT | got 100 objects from source elasticsearch (offset: 41900)\r\n",
      "Tue, 28 Apr 2020 03:43:25 GMT | sent 100 objects to destination file, wrote 100\r\n"
     ]
    },
    {
     "name": "stdout",
     "output_type": "stream",
     "text": [
      "Tue, 28 Apr 2020 03:43:26 GMT | got 100 objects from source elasticsearch (offset: 42000)\r\n"
     ]
    },
    {
     "name": "stdout",
     "output_type": "stream",
     "text": [
      "Tue, 28 Apr 2020 03:43:26 GMT | sent 100 objects to destination file, wrote 100\r\n"
     ]
    },
    {
     "name": "stdout",
     "output_type": "stream",
     "text": [
      "Tue, 28 Apr 2020 03:43:29 GMT | got 100 objects from source elasticsearch (offset: 42100)\r\n",
      "Tue, 28 Apr 2020 03:43:29 GMT | sent 100 objects to destination file, wrote 100\r\n"
     ]
    },
    {
     "name": "stdout",
     "output_type": "stream",
     "text": [
      "Tue, 28 Apr 2020 03:43:30 GMT | got 100 objects from source elasticsearch (offset: 42200)\r\n",
      "Tue, 28 Apr 2020 03:43:30 GMT | sent 100 objects to destination file, wrote 100\r\n"
     ]
    },
    {
     "name": "stdout",
     "output_type": "stream",
     "text": [
      "Tue, 28 Apr 2020 03:43:30 GMT | got 100 objects from source elasticsearch (offset: 42300)\r\n",
      "Tue, 28 Apr 2020 03:43:30 GMT | sent 100 objects to destination file, wrote 100\r\n"
     ]
    },
    {
     "name": "stdout",
     "output_type": "stream",
     "text": [
      "Tue, 28 Apr 2020 03:43:31 GMT | got 100 objects from source elasticsearch (offset: 42400)\r\n",
      "Tue, 28 Apr 2020 03:43:31 GMT | sent 100 objects to destination file, wrote 100\r\n"
     ]
    },
    {
     "name": "stdout",
     "output_type": "stream",
     "text": [
      "Tue, 28 Apr 2020 03:43:31 GMT | got 100 objects from source elasticsearch (offset: 42500)\r\n",
      "Tue, 28 Apr 2020 03:43:31 GMT | sent 100 objects to destination file, wrote 100\r\n"
     ]
    },
    {
     "name": "stdout",
     "output_type": "stream",
     "text": [
      "Tue, 28 Apr 2020 03:43:34 GMT | got 100 objects from source elasticsearch (offset: 42600)\r\n",
      "Tue, 28 Apr 2020 03:43:34 GMT | sent 100 objects to destination file, wrote 100\r\n"
     ]
    },
    {
     "name": "stdout",
     "output_type": "stream",
     "text": [
      "Tue, 28 Apr 2020 03:43:35 GMT | got 100 objects from source elasticsearch (offset: 42700)\r\n",
      "Tue, 28 Apr 2020 03:43:35 GMT | sent 100 objects to destination file, wrote 100\r\n"
     ]
    },
    {
     "name": "stdout",
     "output_type": "stream",
     "text": [
      "Tue, 28 Apr 2020 03:43:35 GMT | got 100 objects from source elasticsearch (offset: 42800)\r\n"
     ]
    },
    {
     "name": "stdout",
     "output_type": "stream",
     "text": [
      "Tue, 28 Apr 2020 03:43:35 GMT | sent 100 objects to destination file, wrote 100\r\n"
     ]
    },
    {
     "name": "stdout",
     "output_type": "stream",
     "text": [
      "Tue, 28 Apr 2020 03:43:36 GMT | got 100 objects from source elasticsearch (offset: 42900)\r\n",
      "Tue, 28 Apr 2020 03:43:36 GMT | sent 100 objects to destination file, wrote 100\r\n"
     ]
    },
    {
     "name": "stdout",
     "output_type": "stream",
     "text": [
      "Tue, 28 Apr 2020 03:43:36 GMT | got 100 objects from source elasticsearch (offset: 43000)\r\n",
      "Tue, 28 Apr 2020 03:43:36 GMT | sent 100 objects to destination file, wrote 100\r\n"
     ]
    },
    {
     "name": "stdout",
     "output_type": "stream",
     "text": [
      "Tue, 28 Apr 2020 03:43:39 GMT | got 100 objects from source elasticsearch (offset: 43100)\r\n",
      "Tue, 28 Apr 2020 03:43:39 GMT | sent 100 objects to destination file, wrote 100\r\n"
     ]
    },
    {
     "name": "stdout",
     "output_type": "stream",
     "text": [
      "Tue, 28 Apr 2020 03:43:40 GMT | got 100 objects from source elasticsearch (offset: 43200)\r\n",
      "Tue, 28 Apr 2020 03:43:40 GMT | sent 100 objects to destination file, wrote 100\r\n"
     ]
    },
    {
     "name": "stdout",
     "output_type": "stream",
     "text": [
      "Tue, 28 Apr 2020 03:43:40 GMT | got 100 objects from source elasticsearch (offset: 43300)\r\n",
      "Tue, 28 Apr 2020 03:43:40 GMT | sent 100 objects to destination file, wrote 100\r\n"
     ]
    },
    {
     "name": "stdout",
     "output_type": "stream",
     "text": [
      "Tue, 28 Apr 2020 03:43:41 GMT | got 100 objects from source elasticsearch (offset: 43400)\r\n",
      "Tue, 28 Apr 2020 03:43:41 GMT | sent 100 objects to destination file, wrote 100\r\n"
     ]
    },
    {
     "name": "stdout",
     "output_type": "stream",
     "text": [
      "Tue, 28 Apr 2020 03:43:41 GMT | got 100 objects from source elasticsearch (offset: 43500)\r\n",
      "Tue, 28 Apr 2020 03:43:41 GMT | sent 100 objects to destination file, wrote 100\r\n"
     ]
    },
    {
     "name": "stdout",
     "output_type": "stream",
     "text": [
      "Tue, 28 Apr 2020 03:43:44 GMT | got 100 objects from source elasticsearch (offset: 43600)\r\n",
      "Tue, 28 Apr 2020 03:43:44 GMT | sent 100 objects to destination file, wrote 100\r\n"
     ]
    },
    {
     "name": "stdout",
     "output_type": "stream",
     "text": [
      "Tue, 28 Apr 2020 03:43:45 GMT | got 100 objects from source elasticsearch (offset: 43700)\r\n",
      "Tue, 28 Apr 2020 03:43:45 GMT | sent 100 objects to destination file, wrote 100\r\n"
     ]
    },
    {
     "name": "stdout",
     "output_type": "stream",
     "text": [
      "Tue, 28 Apr 2020 03:43:45 GMT | got 100 objects from source elasticsearch (offset: 43800)\r\n",
      "Tue, 28 Apr 2020 03:43:45 GMT | sent 100 objects to destination file, wrote 100\r\n"
     ]
    },
    {
     "name": "stdout",
     "output_type": "stream",
     "text": [
      "Tue, 28 Apr 2020 03:43:46 GMT | got 100 objects from source elasticsearch (offset: 43900)\r\n",
      "Tue, 28 Apr 2020 03:43:46 GMT | sent 100 objects to destination file, wrote 100\r\n"
     ]
    },
    {
     "name": "stdout",
     "output_type": "stream",
     "text": [
      "Tue, 28 Apr 2020 03:43:46 GMT | got 100 objects from source elasticsearch (offset: 44000)\r\n",
      "Tue, 28 Apr 2020 03:43:46 GMT | sent 100 objects to destination file, wrote 100\r\n"
     ]
    },
    {
     "name": "stdout",
     "output_type": "stream",
     "text": [
      "Tue, 28 Apr 2020 03:43:49 GMT | got 100 objects from source elasticsearch (offset: 44100)\r\n",
      "Tue, 28 Apr 2020 03:43:49 GMT | sent 100 objects to destination file, wrote 100\r\n"
     ]
    },
    {
     "name": "stdout",
     "output_type": "stream",
     "text": [
      "Tue, 28 Apr 2020 03:43:50 GMT | got 100 objects from source elasticsearch (offset: 44200)\r\n",
      "Tue, 28 Apr 2020 03:43:50 GMT | sent 100 objects to destination file, wrote 100\r\n"
     ]
    },
    {
     "name": "stdout",
     "output_type": "stream",
     "text": [
      "Tue, 28 Apr 2020 03:43:50 GMT | got 100 objects from source elasticsearch (offset: 44300)\r\n",
      "Tue, 28 Apr 2020 03:43:50 GMT | sent 100 objects to destination file, wrote 100\r\n"
     ]
    },
    {
     "name": "stdout",
     "output_type": "stream",
     "text": [
      "Tue, 28 Apr 2020 03:43:51 GMT | got 100 objects from source elasticsearch (offset: 44400)\r\n",
      "Tue, 28 Apr 2020 03:43:51 GMT | sent 100 objects to destination file, wrote 100\r\n"
     ]
    },
    {
     "name": "stdout",
     "output_type": "stream",
     "text": [
      "Tue, 28 Apr 2020 03:43:51 GMT | got 100 objects from source elasticsearch (offset: 44500)\r\n",
      "Tue, 28 Apr 2020 03:43:51 GMT | sent 100 objects to destination file, wrote 100\r\n"
     ]
    },
    {
     "name": "stdout",
     "output_type": "stream",
     "text": [
      "Tue, 28 Apr 2020 03:43:54 GMT | got 100 objects from source elasticsearch (offset: 44600)\r\n",
      "Tue, 28 Apr 2020 03:43:54 GMT | sent 100 objects to destination file, wrote 100\r\n"
     ]
    },
    {
     "name": "stdout",
     "output_type": "stream",
     "text": [
      "Tue, 28 Apr 2020 03:43:55 GMT | got 100 objects from source elasticsearch (offset: 44700)\r\n",
      "Tue, 28 Apr 2020 03:43:55 GMT | sent 100 objects to destination file, wrote 100\r\n"
     ]
    },
    {
     "name": "stdout",
     "output_type": "stream",
     "text": [
      "Tue, 28 Apr 2020 03:43:55 GMT | got 100 objects from source elasticsearch (offset: 44800)\r\n",
      "Tue, 28 Apr 2020 03:43:55 GMT | sent 100 objects to destination file, wrote 100\r\n"
     ]
    },
    {
     "name": "stdout",
     "output_type": "stream",
     "text": [
      "Tue, 28 Apr 2020 03:43:56 GMT | got 100 objects from source elasticsearch (offset: 44900)\r\n",
      "Tue, 28 Apr 2020 03:43:56 GMT | sent 100 objects to destination file, wrote 100\r\n"
     ]
    },
    {
     "name": "stdout",
     "output_type": "stream",
     "text": [
      "Tue, 28 Apr 2020 03:43:56 GMT | got 100 objects from source elasticsearch (offset: 45000)\r\n",
      "Tue, 28 Apr 2020 03:43:56 GMT | sent 100 objects to destination file, wrote 100\r\n"
     ]
    },
    {
     "name": "stdout",
     "output_type": "stream",
     "text": [
      "Tue, 28 Apr 2020 03:43:59 GMT | got 100 objects from source elasticsearch (offset: 45100)\r\n",
      "Tue, 28 Apr 2020 03:43:59 GMT | sent 100 objects to destination file, wrote 100\r\n"
     ]
    },
    {
     "name": "stdout",
     "output_type": "stream",
     "text": [
      "Tue, 28 Apr 2020 03:44:00 GMT | got 100 objects from source elasticsearch (offset: 45200)\r\n"
     ]
    },
    {
     "name": "stdout",
     "output_type": "stream",
     "text": [
      "Tue, 28 Apr 2020 03:44:00 GMT | sent 100 objects to destination file, wrote 100\r\n"
     ]
    },
    {
     "name": "stdout",
     "output_type": "stream",
     "text": [
      "Tue, 28 Apr 2020 03:44:00 GMT | got 100 objects from source elasticsearch (offset: 45300)\r\n",
      "Tue, 28 Apr 2020 03:44:00 GMT | sent 100 objects to destination file, wrote 100\r\n"
     ]
    },
    {
     "name": "stdout",
     "output_type": "stream",
     "text": [
      "Tue, 28 Apr 2020 03:44:01 GMT | got 100 objects from source elasticsearch (offset: 45400)\r\n",
      "Tue, 28 Apr 2020 03:44:01 GMT | sent 100 objects to destination file, wrote 100\r\n"
     ]
    },
    {
     "name": "stdout",
     "output_type": "stream",
     "text": [
      "Tue, 28 Apr 2020 03:44:01 GMT | got 100 objects from source elasticsearch (offset: 45500)\r\n",
      "Tue, 28 Apr 2020 03:44:01 GMT | sent 100 objects to destination file, wrote 100\r\n"
     ]
    },
    {
     "name": "stdout",
     "output_type": "stream",
     "text": [
      "Tue, 28 Apr 2020 03:44:04 GMT | got 100 objects from source elasticsearch (offset: 45600)\r\n",
      "Tue, 28 Apr 2020 03:44:04 GMT | sent 100 objects to destination file, wrote 100\r\n"
     ]
    },
    {
     "name": "stdout",
     "output_type": "stream",
     "text": [
      "Tue, 28 Apr 2020 03:44:05 GMT | got 100 objects from source elasticsearch (offset: 45700)\r\n",
      "Tue, 28 Apr 2020 03:44:05 GMT | sent 100 objects to destination file, wrote 100\r\n"
     ]
    },
    {
     "name": "stdout",
     "output_type": "stream",
     "text": [
      "Tue, 28 Apr 2020 03:44:05 GMT | got 100 objects from source elasticsearch (offset: 45800)\r\n",
      "Tue, 28 Apr 2020 03:44:05 GMT | sent 100 objects to destination file, wrote 100\r\n"
     ]
    },
    {
     "name": "stdout",
     "output_type": "stream",
     "text": [
      "Tue, 28 Apr 2020 03:44:06 GMT | got 100 objects from source elasticsearch (offset: 45900)\r\n",
      "Tue, 28 Apr 2020 03:44:06 GMT | sent 100 objects to destination file, wrote 100\r\n"
     ]
    },
    {
     "name": "stdout",
     "output_type": "stream",
     "text": [
      "Tue, 28 Apr 2020 03:44:06 GMT | got 100 objects from source elasticsearch (offset: 46000)\r\n",
      "Tue, 28 Apr 2020 03:44:06 GMT | sent 100 objects to destination file, wrote 100\r\n"
     ]
    },
    {
     "name": "stdout",
     "output_type": "stream",
     "text": [
      "Tue, 28 Apr 2020 03:44:09 GMT | got 100 objects from source elasticsearch (offset: 46100)\r\n",
      "Tue, 28 Apr 2020 03:44:09 GMT | sent 100 objects to destination file, wrote 100\r\n"
     ]
    },
    {
     "name": "stdout",
     "output_type": "stream",
     "text": [
      "Tue, 28 Apr 2020 03:44:10 GMT | got 100 objects from source elasticsearch (offset: 46200)\r\n",
      "Tue, 28 Apr 2020 03:44:10 GMT | sent 100 objects to destination file, wrote 100\r\n"
     ]
    },
    {
     "name": "stdout",
     "output_type": "stream",
     "text": [
      "Tue, 28 Apr 2020 03:44:10 GMT | got 100 objects from source elasticsearch (offset: 46300)\r\n",
      "Tue, 28 Apr 2020 03:44:10 GMT | sent 100 objects to destination file, wrote 100\r\n"
     ]
    },
    {
     "name": "stdout",
     "output_type": "stream",
     "text": [
      "Tue, 28 Apr 2020 03:44:11 GMT | got 100 objects from source elasticsearch (offset: 46400)\r\n",
      "Tue, 28 Apr 2020 03:44:11 GMT | sent 100 objects to destination file, wrote 100\r\n"
     ]
    },
    {
     "name": "stdout",
     "output_type": "stream",
     "text": [
      "Tue, 28 Apr 2020 03:44:12 GMT | got 100 objects from source elasticsearch (offset: 46500)\r\n"
     ]
    },
    {
     "name": "stdout",
     "output_type": "stream",
     "text": [
      "Tue, 28 Apr 2020 03:44:12 GMT | sent 100 objects to destination file, wrote 100\r\n"
     ]
    },
    {
     "name": "stdout",
     "output_type": "stream",
     "text": [
      "Tue, 28 Apr 2020 03:44:14 GMT | got 100 objects from source elasticsearch (offset: 46600)\r\n",
      "Tue, 28 Apr 2020 03:44:14 GMT | sent 100 objects to destination file, wrote 100\r\n"
     ]
    },
    {
     "name": "stdout",
     "output_type": "stream",
     "text": [
      "Tue, 28 Apr 2020 03:44:15 GMT | got 100 objects from source elasticsearch (offset: 46700)\r\n",
      "Tue, 28 Apr 2020 03:44:15 GMT | sent 100 objects to destination file, wrote 100\r\n"
     ]
    },
    {
     "name": "stdout",
     "output_type": "stream",
     "text": [
      "Tue, 28 Apr 2020 03:44:15 GMT | got 100 objects from source elasticsearch (offset: 46800)\r\n",
      "Tue, 28 Apr 2020 03:44:15 GMT | sent 100 objects to destination file, wrote 100\r\n"
     ]
    },
    {
     "name": "stdout",
     "output_type": "stream",
     "text": [
      "Tue, 28 Apr 2020 03:44:16 GMT | got 100 objects from source elasticsearch (offset: 46900)\r\n",
      "Tue, 28 Apr 2020 03:44:16 GMT | sent 100 objects to destination file, wrote 100\r\n"
     ]
    },
    {
     "name": "stdout",
     "output_type": "stream",
     "text": [
      "Tue, 28 Apr 2020 03:44:16 GMT | got 100 objects from source elasticsearch (offset: 47000)\r\n",
      "Tue, 28 Apr 2020 03:44:16 GMT | sent 100 objects to destination file, wrote 100\r\n"
     ]
    },
    {
     "name": "stdout",
     "output_type": "stream",
     "text": [
      "Tue, 28 Apr 2020 03:44:19 GMT | got 100 objects from source elasticsearch (offset: 47100)\r\n",
      "Tue, 28 Apr 2020 03:44:19 GMT | sent 100 objects to destination file, wrote 100\r\n"
     ]
    },
    {
     "name": "stdout",
     "output_type": "stream",
     "text": [
      "Tue, 28 Apr 2020 03:44:20 GMT | got 100 objects from source elasticsearch (offset: 47200)\r\n",
      "Tue, 28 Apr 2020 03:44:20 GMT | sent 100 objects to destination file, wrote 100\r\n"
     ]
    },
    {
     "name": "stdout",
     "output_type": "stream",
     "text": [
      "Tue, 28 Apr 2020 03:44:21 GMT | got 100 objects from source elasticsearch (offset: 47300)\r\n",
      "Tue, 28 Apr 2020 03:44:21 GMT | sent 100 objects to destination file, wrote 100\r\n"
     ]
    },
    {
     "name": "stdout",
     "output_type": "stream",
     "text": [
      "Tue, 28 Apr 2020 03:44:22 GMT | got 100 objects from source elasticsearch (offset: 47400)\r\n",
      "Tue, 28 Apr 2020 03:44:22 GMT | sent 100 objects to destination file, wrote 100\r\n"
     ]
    },
    {
     "name": "stdout",
     "output_type": "stream",
     "text": [
      "Tue, 28 Apr 2020 03:44:22 GMT | got 100 objects from source elasticsearch (offset: 47500)\r\n",
      "Tue, 28 Apr 2020 03:44:22 GMT | sent 100 objects to destination file, wrote 100\r\n"
     ]
    },
    {
     "name": "stdout",
     "output_type": "stream",
     "text": [
      "Tue, 28 Apr 2020 03:44:24 GMT | got 100 objects from source elasticsearch (offset: 47600)\r\n",
      "Tue, 28 Apr 2020 03:44:24 GMT | sent 100 objects to destination file, wrote 100\r\n"
     ]
    },
    {
     "name": "stdout",
     "output_type": "stream",
     "text": [
      "Tue, 28 Apr 2020 03:44:25 GMT | got 100 objects from source elasticsearch (offset: 47700)\r\n",
      "Tue, 28 Apr 2020 03:44:25 GMT | sent 100 objects to destination file, wrote 100\r\n"
     ]
    },
    {
     "name": "stdout",
     "output_type": "stream",
     "text": [
      "Tue, 28 Apr 2020 03:44:25 GMT | got 100 objects from source elasticsearch (offset: 47800)\r\n"
     ]
    },
    {
     "name": "stdout",
     "output_type": "stream",
     "text": [
      "Tue, 28 Apr 2020 03:44:25 GMT | sent 100 objects to destination file, wrote 100\r\n"
     ]
    },
    {
     "name": "stdout",
     "output_type": "stream",
     "text": [
      "Tue, 28 Apr 2020 03:44:26 GMT | got 100 objects from source elasticsearch (offset: 47900)\r\n",
      "Tue, 28 Apr 2020 03:44:26 GMT | sent 100 objects to destination file, wrote 100\r\n"
     ]
    },
    {
     "name": "stdout",
     "output_type": "stream",
     "text": [
      "Tue, 28 Apr 2020 03:44:26 GMT | got 100 objects from source elasticsearch (offset: 48000)\r\n",
      "Tue, 28 Apr 2020 03:44:26 GMT | sent 100 objects to destination file, wrote 100\r\n"
     ]
    },
    {
     "name": "stdout",
     "output_type": "stream",
     "text": [
      "Tue, 28 Apr 2020 03:44:29 GMT | got 100 objects from source elasticsearch (offset: 48100)\r\n",
      "Tue, 28 Apr 2020 03:44:29 GMT | sent 100 objects to destination file, wrote 100\r\n"
     ]
    },
    {
     "name": "stdout",
     "output_type": "stream",
     "text": [
      "Tue, 28 Apr 2020 03:44:30 GMT | got 100 objects from source elasticsearch (offset: 48200)\r\n",
      "Tue, 28 Apr 2020 03:44:30 GMT | sent 100 objects to destination file, wrote 100\r\n"
     ]
    },
    {
     "name": "stdout",
     "output_type": "stream",
     "text": [
      "Tue, 28 Apr 2020 03:44:30 GMT | got 100 objects from source elasticsearch (offset: 48300)\r\n",
      "Tue, 28 Apr 2020 03:44:30 GMT | sent 100 objects to destination file, wrote 100\r\n"
     ]
    },
    {
     "name": "stdout",
     "output_type": "stream",
     "text": [
      "Tue, 28 Apr 2020 03:44:31 GMT | got 100 objects from source elasticsearch (offset: 48400)\r\n",
      "Tue, 28 Apr 2020 03:44:31 GMT | sent 100 objects to destination file, wrote 100\r\n"
     ]
    },
    {
     "name": "stdout",
     "output_type": "stream",
     "text": [
      "Tue, 28 Apr 2020 03:44:31 GMT | got 100 objects from source elasticsearch (offset: 48500)\r\n",
      "Tue, 28 Apr 2020 03:44:31 GMT | sent 100 objects to destination file, wrote 100\r\n"
     ]
    },
    {
     "name": "stdout",
     "output_type": "stream",
     "text": [
      "Tue, 28 Apr 2020 03:44:34 GMT | got 100 objects from source elasticsearch (offset: 48600)\r\n",
      "Tue, 28 Apr 2020 03:44:34 GMT | sent 100 objects to destination file, wrote 100\r\n"
     ]
    },
    {
     "name": "stdout",
     "output_type": "stream",
     "text": [
      "Tue, 28 Apr 2020 03:44:35 GMT | got 100 objects from source elasticsearch (offset: 48700)\r\n"
     ]
    },
    {
     "name": "stdout",
     "output_type": "stream",
     "text": [
      "Tue, 28 Apr 2020 03:44:35 GMT | sent 100 objects to destination file, wrote 100\r\n"
     ]
    },
    {
     "name": "stdout",
     "output_type": "stream",
     "text": [
      "Tue, 28 Apr 2020 03:44:35 GMT | got 100 objects from source elasticsearch (offset: 48800)\r\n",
      "Tue, 28 Apr 2020 03:44:35 GMT | sent 100 objects to destination file, wrote 100\r\n"
     ]
    },
    {
     "name": "stdout",
     "output_type": "stream",
     "text": [
      "Tue, 28 Apr 2020 03:44:36 GMT | got 100 objects from source elasticsearch (offset: 48900)\r\n",
      "Tue, 28 Apr 2020 03:44:36 GMT | sent 100 objects to destination file, wrote 100\r\n"
     ]
    },
    {
     "name": "stdout",
     "output_type": "stream",
     "text": [
      "Tue, 28 Apr 2020 03:44:36 GMT | got 100 objects from source elasticsearch (offset: 49000)\r\n",
      "Tue, 28 Apr 2020 03:44:36 GMT | sent 100 objects to destination file, wrote 100\r\n"
     ]
    },
    {
     "name": "stdout",
     "output_type": "stream",
     "text": [
      "Tue, 28 Apr 2020 03:44:39 GMT | got 100 objects from source elasticsearch (offset: 49100)\r\n",
      "Tue, 28 Apr 2020 03:44:39 GMT | sent 100 objects to destination file, wrote 100\r\n"
     ]
    },
    {
     "name": "stdout",
     "output_type": "stream",
     "text": [
      "Tue, 28 Apr 2020 03:44:40 GMT | got 100 objects from source elasticsearch (offset: 49200)\r\n",
      "Tue, 28 Apr 2020 03:44:40 GMT | sent 100 objects to destination file, wrote 100\r\n"
     ]
    },
    {
     "name": "stdout",
     "output_type": "stream",
     "text": [
      "Tue, 28 Apr 2020 03:44:40 GMT | got 100 objects from source elasticsearch (offset: 49300)\r\n",
      "Tue, 28 Apr 2020 03:44:40 GMT | sent 100 objects to destination file, wrote 100\r\n"
     ]
    },
    {
     "name": "stdout",
     "output_type": "stream",
     "text": [
      "Tue, 28 Apr 2020 03:44:41 GMT | got 100 objects from source elasticsearch (offset: 49400)\r\n",
      "Tue, 28 Apr 2020 03:44:41 GMT | sent 100 objects to destination file, wrote 100\r\n"
     ]
    },
    {
     "name": "stdout",
     "output_type": "stream",
     "text": [
      "Tue, 28 Apr 2020 03:44:41 GMT | got 100 objects from source elasticsearch (offset: 49500)\r\n",
      "Tue, 28 Apr 2020 03:44:41 GMT | sent 100 objects to destination file, wrote 100\r\n"
     ]
    },
    {
     "name": "stdout",
     "output_type": "stream",
     "text": [
      "Tue, 28 Apr 2020 03:44:44 GMT | got 100 objects from source elasticsearch (offset: 49600)\r\n",
      "Tue, 28 Apr 2020 03:44:44 GMT | sent 100 objects to destination file, wrote 100\r\n"
     ]
    },
    {
     "name": "stdout",
     "output_type": "stream",
     "text": [
      "Tue, 28 Apr 2020 03:44:45 GMT | got 100 objects from source elasticsearch (offset: 49700)\r\n",
      "Tue, 28 Apr 2020 03:44:45 GMT | sent 100 objects to destination file, wrote 100\r\n"
     ]
    },
    {
     "name": "stdout",
     "output_type": "stream",
     "text": [
      "Tue, 28 Apr 2020 03:44:45 GMT | got 100 objects from source elasticsearch (offset: 49800)\r\n"
     ]
    },
    {
     "name": "stdout",
     "output_type": "stream",
     "text": [
      "Tue, 28 Apr 2020 03:44:45 GMT | sent 100 objects to destination file, wrote 100\r\n"
     ]
    },
    {
     "name": "stdout",
     "output_type": "stream",
     "text": [
      "Tue, 28 Apr 2020 03:44:46 GMT | got 100 objects from source elasticsearch (offset: 49900)\r\n",
      "Tue, 28 Apr 2020 03:44:46 GMT | sent 100 objects to destination file, wrote 100\r\n"
     ]
    },
    {
     "name": "stdout",
     "output_type": "stream",
     "text": [
      "Tue, 28 Apr 2020 03:44:46 GMT | got 100 objects from source elasticsearch (offset: 50000)\r\n",
      "Tue, 28 Apr 2020 03:44:46 GMT | sent 100 objects to destination file, wrote 100\r\n"
     ]
    },
    {
     "name": "stdout",
     "output_type": "stream",
     "text": [
      "Tue, 28 Apr 2020 03:44:49 GMT | got 100 objects from source elasticsearch (offset: 50100)\r\n",
      "Tue, 28 Apr 2020 03:44:49 GMT | sent 100 objects to destination file, wrote 100\r\n"
     ]
    },
    {
     "name": "stdout",
     "output_type": "stream",
     "text": [
      "Tue, 28 Apr 2020 03:44:50 GMT | got 100 objects from source elasticsearch (offset: 50200)\r\n",
      "Tue, 28 Apr 2020 03:44:50 GMT | sent 100 objects to destination file, wrote 100\r\n"
     ]
    },
    {
     "name": "stdout",
     "output_type": "stream",
     "text": [
      "Tue, 28 Apr 2020 03:44:50 GMT | got 100 objects from source elasticsearch (offset: 50300)\r\n",
      "Tue, 28 Apr 2020 03:44:50 GMT | sent 100 objects to destination file, wrote 100\r\n"
     ]
    },
    {
     "name": "stdout",
     "output_type": "stream",
     "text": [
      "Tue, 28 Apr 2020 03:44:51 GMT | got 100 objects from source elasticsearch (offset: 50400)\r\n",
      "Tue, 28 Apr 2020 03:44:51 GMT | sent 100 objects to destination file, wrote 100\r\n"
     ]
    },
    {
     "name": "stdout",
     "output_type": "stream",
     "text": [
      "Tue, 28 Apr 2020 03:44:51 GMT | got 100 objects from source elasticsearch (offset: 50500)\r\n",
      "Tue, 28 Apr 2020 03:44:51 GMT | sent 100 objects to destination file, wrote 100\r\n"
     ]
    },
    {
     "name": "stdout",
     "output_type": "stream",
     "text": [
      "Tue, 28 Apr 2020 03:44:54 GMT | got 100 objects from source elasticsearch (offset: 50600)\r\n",
      "Tue, 28 Apr 2020 03:44:54 GMT | sent 100 objects to destination file, wrote 100\r\n"
     ]
    },
    {
     "name": "stdout",
     "output_type": "stream",
     "text": [
      "Tue, 28 Apr 2020 03:44:55 GMT | got 100 objects from source elasticsearch (offset: 50700)\r\n",
      "Tue, 28 Apr 2020 03:44:55 GMT | sent 100 objects to destination file, wrote 100\r\n"
     ]
    },
    {
     "name": "stdout",
     "output_type": "stream",
     "text": [
      "Tue, 28 Apr 2020 03:44:55 GMT | got 100 objects from source elasticsearch (offset: 50800)\r\n",
      "Tue, 28 Apr 2020 03:44:55 GMT | sent 100 objects to destination file, wrote 100\r\n"
     ]
    },
    {
     "name": "stdout",
     "output_type": "stream",
     "text": [
      "Tue, 28 Apr 2020 03:44:56 GMT | got 100 objects from source elasticsearch (offset: 50900)\r\n",
      "Tue, 28 Apr 2020 03:44:56 GMT | sent 100 objects to destination file, wrote 100\r\n"
     ]
    },
    {
     "name": "stdout",
     "output_type": "stream",
     "text": [
      "Tue, 28 Apr 2020 03:44:56 GMT | got 100 objects from source elasticsearch (offset: 51000)\r\n",
      "Tue, 28 Apr 2020 03:44:56 GMT | sent 100 objects to destination file, wrote 100\r\n"
     ]
    },
    {
     "name": "stdout",
     "output_type": "stream",
     "text": [
      "Tue, 28 Apr 2020 03:44:59 GMT | got 100 objects from source elasticsearch (offset: 51100)\r\n",
      "Tue, 28 Apr 2020 03:44:59 GMT | sent 100 objects to destination file, wrote 100\r\n"
     ]
    },
    {
     "name": "stdout",
     "output_type": "stream",
     "text": [
      "Tue, 28 Apr 2020 03:45:00 GMT | got 100 objects from source elasticsearch (offset: 51200)\r\n",
      "Tue, 28 Apr 2020 03:45:00 GMT | sent 100 objects to destination file, wrote 100\r\n"
     ]
    },
    {
     "name": "stdout",
     "output_type": "stream",
     "text": [
      "Tue, 28 Apr 2020 03:45:00 GMT | got 100 objects from source elasticsearch (offset: 51300)\r\n",
      "Tue, 28 Apr 2020 03:45:00 GMT | sent 100 objects to destination file, wrote 100\r\n"
     ]
    },
    {
     "name": "stdout",
     "output_type": "stream",
     "text": [
      "Tue, 28 Apr 2020 03:45:01 GMT | got 100 objects from source elasticsearch (offset: 51400)\r\n",
      "Tue, 28 Apr 2020 03:45:01 GMT | sent 100 objects to destination file, wrote 100\r\n"
     ]
    },
    {
     "name": "stdout",
     "output_type": "stream",
     "text": [
      "Tue, 28 Apr 2020 03:45:01 GMT | got 100 objects from source elasticsearch (offset: 51500)\r\n",
      "Tue, 28 Apr 2020 03:45:01 GMT | sent 100 objects to destination file, wrote 100\r\n"
     ]
    },
    {
     "name": "stdout",
     "output_type": "stream",
     "text": [
      "Tue, 28 Apr 2020 03:45:04 GMT | got 100 objects from source elasticsearch (offset: 51600)\r\n",
      "Tue, 28 Apr 2020 03:45:04 GMT | sent 100 objects to destination file, wrote 100\r\n"
     ]
    },
    {
     "name": "stdout",
     "output_type": "stream",
     "text": [
      "Tue, 28 Apr 2020 03:45:05 GMT | got 100 objects from source elasticsearch (offset: 51700)\r\n",
      "Tue, 28 Apr 2020 03:45:05 GMT | sent 100 objects to destination file, wrote 100\r\n"
     ]
    },
    {
     "name": "stdout",
     "output_type": "stream",
     "text": [
      "Tue, 28 Apr 2020 03:45:05 GMT | got 100 objects from source elasticsearch (offset: 51800)\r\n",
      "Tue, 28 Apr 2020 03:45:05 GMT | sent 100 objects to destination file, wrote 100\r\n"
     ]
    },
    {
     "name": "stdout",
     "output_type": "stream",
     "text": [
      "Tue, 28 Apr 2020 03:45:06 GMT | got 100 objects from source elasticsearch (offset: 51900)\r\n",
      "Tue, 28 Apr 2020 03:45:06 GMT | sent 100 objects to destination file, wrote 100\r\n"
     ]
    },
    {
     "name": "stdout",
     "output_type": "stream",
     "text": [
      "Tue, 28 Apr 2020 03:45:06 GMT | got 100 objects from source elasticsearch (offset: 52000)\r\n",
      "Tue, 28 Apr 2020 03:45:06 GMT | sent 100 objects to destination file, wrote 100\r\n"
     ]
    },
    {
     "name": "stdout",
     "output_type": "stream",
     "text": [
      "Tue, 28 Apr 2020 03:45:09 GMT | got 100 objects from source elasticsearch (offset: 52100)\r\n",
      "Tue, 28 Apr 2020 03:45:09 GMT | sent 100 objects to destination file, wrote 100\r\n"
     ]
    },
    {
     "name": "stdout",
     "output_type": "stream",
     "text": [
      "Tue, 28 Apr 2020 03:45:10 GMT | got 100 objects from source elasticsearch (offset: 52200)\r\n",
      "Tue, 28 Apr 2020 03:45:10 GMT | sent 100 objects to destination file, wrote 100\r\n"
     ]
    },
    {
     "name": "stdout",
     "output_type": "stream",
     "text": [
      "Tue, 28 Apr 2020 03:45:10 GMT | got 100 objects from source elasticsearch (offset: 52300)\r\n",
      "Tue, 28 Apr 2020 03:45:10 GMT | sent 100 objects to destination file, wrote 100\r\n"
     ]
    },
    {
     "name": "stdout",
     "output_type": "stream",
     "text": [
      "Tue, 28 Apr 2020 03:45:11 GMT | got 100 objects from source elasticsearch (offset: 52400)\r\n"
     ]
    },
    {
     "name": "stdout",
     "output_type": "stream",
     "text": [
      "Tue, 28 Apr 2020 03:45:11 GMT | sent 100 objects to destination file, wrote 100\r\n"
     ]
    },
    {
     "name": "stdout",
     "output_type": "stream",
     "text": [
      "Tue, 28 Apr 2020 03:45:11 GMT | got 100 objects from source elasticsearch (offset: 52500)\r\n",
      "Tue, 28 Apr 2020 03:45:11 GMT | sent 100 objects to destination file, wrote 100\r\n"
     ]
    },
    {
     "name": "stdout",
     "output_type": "stream",
     "text": [
      "Tue, 28 Apr 2020 03:45:14 GMT | got 100 objects from source elasticsearch (offset: 52600)\r\n",
      "Tue, 28 Apr 2020 03:45:14 GMT | sent 100 objects to destination file, wrote 100\r\n"
     ]
    },
    {
     "name": "stdout",
     "output_type": "stream",
     "text": [
      "Tue, 28 Apr 2020 03:45:15 GMT | got 100 objects from source elasticsearch (offset: 52700)\r\n",
      "Tue, 28 Apr 2020 03:45:15 GMT | sent 100 objects to destination file, wrote 100\r\n"
     ]
    },
    {
     "name": "stdout",
     "output_type": "stream",
     "text": [
      "Tue, 28 Apr 2020 03:45:15 GMT | got 100 objects from source elasticsearch (offset: 52800)\r\n",
      "Tue, 28 Apr 2020 03:45:15 GMT | sent 100 objects to destination file, wrote 100\r\n"
     ]
    },
    {
     "name": "stdout",
     "output_type": "stream",
     "text": [
      "Tue, 28 Apr 2020 03:45:16 GMT | got 100 objects from source elasticsearch (offset: 52900)\r\n"
     ]
    },
    {
     "name": "stdout",
     "output_type": "stream",
     "text": [
      "Tue, 28 Apr 2020 03:45:16 GMT | sent 100 objects to destination file, wrote 100\r\n"
     ]
    },
    {
     "name": "stdout",
     "output_type": "stream",
     "text": [
      "Tue, 28 Apr 2020 03:45:16 GMT | got 100 objects from source elasticsearch (offset: 53000)\r\n"
     ]
    },
    {
     "name": "stdout",
     "output_type": "stream",
     "text": [
      "Tue, 28 Apr 2020 03:45:16 GMT | sent 100 objects to destination file, wrote 100\r\n"
     ]
    },
    {
     "name": "stdout",
     "output_type": "stream",
     "text": [
      "Tue, 28 Apr 2020 03:45:19 GMT | got 100 objects from source elasticsearch (offset: 53100)\r\n",
      "Tue, 28 Apr 2020 03:45:19 GMT | sent 100 objects to destination file, wrote 100\r\n"
     ]
    },
    {
     "name": "stdout",
     "output_type": "stream",
     "text": [
      "Tue, 28 Apr 2020 03:45:20 GMT | got 100 objects from source elasticsearch (offset: 53200)\r\n",
      "Tue, 28 Apr 2020 03:45:20 GMT | sent 100 objects to destination file, wrote 100\r\n"
     ]
    },
    {
     "name": "stdout",
     "output_type": "stream",
     "text": [
      "Tue, 28 Apr 2020 03:45:20 GMT | got 100 objects from source elasticsearch (offset: 53300)\r\n",
      "Tue, 28 Apr 2020 03:45:20 GMT | sent 100 objects to destination file, wrote 100\r\n"
     ]
    },
    {
     "name": "stdout",
     "output_type": "stream",
     "text": [
      "Tue, 28 Apr 2020 03:45:21 GMT | got 100 objects from source elasticsearch (offset: 53400)\r\n",
      "Tue, 28 Apr 2020 03:45:21 GMT | sent 100 objects to destination file, wrote 100\r\n"
     ]
    },
    {
     "name": "stdout",
     "output_type": "stream",
     "text": [
      "Tue, 28 Apr 2020 03:45:21 GMT | got 100 objects from source elasticsearch (offset: 53500)\r\n",
      "Tue, 28 Apr 2020 03:45:21 GMT | sent 100 objects to destination file, wrote 100\r\n"
     ]
    },
    {
     "name": "stdout",
     "output_type": "stream",
     "text": [
      "Tue, 28 Apr 2020 03:45:24 GMT | got 100 objects from source elasticsearch (offset: 53600)\r\n",
      "Tue, 28 Apr 2020 03:45:24 GMT | sent 100 objects to destination file, wrote 100\r\n"
     ]
    },
    {
     "name": "stdout",
     "output_type": "stream",
     "text": [
      "Tue, 28 Apr 2020 03:45:25 GMT | got 100 objects from source elasticsearch (offset: 53700)\r\n",
      "Tue, 28 Apr 2020 03:45:25 GMT | sent 100 objects to destination file, wrote 100\r\n"
     ]
    },
    {
     "name": "stdout",
     "output_type": "stream",
     "text": [
      "Tue, 28 Apr 2020 03:45:25 GMT | got 100 objects from source elasticsearch (offset: 53800)\r\n",
      "Tue, 28 Apr 2020 03:45:25 GMT | sent 100 objects to destination file, wrote 100\r\n"
     ]
    },
    {
     "name": "stdout",
     "output_type": "stream",
     "text": [
      "Tue, 28 Apr 2020 03:45:26 GMT | got 100 objects from source elasticsearch (offset: 53900)\r\n",
      "Tue, 28 Apr 2020 03:45:26 GMT | sent 100 objects to destination file, wrote 100\r\n"
     ]
    },
    {
     "name": "stdout",
     "output_type": "stream",
     "text": [
      "Tue, 28 Apr 2020 03:45:26 GMT | got 100 objects from source elasticsearch (offset: 54000)\r\n",
      "Tue, 28 Apr 2020 03:45:26 GMT | sent 100 objects to destination file, wrote 100\r\n"
     ]
    },
    {
     "name": "stdout",
     "output_type": "stream",
     "text": [
      "Tue, 28 Apr 2020 03:45:29 GMT | got 100 objects from source elasticsearch (offset: 54100)\r\n",
      "Tue, 28 Apr 2020 03:45:29 GMT | sent 100 objects to destination file, wrote 100\r\n"
     ]
    },
    {
     "name": "stdout",
     "output_type": "stream",
     "text": [
      "Tue, 28 Apr 2020 03:45:30 GMT | got 100 objects from source elasticsearch (offset: 54200)\r\n",
      "Tue, 28 Apr 2020 03:45:30 GMT | sent 100 objects to destination file, wrote 100\r\n"
     ]
    },
    {
     "name": "stdout",
     "output_type": "stream",
     "text": [
      "Tue, 28 Apr 2020 03:45:30 GMT | got 100 objects from source elasticsearch (offset: 54300)\r\n",
      "Tue, 28 Apr 2020 03:45:30 GMT | sent 100 objects to destination file, wrote 100\r\n"
     ]
    },
    {
     "name": "stdout",
     "output_type": "stream",
     "text": [
      "Tue, 28 Apr 2020 03:45:31 GMT | got 100 objects from source elasticsearch (offset: 54400)\r\n",
      "Tue, 28 Apr 2020 03:45:31 GMT | sent 100 objects to destination file, wrote 100\r\n"
     ]
    },
    {
     "name": "stdout",
     "output_type": "stream",
     "text": [
      "Tue, 28 Apr 2020 03:45:31 GMT | got 100 objects from source elasticsearch (offset: 54500)\r\n",
      "Tue, 28 Apr 2020 03:45:31 GMT | sent 100 objects to destination file, wrote 100\r\n"
     ]
    },
    {
     "name": "stdout",
     "output_type": "stream",
     "text": [
      "Tue, 28 Apr 2020 03:45:34 GMT | got 100 objects from source elasticsearch (offset: 54600)\r\n",
      "Tue, 28 Apr 2020 03:45:34 GMT | sent 100 objects to destination file, wrote 100\r\n"
     ]
    },
    {
     "name": "stdout",
     "output_type": "stream",
     "text": [
      "Tue, 28 Apr 2020 03:45:35 GMT | got 100 objects from source elasticsearch (offset: 54700)\r\n",
      "Tue, 28 Apr 2020 03:45:35 GMT | sent 100 objects to destination file, wrote 100\r\n"
     ]
    },
    {
     "name": "stdout",
     "output_type": "stream",
     "text": [
      "Tue, 28 Apr 2020 03:45:35 GMT | got 100 objects from source elasticsearch (offset: 54800)\r\n",
      "Tue, 28 Apr 2020 03:45:35 GMT | sent 100 objects to destination file, wrote 100\r\n"
     ]
    },
    {
     "name": "stdout",
     "output_type": "stream",
     "text": [
      "Tue, 28 Apr 2020 03:45:36 GMT | got 100 objects from source elasticsearch (offset: 54900)\r\n",
      "Tue, 28 Apr 2020 03:45:36 GMT | sent 100 objects to destination file, wrote 100\r\n"
     ]
    },
    {
     "name": "stdout",
     "output_type": "stream",
     "text": [
      "Tue, 28 Apr 2020 03:45:36 GMT | got 100 objects from source elasticsearch (offset: 55000)\r\n",
      "Tue, 28 Apr 2020 03:45:36 GMT | sent 100 objects to destination file, wrote 100\r\n"
     ]
    },
    {
     "name": "stdout",
     "output_type": "stream",
     "text": [
      "Tue, 28 Apr 2020 03:45:39 GMT | got 100 objects from source elasticsearch (offset: 55100)\r\n",
      "Tue, 28 Apr 2020 03:45:39 GMT | sent 100 objects to destination file, wrote 100\r\n"
     ]
    },
    {
     "name": "stdout",
     "output_type": "stream",
     "text": [
      "Tue, 28 Apr 2020 03:45:40 GMT | got 100 objects from source elasticsearch (offset: 55200)\r\n",
      "Tue, 28 Apr 2020 03:45:40 GMT | sent 100 objects to destination file, wrote 100\r\n"
     ]
    },
    {
     "name": "stdout",
     "output_type": "stream",
     "text": [
      "Tue, 28 Apr 2020 03:45:40 GMT | got 68 objects from source elasticsearch (offset: 55300)\r\n",
      "Tue, 28 Apr 2020 03:45:40 GMT | sent 68 objects to destination file, wrote 68\r\n",
      "Tue, 28 Apr 2020 03:45:40 GMT | got 0 objects from source elasticsearch (offset: 55368)\r\n",
      "Tue, 28 Apr 2020 03:45:40 GMT | Total Writes: 55368\r\n",
      "Tue, 28 Apr 2020 03:45:40 GMT | dump complete\r\n"
     ]
    }
   ],
   "source": [
    "! /usr/local/lib/node_modules/elasticdump/bin/elasticdump \\\n",
    "--input=\"http://$userName:$password@$ipAndPort/$index\" \\\n",
    "--output=\"$outputFile\""
   ]
  },
  {
   "cell_type": "markdown",
   "metadata": {
    "papermill": {
     "duration": 0.24845,
     "end_time": "2020-04-28T03:45:49.887085",
     "exception": false,
     "start_time": "2020-04-28T03:45:49.638635",
     "status": "completed"
    },
    "tags": []
   },
   "source": [
    "# Convert NDJSON output to xlsx"
   ]
  },
  {
   "cell_type": "code",
   "execution_count": 6,
   "metadata": {
    "papermill": {
     "duration": 24.176308,
     "end_time": "2020-04-28T03:46:14.309655",
     "exception": false,
     "start_time": "2020-04-28T03:45:50.133347",
     "status": "completed"
    },
    "tags": []
   },
   "outputs": [],
   "source": [
    "data = pd.DataFrame()\n",
    "paragraphs = []\n",
    "titles = []\n",
    "ids = []\n",
    "isLessons = []\n",
    "sources = []\n",
    "annotationTitles = []\n",
    "annotationStatuses = []\n",
    "annotationSummaries = []\n",
    "lastAnnotateds = []\n",
    "annotatedBys = []\n",
    "f = open(outputFile, \"r\")\n",
    "\n",
    "startTextParagraph = '\"paragraph\":\"'\n",
    "endTextParagraph = '\",\"themes\"'\n",
    "\n",
    "startTextId = '\"_id\":\"'\n",
    "endTextId = '\",\"_score\"'\n",
    "\n",
    "# startTextThemes = '\"themes\":'\n",
    "# endTextThemes = ',\"sectors\":'\n",
    "\n",
    "# startTextSectors = ',\"sectors\":'\n",
    "# endTextSectors = ',\"countries\":'\n",
    "\n",
    "# startTextCountries = ',\"countries\":'\n",
    "# endTextCountries = ',\"lessonStrength\":'\n",
    "\n",
    "startTextIsLesson = '\"isLesson\":'\n",
    "endTextIsLesson = ',\"month\":\"'\n",
    "\n",
    "# c = 0\n",
    "for line in f.readlines():\n",
    "#     c = c + 1\n",
    "#     print(c)\n",
    "\n",
    "    startTextATitle = '\"annotationTitle\":\"'\n",
    "    endTextAtitle = '\",\"summary\":'\n",
    "\n",
    "    startTextASummary = '\"annotationSummary\":\"'\n",
    "    endTextASummary = '\",\"lastAnnotated\":'\n",
    "\n",
    "    startTextAStatus = '\"annotationStatus\":\"'\n",
    "    endTextAStatus = '\",\"urlToFile\":'\n",
    "\n",
    "    startTextALast = '\"lastAnnotated\":\"'\n",
    "    endTextALast = '\",\"annotationStatus\":'\n",
    "\n",
    "    startTextABy = 'annotatedBy\":\"'\n",
    "    endTextABy = '\",\"context\":'\n",
    "    \n",
    "    startTextSource = '\"source\":\"'\n",
    "    endTextSource = '\"}}'\n",
    "    \n",
    "    startTextTitle = '\"title\":\"'\n",
    "    endTextTitle = '\",\"paragraph\":'\n",
    "    \n",
    "    paragraph = line[line.index(startTextParagraph) + 13: line.index(endTextParagraph)]\n",
    "    title = line[line.index(startTextTitle) + len(startTextTitle): line.index(endTextTitle)]\n",
    "    paragraphId = line[line.index(startTextId) + 7: line.index(endTextId)]\n",
    "    isLesson = line[line.index(startTextIsLesson) + 11: line.index(endTextIsLesson)]\n",
    "    annotationStatus = line[line.index(startTextAStatus) + len(startTextAStatus): line.index(endTextAStatus)]\n",
    "    \n",
    "    if(not startTextATitle in line):\n",
    "        annotationTitle = \"\"\n",
    "    else:\n",
    "        annotationTitle = line[line.index(startTextATitle) + len(startTextATitle): line.index(endTextAtitle)]\n",
    "        \n",
    "    if(not startTextASummary in line):\n",
    "        annotationSummary = \"\"\n",
    "    else:\n",
    "        annotationSummary = line[line.index(startTextASummary) + len(startTextASummary): line.index(endTextASummary)]\n",
    "        \n",
    "    if(not startTextALast in line):\n",
    "        lastAnnotated = \"\"\n",
    "    else:\n",
    "        lastAnnotated = line[line.index(startTextALast) + len(startTextALast): line.index(endTextALast)]\n",
    "\n",
    "    if(not startTextABy in line):\n",
    "        annotatedBy = \"\"\n",
    "    else:\n",
    "        indexEndTextABy = line.index(endTextABy)\n",
    "        indexStartTextABy = line.index(startTextABy)\n",
    "        if(indexEndTextABy < indexStartTextABy):\n",
    "            endTextABy = '\",\"annotationSummary\":'\n",
    "            indexEndTextABy = line.index(endTextABy)           \n",
    "        annotatedBy = line[indexStartTextABy + len(startTextABy): indexEndTextABy]\n",
    "    \n",
    "    if(not endTextSource in line):\n",
    "        endTextSource = '\",\"validatedBy\"'\n",
    "    source = line[line.index(startTextSource) + 10: line.index(endTextSource)]\n",
    "    \n",
    "    paragraphs.append(paragraph)\n",
    "    titles.append(title)\n",
    "    annotationTitles.append(annotationTitle)\n",
    "    annotationSummaries.append(annotationSummary)\n",
    "    lastAnnotateds.append(lastAnnotated)\n",
    "    annotatedBys.append(annotatedBy)\n",
    "    annotationStatuses.append(annotationStatus)\n",
    "    ids.append(paragraphId)\n",
    "    isLessons.append(isLesson)\n",
    "    sources.append(source)\n",
    "f.close()\n",
    "\n",
    "data['paragraph'] = paragraphs\n",
    "data['title'] = titles\n",
    "data['id'] = ids\n",
    "data['isLesson'] = isLessons\n",
    "data['source'] = sources\n",
    "data['annotationTitle'] = annotationTitles\n",
    "data['annotationSummary'] = annotationSummaries\n",
    "data['annotationStatus'] = annotationStatuses\n",
    "data['lastAnnotated'] = lastAnnotateds\n",
    "data['annotatedBy'] = annotatedBys\n",
    "data.to_excel(fileName + '.xlsx')"
   ]
  }
 ],
 "metadata": {
  "celltoolbar": "Tags",
  "hide_input": false,
  "kernelspec": {
   "display_name": "py37",
   "language": "python",
   "name": "py37"
  },
  "language_info": {
   "codemirror_mode": {
    "name": "ipython",
    "version": 3
   },
   "file_extension": ".py",
   "mimetype": "text/x-python",
   "name": "python",
   "nbconvert_exporter": "python",
   "pygments_lexer": "ipython3",
   "version": "3.7.7"
  },
  "papermill": {
   "duration": 589.21262,
   "end_time": "2020-04-28T03:46:14.569177",
   "environment_variables": {},
   "exception": null,
   "input_path": "getData.ipynb",
   "output_path": "getDataOutput.ipynb",
   "parameters": {
    "env": "production",
    "fileName": "../data/production-sentences-20200428",
    "index": "sentences",
    "ipAndPort": "52.163.240.214:9200",
    "password": "Welcometoerni!",
    "userName": "elastic"
   },
   "start_time": "2020-04-28T03:36:25.356557",
   "version": "2.0.0"
  }
 },
 "nbformat": 4,
 "nbformat_minor": 4
}