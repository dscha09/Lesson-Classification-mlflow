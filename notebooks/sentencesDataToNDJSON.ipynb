{
 "cells": [
  {
   "cell_type": "code",
   "execution_count": 2,
   "metadata": {
    "ExecuteTime": {
     "end_time": "2020-03-23T07:24:26.949469Z",
     "start_time": "2020-03-23T07:24:26.602791Z"
    }
   },
   "outputs": [],
   "source": [
    "# -*- coding: utf-8 -*-\n",
    "\n",
    "import pandas as pd\n",
    "import numpy as np\n",
    "from ast import literal_eval\n",
    "import re\n",
    "import os\n",
    "import sys\n",
    "# reload(sys)\n",
    "# sys.setdefaultencoding('utf-8')"
   ]
  },
  {
   "cell_type": "code",
   "execution_count": null,
   "metadata": {
    "tags": [
     "parameters"
    ]
   },
   "outputs": [],
   "source": [
    "oldDataFileName = \"\""
   ]
  },
  {
   "cell_type": "markdown",
   "metadata": {},
   "source": [
    "# Sentences data"
   ]
  },
  {
   "cell_type": "code",
   "execution_count": 4,
   "metadata": {
    "ExecuteTime": {
     "end_time": "2020-03-23T07:24:41.812174Z",
     "start_time": "2020-03-23T07:24:28.018972Z"
    }
   },
   "outputs": [],
   "source": [
    "# oldDataFileName = '../data/sentences-20200407.xlsx'\n",
    "sentencesData = pd.read_excel(oldDataFileName + \".xlsx\")"
   ]
  },
  {
   "cell_type": "code",
   "execution_count": 5,
   "metadata": {
    "ExecuteTime": {
     "end_time": "2020-03-23T08:02:09.859035Z",
     "start_time": "2020-03-23T08:02:09.814903Z"
    }
   },
   "outputs": [],
   "source": [
    "sentencesData['annotatedBy'] = sentencesData['annotatedBy'].fillna(\"\")\n",
    "sentencesData['annotationTitle'] = sentencesData['annotationTitle'].fillna(\"\")\n",
    "sentencesData['machine generated'] = sentencesData['machine generated'].fillna(\"\")\n",
    "sentencesData['annotationSummary'] = sentencesData['annotationSummary'].fillna(\"\")\n",
    "sentencesData['lastAnnotated'] = sentencesData['lastAnnotated'].fillna(\"\")\n",
    "sentencesData['Lesson Strength'] = sentencesData['Lesson Strength'].fillna(-1)\n",
    "sentencesData['topic'] = sentencesData['topic'].fillna(-1)\n",
    "sentencesData['topTopics'] = sentencesData['topTopics'].fillna(\"[]\")\n",
    "sentencesData['related_lessons'] = sentencesData['related_lessons'].fillna(\"[]\")"
   ]
  },
  {
   "cell_type": "code",
   "execution_count": 6,
   "metadata": {},
   "outputs": [],
   "source": [
    "try:\n",
    "    outputFile = \"../data/sentences.1.ndjson\"\n",
    "    f = open(outputFile)\n",
    "    f.close()\n",
    "    os.remove(outputFile)\n",
    "except IOError:\n",
    "    print(\"proceed\")\n",
    "try:\n",
    "    outputFile = \"../data/sentences.2.ndjson\"\n",
    "    f = open(outputFile)\n",
    "    f.close()\n",
    "    os.remove(outputFile)\n",
    "except IOError:\n",
    "    print(\"proceed\")\n",
    "try:\n",
    "    outputFile = \"../data/sentences.3.ndjson\"\n",
    "    f = open(outputFile)\n",
    "    f.close()\n",
    "    os.remove(outputFile)\n",
    "except IOError:\n",
    "    print(\"proceed\")"
   ]
  },
  {
   "cell_type": "code",
   "execution_count": 7,
   "metadata": {
    "ExecuteTime": {
     "end_time": "2020-03-23T08:02:50.432026Z",
     "start_time": "2020-03-23T08:02:27.686668Z"
    }
   },
   "outputs": [],
   "source": [
    "# Converting dataframe to elasticsearch format\n",
    "\n",
    "folderName = '../data/'\n",
    "i = 1\n",
    "for index, row in sentencesData.iterrows():\n",
    "    row['paragraph'] = re.sub(r'\\d{1,3}\\.\\s', '', str(row['paragraph']).replace('\\n', ' ').replace('\"', \"'\"))\n",
    "    row['Sectors'] = str(row['Sectors']).replace(\"'\", '\"')\n",
    "    row['Themes'] = str(row['Themes']).replace(\"'\", '\"')\n",
    "    row['Modalities'] = str(row['Modalities']).replace(\"'\", '\"')\n",
    "    f = None\n",
    "    if(i > 0 and i <= 20000):\n",
    "        f = open(folderName + \"sentences.\" + str(1) + \".ndjson\", \"a+\")\n",
    "    elif(i > 20000 and i <= 40000):\n",
    "        f = open(folderName + \"sentences.\" + str(2) + \".ndjson\", \"a+\")\n",
    "    elif(i > 40000 and i <= 60000):\n",
    "        f = open(folderName + \"sentences.\" + str(3) + \".ndjson\", \"a+\")\n",
    "    elif(i > 60000 and i <= 80000):\n",
    "        f = open(folderName + \"sentences.\" + str(4) + \".ndjson\", \"a+\")\n",
    "    elif(i > 80000 and i <= 100000):\n",
    "        f = open(folderName + \"sentences.\" + str(5) + \".ndjson\", \"a+\")\n",
    "    allString = '{\"index\":{\"_id\": \"' + str(row['id']) +'\"}}\\n'\n",
    "    allString = allString + '{ \\\n",
    "        \"referenceId\": \"'+ str(row['reference_id']).zfill(20) + '\", \\\n",
    "        \"title\": \"'+ str(row['Title']).replace('\\n', ' ').replace('\"', \"'\") + '\", \\\n",
    "        \"paragraph\": \"'+ str(row['paragraph']) + '\", \\\n",
    "        \"themes\": '+ str(row['Themes']) + ', \\\n",
    "        \"sectors\": '+ str(row['Sectors']) + ', \\\n",
    "        \"sectorDiscriminator\": '+ str(row['Sector Discriminator']) + ', \\\n",
    "        \"countries\": '+ str(row['Countries']).replace('People\"', \"People'\") + ', \\\n",
    "        \"lessonStrength\": '+ str(row['Lesson Strength']) + ', \\\n",
    "        \"relatedLessons\": '+ str(row['related_lessons']) + ', \\\n",
    "        \"topic\": '+ str(row['topic']) + ', \\\n",
    "        \"topTopics\": '+ str(row['topTopics']) + ', \\\n",
    "        \"modalities\": '+ str(row['Modalities']).replace(\"'\", '\"') + ', \\\n",
    "        \"lessonType\": \"Self Evaluation\", \\\n",
    "        \"isLesson\": ' + str(row['isLesson']).lower() + ',  \\\n",
    "        \"month\": \"' + str(row['Month']) + '\",  \\\n",
    "        \"year\": ' + str(row['Year']) + ',  \\\n",
    "        \"annotationTitle\": \"' + str(row['annotationTitle']) + '\", \\\n",
    "        \"summary\": \"' + str(row['machine generated']).replace('\\n', ' ').replace('\"', \"'\").title() + '\", \\\n",
    "        \"context\": \"\",  \\\n",
    "        \"annotatedBy\": \"' + str(row['annotatedBy']) + '\", \\\n",
    "        \"annotationSummary\": \"' + str(row['annotationSummary']) + '\", \\\n",
    "        \"lastAnnotated\": \"' + str(row['lastAnnotated']) + '\", \\\n",
    "        \"annotationStatus\": \"' + str(row['annotationStatus']) + '\", \\\n",
    "        \"urlToFile\": \"' + str(row['Download Link']) + '\", \\\n",
    "        \"lastUpdated\": \"\",  \\\n",
    "        \"source\": \"' + str(sentencesData.at[index, 'source']) + '\" \\\n",
    "    }\\n'\n",
    "    i = i + 1\n",
    "    f.write(allString)\n",
    "    f.close()\n",
    "#     if(i==10000):\n",
    "#         break"
   ]
  },
  {
   "cell_type": "code",
   "execution_count": null,
   "metadata": {},
   "outputs": [],
   "source": []
  }
 ],
 "metadata": {
  "celltoolbar": "Tags",
  "hide_input": false,
  "kernelspec": {
   "display_name": "py37",
   "language": "python",
   "name": "py37"
  },
  "language_info": {
   "codemirror_mode": {
    "name": "ipython",
    "version": 3
   },
   "file_extension": ".py",
   "mimetype": "text/x-python",
   "name": "python",
   "nbconvert_exporter": "python",
   "pygments_lexer": "ipython3",
   "version": "3.7.7"
  }
 },
 "nbformat": 4,
 "nbformat_minor": 4
}
