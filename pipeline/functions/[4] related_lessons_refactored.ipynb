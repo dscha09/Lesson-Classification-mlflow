{
 "cells": [
  {
   "cell_type": "code",
   "execution_count": 1,
   "metadata": {
    "ExecuteTime": {
     "end_time": "2020-04-25T07:37:39.365123Z",
     "start_time": "2020-04-25T07:37:38.644912Z"
    }
   },
   "outputs": [],
   "source": [
    "import pandas as pd\n",
    "import numpy as np\n",
    "import pickle\n",
    "from sklearn.feature_extraction.text import TfidfVectorizer\n",
    "from sklearn.metrics.pairwise import linear_kernel\n",
    "\n",
    "from sklearn.metrics.pairwise import cosine_similarity\n",
    "from sklearn.metrics.pairwise import pairwise_distances\n",
    "from scipy.spatial.distance import cosine"
   ]
  },
  {
   "cell_type": "code",
   "execution_count": 22,
   "metadata": {
    "ExecuteTime": {
     "end_time": "2020-04-25T07:46:44.710161Z",
     "start_time": "2020-04-25T07:46:44.702433Z"
    }
   },
   "outputs": [],
   "source": [
    "class RelatedLessons:\n",
    "    def __init__(self, tf_idf_matrix_file, n_lessons=5):\n",
    "        self.parpararagraph_tf_idf = pd.read_csv(tf_idf_matrix_file).iloc[:, 1:]\n",
    "        self.pararagraph_ids = self.parpararagraph_tf_idf['id'].values\n",
    "        self.parpararagraph_tf_idf.drop('id', axis=1, inplace=True)\n",
    "        self.n_lessons = n_lessons\n",
    "        self.distance_matrix = self.calculate_distance_matrix(self.parpararagraph_tf_idf)\n",
    "        \n",
    "    def calculate_distance_matrix(self, tf_idf_matrix):\n",
    "        distances = pairwise_distances(self.parpararagraph_tf_idf.iloc[:,1:], metric = 'cosine', n_jobs = -1)\n",
    "        return pd.DataFrame(distances)\n",
    "    \n",
    "    def get_n_related_lessons(self, index):\n",
    "        return self.distance_matrix.loc[index].sort_values().head(self.n_lessons+1).index[1:].tolist()\n",
    "    \n",
    "    def run(self):\n",
    "        related_lessons = []\n",
    "        for index, par_id in enumerate(self.pararagraph_ids):\n",
    "            related_indexes = [int(i) for i in self.get_n_related_lessons(index)]\n",
    "            source_lesson_id = par_id\n",
    "            related_lesson_ids = [self.pararagraph_ids[related_index] for related_index in related_indexes]\n",
    "            related_lessons.append([source_lesson_id,related_lesson_ids])\n",
    "        return pd.DataFrame(related_lessons, columns=['source_lesson', 'related_lessons'])"
   ]
  },
  {
   "cell_type": "code",
   "execution_count": 23,
   "metadata": {
    "ExecuteTime": {
     "end_time": "2020-04-25T07:48:05.370678Z",
     "start_time": "2020-04-25T07:46:45.715590Z"
    }
   },
   "outputs": [],
   "source": [
    "related_lessons_obj = RelatedLessons(\"./data/data_version_3/related_lessons/tfidf.csv\")"
   ]
  },
  {
   "cell_type": "code",
   "execution_count": 24,
   "metadata": {
    "ExecuteTime": {
     "end_time": "2020-04-25T07:49:51.283790Z",
     "start_time": "2020-04-25T07:49:31.466219Z"
    }
   },
   "outputs": [],
   "source": [
    "related_lessons_df = related_lessons_obj.run()"
   ]
  },
  {
   "cell_type": "markdown",
   "metadata": {},
   "source": [
    "# Check if related lessons make sens"
   ]
  },
  {
   "cell_type": "code",
   "execution_count": 37,
   "metadata": {
    "ExecuteTime": {
     "end_time": "2020-04-25T07:56:30.517253Z",
     "start_time": "2020-04-25T07:56:30.427728Z"
    }
   },
   "outputs": [
    {
     "name": "stdout",
     "output_type": "stream",
     "text": [
      "Source Lesson\n",
      "1\n",
      "['Realistic sector and institutional assessments. Implementation of the soft components of infrastructure projects—such as gender equality, safeguards, or capacity building—financed by development organizations in Azerbaijan is often challenging because of the lack of capacity and motivation of the executing agencies. It is important to ensure in-depth assessment of the country and sector context as part of transaction technical assistance to guide the design of the soft components of public utility projects in a well contextualized manner. Weak planning systems; business processes; and technical, administration, and financial capacity of the executing agencies can also put project outcomes at risk. Efficiently tailored technical assistance and closer supervision could have helped mitigate this risk.']\n",
      "===Related Lessons\n",
      "[7, 3187, 2882, 5, 21956]\n",
      "['Technical assistance for institutional and regulatory issues. Technical assistance should be attached to the project to support implementation of the soft components, including those on tariffs, nontariff measures, corporate governance, and gender, given the reluctance of executing agencies to finance such activities from the loan. Having these measures supported through an ADB-administered technical assistance will enable ADB to play a more active catalytic and facilitation role among key government stakeholders, thus raising the chances of the soft components being more effectively implemented.']\n",
      "['Developing “soft” capacities. Institutionalizing change management practices among those charged with implementing reforms—such as the efforts undertaken in the program to provide staff with technical skills to implement systems and procedures at MOFP and the key revenue departments—requires upgrading of technical and change management competency. It is necessary to enable government to sustain capacity development programs beyond the life of a program (for example, by providing training experts, particularly to develop soft capacities).']\n",
      "['Developing soft capacities. Institutionalizing change-management practices among those charged with implementing reforms—such as the efforts undertaken in the ERP to provide staff with technical skills to implement new revenue measures at MOFT—requires upgrading of technical and change-management competency. It is necessary to enable government to sustain capacity development programs beyond the life of a program (for example, by providing training experts, particularly to develop soft capacities).']\n",
      "[\"In-depth assessments and project readiness. Transaction technical assistance costs should include a thorough assessment of the political, social, institutional, and regulatory contexts, as well as experiences of other development partners in the sector and with the executing agencies. ADB's project readiness financing modality should be used to ensure project procurement readiness by having detailed engineering designs and bidding documents ready by loan agreement signing. Project management quality should be ensured by building the capacity of executing agencies in ADB fiduciary and safeguard policies.\"]\n",
      "['No technical assistance was processed or approved in conjunction with the Project, although a project preparatory technical assistance would have secured a more accurate assessment of the risks and capacity constraints.']\n",
      "\n",
      "Source Lesson\n",
      "2\n",
      "[\"Dedicated gender equity support. Capacity building on sector-specific gender equity issues, ADB requirements on GAP implementation and monitoring, and reporting on gender equality results should be undertaken for the executing agencies that will implement projects with an explicit gender equity agenda.46 Specifically, capacity building training on GAP targets should be undertaken for the executing agencies at the start of project implementation, and consistent follow-ups should be done at different stages of the project to ensure that the executing agencies fully understand the gender targets and what they need to do to ensure successful implementation 46 In such projects, special attention should be paid on strengthening the executing agencies' institutional set-up and staff capacity on gender equity; establishing a coordination mechanism with the State Committee on Women and Children Affairs, and local administrations and municipalities; and providing adequate funding for capacity building at communities. of GAP activities. The requirement to collect sex-disaggregated data should be explained clearly to the executing agencies at the start of the project.\"]\n",
      "===Related Lessons\n",
      "[39768, 6, 13695, 13691, 17120]\n",
      "['Dedicated gender equity support. Capacity building on sector-specific gender equity issues, ADB requirements on GAP implementation and monitoring, and reporting on gender equality results should be undertaken for the executing agencies that will implement projects with an explicit gender equity agenda.46 Specifically, capacity building training on GAP targets should be undertaken for the executing agencies at the start of project implementation, and consistent follow-ups should be done at different stages of the project to ensure that the executing agencies fully understand the gender targets and what they need to do to ensure successful implementation of GAP activities. The requirement to collect sex-disaggregated data should be explained clearly to the executing agencies at the start of the project.']\n",
      "[\"Well-resourced gender equity agenda. To ensure efficient and effective GAP implementation and achievement of intended gender results, the executing agencies should be properly oriented on the project's gender commitments. The executing agencies and ADB should ensure that GAP implementation is aligned and kept on track with project implementation. Future projects should ensure that a gender specialist is on board during reconnaissance and fact-finding missions to thoroughly discuss details of the GAP with the executing agencies and agree on implementation arrangements. This will ensure executing agencies' ownership of the GAP and that the targets identified will be fully aligned with the capacity and key functions of the executing agency, thus facilitating more effective GAP implementation.\"]\n",
      "['Gender sensitization and capacity building for project management unit and project implementation unit staff. Staff of PMUs and PIUs should be sensitized on gender issues facing the project. This activity should be included in the GAP to improve the understanding and awareness of the importance of gender issues. Staff capacity on monitoring and evaluation, especially on collecting and reporting on GAP targets, should be strengthened to enable these members to be proactive in incorporating gender aspects in project activities during implementation.']\n",
      "['Constraints encountered during the implementation of the gender action plan. There was no gender specialist included in the project consultant team to technically support the GAP implementation. Instead, there were some consultant specialists whose terms of reference required them to deal with gender issues in their field of responsibility but had limited gender expertise. It was a challenge to ensure the high quality implementation of the GAP, especially in achieving targets. The project executing agency and implementing agency did not routinely monitor and report to ADB on the progress of the GAP during project implementation, which resulted in information and data gaps in the reporting of GAP results. The GAP design included proposed actions and expected outcomes but a few were not specific, measurable, and consistent, which did not help implementation.9']\n",
      "['Gender. Under subprogram 1, the government adopted a gender action plan for 2014– 2016, setting milestones for the country to achieve gender equality in different areas of political, social, and economic life. In addition, government also supported the development of other gender equality policies, like on women and security, gender-based violence, trafficking, anti- discrimination law as well as is making efforts in introducing new methods for gender- disaggregated data collection (like property and assets). Under the program, gender targets were set and achieved for matching grant programs by EDA and GITA (Appendix 4).']\n",
      "\n",
      "Source Lesson\n",
      "3\n",
      "[\"Challenging loan covenants. The borrower failed to increase tariffs annually to a level that will ensure the financial sustainability of the executing agencies, whose limited mandate prevents them from implementing such a challenging policy action. Such action requires a complex approach through a well-designed communication strategy; effective coordination and capacity building, if needed, with all government stakeholders (Tariff Council, Ministry of Economy, Ministry of Finance, and the Cabinet of Ministers' concerned departments); and development of the public utilities' capacity and tools on scenario-based estimation of WSS tariffs.\"]\n",
      "===Related Lessons\n",
      "[41, 6352, 39760, 7839, 3392]\n",
      "[\"Challenging policy actions. The borrower failed to increase tariffs annually to a level that will ensure the financial sustainability of the executing agencies, whose limited mandate prevents them from implementing such challenging policy action. Such an action requires a complex approach through a well-designed communication strategy; effective coordination and capacity building, if needed, with all government stakeholders (Tariff Council, Ministry of Economy, Ministry of Finance, and Cabinet of Ministers' concerned departments); and development of the public utilities' capacity and tools on scenario-based estimation of WSS tariffs.\"]\n",
      "['Project Covenants. The recommendations are as follows. (i) There should have been more flexibility with regard to covenants on sector and tariff reforms as these were determined by the Government and beyond the control of executing agencies. (ii) There should not be specific tariff covenants to increase tariffs to predetermined levels. The power sector in Viet Nam has performed adequately without increasing the tariff to $0.07/kWh as required under the loan agreement.']\n",
      "['Institutional and environmental sustainability. WSS policy and regulatory challenges include the ability to (i) progressively increase tariffs and overcome shortfalls in O&M costs to achieve financial sustainability; (ii) develop staff capacity to plan, design, and manage the WSS system and services; and (iii) ensure infrastructure asset creation. Under the project, sequenced actions were implemented to address these challenges, including (i) institutional improvements for WSS service delivery; (ii) capacity development for better system planning and O&M; (iii) enhanced cost recovery through metering, billing, and collection tariffs; and (iv) a twinning arrangement with an external WSS utility to support capacity development.']\n",
      "['The financial performance of the project utility entities is basically weak because the low utility tariffs approved by the regulatory board are insufficient to cover operating and capital costs. The low tariff has affected the financial viability of four subprojects, namely, subprojects 1, 2, 6, and Unless utility tariffs are increased to a level allowing for full cost recovery, the project entities may have a problem in sustaining their operation without some form of government assistance. Unless tariffs are reviewed and adjusted yearly on a regular basis, ADB should in the future consider mechanisms for automatic tariff adjustments.']\n",
      "[\"The project experience reinforces conclusions on water (and wastewater) tariffs in the ADB water operational policy. To raise tariffs to allow cost recovery is essential for financial sustainability. Since the water tariff adjustment follows official procedures and is beyond the water company's control, consumer groups and government officials should be made aware of the necessity of the tariff increases before they are imposed. Further, since the official procedures for approving tariff increases are long and complicated (public hearings are included), regulations should allow for an annual increase to cover actual cost increases, plus some allowance for capital cost, instead of significant increases in the tariff every several years. According to social surveys, if improved water supply can be provided throughout the day, beneficiaries are willing to pay higher water tariffs.\"]\n",
      "\n",
      "Source Lesson\n",
      "4\n",
      "[\"Separate project completion reports for multitranche financing facility tranches. During project implementation, the executing agencies moved activities and resources between tranches, which made it challenging to assess a particular project's outcome without considering the other projects of the MFF. This is particularly the case with WSS where it is impossible to assess the water supply and sewerage infrastructure without assessing the wastewater treatment facilities. Preparation of a single completion report for the whole program, especially when the MFF tranches close together or in a very close time span, might help avoid these challenges, provide a conceptually more solid assessment of the investment, and save ADB and government administrative resources.\"]\n",
      "===Related Lessons\n",
      "[8, 1109, 458, 2509, 3726]\n",
      "['More efficient arrangement on project completion reports under multitranche financing facility. ADB should consider allowing the facility completion report to include all tranches, especially if such tranches financed major network infrastructure investments in the same locations and the concerned tranches were completed at the same time or within a short time span from each other.']\n",
      "['During the preparation of an MFF, ADB may consider building in flexibility to reduce the number of tranches, by making it possible to increase the scope and loan amounts for later tranches if desired by the implementing agencies, the borrower, and ADB. For example, four tranches may have been sufficient under this MFF. This would have reduced the administrative cost for the PMUs and ADB, and made it possible to complete the project early by saving the time required to prepare the PFRs, loan agreements, and ICB bidding procedures for the last two tranches. Such a decision would be made once all stakeholders were satisfied that the PMUs could properly implement fewer but larger tranches than envisaged at the MFF appraisal. This could take place after the first or second tranches are well underway and the scope of works and costs are better defined.']\n",
      "['The processing and implementation of three separate MFF tranches has proven to be administratively cumbersome and inefficient for financing a four-year investment program. A single $500 million project would not have incurred the construction delays that resulted from the need to process separate loans to finance construction in 2013 and 2014 (tranche 2) and in 2015 (tranche 3).']\n",
      "['Further action or follow-up. The project was the second tranche of the MFF investment program. ADB could continue to monitor and review the project‘s operational performance through the implementation of the MFF investment program.']\n",
      "[\"Timing of the project performance evaluation report. In this particular case, the project performance evaluation report should be deferred until the completion of the MFF. The project's improvements and impact will not be fully realized until the MFF is implemented. Then the project and the MFF performance can be evaluated as a whole, since they essentially form one continuous program.\"]\n",
      "\n",
      "Source Lesson\n",
      "5\n",
      "[\"In-depth assessments and project readiness. Transaction technical assistance costs should include a thorough assessment of the political, social, institutional, and regulatory contexts, as well as experiences of other development partners in the sector and with the executing agencies. ADB's project readiness financing modality should be used to ensure project procurement readiness by having detailed engineering designs and bidding documents ready by loan agreement signing. Project management quality should be ensured by building the capacity of executing agencies in ADB fiduciary and safeguard policies.\"]\n",
      "===Related Lessons\n",
      "[2198, 295, 493, 4808, 5064]\n",
      "['Project readiness: Project readiness should be ensured before project approval, in particular taking advance steps to recruit consultants. The government should be ready to sign contracts with consultants immediately after ADB approval and signing of the loan agreement.']\n",
      "[\"Project readiness. The project lacked readiness since the multilateral, bilateral, and in- country agreements setting up the overall implementation framework were signed 3 years into the project's implementation. Also, no procurement activities commenced upon approval. In a highly time-sensitive sector such as ICT, high project readiness could help prevent start-up delays and enforce the commitment of the executing agencies. The issue of limited project readiness was compounded by the fact that all the executing agencies were implementing an ADB project for the first time and thus were challenged in smoothly complying with all the requirements associated with receiving ADB assistance.\"]\n",
      "[\"Project Readiness. Energy projects in Nepal suffer from poor project readiness (lack of a detailed feasibility study and design, land acquisition and right-of-way issues, forest clearance delays, etc.). The NEA is recommended to (i) pursue a project design facility; and (ii) mobilize the government's or its own resources to prepare future projects, with better readiness in place, before development-partner approval.27\"]\n",
      "['Before declaring the loan effective, an objective assessment should always be made of the readiness and capacity of the government, particularly of executing and implementing agencies for implementing the project. A standard checklist should be developed to assess the readiness and capacity, and a project should only be declared effective if the government and the executing and implementing agencies score more than 90% on the checklist.']\n",
      "['Project readiness of the sector institutions and executing agency should be carefully analyzed and appropriate measures adopted prior to approval of the project.']\n",
      "\n"
     ]
    }
   ],
   "source": [
    "def get_lessons(par_ids, id_par_map):\n",
    "    for par_id in par_ids:\n",
    "        print(id_par_map[id_par_map['id'] == par_id][\"paragraph\"].values)\n",
    "\n",
    "id_par_map = pd.read_csv('./data/data_version_3/related_lessons/lessons_ids_paragraphs.csv').iloc[:, 1:]\n",
    "for i in range(5):\n",
    "    par_id = related_lessons_df.iloc[i]['source_lesson']\n",
    "    related_ids = related_lessons_df.iloc[i]['related_lessons']\n",
    "    \n",
    "    print(\"Source Lesson\")\n",
    "    print(par_id)\n",
    "    get_lessons([par_id], id_par_map)\n",
    "\n",
    "    print(\"===Related Lessons\")\n",
    "    print(related_ids)\n",
    "    get_lessons(related_ids, id_par_map)\n",
    "    print()"
   ]
  }
 ],
 "metadata": {
  "hide_input": false,
  "kernelspec": {
   "display_name": "Python 3.6 - AzureML",
   "language": "python",
   "name": "python3-azureml"
  },
  "language_info": {
   "codemirror_mode": {
    "name": "ipython",
    "version": 3
   },
   "file_extension": ".py",
   "mimetype": "text/x-python",
   "name": "python",
   "nbconvert_exporter": "python",
   "pygments_lexer": "ipython3",
   "version": "3.6.6"
  }
 },
 "nbformat": 4,
 "nbformat_minor": 2
}
